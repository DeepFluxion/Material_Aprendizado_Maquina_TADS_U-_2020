{
  "nbformat": 4,
  "nbformat_minor": 0,
  "metadata": {
    "kernelspec": {
      "display_name": "Python 3",
      "language": "python",
      "name": "python3"
    },
    "language_info": {
      "codemirror_mode": {
        "name": "ipython",
        "version": 3
      },
      "file_extension": ".py",
      "mimetype": "text/x-python",
      "name": "python",
      "nbconvert_exporter": "python",
      "pygments_lexer": "ipython3",
      "version": "3.6.8"
    },
    "colab": {
      "name": "Aula 7 - Introdução as Arvores de Decisão - Parte 1 Noções de  Numpy, Pandas e Matplotlib.ipynb",
      "provenance": [],
      "include_colab_link": true
    }
  },
  "cells": [
    {
      "cell_type": "markdown",
      "metadata": {
        "id": "view-in-github",
        "colab_type": "text"
      },
      "source": [
        "<a href=\"https://colab.research.google.com/github/DomingosN/Material_Aprendizado_Maquina_TADS_U-_2020/blob/master/Aula_7_Introdu%C3%A7%C3%A3o_as_Arvores_de_Decis%C3%A3o_Parte_1_No%C3%A7%C3%B5es_de_Numpy%2C_Pandas_e_Matplotlib.ipynb\" target=\"_parent\"><img src=\"https://colab.research.google.com/assets/colab-badge.svg\" alt=\"Open In Colab\"/></a>"
      ]
    },
    {
      "cell_type": "markdown",
      "metadata": {
        "id": "PxE8-GnVABPd",
        "colab_type": "text"
      },
      "source": [
        "# Aula 7 Introdução Às arvores de decisão (Decision Trees)"
      ]
    },
    {
      "cell_type": "markdown",
      "metadata": {
        "id": "VJ6JBeTsABPg",
        "colab_type": "text"
      },
      "source": [
        "## Importação das bibliotecas\n",
        "\n",
        "Em Python é muito comum que nós usemos bibliotecas de terceiros. Existem bibliotecas com diversos fins e ela tornam o Pytho uma das linguagens mais poderesos pois não precisamos criar códigos especificos para partindo do zero, bastando aprender como utilizar as bibliotecas. Hoje vamos ver como implenetar e começar a analisar arvores de decisão. Para tanto vamos usar trê bibliotecas principais."
      ]
    },
    {
      "cell_type": "markdown",
      "metadata": {
        "id": "2Joo2rJhABPh",
        "colab_type": "text"
      },
      "source": [
        "## Numpy\n",
        "\n",
        "NumPy\n",
        "O NumPy é o pacote fundamental para a computação científica com Python. Ele contém entre outras coisas:\n",
        "\n",
        "1. um poderoso objeto de matriz N-dimensional\n",
        "\n",
        "2. funções sofisticadas (transmissão)\n",
        "\n",
        "3. ferramentas para integrar código C / C ++ e Fortran\n",
        "\n",
        "4. recursos úteis de álgebra linear, transformação de Fourier e números aleatórios\n",
        "\n",
        "Além de seus óbvios usos científicos, o NumPy também pode ser usado como um eficiente recipiente multidimensional de dados genéricos. Tipos de dados arbitrários podem ser definidos. Isso permite que o NumPy se integre de maneira fácil e rápida a uma ampla variedade de bancos de dados.\n",
        "\n",
        "Não vamos precisar utilizar o Numpy diretamente mas os dados de entrada do algoritmos estarão organizados em Matrizes que são uma espécie de tabela.\n",
        "\n",
        "Você pode saber mais sobre o Numpy no seguinte  [link](https://numpy.org/)\n",
        "Um tutorial interessante do Numpy em português pode ser acessado [aqui](https://medium.com/ensina-ai/entendendo-a-biblioteca-numpy-4858fde63355)"
      ]
    },
    {
      "cell_type": "markdown",
      "metadata": {
        "id": "KJ0OjRJbABPi",
        "colab_type": "text"
      },
      "source": [
        "### O comando para importar no Numpy é o seguinte:"
      ]
    },
    {
      "cell_type": "code",
      "metadata": {
        "id": "JX_tgqJ7ABPj",
        "colab_type": "code",
        "colab": {}
      },
      "source": [
        "import numpy as np"
      ],
      "execution_count": 0,
      "outputs": []
    },
    {
      "cell_type": "markdown",
      "metadata": {
        "id": "Hq12ia1vABPm",
        "colab_type": "text"
      },
      "source": [
        "este comando importa o numpy (ele precisa estar instalado, mas já vem pré-istalado no anaconda e no Google Colab) e também dá um apelido, assim pois para chamar uma função precisamos escrecer **numpy.classe.nome da função**.  \n",
        "Deste modo podeos chamar uma função usando **np.nomedafunção** ,vamos ver isso mais a frente"
      ]
    },
    {
      "cell_type": "markdown",
      "metadata": {
        "id": "sc9OYgzuABPn",
        "colab_type": "text"
      },
      "source": [
        "## Pandas\n",
        "\n",
        "O pandas é um pacote Python que fornece estruturas de dados rápidas, flexíveis e expressivas, projetadas para facilitar e intuitivamente o trabalho com dados \"relacionais\" ou \"rotulados\". O objetivo é ser o bloco de construção de alto nível fundamental para a análise prática e prática dos dados do mundo real em Python. Além disso, ele tem o objetivo mais amplo de se tornar a ferramenta de análise / manipulação de dados de código aberto mais poderosa e flexível disponível em qualquer idioma. Já está a caminho desse objetivo.\n",
        "\n",
        "1. pandas é adequado para muitos tipos diferentes de dados:\n",
        "\n",
        "2. Dados tabulares com colunas de tipo heterogêneo, como em uma tabela SQL ou planilha do Excel\n",
        "\n",
        "3. Dados de séries temporais ordenados e não ordenados (não necessariamente de frequência fixa).\n",
        "\n",
        "4. Dados da matriz arbitrária (de forma homogênea ou heterogênea) com rótulos de linha e coluna\n",
        "\n",
        "Qualquer outra forma de conjunto de dados observacionais / estatísticos. Na verdade, os dados não precisam ser rotulados para serem colocados em uma estrutura de dados do pandas\n",
        "\n",
        "As duas estruturas de dados principais dos pandas, **Series** (1-dimensional) e **DataFrame** (2-dimensional), lidam com a grande maioria dos casos de uso típicos em finanças, estatísticas, ciências sociais e muitas áreas da engenharia. \n",
        "\n",
        "O pandas é construído sobre o NumPy e pretende integrar-se bem em um ambiente de computação científica com muitas outras bibliotecas de terceiros.\n",
        "\n",
        "\n",
        "\n",
        "Você pode saber mais sobre o pandas no seguinte  [link](https://pandas.pydata.org/)\n",
        "Um tutorial interessante do Numpy em português pode ser acessado [aqui](https://minerandodados.com.br/python-para-analise-de-dados/)"
      ]
    },
    {
      "cell_type": "markdown",
      "metadata": {
        "id": "tUvXZ2IwABPn",
        "colab_type": "text"
      },
      "source": [
        "### O comando para importar o pandas é o seguinte:"
      ]
    },
    {
      "cell_type": "code",
      "metadata": {
        "id": "cKaNIaULABPo",
        "colab_type": "code",
        "colab": {}
      },
      "source": [
        "import pandas as pd"
      ],
      "execution_count": 0,
      "outputs": []
    },
    {
      "cell_type": "markdown",
      "metadata": {
        "id": "ag6a25s-ABPq",
        "colab_type": "text"
      },
      "source": [
        "este comando importa o pandas (ele precisa estar instalado, mas já vem pré-istalado no anaconda e no Google Colab) e também dá um apelido, assim pois para chamar uma função precisamos escrecer **pandas.classe.nome da função**.  \n",
        "Deste modo podeos chamar uma função usando **pd.nomedafunção** ,vamos ver isso mais a frente"
      ]
    },
    {
      "cell_type": "markdown",
      "metadata": {
        "id": "VHjP0xaQABPr",
        "colab_type": "text"
      },
      "source": [
        "## Matplotlib\n",
        "\n",
        "O matplotlib é uma biblioteca com recursos para a geração de gráficos 2D a partir de arrays. Gráficos comuns podem ser criados com alta qualidade a partir de comandos simples, inspirados nos comandos gráficos do MATLAB.\n",
        "\n",
        "O matplotlib pode ser conceitualmente dividido em 3 partes:\n",
        "\n",
        "pylab: conjunto de funções disponíveis em matplotlib.pylab que permite a geração de código similar ao MATLAB.\n",
        "\n",
        "frontend ou API: conjunto de classes que realizam o trabalho pesado, criando as figuras, texto, linhas etc. Essa é uma interface abstrata que independe da saída.\n",
        "\n",
        "backends: conjunto de funções que dependem do dispositivo de saída (display). Por exemplo, PS para gráficos em PostScript, SVG gera gráficos em Scalable Vector Graphics, Agg cria figuras no formato PNG, GTK permite que os gráficos sejam incluídos em aplicações GTK+, e assim para PDF, WxWidgets, Tkinter, etc.\n",
        "\n",
        "Você pode saber mais sobre o matplotlib no seguinte  [link](https://matplotlib.org/)\n",
        "Um tutorial interessante do Matplotlib em português pode ser acessado [aqui](https://panda.ime.usp.br/algoritmos/static/algoritmos/10-matplotlib.html)"
      ]
    },
    {
      "cell_type": "markdown",
      "metadata": {
        "id": "_tN1Adw5ABPs",
        "colab_type": "text"
      },
      "source": [
        "### Pyplot\n",
        "Dentro do matplotlib existem subconjuntos de função a mais importante é o pyplot que vamos utilizar neste curso\n",
        "\n",
        "O conjunto de funções disponível em matplotlib.pyplot permitem que você crie uma figura, uma área para exibir o gráfico na figura, desenhe linhas na área do gráfico, decore o gráfico com rótulos, etc. A sintaxe utilizada é semelhante ao MATLAB.\n",
        "\n",
        "Cada função do pyplot muda alguma coisa na figura, por exemplo, cria uma figura, cria uma área dentro da figura para desenhar um gráfico, desenha linhas em um gráfico, decora o gráfico com rótulos, etc. No pyplot, vários estados são preservados após a chamada de uma função dentro de um contexto, simplificando assim o seu trabalho sobre a figura ou área de desenho atuais. Assim, você pode ter uma figura complexa formada por várias áreas de desenho distintas, e o pyplot mantém para você informações sobre para cada área de desenho.\n",
        "\n",
        "Para simplificar o seu trabalho ainda mais, o pyplot já inicia com uma figura e área de desenho padrão, que você não precisa definir, e assim o código para gerar um gráfico pode ser simplesmente:"
      ]
    },
    {
      "cell_type": "code",
      "metadata": {
        "id": "znVHUaDnABPs",
        "colab_type": "code",
        "colab": {}
      },
      "source": [
        "import matplotlib.pyplot as plt"
      ],
      "execution_count": 0,
      "outputs": []
    },
    {
      "cell_type": "markdown",
      "metadata": {
        "id": "NaGEHuj0ABPv",
        "colab_type": "text"
      },
      "source": [
        "### Scikit-learn\n",
        "\n",
        "A scikit-learn (originalmente scikits.learn) é uma biblioteca de aprendizado de máquina para a linguagem de programação Python. Ela inclui vários algoritmos de classificação, regressão e agrupamento incluindo máquinas de vetores de suporte, florestas aleatórias, gradient boosting, k-means e DBSCAN, e é projetada para interagir com as bibliotecas Python numéricas e científicas NumPy e SciPy.\n",
        "\n",
        "O projeto scikit-learn começou como scikits.learn, um projeto do Google Summer of Code por David Cournapeau. O nome resulta da idea de que ele é um \"SciKit\" (um SciPy Toolkit), uma extensão do SciPy desenvolvida por terceiros e distribuída separadamente.[4] O código base original foi posteriormente reescrito por outros desenvolvedores. Entre os vários scikits, o scikit-learn (tal como o scikit-image) foi descrito como \"bem mantido e popular\" em novembro de 2012.[5]\n",
        "\n",
        "Em 2015, scikit-learn está sob desenvolvimento ativo e é patrocinado por INRIA, Telecom ParisTech e ocasionalmente pelo Google (através do Google Summer of Code).[6]\n",
        "\n",
        "Vamos ver como importar o scikit-learn na segund parte desta aula mas antes vamos começar com o Numpy, pandas e depois com o Matplotlib"
      ]
    },
    {
      "cell_type": "markdown",
      "metadata": {
        "id": "kWMG-GdFABPv",
        "colab_type": "text"
      },
      "source": [
        "## Noções de Numpy\n",
        "\n",
        "O NumPy é uma poderosa biblioteca Python que é usada principalmente para realizar cálculos em Arrays Multidimensionais. O NumPy fornece um grande conjunto de funções e operações de biblioteca que ajudam os programadores a executar facilmente cálculos numéricos. Esses tipos de cálculos numéricos são amplamente utilizados em tarefas como:\n",
        "\n",
        "**Modelos de Machine Learning:** Ao escrever algoritmos de Machine Learning, supõe-se que se realize vários cálculos numéricos em Array. Por exemplo, multiplicação de Arrays, transposição, adição, etc. O NumPy fornece uma excelente biblioteca para cálculos fáceis (em termos de escrita de código) e rápidos (em termos de velocidade). Os Arrays NumPy são usados para armazenar os dados de treinamento, bem como os parâmetros dos modelos de Machine Learning.\n",
        "\n",
        "**Processamento de Imagem e Computação Gráfica:** Imagens no computador são representadas como Arrays Multidimensionais de números. NumPy torna-se a escolha mais natural para o mesmo. O NumPy, na verdade, fornece algumas excelentes funções de biblioteca para rápida manipulação de imagens. Alguns exemplos são o espelhamento de uma imagem, a rotação de uma imagem por um determinado ângulo etc.\n",
        "\n",
        "**Tarefas matemáticas:** NumPy é bastante útil para executar várias tarefas matemáticas como integração numérica, diferenciação, interpolação, extrapolação e muitas outras. O NumPy possui também funções incorporadas para álgebra linear e geração de números aleatórios. É uma biblioteca que pode ser usada em conjuto do SciPy e Mat-plotlib. Substituindo o MATLAB quando se trata de tarefas matemáticas."
      ]
    },
    {
      "cell_type": "markdown",
      "metadata": {
        "id": "W1SXndyPABPw",
        "colab_type": "text"
      },
      "source": [
        "## Arrays NumPy\n",
        "A estrutura de dados mais importante que o NumPy fornece é um objeto poderoso, um tipo de Array, chamada ndarray. \n",
        "\n",
        "O objeto ndarray consiste em um segmento unidimensional contíguo da memória do computador, combinado com um esquema de indexação que mapeia cada item para um local no bloco de memória. \n",
        "\n",
        "O bloco de memória contém os elementos em uma ordem principal de linha (estilo a linguagem C) ou uma ordem de coluna principal (estilo FORTRAN ou MATLAB), mas não vamos nos aprofundar tanto nesses detalhes. \n",
        "\n",
        "Essa Array NumPy é uma tabela de elementos (geralmente números), todos do mesmo tipo, indexados por uma tupla de inteiros positivos. No NumPy, as dimensões são chamadas de eixos. \n",
        "\n",
        "No exemplo mostrado abaixo, a Array tem 2 eixos. O primeiro eixo tem um comprimento de 2, o segundo eixo tem um comprimento de 3:"
      ]
    },
    {
      "cell_type": "code",
      "metadata": {
        "id": "v9iSCdrOABPw",
        "colab_type": "code",
        "colab": {},
        "outputId": "2d786798-bbb2-4c4e-fbb9-afd5c971f6e3"
      },
      "source": [
        "[[ 1., 0., 0.], \n",
        "[ 0., 1., 2.]]"
      ],
      "execution_count": 0,
      "outputs": [
        {
          "output_type": "execute_result",
          "data": {
            "text/plain": [
              "[[1.0, 0.0, 0.0], [0.0, 1.0, 2.0]]"
            ]
          },
          "metadata": {
            "tags": []
          },
          "execution_count": 133
        }
      ]
    },
    {
      "cell_type": "markdown",
      "metadata": {
        "id": "hJFK7OG6ABP1",
        "colab_type": "text"
      },
      "source": [
        "Imagine esta array como uma tabela ou matriz com três colunas e duas linhas,**Como na Figura abaixo** ![Como nesta Figura](https://escolakids.uol.com.br/upload/image/estrutura-da-tabela.jpg)"
      ]
    },
    {
      "cell_type": "markdown",
      "metadata": {
        "id": "PI1g5mOZABP2",
        "colab_type": "text"
      },
      "source": [
        "## Matrizes \n",
        "\n",
        "As matrizes são estruturas matemáticas organizadas na forma de tabela com linhas e colunas, utilizadas na organização de dados e informações.\n",
        "\n",
        "um exemplo de uma matriz com trê linhas e duas colunas e outra com duas linhas e três colunas\n",
        "!['Exemplo de Matrizes'](https://1.bp.blogspot.com/-Ku_2wPT2Xfc/VqJqOO44sZI/AAAAAAAADao/4IUK_dh6gjY/s320/matrizes%2Bde%2Bordem%2B2x3%2Be%2B3x2.jpg)"
      ]
    },
    {
      "cell_type": "markdown",
      "metadata": {
        "id": "Yea48BsuABP3",
        "colab_type": "text"
      },
      "source": [
        "### Vamos criar esses exemplos no Numpy"
      ]
    },
    {
      "cell_type": "code",
      "metadata": {
        "id": "d2TTg7L8ABP3",
        "colab_type": "code",
        "colab": {}
      },
      "source": [
        "A = np.array([[-7.0,-3.0],[4.0,8.0],[-1.0,-6.0]])"
      ],
      "execution_count": 0,
      "outputs": []
    },
    {
      "cell_type": "code",
      "metadata": {
        "id": "i2N_USc4ABP6",
        "colab_type": "code",
        "colab": {}
      },
      "source": [
        "B = np.array([[2.0,-5.0,3.0],[1.0,4.0,9.0]])"
      ],
      "execution_count": 0,
      "outputs": []
    },
    {
      "cell_type": "code",
      "metadata": {
        "id": "1noouH0sABP8",
        "colab_type": "code",
        "colab": {},
        "outputId": "f5d39814-4fcc-4025-d7d5-ed4849c36fa7"
      },
      "source": [
        "# para saber as dimensões de uma array basta usar o método shape\n",
        "print(A.shape)\n",
        "print(B.shape)"
      ],
      "execution_count": 0,
      "outputs": [
        {
          "output_type": "stream",
          "text": [
            "(3, 2)\n",
            "(2, 3)\n"
          ],
          "name": "stdout"
        }
      ]
    },
    {
      "cell_type": "markdown",
      "metadata": {
        "id": "CV1DdOUiABP_",
        "colab_type": "text"
      },
      "source": [
        "## Exemplificando\n",
        "Vamos imaginar que os eixos seja como uma tabela que fazemos no Excel por exemplo, onde temos linhas e colunas. No exemplo acima, temos 2 linhas e 3 colunas por assim dizer.\n",
        "De um modo mais formal teríamos algo como essa figura:\n",
        "![Matrizes](https://miro.medium.com/max/1400/1*rLg3-g_JtgXLem0oMcjcSw.png)"
      ]
    },
    {
      "cell_type": "markdown",
      "metadata": {
        "id": "PnzR4M3TABP_",
        "colab_type": "text"
      },
      "source": [
        "Ou seja, no exemplo da estrutura de elementos que visualizamos anteriormente tem o primeiro eixo com o comprimento de 2, sendo essas as linhas. O segundo eixo com o comprimento de 3 sendo assim as colunas. Olhando dessa maneira e mentalizando essa ideia, fica bem mais simples de aplica um ‘slicing’ ou fatiamento em uma Array Numpy.\n",
        "\n",
        "Um Array NumPy é uma extensão de um Array Python, que lida apenas com Arrays Unidimensionais e oferece menos funcionalidade. Os Arrays NumPy são equipados com um grande número de funções e operadores que ajudam a escrever rapidamente códigos de alto desempenho para vários tipos de cálculos que discutimos acima. Vamos ver a seguir como podemos definir rapidamente um Array NumPy Unidimensional."
      ]
    },
    {
      "cell_type": "markdown",
      "metadata": {
        "id": "-gDgVO7GABQA",
        "colab_type": "text"
      },
      "source": [
        "### Arrays NumPy Unidimensional\n",
        "\n",
        "Vamos começar com o seguinte código:"
      ]
    },
    {
      "cell_type": "code",
      "metadata": {
        "id": "I4gIxT4XABQB",
        "colab_type": "code",
        "colab": {},
        "outputId": "505f0996-6e69-4e83-9bcc-91cb659c3581"
      },
      "source": [
        "my_array = np.array([1, 2, 3, 4, 5]) \n",
        "print(my_array)"
      ],
      "execution_count": 0,
      "outputs": [
        {
          "output_type": "stream",
          "text": [
            "[1 2 3 4 5]\n"
          ],
          "name": "stdout"
        }
      ]
    },
    {
      "cell_type": "markdown",
      "metadata": {
        "id": "wZP-59vbABQG",
        "colab_type": "text"
      },
      "source": [
        "### Exercício 1\n",
        "\n",
        "Nós criamos um Array NumPy simples de 5 números inteiros e depois o imprimimos. Vá em frente e experimente em sua própria máquina. Crie abaixo a array **my_array1**:"
      ]
    },
    {
      "cell_type": "code",
      "metadata": {
        "id": "HpMe7jbxABQH",
        "colab_type": "code",
        "colab": {}
      },
      "source": [
        "my_array1 = np.array([]) \n",
        "print(my_array1)"
      ],
      "execution_count": 0,
      "outputs": []
    },
    {
      "cell_type": "markdown",
      "metadata": {
        "id": "tjLrqifBABQJ",
        "colab_type": "text"
      },
      "source": [
        "Aroa vamos entender o **.shape**"
      ]
    },
    {
      "cell_type": "code",
      "metadata": {
        "id": "o3k86Y11ABQJ",
        "colab_type": "code",
        "colab": {},
        "outputId": "c7984011-8e23-44cb-f98a-b3e8c455c45c"
      },
      "source": [
        "print(my_array.shape)"
      ],
      "execution_count": 0,
      "outputs": [
        {
          "output_type": "stream",
          "text": [
            "(5,)\n"
          ],
          "name": "stdout"
        }
      ]
    },
    {
      "cell_type": "markdown",
      "metadata": {
        "id": "iW32xx4zABQM",
        "colab_type": "text"
      },
      "source": [
        "### Exercício 2  \n",
        "Agora vamos usar o **.shape** em my_array1"
      ]
    },
    {
      "cell_type": "code",
      "metadata": {
        "id": "eIUXmhDzABQM",
        "colab_type": "code",
        "colab": {},
        "outputId": "39bb3db7-0056-43f2-8048-30f9d5f498ec"
      },
      "source": [
        "print(my_array1.shape)"
      ],
      "execution_count": 0,
      "outputs": [
        {
          "output_type": "stream",
          "text": [
            "(5,)\n"
          ],
          "name": "stdout"
        }
      ]
    },
    {
      "cell_type": "markdown",
      "metadata": {
        "id": "rbielslAABQO",
        "colab_type": "text"
      },
      "source": [
        "Isso indica que my_array é uma Array com 5 elementos. O atributo shape retorna uma tupla que consiste nas dimensões da Array, mostrando quantas linha e colunas temos para exemplificar. Percebemos que na saída mostrou apenas 5 elementos, por conta de existir apenas um linha ou por ser uma unica dimensão por assim dizer. Caso fosse uma Array Bidimensional por exemplo seria algo como:"
      ]
    },
    {
      "cell_type": "code",
      "metadata": {
        "id": "Y5DI--wfABQP",
        "colab_type": "code",
        "colab": {},
        "outputId": "038a6aca-a23b-49e0-c8f7-fae278b1a392"
      },
      "source": [
        "my_array = np.array([[1, 2, 3, 4, 5], [1, 2, 3, 4, 5]]) \n",
        "print(my_array)"
      ],
      "execution_count": 0,
      "outputs": [
        {
          "output_type": "stream",
          "text": [
            "[[1 2 3 4 5]\n",
            " [1 2 3 4 5]]\n"
          ],
          "name": "stdout"
        }
      ]
    },
    {
      "cell_type": "code",
      "metadata": {
        "id": "GJNiaRPcABQR",
        "colab_type": "code",
        "colab": {},
        "outputId": "e1070127-df3a-4257-a610-6ed929975266"
      },
      "source": [
        "print(my_array.shape)"
      ],
      "execution_count": 0,
      "outputs": [
        {
          "output_type": "stream",
          "text": [
            "(2, 5)\n"
          ],
          "name": "stdout"
        }
      ]
    },
    {
      "cell_type": "code",
      "metadata": {
        "id": "gcTGQ3JdABQW",
        "colab_type": "code",
        "colab": {},
        "outputId": "f295edd3-34ec-474d-a4d7-c9411f2db694"
      },
      "source": [
        "my_array.reshape(1,10)\n",
        "print(my_array)\n",
        "print(my_array.shape)"
      ],
      "execution_count": 0,
      "outputs": [
        {
          "output_type": "stream",
          "text": [
            "[[1 2 3 4 5]\n",
            " [1 2 3 4 5]]\n",
            "(2, 5)\n"
          ],
          "name": "stdout"
        }
      ]
    },
    {
      "cell_type": "code",
      "metadata": {
        "id": "ahC9TWcbABQa",
        "colab_type": "code",
        "colab": {},
        "outputId": "a7463e35-7284-4eb0-b4d8-45fc40020d58"
      },
      "source": [
        "print(my_array.reshape(1,10))\n",
        "print(my_array.reshape(10,1))"
      ],
      "execution_count": 0,
      "outputs": [
        {
          "output_type": "stream",
          "text": [
            "[[1 2 3 4 5 1 2 3 4 5]]\n",
            "[[1]\n",
            " [2]\n",
            " [3]\n",
            " [4]\n",
            " [5]\n",
            " [1]\n",
            " [2]\n",
            " [3]\n",
            " [4]\n",
            " [5]]\n"
          ],
          "name": "stdout"
        }
      ]
    },
    {
      "cell_type": "code",
      "metadata": {
        "id": "1Fz1wxReABQe",
        "colab_type": "code",
        "colab": {},
        "outputId": "9d3888a8-ad71-4af6-a617-32d5122cac6b"
      },
      "source": [
        "print(my_array.reshape(5,2))\n",
        "print(my_array)"
      ],
      "execution_count": 0,
      "outputs": [
        {
          "output_type": "stream",
          "text": [
            "[[1 2]\n",
            " [3 4]\n",
            " [5 1]\n",
            " [2 3]\n",
            " [4 5]]\n",
            "[[1 2 3 4 5]\n",
            " [1 2 3 4 5]]\n"
          ],
          "name": "stdout"
        }
      ]
    },
    {
      "cell_type": "markdown",
      "metadata": {
        "id": "W5QjMB7eABQi",
        "colab_type": "text"
      },
      "source": [
        "### Exercício 3  \n",
        "\n",
        "Agora crie uma nova array com 5 colunas e 4 linhas"
      ]
    },
    {
      "cell_type": "code",
      "metadata": {
        "id": "LcCvFrCkABQj",
        "colab_type": "code",
        "colab": {}
      },
      "source": [
        "my_array1 = np.array([[], [], [], []]) \n",
        "print(my_array1)"
      ],
      "execution_count": 0,
      "outputs": []
    },
    {
      "cell_type": "markdown",
      "metadata": {
        "id": "6m8Z4N11ABQn",
        "colab_type": "text"
      },
      "source": [
        "### Exercício 4  \n",
        "\n",
        "Agora verifique as dimensões da my_array1"
      ]
    },
    {
      "cell_type": "code",
      "metadata": {
        "id": "k-rHO2raABQn",
        "colab_type": "code",
        "colab": {}
      },
      "source": [
        "print(my_array1.shape)"
      ],
      "execution_count": 0,
      "outputs": []
    },
    {
      "cell_type": "markdown",
      "metadata": {
        "id": "YFNw3cLvABQr",
        "colab_type": "text"
      },
      "source": [
        "### Exercício 5  \n",
        "\n",
        "Vamos reformatar com **reshape** para que a my_array1 fique com 1 linha"
      ]
    },
    {
      "cell_type": "code",
      "metadata": {
        "id": "29Sb4zgxABQs",
        "colab_type": "code",
        "colab": {},
        "outputId": "b71a24e8-03b1-455b-a2f8-f2f1f11b8dce"
      },
      "source": [
        "my_array1 = my_array1.reshape(1, )\n",
        "print(my_array.shape)\n",
        "print(my_array1.reshape(1, ))"
      ],
      "execution_count": 0,
      "outputs": [
        {
          "output_type": "stream",
          "text": [
            "[[1 2]\n",
            " [3 4]\n",
            " [5 1]\n",
            " [2 3]\n",
            " [4 5]]\n",
            "[[1 2 3 4 5]\n",
            " [1 2 3 4 5]]\n"
          ],
          "name": "stdout"
        }
      ]
    },
    {
      "cell_type": "markdown",
      "metadata": {
        "id": "wnceEp1aABQw",
        "colab_type": "text"
      },
      "source": [
        "### Exercício 6  \n",
        "\n",
        "Vamos reformatar com **reshape** para que a my_array1 fique com 1 coluna"
      ]
    },
    {
      "cell_type": "code",
      "metadata": {
        "id": "djmyrTQYABQy",
        "colab_type": "code",
        "colab": {},
        "outputId": "e91ebf61-7523-43dd-d569-281694a48b72"
      },
      "source": [
        "my_array1 = my_array1.reshape( ,1)\n",
        "print(my_array.shape)\n",
        "print(my_array1.reshape( ,1))"
      ],
      "execution_count": 0,
      "outputs": [
        {
          "output_type": "stream",
          "text": [
            "[[1 2]\n",
            " [3 4]\n",
            " [5 1]\n",
            " [2 3]\n",
            " [4 5]]\n",
            "[[1 2 3 4 5]\n",
            " [1 2 3 4 5]]\n"
          ],
          "name": "stdout"
        }
      ]
    },
    {
      "cell_type": "markdown",
      "metadata": {
        "id": "6sEGbFYZABQ2",
        "colab_type": "text"
      },
      "source": [
        "### Exercício 7  \n",
        "\n",
        "Vamos reformatar com **reshape** para que a my_array1 fique com o número de linhas e colunas invertido"
      ]
    },
    {
      "cell_type": "code",
      "metadata": {
        "id": "DASdgWQTABQ3",
        "colab_type": "code",
        "colab": {},
        "outputId": "a124f33a-0da1-4ac5-a8fa-4eba50af1bf2"
      },
      "source": [
        "#dica verifique nas linhas anteriores qual o shape de my_array1 se ele foi (3,5) você vai usar (5,3) no reshape\n",
        "my_array1 = my_array1.reshape( ,1)\n",
        "print(my_array.shape)\n",
        "print(my_array1.reshape( ,1))"
      ],
      "execution_count": 0,
      "outputs": [
        {
          "output_type": "stream",
          "text": [
            "[[1 2]\n",
            " [3 4]\n",
            " [5 1]\n",
            " [2 3]\n",
            " [4 5]]\n",
            "[[1 2 3 4 5]\n",
            " [1 2 3 4 5]]\n"
          ],
          "name": "stdout"
        }
      ]
    },
    {
      "cell_type": "markdown",
      "metadata": {
        "id": "Ev_FAaZrABQ6",
        "colab_type": "text"
      },
      "source": [
        "## Selecionando partes da array\n",
        "Podemos selecionar apenas partes das arrays como linhas e colunas. Vamos criar uma array unidimensional"
      ]
    },
    {
      "cell_type": "code",
      "metadata": {
        "id": "sDDkdnw8ABQ6",
        "colab_type": "code",
        "colab": {},
        "outputId": "723144bc-3d5a-431e-d7f7-aa4116a3f358"
      },
      "source": [
        "my_array2 = np.array([[3, 2, 8, 22, 127], [127, 22, 8, 2, 3]]) \n",
        "print(my_array2.shape)"
      ],
      "execution_count": 0,
      "outputs": [
        {
          "output_type": "stream",
          "text": [
            "(2, 5)\n"
          ],
          "name": "stdout"
        }
      ]
    },
    {
      "cell_type": "code",
      "metadata": {
        "id": "LyVuJzgQABQ8",
        "colab_type": "code",
        "colab": {},
        "outputId": "c0e1a005-857f-4b26-d43b-128c048d9439"
      },
      "source": [
        "print(my_array2[0])"
      ],
      "execution_count": 0,
      "outputs": [
        {
          "output_type": "stream",
          "text": [
            "[  3   2   8  22 127]\n"
          ],
          "name": "stdout"
        }
      ]
    },
    {
      "cell_type": "code",
      "metadata": {
        "id": "tmgZP1J3ABQ-",
        "colab_type": "code",
        "colab": {},
        "outputId": "805c6abc-d5f7-4daa-812a-700bf64fd5c8"
      },
      "source": [
        "print(my_array2[1])"
      ],
      "execution_count": 0,
      "outputs": [
        {
          "output_type": "stream",
          "text": [
            "[127  22   8   2   3]\n"
          ],
          "name": "stdout"
        }
      ]
    },
    {
      "cell_type": "code",
      "metadata": {
        "id": "nJDbMjxrABRB",
        "colab_type": "code",
        "colab": {},
        "outputId": "f0fa27c6-b0f8-410f-a8e0-76c2271a515b"
      },
      "source": [
        "print(my_array2[0][0])\n",
        "print(my_array2[0][1])\n",
        "print(my_array2[0][2])\n",
        "print(my_array2[0][3])\n",
        "print(my_array2[0][4])"
      ],
      "execution_count": 0,
      "outputs": [
        {
          "output_type": "stream",
          "text": [
            "3\n",
            "2\n",
            "8\n",
            "22\n",
            "127\n"
          ],
          "name": "stdout"
        }
      ]
    },
    {
      "cell_type": "code",
      "metadata": {
        "id": "7xiCU-y2ABRE",
        "colab_type": "code",
        "colab": {},
        "outputId": "4c0f45f8-71f6-444d-eaf2-cb245706d214"
      },
      "source": [
        "print(my_array2[1][0])\n",
        "print(my_array2[1][1])\n",
        "print(my_array2[1][2])\n",
        "print(my_array2[1][3])\n",
        "print(my_array2[1][4])"
      ],
      "execution_count": 0,
      "outputs": [
        {
          "output_type": "stream",
          "text": [
            "127\n",
            "22\n",
            "8\n",
            "2\n",
            "3\n"
          ],
          "name": "stdout"
        }
      ]
    },
    {
      "cell_type": "code",
      "metadata": {
        "id": "-ZHkDacbABRG",
        "colab_type": "code",
        "colab": {},
        "outputId": "9e474781-fad5-4c08-c2d0-5d3332328a9a"
      },
      "source": [
        "print(my_array2[:,0])\n",
        "print(my_array2[:,1])\n",
        "print(my_array2[:,2])\n",
        "print(my_array2[:,3])\n",
        "print(my_array2[:,4])"
      ],
      "execution_count": 0,
      "outputs": [
        {
          "output_type": "stream",
          "text": [
            "[  3 127]\n",
            "[ 2 22]\n",
            "[8 8]\n",
            "[22  2]\n",
            "[127   3]\n"
          ],
          "name": "stdout"
        }
      ]
    },
    {
      "cell_type": "markdown",
      "metadata": {
        "id": "Q2chRD6oABRJ",
        "colab_type": "text"
      },
      "source": [
        "## Noçoes Básicas de pandas\n",
        "Existem dois tipos principais de estruturas de dados no pandas:\n",
        "- Series\n",
        "- DataFrame\n",
        "Uma Series é como um array unidimensional, uma lista de valores. \n",
        "Toda Series possui um índice, o index, que dá rótulos a cada elemento da lista. Abaixo criamos uma Series notas, o index desta Series é a coluna à esquerda, que vai de 0 a 4 neste caso, que o pandas criou automaticamente, já que não especificamos uma lista de rótulos."
      ]
    },
    {
      "cell_type": "markdown",
      "metadata": {
        "id": "1m0UgYaAABRK",
        "colab_type": "text"
      },
      "source": [
        "## Series no pandas"
      ]
    },
    {
      "cell_type": "code",
      "metadata": {
        "id": "K1aKJfE_ABRK",
        "colab_type": "code",
        "colab": {},
        "outputId": "3b6c4ecf-6375-42cf-a29c-7b004fea8a3f"
      },
      "source": [
        "notas = pd.Series([2,7,5,10,6])\n",
        "notas"
      ],
      "execution_count": 0,
      "outputs": [
        {
          "output_type": "execute_result",
          "data": {
            "text/plain": [
              "0     2\n",
              "1     7\n",
              "2     5\n",
              "3    10\n",
              "4     6\n",
              "dtype: int64"
            ]
          },
          "metadata": {
            "tags": []
          },
          "execution_count": 171
        }
      ]
    },
    {
      "cell_type": "markdown",
      "metadata": {
        "id": "1mymTo8kABRM",
        "colab_type": "text"
      },
      "source": [
        "Já podemos aqui verificar os atributos da nossa Series, comecemos pelos valores e o índice, os dois atributos fundamentais nesta estrutura:"
      ]
    },
    {
      "cell_type": "code",
      "metadata": {
        "id": "ykX9rM1cABRN",
        "colab_type": "code",
        "colab": {},
        "outputId": "ccae78b8-f8ff-4362-b8b6-73826ee39650"
      },
      "source": [
        "notas.values"
      ],
      "execution_count": 0,
      "outputs": [
        {
          "output_type": "execute_result",
          "data": {
            "text/plain": [
              "array([ 2,  7,  5, 10,  6], dtype=int64)"
            ]
          },
          "metadata": {
            "tags": []
          },
          "execution_count": 172
        }
      ]
    },
    {
      "cell_type": "code",
      "metadata": {
        "id": "UUW4UcA-ABRP",
        "colab_type": "code",
        "colab": {},
        "outputId": "461725c2-bcff-4933-bd30-d3e17b9b8879"
      },
      "source": [
        "notas.index"
      ],
      "execution_count": 0,
      "outputs": [
        {
          "output_type": "execute_result",
          "data": {
            "text/plain": [
              "RangeIndex(start=0, stop=5, step=1)"
            ]
          },
          "metadata": {
            "tags": []
          },
          "execution_count": 173
        }
      ]
    },
    {
      "cell_type": "markdown",
      "metadata": {
        "id": "BVLUN7UnABRR",
        "colab_type": "text"
      },
      "source": [
        "Como ao criar a Series não demos um índice específico o pandas usou os inteiros positivos crescentes como padrão. Pode ser conveniente atribuirmos um índice diferente do padrão, supondo que essas sejam notas de uma turma, poderíamos atribuir nomes ao index:"
      ]
    },
    {
      "cell_type": "code",
      "metadata": {
        "id": "xnvCEsMpABRS",
        "colab_type": "code",
        "colab": {},
        "outputId": "8a2d6bbd-d50c-432b-d384-905ab2185325"
      },
      "source": [
        "notas = pd.Series([2,7,5,10,6], index=[\"Carlos\", \"Eliana\", \"Henrique\", \"Julia\", \"Carolina\"])\n",
        "notas"
      ],
      "execution_count": 0,
      "outputs": [
        {
          "output_type": "execute_result",
          "data": {
            "text/plain": [
              "Carlos       2\n",
              "Eliana       7\n",
              "Henrique     5\n",
              "Julia       10\n",
              "Carolina     6\n",
              "dtype: int64"
            ]
          },
          "metadata": {
            "tags": []
          },
          "execution_count": 188
        }
      ]
    },
    {
      "cell_type": "code",
      "metadata": {
        "id": "z3-rxCvwABRV",
        "colab_type": "code",
        "colab": {},
        "outputId": "c243987d-6682-42e8-b9fa-61cafb318513"
      },
      "source": [
        "notas.index"
      ],
      "execution_count": 0,
      "outputs": [
        {
          "output_type": "execute_result",
          "data": {
            "text/plain": [
              "Index(['Carlos', 'Eliana', 'Henrique', 'Julia', 'Carolina'], dtype='object')"
            ]
          },
          "metadata": {
            "tags": []
          },
          "execution_count": 175
        }
      ]
    },
    {
      "cell_type": "markdown",
      "metadata": {
        "id": "QG3Gk4y2ABRY",
        "colab_type": "text"
      },
      "source": [
        "O index nos ajuda para referenciar um determinado valor, ele nos permite acessar os valores pelo seu rótulo:"
      ]
    },
    {
      "cell_type": "code",
      "metadata": {
        "id": "wDw70bP4ABRZ",
        "colab_type": "code",
        "colab": {},
        "outputId": "9c46c443-008c-443b-bd48-4cd195a952da"
      },
      "source": [
        "notas[\"Julia\"]"
      ],
      "execution_count": 0,
      "outputs": [
        {
          "output_type": "execute_result",
          "data": {
            "text/plain": [
              "10"
            ]
          },
          "metadata": {
            "tags": []
          },
          "execution_count": 176
        }
      ]
    },
    {
      "cell_type": "markdown",
      "metadata": {
        "id": "jy33df1HABRc",
        "colab_type": "text"
      },
      "source": [
        "Outra facilidade proporcionada pela estrutura são seus métodos que fornecem informações estatísticas sobre os valores, como média .mean() e desvio padrão .std(). Encorajo o leitor(a) a investigar e verificar alguns dos métodos e atributos da estrutura usando o TAB para auto-completação na shell do Python, ou simplesmente checar a completíssima documentação oficial deste objeto."
      ]
    },
    {
      "cell_type": "code",
      "metadata": {
        "id": "EdGm_J6uABRd",
        "colab_type": "code",
        "colab": {},
        "outputId": "6b6f5a9b-6cfe-46e5-ba24-8207c9e91033"
      },
      "source": [
        "print(\"Média:\", notas.mean())\n",
        "print(\"Desvio padrão:\", notas.std())"
      ],
      "execution_count": 0,
      "outputs": [
        {
          "output_type": "stream",
          "text": [
            "Média: 6.0\n",
            "Desvio padrão: 2.9154759474226504\n"
          ],
          "name": "stdout"
        }
      ]
    },
    {
      "cell_type": "markdown",
      "metadata": {
        "id": "XJGOr7e0ABRf",
        "colab_type": "text"
      },
      "source": [
        "### Exercício 8  \n",
        "\n",
        "Crie uma serie com as idades de cinco amigos e crie uma série de indices sibustituindo os textos \"Amigo1\", \"Amigo2\", \"Amigo3\", \"Amigo4\", \"Amigo5\" pelos noems desses amigos"
      ]
    },
    {
      "cell_type": "code",
      "metadata": {
        "id": "e9fd08yzABRg",
        "colab_type": "code",
        "colab": {},
        "outputId": "daa0dd05-40b8-43bf-e71a-98f994a90684"
      },
      "source": [
        "idades = pd.Series([2,7,5,10,6], index=[\"Amigo1\", \"Amigo2\", \"Amigo3\", \"Amigo4\", \"Amigo5\"])\n",
        "idades"
      ],
      "execution_count": 0,
      "outputs": [
        {
          "output_type": "execute_result",
          "data": {
            "text/plain": [
              "Amigo1     2\n",
              "Amigo2     7\n",
              "Amigo3     5\n",
              "Amigo4    10\n",
              "Amigo5     6\n",
              "dtype: int64"
            ]
          },
          "metadata": {
            "tags": []
          },
          "execution_count": 178
        }
      ]
    },
    {
      "cell_type": "markdown",
      "metadata": {
        "id": "T-hoVtYaABRl",
        "colab_type": "text"
      },
      "source": [
        "Geralmente para resumir brevemente as estatísticas dos dados se usa o .describe()"
      ]
    },
    {
      "cell_type": "code",
      "metadata": {
        "id": "LrkI_tHRABRn",
        "colab_type": "code",
        "colab": {},
        "outputId": "d25764ff-a60b-413a-ac3b-5bf403b641b9"
      },
      "source": [
        "notas.describe()"
      ],
      "execution_count": 0,
      "outputs": [
        {
          "output_type": "execute_result",
          "data": {
            "text/plain": [
              "count     5.000000\n",
              "mean      6.000000\n",
              "std       2.915476\n",
              "min       2.000000\n",
              "25%       5.000000\n",
              "50%       6.000000\n",
              "75%       7.000000\n",
              "max      10.000000\n",
              "dtype: float64"
            ]
          },
          "metadata": {
            "tags": []
          },
          "execution_count": 180
        }
      ]
    },
    {
      "cell_type": "markdown",
      "metadata": {
        "id": "nxbSJwSHABRs",
        "colab_type": "text"
      },
      "source": [
        "A estrutura é flexível o suficiente pra aplicarmos algumas expressões matemáticas e funções matemáticas do numpy diretamente:"
      ]
    },
    {
      "cell_type": "code",
      "metadata": {
        "id": "5jTCJzwNABRt",
        "colab_type": "code",
        "colab": {},
        "outputId": "ad68637f-67d2-4e47-ec09-094da5b4fe58"
      },
      "source": [
        "notas = notas/2\n",
        "notas"
      ],
      "execution_count": 0,
      "outputs": [
        {
          "output_type": "execute_result",
          "data": {
            "text/plain": [
              "Carlos      1.0\n",
              "Eliana      3.5\n",
              "Henrique    2.5\n",
              "Julia       5.0\n",
              "Carolina    3.0\n",
              "dtype: float64"
            ]
          },
          "metadata": {
            "tags": []
          },
          "execution_count": 189
        }
      ]
    },
    {
      "cell_type": "code",
      "metadata": {
        "id": "h6qVt-rYABRw",
        "colab_type": "code",
        "colab": {},
        "outputId": "124773c9-b78f-404f-8762-d93cc8080f67"
      },
      "source": [
        "notas = notas*2\n",
        "notas"
      ],
      "execution_count": 0,
      "outputs": [
        {
          "output_type": "execute_result",
          "data": {
            "text/plain": [
              "Carlos       2.0\n",
              "Eliana       7.0\n",
              "Henrique     5.0\n",
              "Julia       10.0\n",
              "Carolina     6.0\n",
              "dtype: float64"
            ]
          },
          "metadata": {
            "tags": []
          },
          "execution_count": 190
        }
      ]
    },
    {
      "cell_type": "code",
      "metadata": {
        "id": "-TUv6ufHABRz",
        "colab_type": "code",
        "colab": {},
        "outputId": "1b7c8158-e577-4b85-933d-0cb7970149f8"
      },
      "source": [
        "notas = np.square(notas)\n",
        "notas"
      ],
      "execution_count": 0,
      "outputs": [
        {
          "output_type": "execute_result",
          "data": {
            "text/plain": [
              "Carlos        4.0\n",
              "Eliana       49.0\n",
              "Henrique     25.0\n",
              "Julia       100.0\n",
              "Carolina     36.0\n",
              "dtype: float64"
            ]
          },
          "metadata": {
            "tags": []
          },
          "execution_count": 191
        }
      ]
    },
    {
      "cell_type": "code",
      "metadata": {
        "id": "6Wew8guzABR2",
        "colab_type": "code",
        "colab": {},
        "outputId": "8d2bb4a8-2087-4d79-f7c2-77ff82f8f31c"
      },
      "source": [
        "notas = np.sqrt(notas)\n",
        "notas"
      ],
      "execution_count": 0,
      "outputs": [
        {
          "output_type": "execute_result",
          "data": {
            "text/plain": [
              "Carlos       2.0\n",
              "Eliana       7.0\n",
              "Henrique     5.0\n",
              "Julia       10.0\n",
              "Carolina     6.0\n",
              "dtype: float64"
            ]
          },
          "metadata": {
            "tags": []
          },
          "execution_count": 192
        }
      ]
    },
    {
      "cell_type": "markdown",
      "metadata": {
        "id": "Icfm6_8gABR5",
        "colab_type": "text"
      },
      "source": [
        "## DataFrames pandas"
      ]
    },
    {
      "cell_type": "markdown",
      "metadata": {
        "id": "HmHtW-FwABR6",
        "colab_type": "text"
      },
      "source": [
        "Já um DataFrame é uma estrutura bidimensional de dados, como uma planilha. Abaixo criaremos um DataFrame que possui valores de diferentes tipos, usando um dicionário como entrada dos dados:"
      ]
    },
    {
      "cell_type": "code",
      "metadata": {
        "id": "jEGIJAdrABR-",
        "colab_type": "code",
        "colab": {},
        "outputId": "94e903b3-f395-49af-c268-c9266d85e508"
      },
      "source": [
        "df = pd.DataFrame({'Aluno' : [\"Carlos\", \"Eliana\", \"Henrique\", \"Julia\", \"Carolina\"],\n",
        "                   'Faltas' : [3,4,2,1,4],\n",
        "                   'Prova' : [2,7,5,10,6],\n",
        "                   'Seminário': [8.5,7.5,9.0,7.5,8.0]})\n",
        "df"
      ],
      "execution_count": 0,
      "outputs": [
        {
          "output_type": "execute_result",
          "data": {
            "text/html": [
              "<div>\n",
              "<style scoped>\n",
              "    .dataframe tbody tr th:only-of-type {\n",
              "        vertical-align: middle;\n",
              "    }\n",
              "\n",
              "    .dataframe tbody tr th {\n",
              "        vertical-align: top;\n",
              "    }\n",
              "\n",
              "    .dataframe thead th {\n",
              "        text-align: right;\n",
              "    }\n",
              "</style>\n",
              "<table border=\"1\" class=\"dataframe\">\n",
              "  <thead>\n",
              "    <tr style=\"text-align: right;\">\n",
              "      <th></th>\n",
              "      <th>Aluno</th>\n",
              "      <th>Faltas</th>\n",
              "      <th>Prova</th>\n",
              "      <th>Seminário</th>\n",
              "    </tr>\n",
              "  </thead>\n",
              "  <tbody>\n",
              "    <tr>\n",
              "      <th>0</th>\n",
              "      <td>Carlos</td>\n",
              "      <td>3</td>\n",
              "      <td>2</td>\n",
              "      <td>8.5</td>\n",
              "    </tr>\n",
              "    <tr>\n",
              "      <th>1</th>\n",
              "      <td>Eliana</td>\n",
              "      <td>4</td>\n",
              "      <td>7</td>\n",
              "      <td>7.5</td>\n",
              "    </tr>\n",
              "    <tr>\n",
              "      <th>2</th>\n",
              "      <td>Henrique</td>\n",
              "      <td>2</td>\n",
              "      <td>5</td>\n",
              "      <td>9.0</td>\n",
              "    </tr>\n",
              "    <tr>\n",
              "      <th>3</th>\n",
              "      <td>Julia</td>\n",
              "      <td>1</td>\n",
              "      <td>10</td>\n",
              "      <td>7.5</td>\n",
              "    </tr>\n",
              "    <tr>\n",
              "      <th>4</th>\n",
              "      <td>Carolina</td>\n",
              "      <td>4</td>\n",
              "      <td>6</td>\n",
              "      <td>8.0</td>\n",
              "    </tr>\n",
              "  </tbody>\n",
              "</table>\n",
              "</div>"
            ],
            "text/plain": [
              "      Aluno  Faltas  Prova  Seminário\n",
              "0    Carlos       3      2        8.5\n",
              "1    Eliana       4      7        7.5\n",
              "2  Henrique       2      5        9.0\n",
              "3     Julia       1     10        7.5\n",
              "4  Carolina       4      6        8.0"
            ]
          },
          "metadata": {
            "tags": []
          },
          "execution_count": 193
        }
      ]
    },
    {
      "cell_type": "markdown",
      "metadata": {
        "id": "E4V2QjcdABSC",
        "colab_type": "text"
      },
      "source": [
        "Os tipos de dados que compõe as colunas podem ser verificados por um método próprio:"
      ]
    },
    {
      "cell_type": "code",
      "metadata": {
        "id": "p1lcQOc8ABSC",
        "colab_type": "code",
        "colab": {},
        "outputId": "270fb445-941f-4f82-a7aa-90c0ecfe5fe6"
      },
      "source": [
        "df.dtypes"
      ],
      "execution_count": 0,
      "outputs": [
        {
          "output_type": "execute_result",
          "data": {
            "text/plain": [
              "Aluno         object\n",
              "Faltas         int64\n",
              "Prova          int64\n",
              "Seminário    float64\n",
              "dtype: object"
            ]
          },
          "metadata": {
            "tags": []
          },
          "execution_count": 194
        }
      ]
    },
    {
      "cell_type": "markdown",
      "metadata": {
        "id": "yjWF9IGAABSG",
        "colab_type": "text"
      },
      "source": [
        "É possível acessar a lista de colunas de forma bem intuitiva:"
      ]
    },
    {
      "cell_type": "code",
      "metadata": {
        "id": "l2RrTwxtABSG",
        "colab_type": "code",
        "colab": {},
        "outputId": "a5a9b93d-2669-4a84-a423-4d4ad8001bb5"
      },
      "source": [
        "df.columns"
      ],
      "execution_count": 0,
      "outputs": [
        {
          "output_type": "execute_result",
          "data": {
            "text/plain": [
              "Index(['Aluno', 'Faltas', 'Prova', 'Seminário'], dtype='object')"
            ]
          },
          "metadata": {
            "tags": []
          },
          "execution_count": 196
        }
      ]
    },
    {
      "cell_type": "code",
      "metadata": {
        "id": "-1Ekpom-ABSJ",
        "colab_type": "code",
        "colab": {},
        "outputId": "8c9156f0-fc0f-4135-9be8-e39aa675c560"
      },
      "source": [
        "df.index"
      ],
      "execution_count": 0,
      "outputs": [
        {
          "output_type": "execute_result",
          "data": {
            "text/plain": [
              "RangeIndex(start=0, stop=5, step=1)"
            ]
          },
          "metadata": {
            "tags": []
          },
          "execution_count": 197
        }
      ]
    },
    {
      "cell_type": "markdown",
      "metadata": {
        "id": "7rFt5T0EABSP",
        "colab_type": "text"
      },
      "source": [
        "### Você pode denominar uma outra coluna como index"
      ]
    },
    {
      "cell_type": "code",
      "metadata": {
        "id": "TlI-S3orABSR",
        "colab_type": "code",
        "colab": {},
        "outputId": "606ca8d4-1eaa-4870-a775-f3155646db8e"
      },
      "source": [
        "df.set_index('Aluno')"
      ],
      "execution_count": 0,
      "outputs": [
        {
          "output_type": "execute_result",
          "data": {
            "text/html": [
              "<div>\n",
              "<style scoped>\n",
              "    .dataframe tbody tr th:only-of-type {\n",
              "        vertical-align: middle;\n",
              "    }\n",
              "\n",
              "    .dataframe tbody tr th {\n",
              "        vertical-align: top;\n",
              "    }\n",
              "\n",
              "    .dataframe thead th {\n",
              "        text-align: right;\n",
              "    }\n",
              "</style>\n",
              "<table border=\"1\" class=\"dataframe\">\n",
              "  <thead>\n",
              "    <tr style=\"text-align: right;\">\n",
              "      <th></th>\n",
              "      <th>Faltas</th>\n",
              "      <th>Prova</th>\n",
              "      <th>Seminário</th>\n",
              "    </tr>\n",
              "    <tr>\n",
              "      <th>Aluno</th>\n",
              "      <th></th>\n",
              "      <th></th>\n",
              "      <th></th>\n",
              "    </tr>\n",
              "  </thead>\n",
              "  <tbody>\n",
              "    <tr>\n",
              "      <th>Carlos</th>\n",
              "      <td>3</td>\n",
              "      <td>2</td>\n",
              "      <td>8.5</td>\n",
              "    </tr>\n",
              "    <tr>\n",
              "      <th>Eliana</th>\n",
              "      <td>4</td>\n",
              "      <td>7</td>\n",
              "      <td>7.5</td>\n",
              "    </tr>\n",
              "    <tr>\n",
              "      <th>Henrique</th>\n",
              "      <td>2</td>\n",
              "      <td>5</td>\n",
              "      <td>9.0</td>\n",
              "    </tr>\n",
              "    <tr>\n",
              "      <th>Julia</th>\n",
              "      <td>1</td>\n",
              "      <td>10</td>\n",
              "      <td>7.5</td>\n",
              "    </tr>\n",
              "    <tr>\n",
              "      <th>Carolina</th>\n",
              "      <td>4</td>\n",
              "      <td>6</td>\n",
              "      <td>8.0</td>\n",
              "    </tr>\n",
              "  </tbody>\n",
              "</table>\n",
              "</div>"
            ],
            "text/plain": [
              "          Faltas  Prova  Seminário\n",
              "Aluno                             \n",
              "Carlos         3      2        8.5\n",
              "Eliana         4      7        7.5\n",
              "Henrique       2      5        9.0\n",
              "Julia          1     10        7.5\n",
              "Carolina       4      6        8.0"
            ]
          },
          "metadata": {
            "tags": []
          },
          "execution_count": 199
        }
      ]
    },
    {
      "cell_type": "code",
      "metadata": {
        "id": "ZM6o-rTKABSU",
        "colab_type": "code",
        "colab": {},
        "outputId": "f5110792-8146-4be1-df71-e7ba7d1c9118"
      },
      "source": [
        "df.reset_index(drop=True, inplace=True);\n",
        "df"
      ],
      "execution_count": 0,
      "outputs": [
        {
          "output_type": "execute_result",
          "data": {
            "text/html": [
              "<div>\n",
              "<style scoped>\n",
              "    .dataframe tbody tr th:only-of-type {\n",
              "        vertical-align: middle;\n",
              "    }\n",
              "\n",
              "    .dataframe tbody tr th {\n",
              "        vertical-align: top;\n",
              "    }\n",
              "\n",
              "    .dataframe thead th {\n",
              "        text-align: right;\n",
              "    }\n",
              "</style>\n",
              "<table border=\"1\" class=\"dataframe\">\n",
              "  <thead>\n",
              "    <tr style=\"text-align: right;\">\n",
              "      <th></th>\n",
              "      <th>Aluno</th>\n",
              "      <th>Faltas</th>\n",
              "      <th>Prova</th>\n",
              "      <th>Seminário</th>\n",
              "    </tr>\n",
              "  </thead>\n",
              "  <tbody>\n",
              "    <tr>\n",
              "      <th>0</th>\n",
              "      <td>Carlos</td>\n",
              "      <td>3</td>\n",
              "      <td>2</td>\n",
              "      <td>8.5</td>\n",
              "    </tr>\n",
              "    <tr>\n",
              "      <th>1</th>\n",
              "      <td>Eliana</td>\n",
              "      <td>4</td>\n",
              "      <td>7</td>\n",
              "      <td>7.5</td>\n",
              "    </tr>\n",
              "    <tr>\n",
              "      <th>2</th>\n",
              "      <td>Henrique</td>\n",
              "      <td>2</td>\n",
              "      <td>5</td>\n",
              "      <td>9.0</td>\n",
              "    </tr>\n",
              "    <tr>\n",
              "      <th>3</th>\n",
              "      <td>Julia</td>\n",
              "      <td>1</td>\n",
              "      <td>10</td>\n",
              "      <td>7.5</td>\n",
              "    </tr>\n",
              "    <tr>\n",
              "      <th>4</th>\n",
              "      <td>Carolina</td>\n",
              "      <td>4</td>\n",
              "      <td>6</td>\n",
              "      <td>8.0</td>\n",
              "    </tr>\n",
              "  </tbody>\n",
              "</table>\n",
              "</div>"
            ],
            "text/plain": [
              "      Aluno  Faltas  Prova  Seminário\n",
              "0    Carlos       3      2        8.5\n",
              "1    Eliana       4      7        7.5\n",
              "2  Henrique       2      5        9.0\n",
              "3     Julia       1     10        7.5\n",
              "4  Carolina       4      6        8.0"
            ]
          },
          "metadata": {
            "tags": []
          },
          "execution_count": 211
        }
      ]
    },
    {
      "cell_type": "markdown",
      "metadata": {
        "id": "KXdq3X8jABSV",
        "colab_type": "text"
      },
      "source": [
        "Vamos exibir uma coluna"
      ]
    },
    {
      "cell_type": "code",
      "metadata": {
        "id": "Z9aaOG03ABSa",
        "colab_type": "code",
        "colab": {},
        "outputId": "8827e7b1-7550-4306-d314-88c66d366200"
      },
      "source": [
        "df.Seminário"
      ],
      "execution_count": 0,
      "outputs": [
        {
          "output_type": "execute_result",
          "data": {
            "text/plain": [
              "0    8.5\n",
              "1    7.5\n",
              "2    9.0\n",
              "3    7.5\n",
              "4    8.0\n",
              "Name: Seminário, dtype: float64"
            ]
          },
          "metadata": {
            "tags": []
          },
          "execution_count": 212
        }
      ]
    },
    {
      "cell_type": "markdown",
      "metadata": {
        "id": "DEGZYfnUABSd",
        "colab_type": "text"
      },
      "source": [
        "Vamos analisar estatísticas com describe()"
      ]
    },
    {
      "cell_type": "code",
      "metadata": {
        "id": "JuZKDxCgABSe",
        "colab_type": "code",
        "colab": {},
        "outputId": "3ac4b834-fda5-4c90-cc2b-8645debfb1b4"
      },
      "source": [
        "df.describe()"
      ],
      "execution_count": 0,
      "outputs": [
        {
          "output_type": "execute_result",
          "data": {
            "text/html": [
              "<div>\n",
              "<style scoped>\n",
              "    .dataframe tbody tr th:only-of-type {\n",
              "        vertical-align: middle;\n",
              "    }\n",
              "\n",
              "    .dataframe tbody tr th {\n",
              "        vertical-align: top;\n",
              "    }\n",
              "\n",
              "    .dataframe thead th {\n",
              "        text-align: right;\n",
              "    }\n",
              "</style>\n",
              "<table border=\"1\" class=\"dataframe\">\n",
              "  <thead>\n",
              "    <tr style=\"text-align: right;\">\n",
              "      <th></th>\n",
              "      <th>Faltas</th>\n",
              "      <th>Prova</th>\n",
              "      <th>Seminário</th>\n",
              "    </tr>\n",
              "  </thead>\n",
              "  <tbody>\n",
              "    <tr>\n",
              "      <th>count</th>\n",
              "      <td>5.00000</td>\n",
              "      <td>5.000000</td>\n",
              "      <td>5.00000</td>\n",
              "    </tr>\n",
              "    <tr>\n",
              "      <th>mean</th>\n",
              "      <td>2.80000</td>\n",
              "      <td>6.000000</td>\n",
              "      <td>8.10000</td>\n",
              "    </tr>\n",
              "    <tr>\n",
              "      <th>std</th>\n",
              "      <td>1.30384</td>\n",
              "      <td>2.915476</td>\n",
              "      <td>0.65192</td>\n",
              "    </tr>\n",
              "    <tr>\n",
              "      <th>min</th>\n",
              "      <td>1.00000</td>\n",
              "      <td>2.000000</td>\n",
              "      <td>7.50000</td>\n",
              "    </tr>\n",
              "    <tr>\n",
              "      <th>25%</th>\n",
              "      <td>2.00000</td>\n",
              "      <td>5.000000</td>\n",
              "      <td>7.50000</td>\n",
              "    </tr>\n",
              "    <tr>\n",
              "      <th>50%</th>\n",
              "      <td>3.00000</td>\n",
              "      <td>6.000000</td>\n",
              "      <td>8.00000</td>\n",
              "    </tr>\n",
              "    <tr>\n",
              "      <th>75%</th>\n",
              "      <td>4.00000</td>\n",
              "      <td>7.000000</td>\n",
              "      <td>8.50000</td>\n",
              "    </tr>\n",
              "    <tr>\n",
              "      <th>max</th>\n",
              "      <td>4.00000</td>\n",
              "      <td>10.000000</td>\n",
              "      <td>9.00000</td>\n",
              "    </tr>\n",
              "  </tbody>\n",
              "</table>\n",
              "</div>"
            ],
            "text/plain": [
              "        Faltas      Prova  Seminário\n",
              "count  5.00000   5.000000    5.00000\n",
              "mean   2.80000   6.000000    8.10000\n",
              "std    1.30384   2.915476    0.65192\n",
              "min    1.00000   2.000000    7.50000\n",
              "25%    2.00000   5.000000    7.50000\n",
              "50%    3.00000   6.000000    8.00000\n",
              "75%    4.00000   7.000000    8.50000\n",
              "max    4.00000  10.000000    9.00000"
            ]
          },
          "metadata": {
            "tags": []
          },
          "execution_count": 213
        }
      ]
    },
    {
      "cell_type": "code",
      "metadata": {
        "id": "RWBWmle2ABSg",
        "colab_type": "code",
        "colab": {},
        "outputId": "941f58b8-af9b-439e-8969-4dcf99684dad"
      },
      "source": [
        "df.sort_values(by=\"Seminário\")"
      ],
      "execution_count": 0,
      "outputs": [
        {
          "output_type": "execute_result",
          "data": {
            "text/html": [
              "<div>\n",
              "<style scoped>\n",
              "    .dataframe tbody tr th:only-of-type {\n",
              "        vertical-align: middle;\n",
              "    }\n",
              "\n",
              "    .dataframe tbody tr th {\n",
              "        vertical-align: top;\n",
              "    }\n",
              "\n",
              "    .dataframe thead th {\n",
              "        text-align: right;\n",
              "    }\n",
              "</style>\n",
              "<table border=\"1\" class=\"dataframe\">\n",
              "  <thead>\n",
              "    <tr style=\"text-align: right;\">\n",
              "      <th></th>\n",
              "      <th>Aluno</th>\n",
              "      <th>Faltas</th>\n",
              "      <th>Prova</th>\n",
              "      <th>Seminário</th>\n",
              "    </tr>\n",
              "  </thead>\n",
              "  <tbody>\n",
              "    <tr>\n",
              "      <th>1</th>\n",
              "      <td>Eliana</td>\n",
              "      <td>4</td>\n",
              "      <td>7</td>\n",
              "      <td>7.5</td>\n",
              "    </tr>\n",
              "    <tr>\n",
              "      <th>3</th>\n",
              "      <td>Julia</td>\n",
              "      <td>1</td>\n",
              "      <td>10</td>\n",
              "      <td>7.5</td>\n",
              "    </tr>\n",
              "    <tr>\n",
              "      <th>4</th>\n",
              "      <td>Carolina</td>\n",
              "      <td>4</td>\n",
              "      <td>6</td>\n",
              "      <td>8.0</td>\n",
              "    </tr>\n",
              "    <tr>\n",
              "      <th>0</th>\n",
              "      <td>Carlos</td>\n",
              "      <td>3</td>\n",
              "      <td>2</td>\n",
              "      <td>8.5</td>\n",
              "    </tr>\n",
              "    <tr>\n",
              "      <th>2</th>\n",
              "      <td>Henrique</td>\n",
              "      <td>2</td>\n",
              "      <td>5</td>\n",
              "      <td>9.0</td>\n",
              "    </tr>\n",
              "  </tbody>\n",
              "</table>\n",
              "</div>"
            ],
            "text/plain": [
              "      Aluno  Faltas  Prova  Seminário\n",
              "1    Eliana       4      7        7.5\n",
              "3     Julia       1     10        7.5\n",
              "4  Carolina       4      6        8.0\n",
              "0    Carlos       3      2        8.5\n",
              "2  Henrique       2      5        9.0"
            ]
          },
          "metadata": {
            "tags": []
          },
          "execution_count": 215
        }
      ]
    },
    {
      "cell_type": "markdown",
      "metadata": {
        "id": "hMUsBG8mABSj",
        "colab_type": "text"
      },
      "source": [
        "Muitas vezes é necessário selecionarmos valores específicos de um DataFrame, seja uma linha ou uma célula específica, e isso pode ser feito de diversas formas. A documentação oficial contém vasta informação para esse tipo de tarefa, aqui nos concentraremos nas formas mais comuns de selecionarmos dados.\n",
        "\n",
        "Para selecionar pelo index ou rótulo usamos o atributo .loc:"
      ]
    },
    {
      "cell_type": "code",
      "metadata": {
        "id": "rl7HcckcABSk",
        "colab_type": "code",
        "colab": {},
        "outputId": "e96aee5d-da31-41db-900e-ad42e1685fa9"
      },
      "source": [
        "df.loc[3]"
      ],
      "execution_count": 0,
      "outputs": [
        {
          "output_type": "execute_result",
          "data": {
            "text/plain": [
              "Aluno        Julia\n",
              "Faltas           1\n",
              "Prova           10\n",
              "Seminário      7.5\n",
              "Name: 3, dtype: object"
            ]
          },
          "metadata": {
            "tags": []
          },
          "execution_count": 217
        }
      ]
    },
    {
      "cell_type": "markdown",
      "metadata": {
        "id": "6YiNOHHzABSo",
        "colab_type": "text"
      },
      "source": [
        "Para selecionar de acordo com critérios condicionais, se usa o que se chama de **Boolean Indexing**.\n",
        "\n",
        "Suponha que queiramos selecionar apenas as linhas em que o valor da coluna Seminário seja acima de 8.0, podemos realizar esta tarefa passando a condição diretamente como índice:"
      ]
    },
    {
      "cell_type": "code",
      "metadata": {
        "id": "SsAKFqKXABSo",
        "colab_type": "code",
        "colab": {},
        "outputId": "b7dd942e-256d-4455-f364-87b559587f6b"
      },
      "source": [
        "df[df[\"Seminário\"] > 8.0]"
      ],
      "execution_count": 0,
      "outputs": [
        {
          "output_type": "execute_result",
          "data": {
            "text/html": [
              "<div>\n",
              "<style scoped>\n",
              "    .dataframe tbody tr th:only-of-type {\n",
              "        vertical-align: middle;\n",
              "    }\n",
              "\n",
              "    .dataframe tbody tr th {\n",
              "        vertical-align: top;\n",
              "    }\n",
              "\n",
              "    .dataframe thead th {\n",
              "        text-align: right;\n",
              "    }\n",
              "</style>\n",
              "<table border=\"1\" class=\"dataframe\">\n",
              "  <thead>\n",
              "    <tr style=\"text-align: right;\">\n",
              "      <th></th>\n",
              "      <th>Aluno</th>\n",
              "      <th>Faltas</th>\n",
              "      <th>Prova</th>\n",
              "      <th>Seminário</th>\n",
              "    </tr>\n",
              "  </thead>\n",
              "  <tbody>\n",
              "    <tr>\n",
              "      <th>0</th>\n",
              "      <td>Carlos</td>\n",
              "      <td>3</td>\n",
              "      <td>2</td>\n",
              "      <td>8.5</td>\n",
              "    </tr>\n",
              "    <tr>\n",
              "      <th>2</th>\n",
              "      <td>Henrique</td>\n",
              "      <td>2</td>\n",
              "      <td>5</td>\n",
              "      <td>9.0</td>\n",
              "    </tr>\n",
              "  </tbody>\n",
              "</table>\n",
              "</div>"
            ],
            "text/plain": [
              "      Aluno  Faltas  Prova  Seminário\n",
              "0    Carlos       3      2        8.5\n",
              "2  Henrique       2      5        9.0"
            ]
          },
          "metadata": {
            "tags": []
          },
          "execution_count": 218
        }
      ]
    },
    {
      "cell_type": "markdown",
      "metadata": {
        "id": "YM2Rbn3VABSt",
        "colab_type": "text"
      },
      "source": [
        "Este tipo de indexação também possibilita checar condições de múltiplas colunas. Diferentemente do que estamos habituados em Python, aqui se usam operadores bitwise, ou seja, &, |, ~ ao invés de and, or, not, respectivamente. Suponha que além de df[\"Seminário\"] > 8.0 queiramos que o valor da coluna Prova não seja menor que 3:"
      ]
    },
    {
      "cell_type": "markdown",
      "metadata": {
        "id": "CgCI3TKRABSt",
        "colab_type": "text"
      },
      "source": [
        "# Exercício 9\n",
        "\n",
        "Crie um DataFrame com 10 alunos para isso vc vai:  \n",
        " 1.Preencher os espaços entre colchetes e virgulas com o 10 nomes de alunos diferentes após **Alunos**\n",
        " 2.Preencher os espaços entre colchetes e virgulas com o 10 valores de faltas (usar valores inteiros) após **Faltas**\n",
        " 3.Preencher os espaços entre colchetes e virgulas com o 10 valores de Prova (usar valores float) após **Provas**\n",
        " 4.Preencher os espaços entre colchetes e virgulas com o 10 valores de Seminários (usar valores float) após **Seminários**\n",
        " 5 Crie uma coluna **Participação** inserindo com o 10 valores de particpação (usar valores inteiros)"
      ]
    },
    {
      "cell_type": "code",
      "metadata": {
        "id": "BpPINKnqABSu",
        "colab_type": "code",
        "colab": {}
      },
      "source": [
        "df1 = pd.DataFrame({'Aluno' : [\" \", \" \", \" \", \" \", \" \", \" \", \" \", \" \", \" \", \" \"],\n",
        "                   'Faltas' : [ , , , , , , , , , ],\n",
        "                   'Prova' : [ , , , , , , , , , ],\n",
        "                   'Seminário': [ , , , , , , , , , ],\n",
        "                  })\n",
        "df1"
      ],
      "execution_count": 0,
      "outputs": []
    },
    {
      "cell_type": "markdown",
      "metadata": {
        "id": "y9IZ0BNTABSy",
        "colab_type": "text"
      },
      "source": [
        "### Exercício 10 Exiba apenas a colunas Prova"
      ]
    },
    {
      "cell_type": "code",
      "metadata": {
        "id": "1uPx7WfFABSy",
        "colab_type": "code",
        "colab": {}
      },
      "source": [
        ""
      ],
      "execution_count": 0,
      "outputs": []
    },
    {
      "cell_type": "markdown",
      "metadata": {
        "id": "iDIZyaScABS1",
        "colab_type": "text"
      },
      "source": [
        "### Exercicio 11 aplique o describe a coluna Prova"
      ]
    },
    {
      "cell_type": "code",
      "metadata": {
        "id": "qhZwGuCZABS1",
        "colab_type": "code",
        "colab": {}
      },
      "source": [
        ""
      ],
      "execution_count": 0,
      "outputs": []
    },
    {
      "cell_type": "markdown",
      "metadata": {
        "id": "Qg59MyVzABS4",
        "colab_type": "text"
      },
      "source": [
        "### Exercicio 12 aplique o describe a todas as colunas¶"
      ]
    },
    {
      "cell_type": "code",
      "metadata": {
        "id": "4PRKF7ukABS4",
        "colab_type": "code",
        "colab": {}
      },
      "source": [
        ""
      ],
      "execution_count": 0,
      "outputs": []
    },
    {
      "cell_type": "markdown",
      "metadata": {
        "id": "hQsAVjQKABS6",
        "colab_type": "text"
      },
      "source": [
        "## Noçoes de Matplotlib"
      ]
    },
    {
      "cell_type": "markdown",
      "metadata": {
        "id": "YdCou90-ABS7",
        "colab_type": "text"
      },
      "source": [
        "Vamos começar com alguns dados  que vamos usar para fazer alguns exemplos"
      ]
    },
    {
      "cell_type": "code",
      "metadata": {
        "id": "VSF5hmTQABS7",
        "colab_type": "code",
        "colab": {}
      },
      "source": [
        "#definindo variáveis que vamos usar nos exemplos\n",
        "x = [1, 2, 3]\n",
        "y = [10, 20, 30]\n",
        "y2 = [15, 10, 40]\n",
        "y3 = [20, 10, 35]\n",
        "yBar = [3, 10, 7, 5, 3, 4.5, 6, 8.1]\n",
        "z = [i * 1.5 for i in yBar]\n",
        "xBar = range(len(yBar))\n",
        "azul = \"blue\"\n",
        "verde = \"green\"\n",
        "preto = \"black\""
      ],
      "execution_count": 0,
      "outputs": []
    },
    {
      "cell_type": "markdown",
      "metadata": {
        "id": "deG5lORXABS-",
        "colab_type": "text"
      },
      "source": [
        "## Desenhando uma linha"
      ]
    },
    {
      "cell_type": "code",
      "metadata": {
        "id": "kcme0fnfABS-",
        "colab_type": "code",
        "colab": {},
        "outputId": "d3db8255-c5b6-456c-ff1b-5eae5883a286"
      },
      "source": [
        "plt.plot(x, y)"
      ],
      "execution_count": 0,
      "outputs": [
        {
          "output_type": "execute_result",
          "data": {
            "text/plain": [
              "[<matplotlib.lines.Line2D at 0x1f9a4f56b70>]"
            ]
          },
          "metadata": {
            "tags": []
          },
          "execution_count": 221
        },
        {
          "output_type": "display_data",
          "data": {
            "image/png": "[encoded data removed]",
            "text/plain": [
              "<Figure size 432x288 with 1 Axes>"
            ]
          },
          "metadata": {
            "tags": []
          }
        }
      ]
    },
    {
      "cell_type": "markdown",
      "metadata": {
        "id": "hrO_XyLpABTB",
        "colab_type": "text"
      },
      "source": [
        "### Adicionado rótulos"
      ]
    },
    {
      "cell_type": "code",
      "metadata": {
        "id": "Jt7OnNNmABTC",
        "colab_type": "code",
        "colab": {},
        "outputId": "d9f2609f-46da-4ccf-8375-fc5e67be8053"
      },
      "source": [
        "plt.xlabel('X')\n",
        "plt.ylabel('Y')\n",
        "plt.title('Título do gráfico')\n",
        "plt.plot(x, y)"
      ],
      "execution_count": 0,
      "outputs": [
        {
          "output_type": "execute_result",
          "data": {
            "text/plain": [
              "[<matplotlib.lines.Line2D at 0x1f9a41d08d0>]"
            ]
          },
          "metadata": {
            "tags": []
          },
          "execution_count": 222
        },
        {
          "output_type": "display_data",
          "data": {
            "image/png": "[encoded data removed]",
            "text/plain": [
              "<Figure size 432x288 with 1 Axes>"
            ]
          },
          "metadata": {
            "tags": []
          }
        }
      ]
    },
    {
      "cell_type": "markdown",
      "metadata": {
        "id": "1FRJo_SNABTE",
        "colab_type": "text"
      },
      "source": [
        "### Grafico com mais de uma linha"
      ]
    },
    {
      "cell_type": "code",
      "metadata": {
        "id": "bkJZ5GivABTE",
        "colab_type": "code",
        "colab": {},
        "outputId": "97fcf877-9ea1-4a34-f8f1-94626cecccba"
      },
      "source": [
        "plt.xlabel('X')\n",
        "plt.ylabel('Y')\n",
        "plt.title('Gráfico com mais de uma linha')\n",
        "plt.plot(x, y)\n",
        "plt.plot(x, y2)\n",
        "plt.plot(x, y3)"
      ],
      "execution_count": 0,
      "outputs": [
        {
          "output_type": "execute_result",
          "data": {
            "text/plain": [
              "[<matplotlib.lines.Line2D at 0x1f9a575a2e8>]"
            ]
          },
          "metadata": {
            "tags": []
          },
          "execution_count": 223
        },
        {
          "output_type": "display_data",
          "data": {
            "image/png": "[encoded data removed]",
            "text/plain": [
              "<Figure size 432x288 with 1 Axes>"
            ]
          },
          "metadata": {
            "tags": []
          }
        }
      ]
    },
    {
      "cell_type": "markdown",
      "metadata": {
        "id": "4_Y8HqshABTG",
        "colab_type": "text"
      },
      "source": [
        "### Grafico de Barras"
      ]
    },
    {
      "cell_type": "code",
      "metadata": {
        "id": "DU_I2YooABTG",
        "colab_type": "code",
        "colab": {},
        "outputId": "d6c9266e-e6a7-4d51-991a-f409dde8052e"
      },
      "source": [
        "plt.bar(xBar, yBar, color=azul)\n",
        "plt.title('Gráfico de Barras')\n",
        "plt.xlabel('Xbar')\n",
        "plt.ylabel('Ybar')"
      ],
      "execution_count": 0,
      "outputs": [
        {
          "output_type": "execute_result",
          "data": {
            "text/plain": [
              "Text(0, 0.5, 'Ybar')"
            ]
          },
          "metadata": {
            "tags": []
          },
          "execution_count": 225
        },
        {
          "output_type": "display_data",
          "data": {
            "image/png": "[encoded data removed]",
            "text/plain": [
              "<Figure size 432x288 with 1 Axes>"
            ]
          },
          "metadata": {
            "tags": []
          }
        }
      ]
    },
    {
      "cell_type": "markdown",
      "metadata": {
        "id": "u2p0kA8ZABTK",
        "colab_type": "text"
      },
      "source": [
        "## Gráfico de Barras e linha"
      ]
    },
    {
      "cell_type": "code",
      "metadata": {
        "id": "h-p58T3ZABTL",
        "colab_type": "code",
        "colab": {},
        "outputId": "ff3d54c4-829e-4511-fb81-ff84862d7022"
      },
      "source": [
        "plt.bar(xBar, yBar, color=preto, align='center')\n",
        "plt.plot(xBar, z, color=verde, marker='o', linestyle='--', linewidth=2)\n",
        "plt.title('Gráfico de Barras e linha')\n",
        "plt.xlabel('Xbar')\n",
        "plt.ylabel('Ybar')"
      ],
      "execution_count": 0,
      "outputs": [
        {
          "output_type": "execute_result",
          "data": {
            "text/plain": [
              "Text(0, 0.5, 'Ybar')"
            ]
          },
          "metadata": {
            "tags": []
          },
          "execution_count": 226
        },
        {
          "output_type": "display_data",
          "data": {
            "image/png": "[encoded data removed]",
            "text/plain": [
              "<Figure size 432x288 with 1 Axes>"
            ]
          },
          "metadata": {
            "tags": []
          }
        }
      ]
    },
    {
      "cell_type": "markdown",
      "metadata": {
        "id": "Cm4YnF3cABTN",
        "colab_type": "text"
      },
      "source": [
        "## Gráfico de Barras e linha com legenda"
      ]
    },
    {
      "cell_type": "code",
      "metadata": {
        "id": "5GVT04E4ABTN",
        "colab_type": "code",
        "colab": {},
        "outputId": "509a5972-e906-4650-c53e-2be7678fb886"
      },
      "source": [
        "plt.bar(xBar, yBar, color=preto, align='center', label='Barras')\n",
        "plt.plot(xBar, z, color=verde, marker='o', linestyle='--', linewidth=2, label='linha')\n",
        "plt.title('Gráfico de Barras e linha')\n",
        "plt.xlabel('Xbar')\n",
        "plt.ylabel('Ybar')\n",
        "plt.legend()"
      ],
      "execution_count": 0,
      "outputs": [
        {
          "output_type": "execute_result",
          "data": {
            "text/plain": [
              "<matplotlib.legend.Legend at 0x1f9a5bd30b8>"
            ]
          },
          "metadata": {
            "tags": []
          },
          "execution_count": 229
        },
        {
          "output_type": "display_data",
          "data": {
            "image/png": "[encoded data removed]",
            "text/plain": [
              "<Figure size 432x288 with 1 Axes>"
            ]
          },
          "metadata": {
            "tags": []
          }
        }
      ]
    },
    {
      "cell_type": "markdown",
      "metadata": {
        "id": "4fEAxdegABTQ",
        "colab_type": "text"
      },
      "source": [
        "### Exercício 13\n",
        "\n",
        "Agora você irá fazer os gráficos coloque novos valores entre as virgulas"
      ]
    },
    {
      "cell_type": "code",
      "metadata": {
        "id": "vI7VfgmGABTR",
        "colab_type": "code",
        "colab": {}
      },
      "source": [
        "#definindo variáveis que vamos usar nos exercícios\n",
        "x = [1, 2, 3, , , , , , , ]\n",
        "y = [10, 20, 30, , , , , , , ]\n",
        "y2 = [15, 10, 40, , , , , , , ]\n",
        "y3 = [20, 10, 35, , , , , , , ]\n",
        "yBar = [3, 10, 7, 5, 3, 4.5, 6, 8.1, , , , , , , ]\n",
        "z = [i * 1.5 for i in yBar]\n",
        "xBar = range(len(yBar))\n",
        "azul = \"blue\"\n",
        "verde = \"green\"\n",
        "preto = \"black\""
      ],
      "execution_count": 0,
      "outputs": []
    },
    {
      "cell_type": "markdown",
      "metadata": {
        "id": "iImCsA1ZABTU",
        "colab_type": "text"
      },
      "source": [
        "### Exercicio 14\n",
        "\n",
        "Faça um plot de x e y"
      ]
    },
    {
      "cell_type": "code",
      "metadata": {
        "id": "xW109MnIABTV",
        "colab_type": "code",
        "colab": {}
      },
      "source": [
        ""
      ],
      "execution_count": 0,
      "outputs": []
    },
    {
      "cell_type": "markdown",
      "metadata": {
        "id": "X_ogIbzvABTZ",
        "colab_type": "text"
      },
      "source": [
        "### Exercicio 15\n",
        "\n",
        "Faça um plot de x e y, y2 e y3"
      ]
    },
    {
      "cell_type": "code",
      "metadata": {
        "id": "X1UG9-OoABTZ",
        "colab_type": "code",
        "colab": {}
      },
      "source": [
        ""
      ],
      "execution_count": 0,
      "outputs": []
    },
    {
      "cell_type": "markdown",
      "metadata": {
        "id": "Cym5pxj2ABTc",
        "colab_type": "text"
      },
      "source": [
        "### Exercicio 16\n",
        "\n",
        "Faça um plot debarras usando Xbar e YBar"
      ]
    },
    {
      "cell_type": "code",
      "metadata": {
        "id": "PcwQKjt9ABTc",
        "colab_type": "code",
        "colab": {}
      },
      "source": [
        ""
      ],
      "execution_count": 0,
      "outputs": []
    },
    {
      "cell_type": "markdown",
      "metadata": {
        "id": "bbq8879YABTf",
        "colab_type": "text"
      },
      "source": [
        "### Exercicio 17\n",
        "\n",
        "Faça um plot de barras e linhas usando seus novos dados "
      ]
    },
    {
      "cell_type": "code",
      "metadata": {
        "id": "BVlqpKxZABTg",
        "colab_type": "code",
        "colab": {}
      },
      "source": [
        ""
      ],
      "execution_count": 0,
      "outputs": []
    },
    {
      "cell_type": "markdown",
      "metadata": {
        "id": "heLGb__-ABTj",
        "colab_type": "text"
      },
      "source": [
        "## Falando um pouco mais de correlação"
      ]
    },
    {
      "cell_type": "code",
      "metadata": {
        "id": "27Lpqq-tABTk",
        "colab_type": "code",
        "colab": {}
      },
      "source": [
        "from scipy import stats"
      ],
      "execution_count": 0,
      "outputs": []
    },
    {
      "cell_type": "code",
      "metadata": {
        "id": "tuDqW2bYABTn",
        "colab_type": "code",
        "colab": {}
      },
      "source": [
        "mean, cov = [0, 1], [(1, .5), (.5, 1)]\n",
        "data = np.random.multivariate_normal(mean, cov, 1000)\n",
        "df = pd.DataFrame(data, columns=[\"x\", \"y\"])"
      ],
      "execution_count": 0,
      "outputs": []
    },
    {
      "cell_type": "code",
      "metadata": {
        "id": "6jW5j-Q9ABTs",
        "colab_type": "code",
        "colab": {},
        "outputId": "6d6cd0e0-f721-48d3-9a0a-81cfcad41ef4"
      },
      "source": [
        "df"
      ],
      "execution_count": 0,
      "outputs": [
        {
          "output_type": "execute_result",
          "data": {
            "text/html": [
              "<div>\n",
              "<style scoped>\n",
              "    .dataframe tbody tr th:only-of-type {\n",
              "        vertical-align: middle;\n",
              "    }\n",
              "\n",
              "    .dataframe tbody tr th {\n",
              "        vertical-align: top;\n",
              "    }\n",
              "\n",
              "    .dataframe thead th {\n",
              "        text-align: right;\n",
              "    }\n",
              "</style>\n",
              "<table border=\"1\" class=\"dataframe\">\n",
              "  <thead>\n",
              "    <tr style=\"text-align: right;\">\n",
              "      <th></th>\n",
              "      <th>x</th>\n",
              "      <th>y</th>\n",
              "    </tr>\n",
              "  </thead>\n",
              "  <tbody>\n",
              "    <tr>\n",
              "      <th>0</th>\n",
              "      <td>-0.725018</td>\n",
              "      <td>1.274487</td>\n",
              "    </tr>\n",
              "    <tr>\n",
              "      <th>1</th>\n",
              "      <td>-0.461664</td>\n",
              "      <td>0.633497</td>\n",
              "    </tr>\n",
              "    <tr>\n",
              "      <th>2</th>\n",
              "      <td>0.663095</td>\n",
              "      <td>2.262713</td>\n",
              "    </tr>\n",
              "    <tr>\n",
              "      <th>3</th>\n",
              "      <td>0.071092</td>\n",
              "      <td>1.214660</td>\n",
              "    </tr>\n",
              "    <tr>\n",
              "      <th>4</th>\n",
              "      <td>0.405774</td>\n",
              "      <td>0.134480</td>\n",
              "    </tr>\n",
              "    <tr>\n",
              "      <th>...</th>\n",
              "      <td>...</td>\n",
              "      <td>...</td>\n",
              "    </tr>\n",
              "    <tr>\n",
              "      <th>995</th>\n",
              "      <td>2.123465</td>\n",
              "      <td>2.521433</td>\n",
              "    </tr>\n",
              "    <tr>\n",
              "      <th>996</th>\n",
              "      <td>0.328737</td>\n",
              "      <td>0.203797</td>\n",
              "    </tr>\n",
              "    <tr>\n",
              "      <th>997</th>\n",
              "      <td>0.773508</td>\n",
              "      <td>1.539654</td>\n",
              "    </tr>\n",
              "    <tr>\n",
              "      <th>998</th>\n",
              "      <td>-0.410029</td>\n",
              "      <td>0.559544</td>\n",
              "    </tr>\n",
              "    <tr>\n",
              "      <th>999</th>\n",
              "      <td>0.040923</td>\n",
              "      <td>1.990750</td>\n",
              "    </tr>\n",
              "  </tbody>\n",
              "</table>\n",
              "<p>1000 rows × 2 columns</p>\n",
              "</div>"
            ],
            "text/plain": [
              "            x         y\n",
              "0   -0.725018  1.274487\n",
              "1   -0.461664  0.633497\n",
              "2    0.663095  2.262713\n",
              "3    0.071092  1.214660\n",
              "4    0.405774  0.134480\n",
              "..        ...       ...\n",
              "995  2.123465  2.521433\n",
              "996  0.328737  0.203797\n",
              "997  0.773508  1.539654\n",
              "998 -0.410029  0.559544\n",
              "999  0.040923  1.990750\n",
              "\n",
              "[1000 rows x 2 columns]"
            ]
          },
          "metadata": {
            "tags": []
          },
          "execution_count": 257
        }
      ]
    },
    {
      "cell_type": "code",
      "metadata": {
        "id": "TVlZxS5WABTw",
        "colab_type": "code",
        "colab": {},
        "outputId": "bd2a9b43-edb5-4e57-fd31-3ec851118afc"
      },
      "source": [
        "mean, cov = [0, 1], [(1, .5), (.5, 1)]\n",
        "data = np.random.multivariate_normal(mean, cov, 1000)\n",
        "m, b, r_value, p_value, std_err = stats.linregress(data[:,0], data[:,1])\n",
        "plt.scatter(data[:,0], data[:,1], c='b')\n",
        "plt.plot(data[:,0], m*data[:,0] + b)\n",
        "print(r_value)"
      ],
      "execution_count": 0,
      "outputs": [
        {
          "output_type": "stream",
          "text": [
            "0.49775181256278367\n"
          ],
          "name": "stdout"
        },
        {
          "output_type": "display_data",
          "data": {
            "image/png": "[encoded data removed]",
            "text/plain": [
              "<Figure size 432x288 with 1 Axes>"
            ]
          },
          "metadata": {
            "tags": []
          }
        }
      ]
    },
    {
      "cell_type": "code",
      "metadata": {
        "id": "SrPv-b9WABT0",
        "colab_type": "code",
        "colab": {},
        "outputId": "6d2703d4-01ac-4641-822e-1addba5ea274"
      },
      "source": [
        "mean, cov = [0, 1], [(1, .1), (.1, 1)]\n",
        "data = np.random.multivariate_normal(mean, cov, 1000)\n",
        "m, b, r_value, p_value, std_err = stats.linregress(data[:,0], data[:,1])\n",
        "plt.scatter(data[:,0], data[:,1], c='b')\n",
        "plt.plot(data[:,0], m*data[:,0] + b)\n",
        "print(r_value)"
      ],
      "execution_count": 0,
      "outputs": [
        {
          "output_type": "stream",
          "text": [
            "0.12572258565092057\n"
          ],
          "name": "stdout"
        },
        {
          "output_type": "display_data",
          "data": {
            "image/png": "[encoded data removed]",
            "text/plain": [
              "<Figure size 432x288 with 1 Axes>"
            ]
          },
          "metadata": {
            "tags": []
          }
        }
      ]
    },
    {
      "cell_type": "code",
      "metadata": {
        "id": "Zi8jtmEgABT3",
        "colab_type": "code",
        "colab": {},
        "outputId": "0898e46d-c330-4384-e4ff-576c093980df"
      },
      "source": [
        "mean, cov = [0, 1], [(0., 1.0), (1.0, 0.0)]\n",
        "data = np.random.multivariate_normal(mean, cov, 1000)\n",
        "m, b, r_value, p_value, std_err = stats.linregress(data[:,0], data[:,1])\n",
        "plt.scatter(data[:,0], data[:,1], c='b')\n",
        "plt.plot(data[:,0], m*data[:,0] + b)\n",
        "print(r_value)"
      ],
      "execution_count": 0,
      "outputs": [
        {
          "output_type": "stream",
          "text": [
            "C:\\Users\\domin\\Anaconda3\\envs\\Python3\\lib\\site-packages\\ipykernel_launcher.py:2: RuntimeWarning: covariance is not positive-semidefinite.\n",
            "  \n"
          ],
          "name": "stderr"
        },
        {
          "output_type": "stream",
          "text": [
            "0.007192391061014073\n"
          ],
          "name": "stdout"
        },
        {
          "output_type": "display_data",
          "data": {
            "image/png": "[encoded data removed]",
            "text/plain": [
              "<Figure size 432x288 with 1 Axes>"
            ]
          },
          "metadata": {
            "tags": []
          }
        }
      ]
    },
    {
      "cell_type": "code",
      "metadata": {
        "id": "VkInWLBsABT6",
        "colab_type": "code",
        "colab": {},
        "outputId": "f2ac4c11-2efb-4934-c7b2-ecc7985c6ef9"
      },
      "source": [
        "mean, cov = [0, 1], [(0.5, 0.70), (0.7, 0.5)]\n",
        "data = np.random.multivariate_normal(mean, cov, 1000)\n",
        "m, b, r_value, p_value, std_err = stats.linregress(data[:,0], data[:,1])\n",
        "plt.scatter(data[:,0], data[:,1], c='b')\n",
        "plt.plot(data[:,0], m*data[:,0] + b)\n",
        "print(r_value)"
      ],
      "execution_count": 0,
      "outputs": [
        {
          "output_type": "stream",
          "text": [
            "0.7211916420330108\n"
          ],
          "name": "stdout"
        },
        {
          "output_type": "stream",
          "text": [
            "C:\\Users\\domin\\Anaconda3\\envs\\Python3\\lib\\site-packages\\ipykernel_launcher.py:2: RuntimeWarning: covariance is not positive-semidefinite.\n",
            "  \n"
          ],
          "name": "stderr"
        },
        {
          "output_type": "display_data",
          "data": {
            "image/png": "[encoded data removed]",
            "text/plain": [
              "<Figure size 432x288 with 1 Axes>"
            ]
          },
          "metadata": {
            "tags": []
          }
        }
      ]
    },
    {
      "cell_type": "code",
      "metadata": {
        "id": "WRFoZo8yABT9",
        "colab_type": "code",
        "colab": {},
        "outputId": "59c1496a-e279-4d1b-8074-ec0b8e8f548c"
      },
      "source": [
        "mean, cov = [0, 1], [(1.0, .95), (0.95, 1.0)]\n",
        "data = np.random.multivariate_normal(mean, cov, 1000)\n",
        "m, b, r_value, p_value, std_err = stats.linregress(data[:,0], -1.0*data[:,1])\n",
        "plt.scatter(data[:,0], -1.0*data[:,1], c='b')\n",
        "plt.plot(data[:,0], m*data[:,0] + b)\n",
        "print(r_value)"
      ],
      "execution_count": 0,
      "outputs": [
        {
          "output_type": "stream",
          "text": [
            "-0.949049181811816\n"
          ],
          "name": "stdout"
        },
        {
          "output_type": "display_data",
          "data": {
            "image/png": "[encoded data removed]",
            "text/plain": [
              "<Figure size 432x288 with 1 Axes>"
            ]
          },
          "metadata": {
            "tags": []
          }
        }
      ]
    },
    {
      "cell_type": "code",
      "metadata": {
        "id": "S-wV0x9MABT-",
        "colab_type": "code",
        "colab": {},
        "outputId": "adc00b29-bf95-4384-df05-495b21247d3b"
      },
      "source": [
        "mean, cov = [0, 1], [(1.0, 0.05), (0.05, 1.0)]\n",
        "data = np.random.multivariate_normal(mean, cov, 1000)\n",
        "m, b, r_value, p_value, std_err = stats.linregress(data[:,0], -1.0*data[:,1])\n",
        "plt.scatter(data[:,0], -1.0*data[:,1], c='b')\n",
        "plt.plot(data[:,0], m*data[:,0] + b)\n",
        "print(r_value)"
      ],
      "execution_count": 0,
      "outputs": [
        {
          "output_type": "stream",
          "text": [
            "-0.05924047838973153\n"
          ],
          "name": "stdout"
        },
        {
          "output_type": "display_data",
          "data": {
            "image/png": "[encoded data removed]",
            "text/plain": [
              "<Figure size 432x288 with 1 Axes>"
            ]
          },
          "metadata": {
            "tags": []
          }
        }
      ]
    },
    {
      "cell_type": "code",
      "metadata": {
        "id": "LUyS8wj2ABUB",
        "colab_type": "code",
        "colab": {}
      },
      "source": [
        ""
      ],
      "execution_count": 0,
      "outputs": []
    }
  ]
}