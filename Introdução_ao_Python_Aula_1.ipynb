{
  "nbformat": 4,
  "nbformat_minor": 0,
  "metadata": {
    "kernelspec": {
      "display_name": "Python 3",
      "language": "python",
      "name": "python3"
    },
    "language_info": {
      "codemirror_mode": {
        "name": "ipython",
        "version": 3
      },
      "file_extension": ".py",
      "mimetype": "text/x-python",
      "name": "python",
      "nbconvert_exporter": "python",
      "pygments_lexer": "ipython3",
      "version": "3.6.8"
    },
    "colab": {
      "name": "Introdução ao Python Aula 1.ipynb",
      "provenance": [],
      "include_colab_link": true
    }
  },
  "cells": [
    {
      "cell_type": "markdown",
      "metadata": {
        "id": "view-in-github",
        "colab_type": "text"
      },
      "source": [
        "<a href=\"https://colab.research.google.com/github/DomingosN/Material_Aprendizado_Maquina_TADS_U-_2020/blob/master/Introdu%C3%A7%C3%A3o_ao_Python_Aula_1.ipynb\" target=\"_parent\"><img src=\"https://colab.research.google.com/assets/colab-badge.svg\" alt=\"Open In Colab\"/></a>"
      ]
    },
    {
      "cell_type": "markdown",
      "metadata": {
        "id": "31kO6AN9vzdl",
        "colab_type": "text"
      },
      "source": [
        "## PARTE I - Introdução ao Python Aula 1"
      ]
    },
    {
      "cell_type": "markdown",
      "metadata": {
        "id": "1NgouLYHvzdm",
        "colab_type": "text"
      },
      "source": [
        "Bem vindo ao nosso curso de Python, nestas primeiras aulas não se pretende fazer um curso muito aprofundado mas apenas os primeiros recursos para que possamos  avançar no conteúdo de Aprendizado de Máquina. neste curso nós usares jupyter Notebooks, que constituem uma interface bastante útil para aprendermos, pois é possível incluir comentários imagens e outros recursos não disponíveis numa IDE normal.\n",
        "\n",
        "Em geral em ambiente de produção de softwares são usados programas especificos para a construção e edição de códigos, ao instalar o python você encontrará, além do Jupyter, uma IDE bem simples chamada IDLE e o SPYDER que é bem mais completo. Sugiro que você procure informar-se e conhecer outras IDEs caso esteja interessado em avançar no python.\n",
        "\n",
        "Os Jupyter é muito utilizado em Ciencia de dados e Aprendizado de Máquina, você verá que em muitas bibliotecas estão disponíveis exemplos de códigos muito bem comentados e ilustrados em python, que podem ser baisxados na documentaçãod as bibliotecas e do Git Hub.\n",
        "\n",
        "Portante esta será a nossa ferramenta neste curso. Mas você pode usar o Jupyter paenas para testar pequenos códigos vamso ver alguns exemplos. Coloque o cursor na célula e aperte SHIFT + ENTER:"
      ]
    },
    {
      "cell_type": "markdown",
      "metadata": {
        "id": "2xVASgtevzdo",
        "colab_type": "text"
      },
      "source": [
        "No usamos células, que poddm conter textos como este ou códigos, para definir que tipo de célula você deseja, basta selecionar uma célula e escolher no cabeçalho do Jupyter code para células de código e markdown para células de texo."
      ]
    },
    {
      "cell_type": "markdown",
      "metadata": {
        "id": "mbaN-RETvzdo",
        "colab_type": "text"
      },
      "source": [
        "Uma célula markdown pode conter texto estruturado, figuras, links para sites, etc... vamos ver o tipo de estrutura de texto\n",
        "\n",
        "# CABEÇALHO 1\n",
        "## CABEÇALHO 2\n",
        "### CABEÇALHO 3\n",
        "#### CABEÇALHO 4\n",
        "\n",
        "## Formatação de Texto\n",
        "\n",
        "texto normal\n",
        "**texto negrito**\n",
        "*texto italico*\n",
        "\n",
        "## Texto em Tópicos Numerados\n",
        "1. texto normal\n",
        "2. **texto negrito**\n",
        "3. *texto italico*\n",
        "\n",
        "## Texto em Tópicos\n",
        "\n",
        "- texto normal\n",
        "- **texto negrito**\n",
        "- *texto italico*\n",
        "\n",
        "## Paragrafos\n",
        "\n",
        "Primeira linha, coloque dois espaços no final.  \n",
        "Segunda linha,  não coloque dois espaços no final.\n",
        "Terceira linha. Veja o que acontece quando apertar SHIFT + ENTER"
      ]
    },
    {
      "cell_type": "markdown",
      "metadata": {
        "id": "dM4QIl7gvzdp",
        "colab_type": "text"
      },
      "source": [
        "## Algumas células de código"
      ]
    },
    {
      "cell_type": "code",
      "metadata": {
        "id": "CPI51JZLvzdq",
        "colab_type": "code",
        "colab": {
          "base_uri": "https://localhost:8080/",
          "height": 33
        },
        "outputId": "e93d9481-c13b-448e-99b2-33110083a815"
      },
      "source": [
        "2+3"
      ],
      "execution_count": 1,
      "outputs": [
        {
          "output_type": "execute_result",
          "data": {
            "text/plain": [
              "5"
            ]
          },
          "metadata": {
            "tags": []
          },
          "execution_count": 1
        }
      ]
    },
    {
      "cell_type": "code",
      "metadata": {
        "id": "RaIdQBPhvzdu",
        "colab_type": "code",
        "colab": {
          "base_uri": "https://localhost:8080/",
          "height": 33
        },
        "outputId": "88e82755-d7dc-44c4-f936-987f817fdff6"
      },
      "source": [
        "3>5"
      ],
      "execution_count": 2,
      "outputs": [
        {
          "output_type": "execute_result",
          "data": {
            "text/plain": [
              "False"
            ]
          },
          "metadata": {
            "tags": []
          },
          "execution_count": 2
        }
      ]
    },
    {
      "cell_type": "code",
      "metadata": {
        "id": "sGAZhTQbvzdz",
        "colab_type": "code",
        "colab": {
          "base_uri": "https://localhost:8080/",
          "height": 33
        },
        "outputId": "491d8b63-2242-465d-821e-80414cf2aaab"
      },
      "source": [
        "5>3"
      ],
      "execution_count": 3,
      "outputs": [
        {
          "output_type": "execute_result",
          "data": {
            "text/plain": [
              "True"
            ]
          },
          "metadata": {
            "tags": []
          },
          "execution_count": 3
        }
      ]
    },
    {
      "cell_type": "code",
      "metadata": {
        "id": "c_yyYKIXvzd2",
        "colab_type": "code",
        "colab": {
          "base_uri": "https://localhost:8080/",
          "height": 33
        },
        "outputId": "ebda773c-aa6b-4f05-882d-e032141fc6b8"
      },
      "source": [
        "(5>3)&(3>2)"
      ],
      "execution_count": 4,
      "outputs": [
        {
          "output_type": "execute_result",
          "data": {
            "text/plain": [
              "True"
            ]
          },
          "metadata": {
            "tags": []
          },
          "execution_count": 4
        }
      ]
    },
    {
      "cell_type": "code",
      "metadata": {
        "id": "BbLc4MbBvzd6",
        "colab_type": "code",
        "colab": {
          "base_uri": "https://localhost:8080/",
          "height": 33
        },
        "outputId": "5e660112-e513-4494-935e-cf068a4404e2"
      },
      "source": [
        "print(5>3)"
      ],
      "execution_count": 5,
      "outputs": [
        {
          "output_type": "stream",
          "text": [
            "True\n"
          ],
          "name": "stdout"
        }
      ]
    },
    {
      "cell_type": "code",
      "metadata": {
        "id": "wlPKFINrvzd9",
        "colab_type": "code",
        "colab": {
          "base_uri": "https://localhost:8080/",
          "height": 33
        },
        "outputId": "413f85dc-bb18-411c-b061-e27e29e5454e"
      },
      "source": [
        "print(3>2)"
      ],
      "execution_count": 6,
      "outputs": [
        {
          "output_type": "stream",
          "text": [
            "True\n"
          ],
          "name": "stdout"
        }
      ]
    },
    {
      "cell_type": "code",
      "metadata": {
        "id": "FRF82hBQvzeB",
        "colab_type": "code",
        "colab": {
          "base_uri": "https://localhost:8080/",
          "height": 50
        },
        "outputId": "24cdaf64-a3bb-4b5b-ae78-f0afdb470985"
      },
      "source": [
        "print(5>3);\n",
        "print(3>2)"
      ],
      "execution_count": 7,
      "outputs": [
        {
          "output_type": "stream",
          "text": [
            "True\n",
            "True\n"
          ],
          "name": "stdout"
        }
      ]
    },
    {
      "cell_type": "code",
      "metadata": {
        "id": "FPdAp7fZvzeF",
        "colab_type": "code",
        "colab": {
          "base_uri": "https://localhost:8080/",
          "height": 33
        },
        "outputId": "e6f96970-dfa3-428e-9d20-ccf3b42e6cdc"
      },
      "source": [
        "print((5>3)&(5<3))"
      ],
      "execution_count": 8,
      "outputs": [
        {
          "output_type": "stream",
          "text": [
            "False\n"
          ],
          "name": "stdout"
        }
      ]
    },
    {
      "cell_type": "code",
      "metadata": {
        "id": "6vckvBFJvzeI",
        "colab_type": "code",
        "colab": {
          "base_uri": "https://localhost:8080/",
          "height": 33
        },
        "outputId": "a29dbbb3-c3c1-4398-a958-ae7d93ada510"
      },
      "source": [
        "print('hello World')"
      ],
      "execution_count": 9,
      "outputs": [
        {
          "output_type": "stream",
          "text": [
            "hello World\n"
          ],
          "name": "stdout"
        }
      ]
    },
    {
      "cell_type": "code",
      "metadata": {
        "id": "yOlTZjoIvzeL",
        "colab_type": "code",
        "colab": {
          "base_uri": "https://localhost:8080/",
          "height": 33
        },
        "outputId": "937c738d-94f7-4717-d5d3-dfdbecc816b0"
      },
      "source": [
        "print('(5>3)&(5<3)')"
      ],
      "execution_count": 10,
      "outputs": [
        {
          "output_type": "stream",
          "text": [
            "(5>3)&(5<3)\n"
          ],
          "name": "stdout"
        }
      ]
    },
    {
      "cell_type": "markdown",
      "metadata": {
        "id": "j3vp6r9gvzeO",
        "colab_type": "text"
      },
      "source": [
        "### Comentários\n",
        "\n",
        "No python qunado queremos fazer comentários sobre partes de um texto temos que começas a linha com #"
      ]
    },
    {
      "cell_type": "code",
      "metadata": {
        "id": "ZjShaEUSvzeQ",
        "colab_type": "code",
        "colab": {
          "base_uri": "https://localhost:8080/",
          "height": 33
        },
        "outputId": "0a6e2878-c912-4623-c079-2a84c8737ec3"
      },
      "source": [
        "# Este é um comentário\n",
        "# Este também é um comentário\n",
        "# Este també é um comentário\n",
        "print((5>3)&(5<3))#Este print((5>3)&(5<3)) não é um comentário"
      ],
      "execution_count": 12,
      "outputs": [
        {
          "output_type": "stream",
          "text": [
            "False\n"
          ],
          "name": "stdout"
        }
      ]
    },
    {
      "cell_type": "markdown",
      "metadata": {
        "id": "VjCyj-4PvzeT",
        "colab_type": "text"
      },
      "source": [
        "### Entendendo Varíaveis e Operadores"
      ]
    },
    {
      "cell_type": "markdown",
      "metadata": {
        "id": "Krro2kllvzeU",
        "colab_type": "text"
      },
      "source": [
        "### O que são variáveis?\n",
        "Variáveis são nomes dados aos dados que precisamos armazenar e manipular em nossos programas.  \n",
        "Por exemplo, suponha que seu programa precise armazenar a idade de um usuário. Para fazer isso, podemos nomear esse dado com userAge e defina a variável userAge usando a seguinte instrução:  \n",
        "- userAge = 0 \n",
        "\n",
        "Depois de definir a variável userAge, seu programa alocará uma determinada área do espaço de armazenamento do seu computador para armazenar esses dados.  \n",
        "Você pode acessar e modificar esses dados consultando-os pelo nome, userAge.  \n",
        "Toda vez que você declara uma nova variável, você precisa fornecer um valor inicial.  \n",
        "Neste exemplo, atribuímos o valor 0. Sempre podemos alterar esse valor em nosso programa posteriormente.  \n",
        "Também podemos definir várias variáveis de uma só vez. Para fazer isso, basta escrever:\n",
        "- userAge, userName = 30, 'Peter' \n",
        "\n",
        "Isso é equivalente a  \n",
        "- userAge = 30\n",
        "- userName = 'Peter'"
      ]
    },
    {
      "cell_type": "code",
      "metadata": {
        "id": "6xvCPjmVvzeU",
        "colab_type": "code",
        "colab": {}
      },
      "source": [
        "userAge, userName = 30, 'Peter' "
      ],
      "execution_count": 0,
      "outputs": []
    },
    {
      "cell_type": "code",
      "metadata": {
        "id": "Zo6Q1ib6vzeW",
        "colab_type": "code",
        "colab": {},
        "outputId": "5db68a2a-af04-417a-c707-054f76fb5ebe"
      },
      "source": [
        "userAge"
      ],
      "execution_count": 0,
      "outputs": [
        {
          "output_type": "execute_result",
          "data": {
            "text/plain": [
              "30"
            ]
          },
          "metadata": {
            "tags": []
          },
          "execution_count": 13
        }
      ]
    },
    {
      "cell_type": "code",
      "metadata": {
        "id": "j5dU7z11vzeZ",
        "colab_type": "code",
        "colab": {},
        "outputId": "4ef73ee6-a886-4663-a5f2-219b317ffbba"
      },
      "source": [
        "userName"
      ],
      "execution_count": 0,
      "outputs": [
        {
          "output_type": "execute_result",
          "data": {
            "text/plain": [
              "'Peter'"
            ]
          },
          "metadata": {
            "tags": []
          },
          "execution_count": 14
        }
      ]
    },
    {
      "cell_type": "code",
      "metadata": {
        "id": "YQ3xoemQvzec",
        "colab_type": "code",
        "colab": {}
      },
      "source": [
        "userAge = 50;\n",
        "userName = 'Pedro'"
      ],
      "execution_count": 0,
      "outputs": []
    },
    {
      "cell_type": "code",
      "metadata": {
        "id": "zxv26e3Jvzef",
        "colab_type": "code",
        "colab": {},
        "outputId": "551c1392-d7f1-4db2-cb1d-c9c4986e3092"
      },
      "source": [
        "userAge"
      ],
      "execution_count": 0,
      "outputs": [
        {
          "output_type": "execute_result",
          "data": {
            "text/plain": [
              "50"
            ]
          },
          "metadata": {
            "tags": []
          },
          "execution_count": 16
        }
      ]
    },
    {
      "cell_type": "code",
      "metadata": {
        "id": "9NIbXny2vzei",
        "colab_type": "code",
        "colab": {},
        "outputId": "e509b155-50a6-42d5-dcc5-928b456fb7a4"
      },
      "source": [
        "userName"
      ],
      "execution_count": 0,
      "outputs": [
        {
          "output_type": "execute_result",
          "data": {
            "text/plain": [
              "'Pedro'"
            ]
          },
          "metadata": {
            "tags": []
          },
          "execution_count": 17
        }
      ]
    },
    {
      "cell_type": "code",
      "metadata": {
        "id": "fSwxOGQkvzek",
        "colab_type": "code",
        "colab": {},
        "outputId": "d28f0c80-871a-4bce-e428-dd63840ca033"
      },
      "source": [
        "print(userName,' ', userAge, ' anos')"
      ],
      "execution_count": 0,
      "outputs": [
        {
          "output_type": "stream",
          "text": [
            "Pedro   50  anos\n"
          ],
          "name": "stdout"
        }
      ]
    },
    {
      "cell_type": "code",
      "metadata": {
        "id": "AdZzRNIGvzem",
        "colab_type": "code",
        "colab": {},
        "outputId": "90f876fa-52b7-4139-8447-e36e04dbf38f"
      },
      "source": [
        "print('userName',' ', 'userAge', ' anos')"
      ],
      "execution_count": 0,
      "outputs": [
        {
          "output_type": "stream",
          "text": [
            "userName   userAge  anos\n"
          ],
          "name": "stdout"
        }
      ]
    },
    {
      "cell_type": "markdown",
      "metadata": {
        "id": "BUWpdjVXvzep",
        "colab_type": "text"
      },
      "source": [
        "## Nomeando uma variável\n",
        "Um nome de variável no Python pode conter apenas letras (a - z, A - B), números ou sublinhados (_).\n",
        "No entanto, o primeiro caractere não pode ser um número. Portanto, você pode nomear suas variáveis\n",
        "- nome_do_usuário,\n",
        "- nome_usuário ou\n",
        "- nome_do_usuário2\n",
        "- mas não 2userName. \n",
        "\n",
        "Além disso, existem algumas palavras reservadas que você não pode usar como nome de variável porque\n",
        "eles já têm significados pré-atribuídos em Python. Essas palavras reservadas incluem palavras como\n",
        "imprimir, inserir, se, enquanto etc. Nós aprenderemos sobre cada um deles nos capítulos seguintes.\n",
        "\n",
        "Finalmente, os nomes de variáveis ​​diferenciam maiúsculas de minúsculas. nome de usuário não é o mesmo que userName.\n",
        "Existem duas convenções ao nomear uma variável no Python. Nós podemos usar o camelo\n",
        "notação de caso ou use sublinhados.\n",
        "\n",
        "O Camel case é a prática de escrever palavras compostas com para definir o que será armazenado em uma varáivel (por exemplo, thisIsAVariableName).\n"
      ]
    },
    {
      "cell_type": "code",
      "metadata": {
        "id": "4ZeHc4bZvzep",
        "colab_type": "code",
        "colab": {}
      },
      "source": [
        "nome_do_usuário = 'Paulo'"
      ],
      "execution_count": 0,
      "outputs": []
    },
    {
      "cell_type": "code",
      "metadata": {
        "id": "lTTAfJ18vzes",
        "colab_type": "code",
        "colab": {
          "base_uri": "https://localhost:8080/",
          "height": 33
        },
        "outputId": "e1f3314c-684e-49a0-9d8f-7cd259a0c668"
      },
      "source": [
        "nome_do_usuário"
      ],
      "execution_count": 14,
      "outputs": [
        {
          "output_type": "execute_result",
          "data": {
            "text/plain": [
              "'Paulo'"
            ]
          },
          "metadata": {
            "tags": []
          },
          "execution_count": 14
        }
      ]
    },
    {
      "cell_type": "markdown",
      "metadata": {
        "id": "0GlRFkBKvzeu",
        "colab_type": "text"
      },
      "source": [
        "## O sinal de atribuição\n",
        "Observe que o sinal = na instrução userAge = 0 tem um significado diferente do sinal = que nós aprendemos em matemática. Na programação, o sinal = é conhecido como sinal de atribuição.  \n",
        "Significa que nós estão atribuindo o valor no lado direito do sinal = à variável à esquerda.  \n",
        "Uma boa maneira de entender que a instrução userAge = 0 é pensar nela como userAge <- 0.  \n",
        "As instruções x = y = x têm significados muito diferentes na programação.  \n",
        "**Confuso? Um exemplo provavelmente esclarecerá isso.**"
      ]
    },
    {
      "cell_type": "code",
      "metadata": {
        "id": "ZhyeNHFTvzeu",
        "colab_type": "code",
        "colab": {
          "base_uri": "https://localhost:8080/",
          "height": 50
        },
        "outputId": "71111ee7-3f3f-4978-d180-5648764599ae"
      },
      "source": [
        "x = 5\n",
        "y = 10\n",
        "x = y\n",
        "print (\"x = \", x)\n",
        "print (\"y = \", y)\n",
        "\n",
        "# Agora execute o programa e veja o resultado:"
      ],
      "execution_count": 16,
      "outputs": [
        {
          "output_type": "stream",
          "text": [
            "x =  10\n",
            "y =  10\n"
          ],
          "name": "stdout"
        }
      ]
    },
    {
      "cell_type": "markdown",
      "metadata": {
        "id": "ATjMo-48vzex",
        "colab_type": "text"
      },
      "source": [
        "Embora x tenha um valor inicial de 5 (declarado na primeira linha), a terceira linha x = y atribui o valor de y a x (x <- y), alterando o valor de x para 10 enquanto o valor de y permanece inalterado.  \n",
        "Em seguida, modifique o programa alterando apenas uma instrução: Altere a terceira linha de x = y para y = x.  Matematicamente, x = y = y significam a mesma coisa. No entanto, isso não acontece na programação.\n",
        "Execute a célula a seguir e veja o que muda."
      ]
    },
    {
      "cell_type": "code",
      "metadata": {
        "id": "DtuZJ0BZvzex",
        "colab_type": "code",
        "colab": {
          "base_uri": "https://localhost:8080/",
          "height": 50
        },
        "outputId": "e213f043-753b-42dc-9760-3bacc506029a"
      },
      "source": [
        "x = 5\n",
        "y = 10\n",
        "y = x\n",
        "print (\"x = \", x)\n",
        "print (\"y = \", y)\n",
        "\n",
        "# Agora execute o programa e veja o resultado:"
      ],
      "execution_count": 18,
      "outputs": [
        {
          "output_type": "stream",
          "text": [
            "x =  5\n",
            "y =  5\n"
          ],
          "name": "stdout"
        }
      ]
    },
    {
      "cell_type": "markdown",
      "metadata": {
        "id": "G_S1kDDqvze1",
        "colab_type": "text"
      },
      "source": [
        "Você pode ver que, neste exemplo, o valor de x permanece como 5, mas o valor de y é alterado para 5.\n",
        "Isso ocorre porque a instrução y = x atribui o valor de x a y (y <- x). y se torna 5 enquanto x permanece inalterado como 5."
      ]
    },
    {
      "cell_type": "markdown",
      "metadata": {
        "id": "tXD2hzlcvze2",
        "colab_type": "text"
      },
      "source": [
        "## Operadores básicos\n",
        "Além de atribuir uma variável a um valor inicial, também podemos executar as operações matemáticas usuais nas variáveis. Os operadores básicos no Python incluem +, -, *, /, //,% e ** ** , que representam adição, subtração, multiplicação, divisão, divisão de piso, módulo e expoente, respectivamente.\n",
        "Exemplo:\n",
        "Suponha que x = 5, y = 2\n",
        "- Adição: x + y = 7\n",
        "- Subtração: x - y = 3\n",
        "- Multiplicação: x * y = 10\n",
        "- Divisão: x / a\n",
        "- Divisão inteira: x // y = 2 (arredonda a resposta para o número inteiro mais próximo)\n",
        "- Módulo: x% y = 1 (fornece o restante quando 5 é dividido por 2)\n",
        "- Expoente: x ** y = 25 (5 à potência de 2)"
      ]
    },
    {
      "cell_type": "code",
      "metadata": {
        "id": "HlkQD7jRvze2",
        "colab_type": "code",
        "colab": {}
      },
      "source": [
        "x = 5;\n",
        "y = 2"
      ],
      "execution_count": 0,
      "outputs": []
    },
    {
      "cell_type": "code",
      "metadata": {
        "id": "36KAWDbuvze4",
        "colab_type": "code",
        "colab": {
          "base_uri": "https://localhost:8080/",
          "height": 33
        },
        "outputId": "9ca34884-7a94-440f-ecc4-f25e6821759c"
      },
      "source": [
        "x+y"
      ],
      "execution_count": 20,
      "outputs": [
        {
          "output_type": "execute_result",
          "data": {
            "text/plain": [
              "7"
            ]
          },
          "metadata": {
            "tags": []
          },
          "execution_count": 20
        }
      ]
    },
    {
      "cell_type": "code",
      "metadata": {
        "id": "Kx-rhJ_8vze8",
        "colab_type": "code",
        "colab": {
          "base_uri": "https://localhost:8080/",
          "height": 33
        },
        "outputId": "989be38d-5e21-4908-c18b-2e31374b559e"
      },
      "source": [
        "x-y"
      ],
      "execution_count": 21,
      "outputs": [
        {
          "output_type": "execute_result",
          "data": {
            "text/plain": [
              "3"
            ]
          },
          "metadata": {
            "tags": []
          },
          "execution_count": 21
        }
      ]
    },
    {
      "cell_type": "code",
      "metadata": {
        "id": "xbTehRnWvze_",
        "colab_type": "code",
        "colab": {
          "base_uri": "https://localhost:8080/",
          "height": 33
        },
        "outputId": "3ae62a0e-f152-478a-cc80-c541019b61b9"
      },
      "source": [
        "x*y"
      ],
      "execution_count": 22,
      "outputs": [
        {
          "output_type": "execute_result",
          "data": {
            "text/plain": [
              "10"
            ]
          },
          "metadata": {
            "tags": []
          },
          "execution_count": 22
        }
      ]
    },
    {
      "cell_type": "code",
      "metadata": {
        "id": "PCa0lXAHvzfB",
        "colab_type": "code",
        "colab": {
          "base_uri": "https://localhost:8080/",
          "height": 33
        },
        "outputId": "014b47fd-96b8-4968-ae98-26f8e6f0dd6c"
      },
      "source": [
        "x/y"
      ],
      "execution_count": 23,
      "outputs": [
        {
          "output_type": "execute_result",
          "data": {
            "text/plain": [
              "2.5"
            ]
          },
          "metadata": {
            "tags": []
          },
          "execution_count": 23
        }
      ]
    },
    {
      "cell_type": "code",
      "metadata": {
        "id": "-Wp88u4XvzfE",
        "colab_type": "code",
        "colab": {
          "base_uri": "https://localhost:8080/",
          "height": 33
        },
        "outputId": "767325ca-5f93-42d4-949e-e42978e5e36a"
      },
      "source": [
        "x//y"
      ],
      "execution_count": 24,
      "outputs": [
        {
          "output_type": "execute_result",
          "data": {
            "text/plain": [
              "2"
            ]
          },
          "metadata": {
            "tags": []
          },
          "execution_count": 24
        }
      ]
    },
    {
      "cell_type": "code",
      "metadata": {
        "id": "EVWaz3eNvzfG",
        "colab_type": "code",
        "colab": {
          "base_uri": "https://localhost:8080/",
          "height": 33
        },
        "outputId": "fd242a5e-0ed0-4844-f4fd-b21c2f78aab4"
      },
      "source": [
        "x%y"
      ],
      "execution_count": 27,
      "outputs": [
        {
          "output_type": "execute_result",
          "data": {
            "text/plain": [
              "1"
            ]
          },
          "metadata": {
            "tags": []
          },
          "execution_count": 27
        }
      ]
    },
    {
      "cell_type": "code",
      "metadata": {
        "id": "T_XQc_LHvzfJ",
        "colab_type": "code",
        "colab": {
          "base_uri": "https://localhost:8080/",
          "height": 33
        },
        "outputId": "244822f0-8df5-4895-c5ca-939ebc1ff750"
      },
      "source": [
        "x%y"
      ],
      "execution_count": 28,
      "outputs": [
        {
          "output_type": "execute_result",
          "data": {
            "text/plain": [
              "1"
            ]
          },
          "metadata": {
            "tags": []
          },
          "execution_count": 28
        }
      ]
    },
    {
      "cell_type": "code",
      "metadata": {
        "id": "BLKd6y66vzfM",
        "colab_type": "code",
        "colab": {
          "base_uri": "https://localhost:8080/",
          "height": 33
        },
        "outputId": "30267ecf-32b1-43af-936d-3b155beb0f1c"
      },
      "source": [
        "x**y"
      ],
      "execution_count": 29,
      "outputs": [
        {
          "output_type": "execute_result",
          "data": {
            "text/plain": [
              "25"
            ]
          },
          "metadata": {
            "tags": []
          },
          "execution_count": 29
        }
      ]
    },
    {
      "cell_type": "markdown",
      "metadata": {
        "id": "igjtzNSkvzfO",
        "colab_type": "text"
      },
      "source": [
        "## Mais operadores de atribuição\n",
        "Além do sinal =, existem mais alguns operadores de atribuição no Python (e na maioria das linguagens de programação). Isso inclui operadores como + =, - = e * =. Suponha que tenhamos a variável x, com um valor inicial de 10. Se quisermos aumentar x em 2, podemos escrever:\n",
        "  - x = x + 2\n",
        "O programa primeiro avaliará a expressão à direita (x + 2) e atribuirá a resposta à esquerda. Então, eventualmente, a afirmação acima se torna x <- 12.\n",
        "\n",
        "Em vez de escrever x = x + 2, também podemos escrever x + = 2 para expressar o mesmo significado.\n",
        "\n",
        "O sinal + = é na verdade uma abreviação que combina o sinal de atribuição com o operador de adição.\n",
        "\n",
        "Portanto, x + = 2 significa simplesmente x = x + 2.\n",
        "\n",
        "Da mesma forma, se quisermos fazer uma subtração, podemos escrever x = x - 2 ou x - = 2. O mesmo funciona para todos os 7 operadores mencionados na seção acima."
      ]
    },
    {
      "cell_type": "code",
      "metadata": {
        "id": "xx7Qr7PdvzfO",
        "colab_type": "code",
        "colab": {}
      },
      "source": [
        "x = 5"
      ],
      "execution_count": 0,
      "outputs": []
    },
    {
      "cell_type": "code",
      "metadata": {
        "id": "CCttViWtvzfQ",
        "colab_type": "code",
        "colab": {
          "base_uri": "https://localhost:8080/",
          "height": 33
        },
        "outputId": "c2e176f4-5d04-4f5f-e12b-bb002360049e"
      },
      "source": [
        "x = x + 2;\n",
        "x"
      ],
      "execution_count": 37,
      "outputs": [
        {
          "output_type": "execute_result",
          "data": {
            "text/plain": [
              "7"
            ]
          },
          "metadata": {
            "tags": []
          },
          "execution_count": 37
        }
      ]
    },
    {
      "cell_type": "code",
      "metadata": {
        "id": "Ub7S38u1vzfT",
        "colab_type": "code",
        "colab": {
          "base_uri": "https://localhost:8080/",
          "height": 33
        },
        "outputId": "df602db7-0067-4fe7-b575-5f5169aba2bd"
      },
      "source": [
        "x = x + 2;\n",
        "x"
      ],
      "execution_count": 38,
      "outputs": [
        {
          "output_type": "execute_result",
          "data": {
            "text/plain": [
              "9"
            ]
          },
          "metadata": {
            "tags": []
          },
          "execution_count": 38
        }
      ]
    },
    {
      "cell_type": "code",
      "metadata": {
        "id": "IkFsvlTnvzfV",
        "colab_type": "code",
        "colab": {
          "base_uri": "https://localhost:8080/",
          "height": 33
        },
        "outputId": "7a6651e2-b754-43ec-cac8-b2b1423a29d5"
      },
      "source": [
        "x = x-2;\n",
        "x"
      ],
      "execution_count": 39,
      "outputs": [
        {
          "output_type": "execute_result",
          "data": {
            "text/plain": [
              "7"
            ]
          },
          "metadata": {
            "tags": []
          },
          "execution_count": 39
        }
      ]
    },
    {
      "cell_type": "code",
      "metadata": {
        "id": "kYQ-0yjBvzfY",
        "colab_type": "code",
        "colab": {
          "base_uri": "https://localhost:8080/",
          "height": 33
        },
        "outputId": "4a5d5500-61ae-4fc6-8fba-03381deee0c7"
      },
      "source": [
        "x+=2;\n",
        "x"
      ],
      "execution_count": 42,
      "outputs": [
        {
          "output_type": "execute_result",
          "data": {
            "text/plain": [
              "13"
            ]
          },
          "metadata": {
            "tags": []
          },
          "execution_count": 42
        }
      ]
    },
    {
      "cell_type": "markdown",
      "metadata": {
        "id": "hgwvKYrovzfc",
        "colab_type": "text"
      },
      "source": [
        "## Operadores de Comparação\n",
        "\n",
        "São usados quando queremos comparar dois numeros. Os operadores de comparação são:\n",
        "- '==' igual \n",
        "- '>' maior\n",
        "- '<' menor\n",
        "- '>=' maior igual\n",
        "- '<=' menor igual\n",
        "- '!=' diferente"
      ]
    },
    {
      "cell_type": "code",
      "metadata": {
        "id": "lZ6Il1aFvzfd",
        "colab_type": "code",
        "colab": {
          "base_uri": "https://localhost:8080/",
          "height": 33
        },
        "outputId": "b6a0b65f-eb90-43b3-f666-a4c377e7f294"
      },
      "source": [
        "5 == 5"
      ],
      "execution_count": 43,
      "outputs": [
        {
          "output_type": "execute_result",
          "data": {
            "text/plain": [
              "True"
            ]
          },
          "metadata": {
            "tags": []
          },
          "execution_count": 43
        }
      ]
    },
    {
      "cell_type": "code",
      "metadata": {
        "id": "8-C5vrvdvzfg",
        "colab_type": "code",
        "colab": {
          "base_uri": "https://localhost:8080/",
          "height": 33
        },
        "outputId": "ec64c2dc-b4eb-4f0b-f267-31b155b14bb1"
      },
      "source": [
        "5 == 10"
      ],
      "execution_count": 44,
      "outputs": [
        {
          "output_type": "execute_result",
          "data": {
            "text/plain": [
              "False"
            ]
          },
          "metadata": {
            "tags": []
          },
          "execution_count": 44
        }
      ]
    },
    {
      "cell_type": "code",
      "metadata": {
        "id": "5vUxamNwvzfl",
        "colab_type": "code",
        "colab": {
          "base_uri": "https://localhost:8080/",
          "height": 33
        },
        "outputId": "83fa1270-e49d-4af2-ab17-9d832487b5c3"
      },
      "source": [
        "5 != 10"
      ],
      "execution_count": 45,
      "outputs": [
        {
          "output_type": "execute_result",
          "data": {
            "text/plain": [
              "True"
            ]
          },
          "metadata": {
            "tags": []
          },
          "execution_count": 45
        }
      ]
    },
    {
      "cell_type": "code",
      "metadata": {
        "id": "XbtQdl-bvzfo",
        "colab_type": "code",
        "colab": {
          "base_uri": "https://localhost:8080/",
          "height": 33
        },
        "outputId": "cf903970-4400-44af-d163-93c171dc6735"
      },
      "source": [
        "5 >= 10"
      ],
      "execution_count": 46,
      "outputs": [
        {
          "output_type": "execute_result",
          "data": {
            "text/plain": [
              "False"
            ]
          },
          "metadata": {
            "tags": []
          },
          "execution_count": 46
        }
      ]
    },
    {
      "cell_type": "code",
      "metadata": {
        "id": "-U7SXwiQvzfr",
        "colab_type": "code",
        "colab": {
          "base_uri": "https://localhost:8080/",
          "height": 33
        },
        "outputId": "a9ca5a4d-0221-4efe-f6fc-d74b03db422b"
      },
      "source": [
        "5 <= 10"
      ],
      "execution_count": 47,
      "outputs": [
        {
          "output_type": "execute_result",
          "data": {
            "text/plain": [
              "True"
            ]
          },
          "metadata": {
            "tags": []
          },
          "execution_count": 47
        }
      ]
    },
    {
      "cell_type": "markdown",
      "metadata": {
        "id": "JXRutmtrvzfu",
        "colab_type": "text"
      },
      "source": [
        "### Conectivos Lógicos\n",
        "\n",
        "Outro tipo de operador importante são os conectivos por meio deles podemos realizar testes lógicos simultaneamente, esses operadores são:\n",
        "\n",
        "- Negação ~\n",
        "- Conjução & ou AND\n",
        "- Disjunção | ou OR\n",
        "\n",
        "Vamos imaginar que desejamos saber se o conteudo da variável idadeUsuario é maior do que sessenta anos"
      ]
    },
    {
      "cell_type": "code",
      "metadata": {
        "id": "m8qwDmurvzfu",
        "colab_type": "code",
        "colab": {}
      },
      "source": [
        "idadeUsuario = 65"
      ],
      "execution_count": 0,
      "outputs": []
    },
    {
      "cell_type": "code",
      "metadata": {
        "id": "YYBIzjqXvzfw",
        "colab_type": "code",
        "colab": {
          "base_uri": "https://localhost:8080/",
          "height": 33
        },
        "outputId": "050d9187-6054-4bda-aec5-928fce46c32d"
      },
      "source": [
        "idadeUsuario > 60"
      ],
      "execution_count": 49,
      "outputs": [
        {
          "output_type": "execute_result",
          "data": {
            "text/plain": [
              "True"
            ]
          },
          "metadata": {
            "tags": []
          },
          "execution_count": 49
        }
      ]
    },
    {
      "cell_type": "markdown",
      "metadata": {
        "id": "U_AIznBnvzfz",
        "colab_type": "text"
      },
      "source": [
        "Esse é um teste bem simples, mas imagine que temos que verificar se a idade do usário está entre 60 e 70 anos, o teste seria assim:"
      ]
    },
    {
      "cell_type": "code",
      "metadata": {
        "id": "44CQentevzfz",
        "colab_type": "code",
        "colab": {
          "base_uri": "https://localhost:8080/",
          "height": 33
        },
        "outputId": "f580093a-78c0-4671-b418-31c1b4526174"
      },
      "source": [
        "(idadeUsuario > 60) & (idadeUsuario< 70)"
      ],
      "execution_count": 51,
      "outputs": [
        {
          "output_type": "execute_result",
          "data": {
            "text/plain": [
              "True"
            ]
          },
          "metadata": {
            "tags": []
          },
          "execution_count": 51
        }
      ]
    },
    {
      "cell_type": "code",
      "metadata": {
        "id": "MbYtzyy-vzf1",
        "colab_type": "code",
        "colab": {}
      },
      "source": [
        "idadeUsuario = 75"
      ],
      "execution_count": 0,
      "outputs": []
    },
    {
      "cell_type": "code",
      "metadata": {
        "id": "V1yvw70nvzf3",
        "colab_type": "code",
        "colab": {
          "base_uri": "https://localhost:8080/",
          "height": 33
        },
        "outputId": "42890f0f-8538-4e14-c0ac-3420f3e10fd2"
      },
      "source": [
        "(idadeUsuario > 60) & (idadeUsuario< 70)"
      ],
      "execution_count": 53,
      "outputs": [
        {
          "output_type": "execute_result",
          "data": {
            "text/plain": [
              "False"
            ]
          },
          "metadata": {
            "tags": []
          },
          "execution_count": 53
        }
      ]
    },
    {
      "cell_type": "markdown",
      "metadata": {
        "id": "GsgdxRyxvzf5",
        "colab_type": "text"
      },
      "source": [
        "Além do operador & em python podemos representar a conjunção pelo comando and"
      ]
    },
    {
      "cell_type": "code",
      "metadata": {
        "id": "EFRn76Rxvzf5",
        "colab_type": "code",
        "colab": {
          "base_uri": "https://localhost:8080/",
          "height": 33
        },
        "outputId": "9fa54800-2068-4ada-98f2-5712193538d0"
      },
      "source": [
        "(idadeUsuario > 60) and (idadeUsuario< 75) # não esqueção dos parenteses"
      ],
      "execution_count": 54,
      "outputs": [
        {
          "output_type": "execute_result",
          "data": {
            "text/plain": [
              "False"
            ]
          },
          "metadata": {
            "tags": []
          },
          "execution_count": 54
        }
      ]
    },
    {
      "cell_type": "markdown",
      "metadata": {
        "id": "N78lTsj3vzf8",
        "colab_type": "text"
      },
      "source": [
        "Agora vamos testar se a idade do usuário está fora do intervalo 60 e 70 anos e podemos usar o operador OR"
      ]
    },
    {
      "cell_type": "code",
      "metadata": {
        "id": "Lt8ig-p2vzf_",
        "colab_type": "code",
        "colab": {
          "base_uri": "https://localhost:8080/",
          "height": 33
        },
        "outputId": "a5d9f602-a54d-4b02-eb66-573ba1bf36c2"
      },
      "source": [
        "(idadeUsuario < 60) or (idadeUsuario > 70)"
      ],
      "execution_count": 55,
      "outputs": [
        {
          "output_type": "execute_result",
          "data": {
            "text/plain": [
              "True"
            ]
          },
          "metadata": {
            "tags": []
          },
          "execution_count": 55
        }
      ]
    },
    {
      "cell_type": "markdown",
      "metadata": {
        "id": "rSUtEdXNvzgE",
        "colab_type": "text"
      },
      "source": [
        "Agora vamos colocar uma nova varáivel que é o nome do usuário, vamos testar s eo nome dele é João e se a idade dele está entre 60 e 70 anos"
      ]
    },
    {
      "cell_type": "code",
      "metadata": {
        "id": "7kECUfBnvzgF",
        "colab_type": "code",
        "colab": {}
      },
      "source": [
        "nomeUsuario = 'João'\n",
        "idadeUsuario = 63"
      ],
      "execution_count": 0,
      "outputs": []
    },
    {
      "cell_type": "code",
      "metadata": {
        "id": "2rM6UvV-vzgK",
        "colab_type": "code",
        "colab": {
          "base_uri": "https://localhost:8080/",
          "height": 33
        },
        "outputId": "cb5760bd-0818-4dfd-bf1e-e9c472c5a0c6"
      },
      "source": [
        "(idadeUsuario > 60) & (idadeUsuario< 70) & (nomeUsuario == 'José')"
      ],
      "execution_count": 57,
      "outputs": [
        {
          "output_type": "execute_result",
          "data": {
            "text/plain": [
              "False"
            ]
          },
          "metadata": {
            "tags": []
          },
          "execution_count": 57
        }
      ]
    },
    {
      "cell_type": "code",
      "metadata": {
        "id": "7HDCnvEmvzgN",
        "colab_type": "code",
        "colab": {
          "base_uri": "https://localhost:8080/",
          "height": 33
        },
        "outputId": "f7a218d9-7297-49fb-e723-a7c9fd9039b3"
      },
      "source": [
        "(idadeUsuario > 60) & (idadeUsuario< 70) | (nomeUsuario == 'José')"
      ],
      "execution_count": 58,
      "outputs": [
        {
          "output_type": "execute_result",
          "data": {
            "text/plain": [
              "True"
            ]
          },
          "metadata": {
            "tags": []
          },
          "execution_count": 58
        }
      ]
    },
    {
      "cell_type": "code",
      "metadata": {
        "id": "2w1Y4NL2vzgR",
        "colab_type": "code",
        "colab": {
          "base_uri": "https://localhost:8080/",
          "height": 33
        },
        "outputId": "80c8cc08-8e56-451d-a63f-ef6d684a8a71"
      },
      "source": [
        "(idadeUsuario > 60) & (idadeUsuario< 62) & (nomeUsuario == 'João')"
      ],
      "execution_count": 59,
      "outputs": [
        {
          "output_type": "execute_result",
          "data": {
            "text/plain": [
              "False"
            ]
          },
          "metadata": {
            "tags": []
          },
          "execution_count": 59
        }
      ]
    },
    {
      "cell_type": "code",
      "metadata": {
        "id": "YrEpAWTQvzgS",
        "colab_type": "code",
        "colab": {
          "base_uri": "https://localhost:8080/",
          "height": 33
        },
        "outputId": "c3ea4058-a2f4-4b9f-f152-d7520028e8ee"
      },
      "source": [
        "(idadeUsuario > 60) & (idadeUsuario< 62) | (nomeUsuario == 'João')"
      ],
      "execution_count": 60,
      "outputs": [
        {
          "output_type": "execute_result",
          "data": {
            "text/plain": [
              "True"
            ]
          },
          "metadata": {
            "tags": []
          },
          "execution_count": 60
        }
      ]
    },
    {
      "cell_type": "markdown",
      "metadata": {
        "id": "syWf3LIsvzgU",
        "colab_type": "text"
      },
      "source": [
        "Esse tipo de teste lógico pode ser aplicado em garndes coleções de dados, imagine que voê precisa buscar em todo o sistema do INSS todos os aposentados com nome João e idade entre 60 e 62 anos. Este tipo de teste lógico é executado com operações binárias, que são masi rápidas, por isso quase todas as linguagens possuem esse tipo de sintaxe.  \n",
        "Mais a frente iremos tratar de listas e dicionários que são coleções e é muito comum que seja necessário realizar buscas nestas coleções, atendendo testes lógicos."
      ]
    },
    {
      "cell_type": "markdown",
      "metadata": {
        "id": "EwcelKuUvzgU",
        "colab_type": "text"
      },
      "source": [
        "## Parte II - Data Types em Python\n",
        "\n",
        "Nesta parte, veremos primeiro alguns tipos de dados básicos em Python, especificamente o número inteiro, float e string. A seguir, exploraremos o conceito de conversão de tipo. Por fim, discutiremos três tipos de dados mais avançados no Python: lista, tupla e dicionário."
      ]
    },
    {
      "cell_type": "markdown",
      "metadata": {
        "id": "e1h1ZbodvzgU",
        "colab_type": "text"
      },
      "source": [
        "### Inteiros\n",
        "Inteiros são números sem partes decimais, como -5, -4, -3, 0, 5, 7 etc.\n",
        "Para declarar um número inteiro em Python, basta escrever variableName = valor inicial\n",
        "Exemplo:\n",
        "idadeUsauario = 20, numeroCelular = 12398724"
      ]
    },
    {
      "cell_type": "code",
      "metadata": {
        "id": "x_PMpU1GvzgV",
        "colab_type": "code",
        "colab": {}
      },
      "source": [
        "idadeUsuario = 20"
      ],
      "execution_count": 0,
      "outputs": []
    },
    {
      "cell_type": "code",
      "metadata": {
        "id": "dKeYblKwvzgZ",
        "colab_type": "code",
        "colab": {}
      },
      "source": [
        "numeroCelular = 12398724"
      ],
      "execution_count": 0,
      "outputs": []
    },
    {
      "cell_type": "code",
      "metadata": {
        "id": "35OuU798vzge",
        "colab_type": "code",
        "colab": {
          "base_uri": "https://localhost:8080/",
          "height": 33
        },
        "outputId": "1eb0c0f7-d98d-4ae7-9b99-a6e6898eae13"
      },
      "source": [
        "idadeUsuario"
      ],
      "execution_count": 66,
      "outputs": [
        {
          "output_type": "execute_result",
          "data": {
            "text/plain": [
              "20"
            ]
          },
          "metadata": {
            "tags": []
          },
          "execution_count": 66
        }
      ]
    },
    {
      "cell_type": "code",
      "metadata": {
        "id": "4lfWBkLgvzgg",
        "colab_type": "code",
        "colab": {
          "base_uri": "https://localhost:8080/",
          "height": 33
        },
        "outputId": "d1d670bc-4526-49ff-914b-50e4ac8d19da"
      },
      "source": [
        "numeroCelular"
      ],
      "execution_count": 67,
      "outputs": [
        {
          "output_type": "execute_result",
          "data": {
            "text/plain": [
              "12398724"
            ]
          },
          "metadata": {
            "tags": []
          },
          "execution_count": 67
        }
      ]
    },
    {
      "cell_type": "markdown",
      "metadata": {
        "id": "JVePIU4evzgi",
        "colab_type": "text"
      },
      "source": [
        "### Float\n",
        "Flutuante ou Float, refere-se a números que possuem casas decimais, como 1,234, -0,023, 12,01.\n",
        "Para declarar um float em Python, escrevemos variableName = valor inicial  \n",
        "Exemplo:  \n",
        "alturaUsuario = 1.82, pesoUsuario = 67.2"
      ]
    },
    {
      "cell_type": "code",
      "metadata": {
        "id": "3aexrWRJvzgi",
        "colab_type": "code",
        "colab": {}
      },
      "source": [
        "alturaUsuario = 1.82"
      ],
      "execution_count": 0,
      "outputs": []
    },
    {
      "cell_type": "code",
      "metadata": {
        "id": "SaP8vubuvzgk",
        "colab_type": "code",
        "colab": {}
      },
      "source": [
        "pesoUsuario = 67.2"
      ],
      "execution_count": 0,
      "outputs": []
    },
    {
      "cell_type": "code",
      "metadata": {
        "id": "5HXTSPc_vzgl",
        "colab_type": "code",
        "colab": {
          "base_uri": "https://localhost:8080/",
          "height": 33
        },
        "outputId": "7d6ed38a-bbcd-4a09-c788-e832c1610b8e"
      },
      "source": [
        "alturaUsuario"
      ],
      "execution_count": 70,
      "outputs": [
        {
          "output_type": "execute_result",
          "data": {
            "text/plain": [
              "1.82"
            ]
          },
          "metadata": {
            "tags": []
          },
          "execution_count": 70
        }
      ]
    },
    {
      "cell_type": "code",
      "metadata": {
        "id": "n2gnOazOvzgn",
        "colab_type": "code",
        "colab": {
          "base_uri": "https://localhost:8080/",
          "height": 33
        },
        "outputId": "1a6f5255-b963-40a7-ef79-0912432babf3"
      },
      "source": [
        "pesoUsuario"
      ],
      "execution_count": 71,
      "outputs": [
        {
          "output_type": "execute_result",
          "data": {
            "text/plain": [
              "67.2"
            ]
          },
          "metadata": {
            "tags": []
          },
          "execution_count": 71
        }
      ]
    },
    {
      "cell_type": "markdown",
      "metadata": {
        "id": "52Gc-JEOvzgo",
        "colab_type": "text"
      },
      "source": [
        "Observer que usa-se **ponto** e não **virgula**, se você usa-se virgulas as varáiveis seriam entendidas como dois numeros inteiros"
      ]
    },
    {
      "cell_type": "code",
      "metadata": {
        "id": "xm_Zaq9Ivzgp",
        "colab_type": "code",
        "colab": {}
      },
      "source": [
        "alturaUsuario = 1,82\n",
        "pesoUsuario = 67,2"
      ],
      "execution_count": 0,
      "outputs": []
    },
    {
      "cell_type": "code",
      "metadata": {
        "id": "E5iOeyOnvzgr",
        "colab_type": "code",
        "colab": {
          "base_uri": "https://localhost:8080/",
          "height": 33
        },
        "outputId": "96d19fc0-6565-4ceb-9392-ef787f734bb9"
      },
      "source": [
        "alturaUsuario"
      ],
      "execution_count": 73,
      "outputs": [
        {
          "output_type": "execute_result",
          "data": {
            "text/plain": [
              "(1, 82)"
            ]
          },
          "metadata": {
            "tags": []
          },
          "execution_count": 73
        }
      ]
    },
    {
      "cell_type": "code",
      "metadata": {
        "id": "JtC4SF8gvzgt",
        "colab_type": "code",
        "colab": {
          "base_uri": "https://localhost:8080/",
          "height": 33
        },
        "outputId": "1c1bb9ee-1def-4f1a-e726-264fa745eb80"
      },
      "source": [
        "pesoUsuario"
      ],
      "execution_count": 74,
      "outputs": [
        {
          "output_type": "execute_result",
          "data": {
            "text/plain": [
              "(67, 2)"
            ]
          },
          "metadata": {
            "tags": []
          },
          "execution_count": 74
        }
      ]
    },
    {
      "cell_type": "markdown",
      "metadata": {
        "id": "DEz2IITHvzgu",
        "colab_type": "text"
      },
      "source": [
        "## String\n",
        "String refere-se ao texto.\n",
        "Para declarar uma sequência, você pode usar variableName = 'valor inicial' (aspas simples) ou variableName = \"valor inicial\" (aspas duplas)  \n",
        "Exemplo:  \n",
        "userName = \"Peter\",  \n",
        "userSpouseName = \"Janet\",  \n",
        "userAge = '30'  \n",
        "No último exemplo, porque escrevemos userAge = '30', userAge é uma string.  \n",
        "Por outro lado, se você escreveu userAge = 30 (sem aspas), userAge é um número inteiro.  \n",
        "Podemos combinar várias substrings usando o sinal de concatenação (+).  \n",
        "Por exemplo, \"Peter\" + \"Lee\" é equivalente à string \"PeterLee\"."
      ]
    },
    {
      "cell_type": "code",
      "metadata": {
        "id": "FKeQtXscvzgx",
        "colab_type": "code",
        "colab": {}
      },
      "source": [
        "userName = \"Peter\";\n",
        "userSpouseName = \"Janet\";\n",
        "userAge = '30'"
      ],
      "execution_count": 0,
      "outputs": []
    },
    {
      "cell_type": "code",
      "metadata": {
        "id": "1npIlRx5vzgy",
        "colab_type": "code",
        "colab": {
          "base_uri": "https://localhost:8080/",
          "height": 33
        },
        "outputId": "6d7bb5f3-2425-43bd-cf4b-6fca7cfa1f55"
      },
      "source": [
        "userName+userSpouseName+userAge"
      ],
      "execution_count": 76,
      "outputs": [
        {
          "output_type": "execute_result",
          "data": {
            "text/plain": [
              "'PeterJanet30'"
            ]
          },
          "metadata": {
            "tags": []
          },
          "execution_count": 76
        }
      ]
    },
    {
      "cell_type": "code",
      "metadata": {
        "id": "Xc5cpPqmvzg0",
        "colab_type": "code",
        "colab": {
          "base_uri": "https://localhost:8080/",
          "height": 33
        },
        "outputId": "c654bf79-b2ef-44a5-aa67-3b15fa23c2fa"
      },
      "source": [
        "'A esposa de '+userName+' se chama '+userSpouseName+' e tem '+userName+' anos.'"
      ],
      "execution_count": 77,
      "outputs": [
        {
          "output_type": "execute_result",
          "data": {
            "text/plain": [
              "'A esposa de Peter se chama Janet e tem Peter anos.'"
            ]
          },
          "metadata": {
            "tags": []
          },
          "execution_count": 77
        }
      ]
    },
    {
      "cell_type": "code",
      "metadata": {
        "id": "YGIdXlPAvzg2",
        "colab_type": "code",
        "colab": {}
      },
      "source": [
        "userName = \"Paul\";\n",
        "userSpouseName = \"Carla\";\n",
        "userAge = '23'"
      ],
      "execution_count": 0,
      "outputs": []
    },
    {
      "cell_type": "code",
      "metadata": {
        "id": "CHa6bgJyvzg3",
        "colab_type": "code",
        "colab": {
          "base_uri": "https://localhost:8080/",
          "height": 33
        },
        "outputId": "71552652-d418-41e3-d3e4-a113b3c798c2"
      },
      "source": [
        "'A esposa de '+userName+' se chama '+userSpouseName+' e tem '+userName+' anos.'"
      ],
      "execution_count": 79,
      "outputs": [
        {
          "output_type": "execute_result",
          "data": {
            "text/plain": [
              "'A esposa de Paul se chama Carla e tem Paul anos.'"
            ]
          },
          "metadata": {
            "tags": []
          },
          "execution_count": 79
        }
      ]
    },
    {
      "cell_type": "code",
      "metadata": {
        "id": "fx2i43Dtvzg5",
        "colab_type": "code",
        "colab": {
          "base_uri": "https://localhost:8080/",
          "height": 33
        },
        "outputId": "9e847219-a09a-4b75-f786-9815e6544c42"
      },
      "source": [
        "'A esposa de '+userName+' se chama '+userSpouseName+' e tem '+userAge+' anos.'"
      ],
      "execution_count": 80,
      "outputs": [
        {
          "output_type": "execute_result",
          "data": {
            "text/plain": [
              "'A esposa de Paul se chama Carla e tem 23 anos.'"
            ]
          },
          "metadata": {
            "tags": []
          },
          "execution_count": 80
        }
      ]
    },
    {
      "cell_type": "markdown",
      "metadata": {
        "id": "R0hNFt4bvzg7",
        "colab_type": "text"
      },
      "source": [
        "## Funções internas para Strings\n",
        "\n",
        "O Python inclui várias funções internas para manipular seqüências de caracteres (*strings*).  \n",
        "Uma função é simplesmente um bloco de código reutilizável que executa uma determinada tarefa.\n",
        "Um exemplo de uma função disponível no Python é o método upper () para strings.  \n",
        "Você o utiliza para colocar todas as letras em maiúsculas em uma sequência. Por exemplo, 'Peter'.upper () nos fornecerá a string \"PEDRO\". "
      ]
    },
    {
      "cell_type": "code",
      "metadata": {
        "id": "KQ2mpddovzg7",
        "colab_type": "code",
        "colab": {
          "base_uri": "https://localhost:8080/",
          "height": 33
        },
        "outputId": "5c2bd22e-2ef5-4d11-8616-2f44c2f3ef0a"
      },
      "source": [
        "'peter'.upper()"
      ],
      "execution_count": 81,
      "outputs": [
        {
          "output_type": "execute_result",
          "data": {
            "text/plain": [
              "'PETER'"
            ]
          },
          "metadata": {
            "tags": []
          },
          "execution_count": 81
        }
      ]
    },
    {
      "cell_type": "code",
      "metadata": {
        "id": "8MSpMV61vzg9",
        "colab_type": "code",
        "colab": {
          "base_uri": "https://localhost:8080/",
          "height": 33
        },
        "outputId": "40eb2061-1a12-4457-9b60-593bbb72080c"
      },
      "source": [
        "'peter'.upper().lower()"
      ],
      "execution_count": 82,
      "outputs": [
        {
          "output_type": "execute_result",
          "data": {
            "text/plain": [
              "'peter'"
            ]
          },
          "metadata": {
            "tags": []
          },
          "execution_count": 82
        }
      ]
    },
    {
      "cell_type": "code",
      "metadata": {
        "id": "TNFT483avzg-",
        "colab_type": "code",
        "colab": {
          "base_uri": "https://localhost:8080/",
          "height": 33
        },
        "outputId": "c743e6b4-084e-4cdb-ca30-f36db32c0d80"
      },
      "source": [
        "'peter'.upper().lower().title()"
      ],
      "execution_count": 83,
      "outputs": [
        {
          "output_type": "execute_result",
          "data": {
            "text/plain": [
              "'Peter'"
            ]
          },
          "metadata": {
            "tags": []
          },
          "execution_count": 83
        }
      ]
    },
    {
      "cell_type": "code",
      "metadata": {
        "id": "g61NpWY0vzhC",
        "colab_type": "code",
        "colab": {
          "base_uri": "https://localhost:8080/",
          "height": 33
        },
        "outputId": "64e0c7ad-87c8-4670-fedd-74715a9e91fd"
      },
      "source": [
        "('A esposa de '+userName+' se chama '+userSpouseName+' e tem '+ userAge+' anos.').upper()"
      ],
      "execution_count": 84,
      "outputs": [
        {
          "output_type": "execute_result",
          "data": {
            "text/plain": [
              "'A ESPOSA DE PAUL SE CHAMA CARLA E TEM 23 ANOS.'"
            ]
          },
          "metadata": {
            "tags": []
          },
          "execution_count": 84
        }
      ]
    },
    {
      "cell_type": "code",
      "metadata": {
        "id": "dwVpFlpsvzhE",
        "colab_type": "code",
        "colab": {}
      },
      "source": [
        "my_string = 'Cavalo'"
      ],
      "execution_count": 0,
      "outputs": []
    },
    {
      "cell_type": "code",
      "metadata": {
        "id": "fTER7SAkvzhG",
        "colab_type": "code",
        "colab": {
          "base_uri": "https://localhost:8080/",
          "height": 33
        },
        "outputId": "42d139b0-b74f-49d6-eb7a-6311a539dd15"
      },
      "source": [
        "print(my_string*5)"
      ],
      "execution_count": 86,
      "outputs": [
        {
          "output_type": "stream",
          "text": [
            "CavaloCavaloCavaloCavaloCavalo\n"
          ],
          "name": "stdout"
        }
      ]
    },
    {
      "cell_type": "code",
      "metadata": {
        "id": "Rsjk9BzEvzhK",
        "colab_type": "code",
        "colab": {
          "base_uri": "https://localhost:8080/",
          "height": 33
        },
        "outputId": "8b344406-dbd3-486f-f833-d279488e0961"
      },
      "source": [
        "print((my_string+' ')*5)"
      ],
      "execution_count": 87,
      "outputs": [
        {
          "output_type": "stream",
          "text": [
            "Cavalo Cavalo Cavalo Cavalo Cavalo \n"
          ],
          "name": "stdout"
        }
      ]
    },
    {
      "cell_type": "markdown",
      "metadata": {
        "id": "PzlCzHxLvzhN",
        "colab_type": "text"
      },
      "source": [
        "## Conversão de Tipo (Type casting) em Python  \n",
        "Às vezes, em nosso programa, é necessário converter de um tipo de dados para outro, como de um número inteiro para uma string. Isso é conhecido como conversão de tipo.  \n",
        "Existem três funções internas no Python que nos permitem fazer a conversão de tipos. Essas são as funções int (), float () e str ().  \n",
        "A função int () no Python pega um float ou uma string apropriada e o converte em um número inteiro. Para alterar um float para um número inteiro, podemos digitar int (5.712987).  \n",
        "Obteremos 5 como resultado (qualquer coisa após a remoção do ponto decimal). Para alterar uma string para um número inteiro, podemos digitar int (\"4\") e obteremos 4.  \n",
        "No entanto, não podemos digitar int (\"Hello\") ou int (\"4.22321\").  \n",
        "Iremos receber um erro nos dois casos.\n",
        "A função float () recebe um número inteiro ou uma sequência apropriada e a altera para um float.  \n",
        "Por exemplo, se digitarmos float (2) ou float (\"2\"), obteremos 2,0. Se digitarmos float (\"2.09109\"), obteremos 2.09109, que é um float e não uma sequência, pois as aspas são removidas.  \n",
        "A função str (), por outro lado, converte um número inteiro ou um float em uma string. Por exemplo, se digitarmos str (2.1), obteremos \"2.1\".  "
      ]
    },
    {
      "cell_type": "code",
      "metadata": {
        "id": "hC76gm0ZvzhN",
        "colab_type": "code",
        "colab": {
          "base_uri": "https://localhost:8080/",
          "height": 33
        },
        "outputId": "1199d2c9-9de7-40a1-ac27-c9237f4abc27"
      },
      "source": [
        "int(5.712987)"
      ],
      "execution_count": 88,
      "outputs": [
        {
          "output_type": "execute_result",
          "data": {
            "text/plain": [
              "5"
            ]
          },
          "metadata": {
            "tags": []
          },
          "execution_count": 88
        }
      ]
    },
    {
      "cell_type": "code",
      "metadata": {
        "id": "_3uCzQ5pvzhQ",
        "colab_type": "code",
        "colab": {
          "base_uri": "https://localhost:8080/",
          "height": 33
        },
        "outputId": "51b28e30-48a4-4f48-c0f5-f005dbd77159"
      },
      "source": [
        "float(5)"
      ],
      "execution_count": 89,
      "outputs": [
        {
          "output_type": "execute_result",
          "data": {
            "text/plain": [
              "5.0"
            ]
          },
          "metadata": {
            "tags": []
          },
          "execution_count": 89
        }
      ]
    },
    {
      "cell_type": "code",
      "metadata": {
        "id": "ITJzaYu3vzhS",
        "colab_type": "code",
        "colab": {
          "base_uri": "https://localhost:8080/",
          "height": 33
        },
        "outputId": "1f659891-67aa-4f25-dc20-83b20d519d27"
      },
      "source": [
        "int(5.712987) + float(5)"
      ],
      "execution_count": 90,
      "outputs": [
        {
          "output_type": "execute_result",
          "data": {
            "text/plain": [
              "10.0"
            ]
          },
          "metadata": {
            "tags": []
          },
          "execution_count": 90
        }
      ]
    },
    {
      "cell_type": "code",
      "metadata": {
        "id": "TlI93EW2vzhU",
        "colab_type": "code",
        "colab": {
          "base_uri": "https://localhost:8080/",
          "height": 33
        },
        "outputId": "94dfde43-3a17-4555-a480-bc5965daf36b"
      },
      "source": [
        "float(5.712987) + float(5)"
      ],
      "execution_count": 91,
      "outputs": [
        {
          "output_type": "execute_result",
          "data": {
            "text/plain": [
              "10.712987"
            ]
          },
          "metadata": {
            "tags": []
          },
          "execution_count": 91
        }
      ]
    },
    {
      "cell_type": "code",
      "metadata": {
        "id": "LnW2084bvzhV",
        "colab_type": "code",
        "colab": {
          "base_uri": "https://localhost:8080/",
          "height": 33
        },
        "outputId": "843a03d0-6a36-434b-c795-e8e40fed365a"
      },
      "source": [
        "str(5.712987)"
      ],
      "execution_count": 92,
      "outputs": [
        {
          "output_type": "execute_result",
          "data": {
            "text/plain": [
              "'5.712987'"
            ]
          },
          "metadata": {
            "tags": []
          },
          "execution_count": 92
        }
      ]
    },
    {
      "cell_type": "code",
      "metadata": {
        "id": "9yYoh-KhvzhX",
        "colab_type": "code",
        "colab": {
          "base_uri": "https://localhost:8080/",
          "height": 33
        },
        "outputId": "10ec60a6-032a-40e1-faea-e25ff3a8dec1"
      },
      "source": [
        "str(5)"
      ],
      "execution_count": 93,
      "outputs": [
        {
          "output_type": "execute_result",
          "data": {
            "text/plain": [
              "'5'"
            ]
          },
          "metadata": {
            "tags": []
          },
          "execution_count": 93
        }
      ]
    },
    {
      "cell_type": "code",
      "metadata": {
        "id": "GGGXpW3fvzhZ",
        "colab_type": "code",
        "colab": {
          "base_uri": "https://localhost:8080/",
          "height": 33
        },
        "outputId": "bb5c1bd9-bcd9-45eb-8cce-63bfe7ec518b"
      },
      "source": [
        "str(5.712987)+str(5)"
      ],
      "execution_count": 94,
      "outputs": [
        {
          "output_type": "execute_result",
          "data": {
            "text/plain": [
              "'5.7129875'"
            ]
          },
          "metadata": {
            "tags": []
          },
          "execution_count": 94
        }
      ]
    },
    {
      "cell_type": "code",
      "metadata": {
        "id": "SjGbiV5Fvzha",
        "colab_type": "code",
        "colab": {
          "base_uri": "https://localhost:8080/",
          "height": 33
        },
        "outputId": "d8297c8a-9223-44ea-896b-bc6d1693dc57"
      },
      "source": [
        "str(float(5.712987) + float(5))"
      ],
      "execution_count": 95,
      "outputs": [
        {
          "output_type": "execute_result",
          "data": {
            "text/plain": [
              "'10.712987'"
            ]
          },
          "metadata": {
            "tags": []
          },
          "execution_count": 95
        }
      ]
    },
    {
      "cell_type": "code",
      "metadata": {
        "id": "bQzJNEakvzhc",
        "colab_type": "code",
        "colab": {
          "base_uri": "https://localhost:8080/",
          "height": 33
        },
        "outputId": "6f80f174-081c-4375-9764-32a09252e991"
      },
      "source": [
        "str(float(5.712987)) + str(float(5))"
      ],
      "execution_count": 96,
      "outputs": [
        {
          "output_type": "execute_result",
          "data": {
            "text/plain": [
              "'5.7129875.0'"
            ]
          },
          "metadata": {
            "tags": []
          },
          "execution_count": 96
        }
      ]
    },
    {
      "cell_type": "code",
      "metadata": {
        "id": "brpe8mZyvzhd",
        "colab_type": "code",
        "colab": {
          "base_uri": "https://localhost:8080/",
          "height": 33
        },
        "outputId": "15c7412b-8e49-48bd-9a99-dbc1db38c794"
      },
      "source": [
        "str(float(5.712987)) +' '+ str(float(5))"
      ],
      "execution_count": 97,
      "outputs": [
        {
          "output_type": "execute_result",
          "data": {
            "text/plain": [
              "'5.712987 5.0'"
            ]
          },
          "metadata": {
            "tags": []
          },
          "execution_count": 97
        }
      ]
    },
    {
      "cell_type": "markdown",
      "metadata": {
        "id": "g4dtib2cvzhe",
        "colab_type": "text"
      },
      "source": [
        "### Lista\n",
        "Lista refere-se a uma coleção de dados que normalmente estão relacionados. Em vez de armazenar esses dados como variáveis separadas, podemos armazená-los como uma lista. Por exemplo, suponha que nosso programa precise armazenar a idade de 5 usuários. Em vez de armazená-los como\n",
        "- user1Age,\n",
        "- user2Age,\n",
        "- user3Age,\n",
        "- user4Age\n",
        "- user5Age \n",
        "\n",
        "Faz mais sentido armazená-los como uma lista.\n",
        "Para declarar uma lista, escreva listName = [valores iniciais]. Observe que usamos colchetes [] ao declarar uma lista. Vários valores são separados por vírgula."
      ]
    },
    {
      "cell_type": "code",
      "metadata": {
        "id": "1_nTkKOXvzhf",
        "colab_type": "code",
        "colab": {
          "base_uri": "https://localhost:8080/",
          "height": 33
        },
        "outputId": "700382ba-dd79-4dc4-aeea-aee10ed77d43"
      },
      "source": [
        "userAge = [25,23,22,20,19,28,31];\n",
        "userAge"
      ],
      "execution_count": 100,
      "outputs": [
        {
          "output_type": "execute_result",
          "data": {
            "text/plain": [
              "[25, 23, 22, 20, 19, 28, 31]"
            ]
          },
          "metadata": {
            "tags": []
          },
          "execution_count": 100
        }
      ]
    },
    {
      "cell_type": "markdown",
      "metadata": {
        "id": "BUVOLcgyvzhg",
        "colab_type": "text"
      },
      "source": [
        "Também podemos declarar uma lista sem atribuir nenhum valor inicial a ela.  \n",
        "Simplesmente escrevemos listName = [].\n",
        "O que temos agora é uma lista vazia sem itens.  \n",
        "Temos que usar o método append () mencionado abaixo para adicionar itens à lista."
      ]
    },
    {
      "cell_type": "markdown",
      "metadata": {
        "id": "SyWOJ8g9vzhg",
        "colab_type": "text"
      },
      "source": [
        "Valores individuais na lista são acessíveis por seus índices, e os índices sempre começam em ZERO, não em 1.  \n",
        "Essa é uma prática comum em quase todas as linguagens de programação, como C e Java.  \n",
        "Portanto, o primeiro valor tem um índice de 0, o próximo tem um índice de 1 e assim por diante. Por exemplo:"
      ]
    },
    {
      "cell_type": "code",
      "metadata": {
        "id": "HowPdAQ-vzhh",
        "colab_type": "code",
        "colab": {
          "base_uri": "https://localhost:8080/",
          "height": 33
        },
        "outputId": "a8486f0d-1329-416d-bd57-8f71cc772983"
      },
      "source": [
        "userAge[0]"
      ],
      "execution_count": 101,
      "outputs": [
        {
          "output_type": "execute_result",
          "data": {
            "text/plain": [
              "25"
            ]
          },
          "metadata": {
            "tags": []
          },
          "execution_count": 101
        }
      ]
    },
    {
      "cell_type": "code",
      "metadata": {
        "id": "dK4296PRvzhi",
        "colab_type": "code",
        "colab": {
          "base_uri": "https://localhost:8080/",
          "height": 33
        },
        "outputId": "8b3d81e1-73d0-4587-b515-19e4a8c56838"
      },
      "source": [
        "userAge[1]"
      ],
      "execution_count": 102,
      "outputs": [
        {
          "output_type": "execute_result",
          "data": {
            "text/plain": [
              "23"
            ]
          },
          "metadata": {
            "tags": []
          },
          "execution_count": 102
        }
      ]
    },
    {
      "cell_type": "code",
      "metadata": {
        "id": "toQ39huuvzhm",
        "colab_type": "code",
        "colab": {
          "base_uri": "https://localhost:8080/",
          "height": 33
        },
        "outputId": "3fe31281-6ca6-4a3e-8162-74bb40604daf"
      },
      "source": [
        "userAge[2]"
      ],
      "execution_count": 103,
      "outputs": [
        {
          "output_type": "execute_result",
          "data": {
            "text/plain": [
              "22"
            ]
          },
          "metadata": {
            "tags": []
          },
          "execution_count": 103
        }
      ]
    },
    {
      "cell_type": "code",
      "metadata": {
        "id": "dorKd_dbvzho",
        "colab_type": "code",
        "colab": {
          "base_uri": "https://localhost:8080/",
          "height": 33
        },
        "outputId": "0aa4c7a0-8b68-47dd-ee24-cf392f5be234"
      },
      "source": [
        "userAge[3]"
      ],
      "execution_count": 104,
      "outputs": [
        {
          "output_type": "execute_result",
          "data": {
            "text/plain": [
              "20"
            ]
          },
          "metadata": {
            "tags": []
          },
          "execution_count": 104
        }
      ]
    },
    {
      "cell_type": "code",
      "metadata": {
        "id": "ziozRDXJvzhp",
        "colab_type": "code",
        "colab": {
          "base_uri": "https://localhost:8080/",
          "height": 33
        },
        "outputId": "523600be-fe4a-4caf-f736-b6b533bfe2c1"
      },
      "source": [
        "userAge[4]"
      ],
      "execution_count": 105,
      "outputs": [
        {
          "output_type": "execute_result",
          "data": {
            "text/plain": [
              "19"
            ]
          },
          "metadata": {
            "tags": []
          },
          "execution_count": 105
        }
      ]
    },
    {
      "cell_type": "code",
      "metadata": {
        "id": "7hUQPY9jvzhr",
        "colab_type": "code",
        "colab": {
          "base_uri": "https://localhost:8080/",
          "height": 162
        },
        "outputId": "9dff6da9-1c0f-4329-c394-2c5e861449ff"
      },
      "source": [
        "userAge[7]"
      ],
      "execution_count": 106,
      "outputs": [
        {
          "output_type": "error",
          "ename": "IndexError",
          "evalue": "ignored",
          "traceback": [
            "\u001b[0;31m---------------------------------------------------------------------------\u001b[0m",
            "\u001b[0;31mIndexError\u001b[0m                                Traceback (most recent call last)",
            "\u001b[0;32m<ipython-input-106-b57b6d0ec4d9>\u001b[0m in \u001b[0;36m<module>\u001b[0;34m()\u001b[0m\n\u001b[0;32m----> 1\u001b[0;31m \u001b[0muserAge\u001b[0m\u001b[0;34m[\u001b[0m\u001b[0;36m7\u001b[0m\u001b[0;34m]\u001b[0m\u001b[0;34m\u001b[0m\u001b[0;34m\u001b[0m\u001b[0m\n\u001b[0m",
            "\u001b[0;31mIndexError\u001b[0m: list index out of range"
          ]
        }
      ]
    },
    {
      "cell_type": "code",
      "metadata": {
        "id": "ZKdz3Dmwvzhs",
        "colab_type": "code",
        "colab": {
          "base_uri": "https://localhost:8080/",
          "height": 33
        },
        "outputId": "57db9c33-9f3a-40b3-8450-5d14dba542de"
      },
      "source": [
        "userAge[6]"
      ],
      "execution_count": 107,
      "outputs": [
        {
          "output_type": "execute_result",
          "data": {
            "text/plain": [
              "31"
            ]
          },
          "metadata": {
            "tags": []
          },
          "execution_count": 107
        }
      ]
    },
    {
      "cell_type": "markdown",
      "metadata": {
        "id": "6A3h5qFHvzhu",
        "colab_type": "text"
      },
      "source": [
        "Como alternativa, você pode acessar os valores de uma lista na parte de trás.  \n",
        "O último item da lista tem um índice de -1, o segundo último tem um índice de -2 e assim por diante.  \n",
        "Conseqüentemente,"
      ]
    },
    {
      "cell_type": "code",
      "metadata": {
        "id": "WB6PYhRbvzhu",
        "colab_type": "code",
        "colab": {
          "base_uri": "https://localhost:8080/",
          "height": 33
        },
        "outputId": "857c9f91-e745-46a3-d473-9865edfee357"
      },
      "source": [
        "userAge [-1]\n"
      ],
      "execution_count": 108,
      "outputs": [
        {
          "output_type": "execute_result",
          "data": {
            "text/plain": [
              "31"
            ]
          },
          "metadata": {
            "tags": []
          },
          "execution_count": 108
        }
      ]
    },
    {
      "cell_type": "code",
      "metadata": {
        "id": "boI2ayMxvzhv",
        "colab_type": "code",
        "colab": {
          "base_uri": "https://localhost:8080/",
          "height": 33
        },
        "outputId": "1bd8059e-a936-478c-8640-8604962c49ee"
      },
      "source": [
        "userAge [-2]"
      ],
      "execution_count": 109,
      "outputs": [
        {
          "output_type": "execute_result",
          "data": {
            "text/plain": [
              "28"
            ]
          },
          "metadata": {
            "tags": []
          },
          "execution_count": 109
        }
      ]
    },
    {
      "cell_type": "markdown",
      "metadata": {
        "id": "lFD0WH-Lvzhx",
        "colab_type": "text"
      },
      "source": [
        "Você pode atribuir uma lista, ou parte dela, a uma variável.  \n",
        "Se você escrever userAge2 = userAge, a variável userAge2 se tornará [25,23,22,20,19,28,31]."
      ]
    },
    {
      "cell_type": "code",
      "metadata": {
        "id": "tDiIq3ovvzhx",
        "colab_type": "code",
        "colab": {
          "base_uri": "https://localhost:8080/",
          "height": 33
        },
        "outputId": "380793b5-fc28-4f7c-e66c-518c79996b59"
      },
      "source": [
        "userAge2 = userAge;\n",
        "userAge2"
      ],
      "execution_count": 110,
      "outputs": [
        {
          "output_type": "execute_result",
          "data": {
            "text/plain": [
              "[25, 23, 22, 20, 19, 28, 31]"
            ]
          },
          "metadata": {
            "tags": []
          },
          "execution_count": 110
        }
      ]
    },
    {
      "cell_type": "markdown",
      "metadata": {
        "id": "i68rUsDevzhz",
        "colab_type": "text"
      },
      "source": [
        "Se você escrever userAge3 = userAge [2: 4], estará atribuindo itens com o índice 2 ao índice 4-1 da lista userAge à lista userAge3.\n",
        "Em outras palavras, userAge3 é:"
      ]
    },
    {
      "cell_type": "code",
      "metadata": {
        "id": "nd9LcJTavzhz",
        "colab_type": "code",
        "colab": {}
      },
      "source": [
        "userAge3 = userAge [2: 4]"
      ],
      "execution_count": 0,
      "outputs": []
    },
    {
      "cell_type": "code",
      "metadata": {
        "id": "6iC4kkzzvzh2",
        "colab_type": "code",
        "colab": {
          "base_uri": "https://localhost:8080/",
          "height": 33
        },
        "outputId": "856ad991-726d-4c6e-c6c8-2abf8f3c541e"
      },
      "source": [
        "userAge3"
      ],
      "execution_count": 112,
      "outputs": [
        {
          "output_type": "execute_result",
          "data": {
            "text/plain": [
              "[22, 20]"
            ]
          },
          "metadata": {
            "tags": []
          },
          "execution_count": 112
        }
      ]
    },
    {
      "cell_type": "code",
      "metadata": {
        "id": "8chf-ozOvzh3",
        "colab_type": "code",
        "colab": {}
      },
      "source": [
        "userAge4 = userAge [0: 3]"
      ],
      "execution_count": 0,
      "outputs": []
    },
    {
      "cell_type": "code",
      "metadata": {
        "id": "KP9Na1_rvzh4",
        "colab_type": "code",
        "colab": {
          "base_uri": "https://localhost:8080/",
          "height": 33
        },
        "outputId": "c90fdd41-ae84-4cee-a1dc-b88eb77eb939"
      },
      "source": [
        "userAge4"
      ],
      "execution_count": 114,
      "outputs": [
        {
          "output_type": "execute_result",
          "data": {
            "text/plain": [
              "[25, 23, 22]"
            ]
          },
          "metadata": {
            "tags": []
          },
          "execution_count": 114
        }
      ]
    },
    {
      "cell_type": "markdown",
      "metadata": {
        "id": "9ugMDJ7Lvzh7",
        "colab_type": "text"
      },
      "source": [
        "Para criar uma lista vazia você apenas precisa fazer isto:"
      ]
    },
    {
      "cell_type": "code",
      "metadata": {
        "id": "CCt8DS3wvzh7",
        "colab_type": "code",
        "colab": {
          "base_uri": "https://localhost:8080/",
          "height": 33
        },
        "outputId": "b653d33b-6791-453d-c3f4-60974a9af9ec"
      },
      "source": [
        "emptyList = [];\n",
        "emptyList"
      ],
      "execution_count": 115,
      "outputs": [
        {
          "output_type": "execute_result",
          "data": {
            "text/plain": [
              "[]"
            ]
          },
          "metadata": {
            "tags": []
          },
          "execution_count": 115
        }
      ]
    },
    {
      "cell_type": "markdown",
      "metadata": {
        "id": "P6Om2VMtvzh9",
        "colab_type": "text"
      },
      "source": [
        "Para adcionar um elemento a uma lista você pode usar o método append, veja como usa-lo:"
      ]
    },
    {
      "cell_type": "code",
      "metadata": {
        "id": "aYOxmVJLvzh9",
        "colab_type": "code",
        "colab": {
          "base_uri": "https://localhost:8080/",
          "height": 33
        },
        "outputId": "6cd8025f-f044-481f-8893-ac599e46ee77"
      },
      "source": [
        "emptyList.append(1);\n",
        "emptyList"
      ],
      "execution_count": 116,
      "outputs": [
        {
          "output_type": "execute_result",
          "data": {
            "text/plain": [
              "[1]"
            ]
          },
          "metadata": {
            "tags": []
          },
          "execution_count": 116
        }
      ]
    },
    {
      "cell_type": "code",
      "metadata": {
        "id": "6AOrxNhovzh_",
        "colab_type": "code",
        "colab": {
          "base_uri": "https://localhost:8080/",
          "height": 33
        },
        "outputId": "443a7cb1-0ed2-42e8-93c4-4339349d4db4"
      },
      "source": [
        "emptyList.append(2);\n",
        "emptyList"
      ],
      "execution_count": 117,
      "outputs": [
        {
          "output_type": "execute_result",
          "data": {
            "text/plain": [
              "[1, 2]"
            ]
          },
          "metadata": {
            "tags": []
          },
          "execution_count": 117
        }
      ]
    },
    {
      "cell_type": "code",
      "metadata": {
        "id": "Wo862S-SvziC",
        "colab_type": "code",
        "colab": {
          "base_uri": "https://localhost:8080/",
          "height": 33
        },
        "outputId": "99fa2484-ff0a-4418-aaf6-dbc240b2160f"
      },
      "source": [
        "emptyList.append(3);\n",
        "emptyList"
      ],
      "execution_count": 118,
      "outputs": [
        {
          "output_type": "execute_result",
          "data": {
            "text/plain": [
              "[1, 2, 3]"
            ]
          },
          "metadata": {
            "tags": []
          },
          "execution_count": 118
        }
      ]
    },
    {
      "cell_type": "code",
      "metadata": {
        "id": "4fEVJAESvziD",
        "colab_type": "code",
        "colab": {
          "base_uri": "https://localhost:8080/",
          "height": 33
        },
        "outputId": "2d933dff-35c9-424b-8800-ad696e6369c6"
      },
      "source": [
        "emptyList.append(4);\n",
        "emptyList"
      ],
      "execution_count": 119,
      "outputs": [
        {
          "output_type": "execute_result",
          "data": {
            "text/plain": [
              "[1, 2, 3, 4]"
            ]
          },
          "metadata": {
            "tags": []
          },
          "execution_count": 119
        }
      ]
    },
    {
      "cell_type": "code",
      "metadata": {
        "id": "Sk679lFuvziE",
        "colab_type": "code",
        "colab": {
          "base_uri": "https://localhost:8080/",
          "height": 33
        },
        "outputId": "18366b7e-7ef9-4dab-9388-4fe3475ea016"
      },
      "source": [
        "emptyList.append(5);\n",
        "emptyList"
      ],
      "execution_count": 120,
      "outputs": [
        {
          "output_type": "execute_result",
          "data": {
            "text/plain": [
              "[1, 2, 3, 4, 5]"
            ]
          },
          "metadata": {
            "tags": []
          },
          "execution_count": 120
        }
      ]
    },
    {
      "cell_type": "code",
      "metadata": {
        "id": "lI1PRTKBvziH",
        "colab_type": "code",
        "colab": {
          "base_uri": "https://localhost:8080/",
          "height": 33
        },
        "outputId": "b0de16b5-436d-4934-f730-d171cb03e8d1"
      },
      "source": [
        "emptyList.append(6);\n",
        "emptyList"
      ],
      "execution_count": 121,
      "outputs": [
        {
          "output_type": "execute_result",
          "data": {
            "text/plain": [
              "[1, 2, 3, 4, 5, 6]"
            ]
          },
          "metadata": {
            "tags": []
          },
          "execution_count": 121
        }
      ]
    },
    {
      "cell_type": "code",
      "metadata": {
        "id": "C0rkbzPzvziI",
        "colab_type": "code",
        "colab": {
          "base_uri": "https://localhost:8080/",
          "height": 33
        },
        "outputId": "6f43ebc0-a065-4bc5-eccf-d65aac21f2b5"
      },
      "source": [
        "emptyList.append(7);\n",
        "emptyList"
      ],
      "execution_count": 122,
      "outputs": [
        {
          "output_type": "execute_result",
          "data": {
            "text/plain": [
              "[1, 2, 3, 4, 5, 6, 7]"
            ]
          },
          "metadata": {
            "tags": []
          },
          "execution_count": 122
        }
      ]
    },
    {
      "cell_type": "code",
      "metadata": {
        "id": "Tvnjo0jqvziJ",
        "colab_type": "code",
        "colab": {
          "base_uri": "https://localhost:8080/",
          "height": 33
        },
        "outputId": "d0f8f73d-ed3c-4bea-d618-4c78629267f4"
      },
      "source": [
        "emptyList.append(8);\n",
        "emptyList"
      ],
      "execution_count": 123,
      "outputs": [
        {
          "output_type": "execute_result",
          "data": {
            "text/plain": [
              "[1, 2, 3, 4, 5, 6, 7, 8]"
            ]
          },
          "metadata": {
            "tags": []
          },
          "execution_count": 123
        }
      ]
    },
    {
      "cell_type": "code",
      "metadata": {
        "id": "NVBKFlTmvziK",
        "colab_type": "code",
        "colab": {
          "base_uri": "https://localhost:8080/",
          "height": 33
        },
        "outputId": "d57842f7-4569-4b50-f6ca-b9d7d2db09c5"
      },
      "source": [
        "emptyList.append(9);\n",
        "emptyList"
      ],
      "execution_count": 124,
      "outputs": [
        {
          "output_type": "execute_result",
          "data": {
            "text/plain": [
              "[1, 2, 3, 4, 5, 6, 7, 8, 9]"
            ]
          },
          "metadata": {
            "tags": []
          },
          "execution_count": 124
        }
      ]
    },
    {
      "cell_type": "code",
      "metadata": {
        "id": "mcS56-8-vziM",
        "colab_type": "code",
        "colab": {
          "base_uri": "https://localhost:8080/",
          "height": 33
        },
        "outputId": "59c3303a-6eb4-4c4a-be86-1d770508e847"
      },
      "source": [
        "emptyList.append(10);\n",
        "emptyList"
      ],
      "execution_count": 125,
      "outputs": [
        {
          "output_type": "execute_result",
          "data": {
            "text/plain": [
              "[1, 2, 3, 4, 5, 6, 7, 8, 9, 10]"
            ]
          },
          "metadata": {
            "tags": []
          },
          "execution_count": 125
        }
      ]
    },
    {
      "cell_type": "markdown",
      "metadata": {
        "id": "pi0QQf96vziN",
        "colab_type": "text"
      },
      "source": [
        "Para saber o tamanho de uma lista use a função len()"
      ]
    },
    {
      "cell_type": "code",
      "metadata": {
        "id": "k13pEr60vziN",
        "colab_type": "code",
        "colab": {
          "base_uri": "https://localhost:8080/",
          "height": 33
        },
        "outputId": "9a4461cc-43b7-49e1-a6ed-c138c4db9b77"
      },
      "source": [
        "len(emptyList)"
      ],
      "execution_count": 126,
      "outputs": [
        {
          "output_type": "execute_result",
          "data": {
            "text/plain": [
              "10"
            ]
          },
          "metadata": {
            "tags": []
          },
          "execution_count": 126
        }
      ]
    },
    {
      "cell_type": "markdown",
      "metadata": {
        "id": "y0EG4ADbvziO",
        "colab_type": "text"
      },
      "source": [
        "Para deletar um item d euma lista digite o seguinte:  \n",
        "**del listName[index of item to be deleted]**"
      ]
    },
    {
      "cell_type": "code",
      "metadata": {
        "id": "nfYtbuyavziO",
        "colab_type": "code",
        "colab": {
          "base_uri": "https://localhost:8080/",
          "height": 33
        },
        "outputId": "2925d46e-0434-4a3c-9b01-ba35306743ab"
      },
      "source": [
        "del emptyList[9];emptyList"
      ],
      "execution_count": 127,
      "outputs": [
        {
          "output_type": "execute_result",
          "data": {
            "text/plain": [
              "[1, 2, 3, 4, 5, 6, 7, 8, 9]"
            ]
          },
          "metadata": {
            "tags": []
          },
          "execution_count": 127
        }
      ]
    },
    {
      "cell_type": "code",
      "metadata": {
        "id": "Mz-LkdaLvziP",
        "colab_type": "code",
        "colab": {
          "base_uri": "https://localhost:8080/",
          "height": 33
        },
        "outputId": "7ac27bbe-7448-4576-e5fe-b0c633671078"
      },
      "source": [
        "del emptyList[0];emptyList"
      ],
      "execution_count": 128,
      "outputs": [
        {
          "output_type": "execute_result",
          "data": {
            "text/plain": [
              "[2, 3, 4, 5, 6, 7, 8, 9]"
            ]
          },
          "metadata": {
            "tags": []
          },
          "execution_count": 128
        }
      ]
    },
    {
      "cell_type": "code",
      "metadata": {
        "id": "Mzi6Ft2kvziS",
        "colab_type": "code",
        "colab": {}
      },
      "source": [
        "emptyList.insert(10,100)"
      ],
      "execution_count": 0,
      "outputs": []
    },
    {
      "cell_type": "code",
      "metadata": {
        "id": "Jo2BcxxJvziT",
        "colab_type": "code",
        "colab": {
          "base_uri": "https://localhost:8080/",
          "height": 33
        },
        "outputId": "6c735c66-9b2e-4dbf-fb72-0bd316687c7a"
      },
      "source": [
        "emptyList"
      ],
      "execution_count": 130,
      "outputs": [
        {
          "output_type": "execute_result",
          "data": {
            "text/plain": [
              "[2, 3, 4, 5, 6, 7, 8, 9, 100]"
            ]
          },
          "metadata": {
            "tags": []
          },
          "execution_count": 130
        }
      ]
    },
    {
      "cell_type": "code",
      "metadata": {
        "colab_type": "code",
        "id": "8Jy1gSg40dgx",
        "colab": {
          "base_uri": "https://localhost:8080/",
          "height": 33
        },
        "outputId": "ce4d38af-5170-4a22-ced6-e7f3a9ee6b65"
      },
      "source": [
        "emptyList.insert(0,100); emptyList"
      ],
      "execution_count": 134,
      "outputs": [
        {
          "output_type": "execute_result",
          "data": {
            "text/plain": [
              "[100, 100, 100, 100, 2, 3, 4, 5, 6, 7, 8, 9, 100]"
            ]
          },
          "metadata": {
            "tags": []
          },
          "execution_count": 134
        }
      ]
    },
    {
      "cell_type": "code",
      "metadata": {
        "id": "0D7k63lj0ia5",
        "colab_type": "code",
        "colab": {}
      },
      "source": [
        ""
      ],
      "execution_count": 0,
      "outputs": []
    }
  ]
}