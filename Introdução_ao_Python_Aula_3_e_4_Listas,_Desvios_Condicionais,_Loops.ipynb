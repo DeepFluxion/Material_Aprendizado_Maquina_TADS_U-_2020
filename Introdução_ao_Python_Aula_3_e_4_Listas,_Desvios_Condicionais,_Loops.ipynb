{
  "nbformat": 4,
  "nbformat_minor": 0,
  "metadata": {
    "kernelspec": {
      "display_name": "Python 3",
      "language": "python",
      "name": "python3"
    },
    "language_info": {
      "codemirror_mode": {
        "name": "ipython",
        "version": 3
      },
      "file_extension": ".py",
      "mimetype": "text/x-python",
      "name": "python",
      "nbconvert_exporter": "python",
      "pygments_lexer": "ipython3",
      "version": "3.6.8"
    },
    "colab": {
      "name": "Introdução ao Python Aula 3 e 4 -Listas, Desvios Condicionais, Loops.ipynb",
      "provenance": [],
      "include_colab_link": true
    }
  },
  "cells": [
    {
      "cell_type": "markdown",
      "metadata": {
        "id": "view-in-github",
        "colab_type": "text"
      },
      "source": [
        "<a href=\"https://colab.research.google.com/github/DomingosN/Material_Aprendizado_Maquina_TADS_U-_2020/blob/master/Introdu%C3%A7%C3%A3o_ao_Python_Aula_3_e_4_Listas%2C_Desvios_Condicionais%2C_Loops.ipynb\" target=\"_parent\"><img src=\"https://colab.research.google.com/assets/colab-badge.svg\" alt=\"Open In Colab\"/></a>"
      ]
    },
    {
      "cell_type": "markdown",
      "metadata": {
        "id": "36EIbK3KSnjR",
        "colab_type": "text"
      },
      "source": [
        "## Introdução ao Python Aulas 3 e 4"
      ]
    },
    {
      "cell_type": "markdown",
      "metadata": {
        "id": "IOeC1DwlSnjT",
        "colab_type": "text"
      },
      "source": [
        "### Parte I - Listas\n",
        "Lista refere-se a uma coleção de dados que normalmente estão relacionados. Em vez de armazenar esses dados como variáveis separadas, podemos armazená-los como uma lista. Por exemplo, suponha que nosso programa precise armazenar a idade de 5 usuários. Em vez de armazená-los como\n",
        "- user1Age,\n",
        "- user2Age,\n",
        "- user3Age,\n",
        "- user4Age\n",
        "- user5Age \n",
        "\n",
        "Faz mais sentido armazená-los como uma lista.\n",
        "Para declarar uma lista, escreva listName = [valores iniciais]. Observe que usamos colchetes [] ao declarar uma lista. Vários valores são separados por vírgula."
      ]
    },
    {
      "cell_type": "code",
      "metadata": {
        "id": "EJpxl4-nSnjU",
        "colab_type": "code",
        "colab": {
          "base_uri": "https://localhost:8080/",
          "height": 34
        },
        "outputId": "43e6f245-3667-40c8-d229-120a3754dd85"
      },
      "source": [
        "userAge = [25,23,22,20,19,28,31];\n",
        "userAge"
      ],
      "execution_count": 1,
      "outputs": [
        {
          "output_type": "execute_result",
          "data": {
            "text/plain": [
              "[25, 23, 22, 20, 19, 28, 31]"
            ]
          },
          "metadata": {
            "tags": []
          },
          "execution_count": 1
        }
      ]
    },
    {
      "cell_type": "markdown",
      "metadata": {
        "id": "NwSwM9jySnjd",
        "colab_type": "text"
      },
      "source": [
        "Também podemos declarar uma lista sem atribuir nenhum valor inicial a ela.  \n",
        "Simplesmente escrevemos listName = [].\n",
        "O que temos agora é uma lista vazia sem itens.  \n",
        "Temos que usar o método append () mencionado abaixo para adicionar itens à lista."
      ]
    },
    {
      "cell_type": "markdown",
      "metadata": {
        "id": "fbYDCqTESnje",
        "colab_type": "text"
      },
      "source": [
        "Valores individuais na lista são acessíveis por seus índices, e os índices sempre começam em ZERO, não em 1.  \n",
        "Essa é uma prática comum em quase todas as linguagens de programação, como C e Java.  \n",
        "Portanto, o primeiro valor tem um índice de 0, o próximo tem um índice de 1 e assim por diante. Por exemplo:"
      ]
    },
    {
      "cell_type": "code",
      "metadata": {
        "id": "jG0nvoGKSnjf",
        "colab_type": "code",
        "colab": {
          "base_uri": "https://localhost:8080/",
          "height": 34
        },
        "outputId": "63f2f082-c445-4a62-fc09-dfc654a4261f"
      },
      "source": [
        "userAge[0]"
      ],
      "execution_count": 2,
      "outputs": [
        {
          "output_type": "execute_result",
          "data": {
            "text/plain": [
              "25"
            ]
          },
          "metadata": {
            "tags": []
          },
          "execution_count": 2
        }
      ]
    },
    {
      "cell_type": "code",
      "metadata": {
        "id": "LpjkkP84Snjm",
        "colab_type": "code",
        "colab": {
          "base_uri": "https://localhost:8080/",
          "height": 34
        },
        "outputId": "967419cb-fab7-444a-9ada-574f207d5403"
      },
      "source": [
        "userAge[1]"
      ],
      "execution_count": 3,
      "outputs": [
        {
          "output_type": "execute_result",
          "data": {
            "text/plain": [
              "23"
            ]
          },
          "metadata": {
            "tags": []
          },
          "execution_count": 3
        }
      ]
    },
    {
      "cell_type": "code",
      "metadata": {
        "id": "mlfGVQ2rSnjs",
        "colab_type": "code",
        "colab": {
          "base_uri": "https://localhost:8080/",
          "height": 34
        },
        "outputId": "68f62be4-4074-47ad-bdfc-a20faffeadc2"
      },
      "source": [
        "userAge[2]"
      ],
      "execution_count": 4,
      "outputs": [
        {
          "output_type": "execute_result",
          "data": {
            "text/plain": [
              "22"
            ]
          },
          "metadata": {
            "tags": []
          },
          "execution_count": 4
        }
      ]
    },
    {
      "cell_type": "code",
      "metadata": {
        "id": "pZCUvGxVSnjy",
        "colab_type": "code",
        "colab": {
          "base_uri": "https://localhost:8080/",
          "height": 34
        },
        "outputId": "adc60366-fccc-40b4-f3e9-923e6a4bae08"
      },
      "source": [
        "userAge[3]"
      ],
      "execution_count": 5,
      "outputs": [
        {
          "output_type": "execute_result",
          "data": {
            "text/plain": [
              "20"
            ]
          },
          "metadata": {
            "tags": []
          },
          "execution_count": 5
        }
      ]
    },
    {
      "cell_type": "code",
      "metadata": {
        "id": "pfWtpkBlSnj4",
        "colab_type": "code",
        "colab": {
          "base_uri": "https://localhost:8080/",
          "height": 34
        },
        "outputId": "04ee737b-a501-409c-d87d-5a797e783260"
      },
      "source": [
        "userAge[4]"
      ],
      "execution_count": 6,
      "outputs": [
        {
          "output_type": "execute_result",
          "data": {
            "text/plain": [
              "19"
            ]
          },
          "metadata": {
            "tags": []
          },
          "execution_count": 6
        }
      ]
    },
    {
      "cell_type": "code",
      "metadata": {
        "id": "YV9sMB7PSnj-",
        "colab_type": "code",
        "colab": {
          "base_uri": "https://localhost:8080/",
          "height": 167
        },
        "outputId": "8a53e435-c243-495b-d83f-00d0e8a5f0a8"
      },
      "source": [
        "userAge[7]"
      ],
      "execution_count": 7,
      "outputs": [
        {
          "output_type": "error",
          "ename": "IndexError",
          "evalue": "ignored",
          "traceback": [
            "\u001b[0;31m---------------------------------------------------------------------------\u001b[0m",
            "\u001b[0;31mIndexError\u001b[0m                                Traceback (most recent call last)",
            "\u001b[0;32m<ipython-input-7-b57b6d0ec4d9>\u001b[0m in \u001b[0;36m<module>\u001b[0;34m()\u001b[0m\n\u001b[0;32m----> 1\u001b[0;31m \u001b[0muserAge\u001b[0m\u001b[0;34m[\u001b[0m\u001b[0;36m7\u001b[0m\u001b[0;34m]\u001b[0m\u001b[0;34m\u001b[0m\u001b[0;34m\u001b[0m\u001b[0m\n\u001b[0m",
            "\u001b[0;31mIndexError\u001b[0m: list index out of range"
          ]
        }
      ]
    },
    {
      "cell_type": "code",
      "metadata": {
        "id": "9cfkbFLaSnkE",
        "colab_type": "code",
        "colab": {
          "base_uri": "https://localhost:8080/",
          "height": 34
        },
        "outputId": "db73ba78-879a-4bb2-e246-bfd025bbd506"
      },
      "source": [
        "userAge[6]"
      ],
      "execution_count": 8,
      "outputs": [
        {
          "output_type": "execute_result",
          "data": {
            "text/plain": [
              "31"
            ]
          },
          "metadata": {
            "tags": []
          },
          "execution_count": 8
        }
      ]
    },
    {
      "cell_type": "markdown",
      "metadata": {
        "id": "awdaoIx7SnkJ",
        "colab_type": "text"
      },
      "source": [
        "Como alternativa, você pode acessar os valores de uma lista na parte de trás.  \n",
        "O último item da lista tem um índice de -1, o segundo último tem um índice de -2 e assim por diante.  \n",
        "Conseqüentemente,"
      ]
    },
    {
      "cell_type": "code",
      "metadata": {
        "id": "L4GiF8rhSnkL",
        "colab_type": "code",
        "colab": {
          "base_uri": "https://localhost:8080/",
          "height": 34
        },
        "outputId": "d65bd228-b4de-4ace-e422-6bf6dea7e7ce"
      },
      "source": [
        "userAge [-1]\n"
      ],
      "execution_count": 9,
      "outputs": [
        {
          "output_type": "execute_result",
          "data": {
            "text/plain": [
              "31"
            ]
          },
          "metadata": {
            "tags": []
          },
          "execution_count": 9
        }
      ]
    },
    {
      "cell_type": "code",
      "metadata": {
        "id": "G-89ru_FSnkQ",
        "colab_type": "code",
        "colab": {
          "base_uri": "https://localhost:8080/",
          "height": 34
        },
        "outputId": "964c8968-923d-451b-8801-338a1d8e7fcb"
      },
      "source": [
        "userAge [-2]"
      ],
      "execution_count": 10,
      "outputs": [
        {
          "output_type": "execute_result",
          "data": {
            "text/plain": [
              "28"
            ]
          },
          "metadata": {
            "tags": []
          },
          "execution_count": 10
        }
      ]
    },
    {
      "cell_type": "markdown",
      "metadata": {
        "id": "ibZzD8pYSnkW",
        "colab_type": "text"
      },
      "source": [
        "Você pode atribuir uma lista, ou parte dela, a uma variável.  \n",
        "Se você escrever userAge2 = userAge, a variável userAge2 se tornará [25,23,22,20,19,28,31]."
      ]
    },
    {
      "cell_type": "code",
      "metadata": {
        "id": "26p_ShLYSnkY",
        "colab_type": "code",
        "colab": {
          "base_uri": "https://localhost:8080/",
          "height": 34
        },
        "outputId": "d2fefb19-0e79-4978-a415-e264d5fd0478"
      },
      "source": [
        "userAge2 = userAge;\n",
        "userAge2"
      ],
      "execution_count": 11,
      "outputs": [
        {
          "output_type": "execute_result",
          "data": {
            "text/plain": [
              "[25, 23, 22, 20, 19, 28, 31]"
            ]
          },
          "metadata": {
            "tags": []
          },
          "execution_count": 11
        }
      ]
    },
    {
      "cell_type": "markdown",
      "metadata": {
        "id": "oYuYeniASnkd",
        "colab_type": "text"
      },
      "source": [
        "Se você escrever userAge3 = userAge [2: 4], estará atribuindo itens com o índice 2 ao índice 4-1 da lista userAge à lista userAge3.\n",
        "Em outras palavras, userAge3 é:"
      ]
    },
    {
      "cell_type": "code",
      "metadata": {
        "id": "yfGbFBewSnke",
        "colab_type": "code",
        "colab": {}
      },
      "source": [
        "userAge3 = userAge [2: 4]"
      ],
      "execution_count": 0,
      "outputs": []
    },
    {
      "cell_type": "code",
      "metadata": {
        "id": "GZktmM95Snkj",
        "colab_type": "code",
        "colab": {
          "base_uri": "https://localhost:8080/",
          "height": 34
        },
        "outputId": "157069c7-0042-464e-c671-749bc925edd8"
      },
      "source": [
        "userAge3"
      ],
      "execution_count": 13,
      "outputs": [
        {
          "output_type": "execute_result",
          "data": {
            "text/plain": [
              "[22, 20]"
            ]
          },
          "metadata": {
            "tags": []
          },
          "execution_count": 13
        }
      ]
    },
    {
      "cell_type": "code",
      "metadata": {
        "id": "q27HZm2fSnkn",
        "colab_type": "code",
        "colab": {}
      },
      "source": [
        "userAge4 = userAge [0: 3]"
      ],
      "execution_count": 0,
      "outputs": []
    },
    {
      "cell_type": "code",
      "metadata": {
        "id": "Czh6Zj5TSnks",
        "colab_type": "code",
        "colab": {
          "base_uri": "https://localhost:8080/",
          "height": 34
        },
        "outputId": "674ad754-1064-4802-9c41-43a6f295a5e3"
      },
      "source": [
        "userAge4"
      ],
      "execution_count": 15,
      "outputs": [
        {
          "output_type": "execute_result",
          "data": {
            "text/plain": [
              "[25, 23, 22]"
            ]
          },
          "metadata": {
            "tags": []
          },
          "execution_count": 15
        }
      ]
    },
    {
      "cell_type": "markdown",
      "metadata": {
        "id": "7B2E6J_4Snkx",
        "colab_type": "text"
      },
      "source": [
        "### Listas Vazias"
      ]
    },
    {
      "cell_type": "markdown",
      "metadata": {
        "id": "7J5YNo1ASnky",
        "colab_type": "text"
      },
      "source": [
        "Para criar uma lista vazia você apenas precisa fazer isto:"
      ]
    },
    {
      "cell_type": "code",
      "metadata": {
        "id": "216CKHjHSnkz",
        "colab_type": "code",
        "colab": {
          "base_uri": "https://localhost:8080/",
          "height": 34
        },
        "outputId": "70352ee4-618b-4677-ef67-df2759928cd2"
      },
      "source": [
        "emptyList = [];\n",
        "emptyList"
      ],
      "execution_count": 16,
      "outputs": [
        {
          "output_type": "execute_result",
          "data": {
            "text/plain": [
              "[]"
            ]
          },
          "metadata": {
            "tags": []
          },
          "execution_count": 16
        }
      ]
    },
    {
      "cell_type": "markdown",
      "metadata": {
        "id": "vIkvoEQ2Snk5",
        "colab_type": "text"
      },
      "source": [
        "### append()"
      ]
    },
    {
      "cell_type": "markdown",
      "metadata": {
        "id": "1DPWH6fPSnk6",
        "colab_type": "text"
      },
      "source": [
        "Para adcionar um elemento a uma lista você pode usar o método append, veja como usa-lo:"
      ]
    },
    {
      "cell_type": "code",
      "metadata": {
        "id": "gMeB57i7Snk7",
        "colab_type": "code",
        "colab": {
          "base_uri": "https://localhost:8080/",
          "height": 34
        },
        "outputId": "3e24afd8-d813-4079-c1e9-64f85b205f13"
      },
      "source": [
        "emptyList.append(1);\n",
        "emptyList"
      ],
      "execution_count": 17,
      "outputs": [
        {
          "output_type": "execute_result",
          "data": {
            "text/plain": [
              "[1]"
            ]
          },
          "metadata": {
            "tags": []
          },
          "execution_count": 17
        }
      ]
    },
    {
      "cell_type": "code",
      "metadata": {
        "id": "QZ5VxAiHSnk_",
        "colab_type": "code",
        "colab": {
          "base_uri": "https://localhost:8080/",
          "height": 34
        },
        "outputId": "9a37c390-cc2c-46cc-d672-852f5c099f1d"
      },
      "source": [
        "emptyList.append(2);\n",
        "emptyList"
      ],
      "execution_count": 18,
      "outputs": [
        {
          "output_type": "execute_result",
          "data": {
            "text/plain": [
              "[1, 2]"
            ]
          },
          "metadata": {
            "tags": []
          },
          "execution_count": 18
        }
      ]
    },
    {
      "cell_type": "code",
      "metadata": {
        "id": "QSVjrO8ESnlE",
        "colab_type": "code",
        "colab": {
          "base_uri": "https://localhost:8080/",
          "height": 34
        },
        "outputId": "1dd4f5f1-b7c2-4562-89b3-0e1ca7529284"
      },
      "source": [
        "emptyList.append(3);\n",
        "emptyList"
      ],
      "execution_count": 19,
      "outputs": [
        {
          "output_type": "execute_result",
          "data": {
            "text/plain": [
              "[1, 2, 3]"
            ]
          },
          "metadata": {
            "tags": []
          },
          "execution_count": 19
        }
      ]
    },
    {
      "cell_type": "code",
      "metadata": {
        "id": "x_CsB_GCSnlK",
        "colab_type": "code",
        "colab": {
          "base_uri": "https://localhost:8080/",
          "height": 34
        },
        "outputId": "f8eae92d-c7f5-4672-a44a-fb577667768f"
      },
      "source": [
        "emptyList.append(4);\n",
        "emptyList"
      ],
      "execution_count": 20,
      "outputs": [
        {
          "output_type": "execute_result",
          "data": {
            "text/plain": [
              "[1, 2, 3, 4]"
            ]
          },
          "metadata": {
            "tags": []
          },
          "execution_count": 20
        }
      ]
    },
    {
      "cell_type": "code",
      "metadata": {
        "id": "MyeN-gu-SnlP",
        "colab_type": "code",
        "colab": {
          "base_uri": "https://localhost:8080/",
          "height": 34
        },
        "outputId": "964e633c-2595-4f88-b154-f9cb84244477"
      },
      "source": [
        "emptyList.append(5);\n",
        "emptyList"
      ],
      "execution_count": 21,
      "outputs": [
        {
          "output_type": "execute_result",
          "data": {
            "text/plain": [
              "[1, 2, 3, 4, 5]"
            ]
          },
          "metadata": {
            "tags": []
          },
          "execution_count": 21
        }
      ]
    },
    {
      "cell_type": "code",
      "metadata": {
        "id": "qFf0RdTHSnlT",
        "colab_type": "code",
        "colab": {
          "base_uri": "https://localhost:8080/",
          "height": 34
        },
        "outputId": "a1d49eb5-3106-4dec-943b-2e7d82557156"
      },
      "source": [
        "emptyList.append(6);\n",
        "emptyList"
      ],
      "execution_count": 22,
      "outputs": [
        {
          "output_type": "execute_result",
          "data": {
            "text/plain": [
              "[1, 2, 3, 4, 5, 6]"
            ]
          },
          "metadata": {
            "tags": []
          },
          "execution_count": 22
        }
      ]
    },
    {
      "cell_type": "code",
      "metadata": {
        "id": "LTUwRQhfSnlY",
        "colab_type": "code",
        "colab": {
          "base_uri": "https://localhost:8080/",
          "height": 34
        },
        "outputId": "55c24f13-9cc9-44ad-c76a-d6bfd36098a0"
      },
      "source": [
        "emptyList.append(7);\n",
        "emptyList"
      ],
      "execution_count": 23,
      "outputs": [
        {
          "output_type": "execute_result",
          "data": {
            "text/plain": [
              "[1, 2, 3, 4, 5, 6, 7]"
            ]
          },
          "metadata": {
            "tags": []
          },
          "execution_count": 23
        }
      ]
    },
    {
      "cell_type": "code",
      "metadata": {
        "id": "b7uTepZmSnld",
        "colab_type": "code",
        "colab": {
          "base_uri": "https://localhost:8080/",
          "height": 34
        },
        "outputId": "f08b402e-6810-4ba5-a919-993c164dd833"
      },
      "source": [
        "emptyList.append(8);\n",
        "emptyList"
      ],
      "execution_count": 24,
      "outputs": [
        {
          "output_type": "execute_result",
          "data": {
            "text/plain": [
              "[1, 2, 3, 4, 5, 6, 7, 8]"
            ]
          },
          "metadata": {
            "tags": []
          },
          "execution_count": 24
        }
      ]
    },
    {
      "cell_type": "code",
      "metadata": {
        "id": "jZ3hOoDASnli",
        "colab_type": "code",
        "colab": {
          "base_uri": "https://localhost:8080/",
          "height": 34
        },
        "outputId": "0daf3254-23f4-408d-bc88-06f4e23634ae"
      },
      "source": [
        "emptyList.append(9);\n",
        "emptyList"
      ],
      "execution_count": 25,
      "outputs": [
        {
          "output_type": "execute_result",
          "data": {
            "text/plain": [
              "[1, 2, 3, 4, 5, 6, 7, 8, 9]"
            ]
          },
          "metadata": {
            "tags": []
          },
          "execution_count": 25
        }
      ]
    },
    {
      "cell_type": "code",
      "metadata": {
        "id": "VSaKGdAeSnlm",
        "colab_type": "code",
        "colab": {
          "base_uri": "https://localhost:8080/",
          "height": 34
        },
        "outputId": "83e70aa0-2bb4-4103-84e0-c33a5aeae453"
      },
      "source": [
        "emptyList.append(10);\n",
        "emptyList"
      ],
      "execution_count": 26,
      "outputs": [
        {
          "output_type": "execute_result",
          "data": {
            "text/plain": [
              "[1, 2, 3, 4, 5, 6, 7, 8, 9, 10]"
            ]
          },
          "metadata": {
            "tags": []
          },
          "execution_count": 26
        }
      ]
    },
    {
      "cell_type": "markdown",
      "metadata": {
        "id": "Bz6xqdJcSnlq",
        "colab_type": "text"
      },
      "source": [
        "### len()"
      ]
    },
    {
      "cell_type": "markdown",
      "metadata": {
        "id": "36EU3ZmtSnlr",
        "colab_type": "text"
      },
      "source": [
        "Para saber o tamanho de uma lista use a função len()"
      ]
    },
    {
      "cell_type": "code",
      "metadata": {
        "id": "ea5OiEuBSnls",
        "colab_type": "code",
        "colab": {
          "base_uri": "https://localhost:8080/",
          "height": 34
        },
        "outputId": "7fb29aab-dc2f-422d-bf54-8854ed26b6f7"
      },
      "source": [
        "len(emptyList)"
      ],
      "execution_count": 27,
      "outputs": [
        {
          "output_type": "execute_result",
          "data": {
            "text/plain": [
              "10"
            ]
          },
          "metadata": {
            "tags": []
          },
          "execution_count": 27
        }
      ]
    },
    {
      "cell_type": "markdown",
      "metadata": {
        "id": "QEIEo-_SSnlw",
        "colab_type": "text"
      },
      "source": [
        "### del "
      ]
    },
    {
      "cell_type": "markdown",
      "metadata": {
        "id": "FTOW10aPSnlx",
        "colab_type": "text"
      },
      "source": [
        "Para deletar um item d euma lista digite o seguinte:  \n",
        "**del NomeDaLista[indice do item a ser deletado]**"
      ]
    },
    {
      "cell_type": "code",
      "metadata": {
        "id": "2bVYGuQaSnly",
        "colab_type": "code",
        "colab": {
          "base_uri": "https://localhost:8080/",
          "height": 34
        },
        "outputId": "8e2c9d8c-09d8-4f37-f8c0-b80ec7582b18"
      },
      "source": [
        "del emptyList[9];emptyList"
      ],
      "execution_count": 28,
      "outputs": [
        {
          "output_type": "execute_result",
          "data": {
            "text/plain": [
              "[1, 2, 3, 4, 5, 6, 7, 8, 9]"
            ]
          },
          "metadata": {
            "tags": []
          },
          "execution_count": 28
        }
      ]
    },
    {
      "cell_type": "code",
      "metadata": {
        "id": "NpdT5k3HSnl2",
        "colab_type": "code",
        "colab": {
          "base_uri": "https://localhost:8080/",
          "height": 34
        },
        "outputId": "89fb97e9-108a-4465-fb31-030fa5535928"
      },
      "source": [
        "del emptyList[0];emptyList"
      ],
      "execution_count": 29,
      "outputs": [
        {
          "output_type": "execute_result",
          "data": {
            "text/plain": [
              "[2, 3, 4, 5, 6, 7, 8, 9]"
            ]
          },
          "metadata": {
            "tags": []
          },
          "execution_count": 29
        }
      ]
    },
    {
      "cell_type": "code",
      "metadata": {
        "id": "cn8-J5vdSnl6",
        "colab_type": "code",
        "colab": {
          "base_uri": "https://localhost:8080/",
          "height": 34
        },
        "outputId": "3c9952a2-23f2-40eb-9bb6-bd5b7c680d8d"
      },
      "source": [
        "del emptyList[-1];emptyList"
      ],
      "execution_count": 30,
      "outputs": [
        {
          "output_type": "execute_result",
          "data": {
            "text/plain": [
              "[2, 3, 4, 5, 6, 7, 8]"
            ]
          },
          "metadata": {
            "tags": []
          },
          "execution_count": 30
        }
      ]
    },
    {
      "cell_type": "markdown",
      "metadata": {
        "id": "gW_-TSPRSnl_",
        "colab_type": "text"
      },
      "source": [
        "### extend( )\n",
        "\n",
        "Combina duas listas"
      ]
    },
    {
      "cell_type": "code",
      "metadata": {
        "id": "t-lCn7UJSnmA",
        "colab_type": "code",
        "colab": {
          "base_uri": "https://localhost:8080/",
          "height": 34
        },
        "outputId": "71a96985-8444-45f4-8c69-b7d2dd5ac805"
      },
      "source": [
        "minhaLista = ['a','b','c','d','e']\n",
        "minhaLista2 = [1, 2, 3, 4]\n",
        "minhaLista.extend(minhaLista2)\n",
        "print (minhaLista)"
      ],
      "execution_count": 31,
      "outputs": [
        {
          "output_type": "stream",
          "text": [
            "['a', 'b', 'c', 'd', 'e', 1, 2, 3, 4]\n"
          ],
          "name": "stdout"
        }
      ]
    },
    {
      "cell_type": "markdown",
      "metadata": {
        "id": "kV_yLRVKSnmE",
        "colab_type": "text"
      },
      "source": [
        "### in\n",
        "\n",
        "Checa se um ite, está numa lista"
      ]
    },
    {
      "cell_type": "code",
      "metadata": {
        "id": "M7A6WkMqSnmF",
        "colab_type": "code",
        "colab": {
          "base_uri": "https://localhost:8080/",
          "height": 34
        },
        "outputId": "17bdbce9-ecce-4bfa-af80-4a8eb69b8c0d"
      },
      "source": [
        "'e' in minhaLista"
      ],
      "execution_count": 32,
      "outputs": [
        {
          "output_type": "execute_result",
          "data": {
            "text/plain": [
              "True"
            ]
          },
          "metadata": {
            "tags": []
          },
          "execution_count": 32
        }
      ]
    },
    {
      "cell_type": "code",
      "metadata": {
        "id": "eHTOgYftSnmJ",
        "colab_type": "code",
        "colab": {
          "base_uri": "https://localhost:8080/",
          "height": 34
        },
        "outputId": "be33bcbe-9ff7-4c26-bebe-bfef12728b0c"
      },
      "source": [
        "5 in minhaLista"
      ],
      "execution_count": 33,
      "outputs": [
        {
          "output_type": "execute_result",
          "data": {
            "text/plain": [
              "False"
            ]
          },
          "metadata": {
            "tags": []
          },
          "execution_count": 33
        }
      ]
    },
    {
      "cell_type": "code",
      "metadata": {
        "id": "ISnFTkQiSnmN",
        "colab_type": "code",
        "colab": {
          "base_uri": "https://localhost:8080/",
          "height": 34
        },
        "outputId": "046caef3-f00d-4520-e258-50c270757e6f"
      },
      "source": [
        "'a' in minhaLista2"
      ],
      "execution_count": 34,
      "outputs": [
        {
          "output_type": "execute_result",
          "data": {
            "text/plain": [
              "False"
            ]
          },
          "metadata": {
            "tags": []
          },
          "execution_count": 34
        }
      ]
    },
    {
      "cell_type": "markdown",
      "metadata": {
        "id": "0QJzWrr4SnmS",
        "colab_type": "text"
      },
      "source": [
        "### insert()\n",
        "\n",
        "Insere um item em uma posição particular:  \n",
        "insert(indice daposição, elemento a inserir)"
      ]
    },
    {
      "cell_type": "code",
      "metadata": {
        "id": "c6TNSnalSnmT",
        "colab_type": "code",
        "colab": {
          "base_uri": "https://localhost:8080/",
          "height": 34
        },
        "outputId": "bb0d8025-8d32-4b8f-f8bf-f7a3749fb182"
      },
      "source": [
        "minhaLista = ['a','b']\n",
        "minhaLista"
      ],
      "execution_count": 35,
      "outputs": [
        {
          "output_type": "execute_result",
          "data": {
            "text/plain": [
              "['a', 'b']"
            ]
          },
          "metadata": {
            "tags": []
          },
          "execution_count": 35
        }
      ]
    },
    {
      "cell_type": "code",
      "metadata": {
        "id": "ufcQec_SSnmX",
        "colab_type": "code",
        "colab": {
          "base_uri": "https://localhost:8080/",
          "height": 34
        },
        "outputId": "49c16c41-a913-4c49-9fa7-01b03eef616b"
      },
      "source": [
        "minhaLista.insert(1,'c')\n",
        "minhaLista"
      ],
      "execution_count": 36,
      "outputs": [
        {
          "output_type": "execute_result",
          "data": {
            "text/plain": [
              "['a', 'c', 'b']"
            ]
          },
          "metadata": {
            "tags": []
          },
          "execution_count": 36
        }
      ]
    },
    {
      "cell_type": "code",
      "metadata": {
        "id": "jM9lRYXGSnmc",
        "colab_type": "code",
        "colab": {
          "base_uri": "https://localhost:8080/",
          "height": 34
        },
        "outputId": "a12027a1-5852-4021-af40-da9cd2ebe523"
      },
      "source": [
        "minhaLista.insert(-1,'c')\n",
        "minhaLista"
      ],
      "execution_count": 37,
      "outputs": [
        {
          "output_type": "execute_result",
          "data": {
            "text/plain": [
              "['a', 'c', 'c', 'b']"
            ]
          },
          "metadata": {
            "tags": []
          },
          "execution_count": 37
        }
      ]
    },
    {
      "cell_type": "code",
      "metadata": {
        "id": "uq3UeYs1Snmg",
        "colab_type": "code",
        "colab": {
          "base_uri": "https://localhost:8080/",
          "height": 34
        },
        "outputId": "3060b1c7-87b0-4769-e8a9-d8b55f6db630"
      },
      "source": [
        "minhaLista.insert(5,'c')\n",
        "minhaLista"
      ],
      "execution_count": 38,
      "outputs": [
        {
          "output_type": "execute_result",
          "data": {
            "text/plain": [
              "['a', 'c', 'c', 'b', 'c']"
            ]
          },
          "metadata": {
            "tags": []
          },
          "execution_count": 38
        }
      ]
    },
    {
      "cell_type": "markdown",
      "metadata": {
        "id": "CZWX5C6ISnmk",
        "colab_type": "text"
      },
      "source": [
        "### pop( )\n",
        "Obtenha o valor de um item e remova-o da lista\n",
        "Requer índice do item como parâmetro"
      ]
    },
    {
      "cell_type": "code",
      "metadata": {
        "id": "-Fw4-lRdSnml",
        "colab_type": "code",
        "colab": {
          "base_uri": "https://localhost:8080/",
          "height": 52
        },
        "outputId": "2bc59c89-135a-4c5e-eec8-0a209d64580d"
      },
      "source": [
        "elemento = minhaLista.pop(1)\n",
        "print(minhaLista)\n",
        "print(elemento)"
      ],
      "execution_count": 39,
      "outputs": [
        {
          "output_type": "stream",
          "text": [
            "['a', 'c', 'b', 'c']\n",
            "c\n"
          ],
          "name": "stdout"
        }
      ]
    },
    {
      "cell_type": "code",
      "metadata": {
        "id": "jItkZsnqSnmp",
        "colab_type": "code",
        "colab": {
          "base_uri": "https://localhost:8080/",
          "height": 52
        },
        "outputId": "cfe6c4cd-fe04-4149-e10d-7480a0cb61a5"
      },
      "source": [
        "elemento = minhaLista.pop(1)\n",
        "print(minhaLista)\n",
        "print(elemento)"
      ],
      "execution_count": 40,
      "outputs": [
        {
          "output_type": "stream",
          "text": [
            "['a', 'b', 'c']\n",
            "c\n"
          ],
          "name": "stdout"
        }
      ]
    },
    {
      "cell_type": "code",
      "metadata": {
        "id": "u2s7MeEQSnmu",
        "colab_type": "code",
        "colab": {
          "base_uri": "https://localhost:8080/",
          "height": 52
        },
        "outputId": "c0458117-ded9-48df-9b1b-ea208f837739"
      },
      "source": [
        "elemento = minhaLista.pop()\n",
        "print(minhaLista)\n",
        "print(elemento)"
      ],
      "execution_count": 41,
      "outputs": [
        {
          "output_type": "stream",
          "text": [
            "['a', 'b']\n",
            "c\n"
          ],
          "name": "stdout"
        }
      ]
    },
    {
      "cell_type": "code",
      "metadata": {
        "id": "SgKN_HbPSnmz",
        "colab_type": "code",
        "colab": {
          "base_uri": "https://localhost:8080/",
          "height": 52
        },
        "outputId": "675dd560-a9a9-4c00-8169-22f0ca0a1892"
      },
      "source": [
        "elemento = minhaLista.pop()\n",
        "print(minhaLista)\n",
        "print(elemento)"
      ],
      "execution_count": 42,
      "outputs": [
        {
          "output_type": "stream",
          "text": [
            "['a']\n",
            "b\n"
          ],
          "name": "stdout"
        }
      ]
    },
    {
      "cell_type": "markdown",
      "metadata": {
        "id": "cYA4SoeESnm3",
        "colab_type": "text"
      },
      "source": [
        "## remove( )\n",
        "Remova um item de uma lista. Requer o valor do item como parâmetro.\n"
      ]
    },
    {
      "cell_type": "code",
      "metadata": {
        "id": "GNsYp0YrSnm3",
        "colab_type": "code",
        "colab": {
          "base_uri": "https://localhost:8080/",
          "height": 34
        },
        "outputId": "2a2f3db3-36b4-442b-d87a-30806d86f371"
      },
      "source": [
        "minhaLista = ['a','b','c','d','e']\n",
        "minhaLista.remove('c')\n",
        "print(minhaLista)"
      ],
      "execution_count": 43,
      "outputs": [
        {
          "output_type": "stream",
          "text": [
            "['a', 'b', 'd', 'e']\n"
          ],
          "name": "stdout"
        }
      ]
    },
    {
      "cell_type": "markdown",
      "metadata": {
        "id": "EzKROYMmSnm7",
        "colab_type": "text"
      },
      "source": [
        "## reverse()\n",
        "Inverte os items de uma lista"
      ]
    },
    {
      "cell_type": "code",
      "metadata": {
        "id": "gj3nZ0i9Snm8",
        "colab_type": "code",
        "colab": {
          "base_uri": "https://localhost:8080/",
          "height": 34
        },
        "outputId": "714b4970-0f2a-4ece-ad93-207193ca5097"
      },
      "source": [
        "print(minhaLista2)"
      ],
      "execution_count": 44,
      "outputs": [
        {
          "output_type": "stream",
          "text": [
            "[1, 2, 3, 4]\n"
          ],
          "name": "stdout"
        }
      ]
    },
    {
      "cell_type": "code",
      "metadata": {
        "id": "IGEU51LQSnnA",
        "colab_type": "code",
        "colab": {
          "base_uri": "https://localhost:8080/",
          "height": 34
        },
        "outputId": "27d0baa3-88c7-48dc-e480-a6cac5a2b781"
      },
      "source": [
        "minhaLista2.reverse()\n",
        "print(minhaLista2)"
      ],
      "execution_count": 45,
      "outputs": [
        {
          "output_type": "stream",
          "text": [
            "[4, 3, 2, 1]\n"
          ],
          "name": "stdout"
        }
      ]
    },
    {
      "cell_type": "code",
      "metadata": {
        "id": "yWwiRM-oSnnE",
        "colab_type": "code",
        "colab": {
          "base_uri": "https://localhost:8080/",
          "height": 34
        },
        "outputId": "d1ae1ed6-b97e-459a-a109-cd4d6e110d38"
      },
      "source": [
        "minhaLista2.reverse()\n",
        "print(minhaLista2)"
      ],
      "execution_count": 46,
      "outputs": [
        {
          "output_type": "stream",
          "text": [
            "[1, 2, 3, 4]\n"
          ],
          "name": "stdout"
        }
      ]
    },
    {
      "cell_type": "markdown",
      "metadata": {
        "id": "uRzzezs4SnnJ",
        "colab_type": "text"
      },
      "source": [
        "## sort()\n",
        "Ordena uma lista alfabeticamente ou numericamente"
      ]
    },
    {
      "cell_type": "code",
      "metadata": {
        "id": "rjymnGBlSnnJ",
        "colab_type": "code",
        "colab": {}
      },
      "source": [
        "minhaLista = ['c','a','d','e','b']\n",
        "minhaLista2 = [6,5,3,2,1,0,4]"
      ],
      "execution_count": 0,
      "outputs": []
    },
    {
      "cell_type": "code",
      "metadata": {
        "id": "jXE-DywfSnnO",
        "colab_type": "code",
        "colab": {
          "base_uri": "https://localhost:8080/",
          "height": 34
        },
        "outputId": "776bc291-cd4d-4152-e9e3-b7ecba2585ba"
      },
      "source": [
        "minhaLista.sort()\n",
        "print(minhaLista)"
      ],
      "execution_count": 48,
      "outputs": [
        {
          "output_type": "stream",
          "text": [
            "['a', 'b', 'c', 'd', 'e']\n"
          ],
          "name": "stdout"
        }
      ]
    },
    {
      "cell_type": "code",
      "metadata": {
        "id": "t8_0tQuRSnnW",
        "colab_type": "code",
        "colab": {
          "base_uri": "https://localhost:8080/",
          "height": 34
        },
        "outputId": "8c7872b5-b718-44c6-8301-7158988a8609"
      },
      "source": [
        "minhaLista2.sort()\n",
        "print(minhaLista2)"
      ],
      "execution_count": 49,
      "outputs": [
        {
          "output_type": "stream",
          "text": [
            "[0, 1, 2, 3, 4, 5, 6]\n"
          ],
          "name": "stdout"
        }
      ]
    },
    {
      "cell_type": "code",
      "metadata": {
        "id": "s41G8_D2Snnb",
        "colab_type": "code",
        "colab": {
          "base_uri": "https://localhost:8080/",
          "height": 34
        },
        "outputId": "4905c3be-ff4b-4188-d0b1-fd7e713625e3"
      },
      "source": [
        "minhaLista2"
      ],
      "execution_count": 50,
      "outputs": [
        {
          "output_type": "execute_result",
          "data": {
            "text/plain": [
              "[0, 1, 2, 3, 4, 5, 6]"
            ]
          },
          "metadata": {
            "tags": []
          },
          "execution_count": 50
        }
      ]
    },
    {
      "cell_type": "markdown",
      "metadata": {
        "id": "5Pli0b5wSnni",
        "colab_type": "text"
      },
      "source": [
        "## sorted()\n",
        "Retorne uma nova lista classificada sem classificar a lista original.  \n",
        "Requer uma lista como parâmetro"
      ]
    },
    {
      "cell_type": "code",
      "metadata": {
        "id": "uRDJQlAJSnni",
        "colab_type": "code",
        "colab": {
          "base_uri": "https://localhost:8080/",
          "height": 52
        },
        "outputId": "22145b88-0bbb-4bfa-f30d-efb4b63e7e18"
      },
      "source": [
        "minhaLista = [3, 0, -1, 4, 6]\n",
        "minhaLista2 = sorted(minhaLista)\n",
        "print (minhaLista)\n",
        "print (minhaLista2)"
      ],
      "execution_count": 51,
      "outputs": [
        {
          "output_type": "stream",
          "text": [
            "[3, 0, -1, 4, 6]\n",
            "[-1, 0, 3, 4, 6]\n"
          ],
          "name": "stdout"
        }
      ]
    },
    {
      "cell_type": "code",
      "metadata": {
        "id": "LMPINlD_Snnp",
        "colab_type": "code",
        "colab": {
          "base_uri": "https://localhost:8080/",
          "height": 52
        },
        "outputId": "7996be45-b1b6-4150-9101-731a25c7f6a2"
      },
      "source": [
        "minhaLista = ['a', 'b', 'c','e','d']\n",
        "print(minhaLista+ ['f','g','h','i','j'])\n",
        "print (minhaLista)"
      ],
      "execution_count": 52,
      "outputs": [
        {
          "output_type": "stream",
          "text": [
            "['a', 'b', 'c', 'e', 'd', 'f', 'g', 'h', 'i', 'j']\n",
            "['a', 'b', 'c', 'e', 'd']\n"
          ],
          "name": "stdout"
        }
      ]
    },
    {
      "cell_type": "code",
      "metadata": {
        "id": "2JO3FbC8Snns",
        "colab_type": "code",
        "colab": {
          "base_uri": "https://localhost:8080/",
          "height": 52
        },
        "outputId": "96bd0014-e618-4fc5-ce90-16d1b6680ac2"
      },
      "source": [
        "print(minhaLista*3)\n",
        "print (minhaLista)"
      ],
      "execution_count": 53,
      "outputs": [
        {
          "output_type": "stream",
          "text": [
            "['a', 'b', 'c', 'e', 'd', 'a', 'b', 'c', 'e', 'd', 'a', 'b', 'c', 'e', 'd']\n",
            "['a', 'b', 'c', 'e', 'd']\n"
          ],
          "name": "stdout"
        }
      ]
    },
    {
      "cell_type": "markdown",
      "metadata": {
        "id": "6uBnc7knSnnv",
        "colab_type": "text"
      },
      "source": [
        "### Nota:\n",
        "Os símbolos + e * não modificam a lista. A lista permanece como ['a', 'b', 'c' e 'd'] nos dois casos."
      ]
    },
    {
      "cell_type": "markdown",
      "metadata": {
        "id": "EHOXT5WbSnnw",
        "colab_type": "text"
      },
      "source": [
        "## Parte II: Fazendo escolhas e decisões \n",
        "Parabéns!!\n",
        "você chegou a uma das partes mais interessantes.   \n",
        "Espero que você tenha gostado do curso até agora.   \n",
        "Neste parte, veremos como tornar seu programa mais inteligente, capaz de fazer escolhas e decisões.  \n",
        "Especificamente, veremos a instrução **if**, os loops **for** e **while**.  \n",
        "Eles são conhecidos como ferramentas de controle de fluxo; eles controlam o fluxo do programa.  \n",
        "Além disso, veremos também o **try**, uma a declaração que determina o que o programa deve fazer quando ocorrer um erro.  No entanto, antes de entrarmos nessas ferramentas de fluxo de controle, precisamos primeiro examinar as instruções de condição."
      ]
    },
    {
      "cell_type": "markdown",
      "metadata": {
        "id": "6q1jDKE0Snnw",
        "colab_type": "text"
      },
      "source": [
        "### Declarações de Condição"
      ]
    },
    {
      "cell_type": "markdown",
      "metadata": {
        "id": "8Zkced_ISnnx",
        "colab_type": "text"
      },
      "source": [
        "## Instruções de condição\n",
        "Todas as ferramentas de controle de fluxo envolvem a avaliação de uma declaração de condição. O programa continuará diferente, dependendo se a condição for atendida.  \n",
        "A declaração de condição mais comum é a declaração de comparação.  \n",
        "Se quisermos comparar se duas variáveis são iguais, usamos o sinal == (double =).   \n",
        "Por exemplo, se você escrever x == y, estará solicitando ao programa que verifique se o valor de x é igual ao valor de y.   Se forem iguais, a condição será atendida e a declaração será avaliada como **True**. Senão, a declaração será avaliada como **False**.\n",
        "Outros sinais de comparação incluem != (diferente de), <(menor que),> (maior que), <= (menor ou igual a) e> = (maior ou igual a).   \n",
        "A seguir é mostrado como esses sinais podem ser usados e são fornecidos exemplos de declarações que serão avaliadas como True."
      ]
    },
    {
      "cell_type": "code",
      "metadata": {
        "id": "qaTpCdRVSnnx",
        "colab_type": "code",
        "colab": {
          "base_uri": "https://localhost:8080/",
          "height": 34
        },
        "outputId": "385ea36e-9b58-4a59-a272-5a493cb3434b"
      },
      "source": [
        "5 != 3"
      ],
      "execution_count": 54,
      "outputs": [
        {
          "output_type": "execute_result",
          "data": {
            "text/plain": [
              "True"
            ]
          },
          "metadata": {
            "tags": []
          },
          "execution_count": 54
        }
      ]
    },
    {
      "cell_type": "code",
      "metadata": {
        "id": "2KtMiF5xSnn3",
        "colab_type": "code",
        "colab": {
          "base_uri": "https://localhost:8080/",
          "height": 34
        },
        "outputId": "f0a3106c-5f66-42c9-b8ff-f729a8b28640"
      },
      "source": [
        "6 <= 7"
      ],
      "execution_count": 55,
      "outputs": [
        {
          "output_type": "execute_result",
          "data": {
            "text/plain": [
              "True"
            ]
          },
          "metadata": {
            "tags": []
          },
          "execution_count": 55
        }
      ]
    },
    {
      "cell_type": "code",
      "metadata": {
        "id": "kHiGJ69MSnn9",
        "colab_type": "code",
        "colab": {
          "base_uri": "https://localhost:8080/",
          "height": 34
        },
        "outputId": "d1cc2e9f-dcef-41ff-e629-1afeafa14ac6"
      },
      "source": [
        "7 >= 6"
      ],
      "execution_count": 56,
      "outputs": [
        {
          "output_type": "execute_result",
          "data": {
            "text/plain": [
              "True"
            ]
          },
          "metadata": {
            "tags": []
          },
          "execution_count": 56
        }
      ]
    },
    {
      "cell_type": "code",
      "metadata": {
        "id": "gtnt9N6ESnoA",
        "colab_type": "code",
        "colab": {
          "base_uri": "https://localhost:8080/",
          "height": 34
        },
        "outputId": "c2b035f4-81b9-4c93-c7e5-26c26bda22ef"
      },
      "source": [
        "6 >= 7"
      ],
      "execution_count": 57,
      "outputs": [
        {
          "output_type": "execute_result",
          "data": {
            "text/plain": [
              "False"
            ]
          },
          "metadata": {
            "tags": []
          },
          "execution_count": 57
        }
      ]
    },
    {
      "cell_type": "code",
      "metadata": {
        "id": "vOean2cKSnoE",
        "colab_type": "code",
        "colab": {
          "base_uri": "https://localhost:8080/",
          "height": 34
        },
        "outputId": "3bb90e73-9cdf-4eef-b621-d42159cfa8f7"
      },
      "source": [
        "7 <= 6"
      ],
      "execution_count": 58,
      "outputs": [
        {
          "output_type": "execute_result",
          "data": {
            "text/plain": [
              "False"
            ]
          },
          "metadata": {
            "tags": []
          },
          "execution_count": 58
        }
      ]
    },
    {
      "cell_type": "markdown",
      "metadata": {
        "id": "Fd7AL1mjSnoH",
        "colab_type": "text"
      },
      "source": [
        "## Instrução If\n",
        "A instrução if é uma das instruções de fluxo de controle mais usadas.   \n",
        "A instrução if ermite ao programa avaliar se uma determinada condição é atendida uma ação apropriada é executada com base no resultado da avaliação.   \n",
        "A estrutura de uma instrução if é a seguinte:\n",
        "\n",
        "if condiçaõ 1 é encontrada:  \n",
        "     . faça A  \n",
        "elif condição 2 é encontrada:  \n",
        "      . faça B  \n",
        "elif condição 3 é encontrada:  \n",
        "      . faça C  \n",
        "elif condição 4 é encontrada:  \n",
        "      . faça D  \n",
        "else:  \n",
        "      . faça E  \n",
        "\n",
        "elif significa \"else if\" (senão se) e você pode ter quantas declarações elif quiser."
      ]
    },
    {
      "cell_type": "code",
      "metadata": {
        "id": "pGHvqCKqSnoI",
        "colab_type": "code",
        "colab": {}
      },
      "source": [
        "# condições\n",
        "\n",
        "a = 5\n",
        "b = 2\n",
        "c = 6\n",
        "d = 5"
      ],
      "execution_count": 0,
      "outputs": []
    },
    {
      "cell_type": "code",
      "metadata": {
        "id": "BSwaVKJvSnoK",
        "colab_type": "code",
        "colab": {
          "base_uri": "https://localhost:8080/",
          "height": 34
        },
        "outputId": "3f6c1ec8-bb92-436c-d4cb-a3e403b9e1f5"
      },
      "source": [
        "if a > b:\n",
        "    print('a é maior que b')\n",
        "elif a<b:\n",
        "    print('a é menor que b')\n",
        "else:\n",
        "    print('a é igual a b')"
      ],
      "execution_count": 60,
      "outputs": [
        {
          "output_type": "stream",
          "text": [
            "a é maior que b\n"
          ],
          "name": "stdout"
        }
      ]
    },
    {
      "cell_type": "code",
      "metadata": {
        "id": "_kl8oBtTSnoO",
        "colab_type": "code",
        "colab": {}
      },
      "source": [
        ""
      ],
      "execution_count": 0,
      "outputs": []
    },
    {
      "cell_type": "code",
      "metadata": {
        "id": "dxWIBacgSnoQ",
        "colab_type": "code",
        "colab": {
          "base_uri": "https://localhost:8080/",
          "height": 34
        },
        "outputId": "50c3d194-4c31-43f1-8564-92812f88343e"
      },
      "source": [
        "if a > c:\n",
        "    print('a é maior que c')\n",
        "elif a<c:\n",
        "    print('a é menor que c')\n",
        "else:\n",
        "    print('a é igual a c')"
      ],
      "execution_count": 61,
      "outputs": [
        {
          "output_type": "stream",
          "text": [
            "a é menor que c\n"
          ],
          "name": "stdout"
        }
      ]
    },
    {
      "cell_type": "code",
      "metadata": {
        "id": "eOJZrLEiSnoT",
        "colab_type": "code",
        "colab": {
          "base_uri": "https://localhost:8080/",
          "height": 34
        },
        "outputId": "94331d1a-796c-4889-c208-5b5c8198ac2e"
      },
      "source": [
        "if a > c:\n",
        "    print('a é maior que c')\n",
        "elif a<c:\n",
        "    print('a é menor que c')\n",
        "else:\n",
        "    print('a é igual a c')"
      ],
      "execution_count": 62,
      "outputs": [
        {
          "output_type": "stream",
          "text": [
            "a é menor que c\n"
          ],
          "name": "stdout"
        }
      ]
    },
    {
      "cell_type": "code",
      "metadata": {
        "id": "AVrKMT9rSnoW",
        "colab_type": "code",
        "colab": {
          "base_uri": "https://localhost:8080/",
          "height": 34
        },
        "outputId": "f8e6a2cc-7f85-4dc3-869e-e4aa6df0e9c4"
      },
      "source": [
        "if a > d:\n",
        "    print('a é maior que d')\n",
        "elif a<d:\n",
        "    print('a é menor que d')\n",
        "else:\n",
        "    print('a é igual a c')"
      ],
      "execution_count": 63,
      "outputs": [
        {
          "output_type": "stream",
          "text": [
            "a é igual a c\n"
          ],
          "name": "stdout"
        }
      ]
    },
    {
      "cell_type": "markdown",
      "metadata": {
        "id": "pEFdINJASnoZ",
        "colab_type": "text"
      },
      "source": [
        "## Inline If"
      ]
    },
    {
      "cell_type": "markdown",
      "metadata": {
        "id": "p_N8iggvSnoZ",
        "colab_type": "text"
      },
      "source": [
        "Uma instrução if inline é uma forma mais simples de uma instrução if e é mais conveniente se você precisar executar apenas uma tarefa simples.   \n",
        "A sintaxe é:\n",
        "**execute a Tarefa A se a condição for verdadeira, caso contrário faça a Tarefa B**  \n",
        "Por exemplo,"
      ]
    },
    {
      "cell_type": "markdown",
      "metadata": {
        "id": "opRhYADhSnoa",
        "colab_type": "text"
      },
      "source": [
        "meuInteiro =11\n",
        "num1 = 12 if meuInteiro==10 else 13\n",
        "print(num1)"
      ]
    },
    {
      "cell_type": "code",
      "metadata": {
        "id": "AUXcc8PwSnob",
        "colab_type": "code",
        "colab": {
          "base_uri": "https://localhost:8080/",
          "height": 34
        },
        "outputId": "5dc85f44-cb57-4770-decc-9ab41e9d7348"
      },
      "source": [
        "meuInteiro =10\n",
        "num1 = 12 if meuInteiro==10 else 13\n",
        "print(num1)"
      ],
      "execution_count": 64,
      "outputs": [
        {
          "output_type": "stream",
          "text": [
            "12\n"
          ],
          "name": "stdout"
        }
      ]
    },
    {
      "cell_type": "code",
      "metadata": {
        "id": "7PuN1pR-Snoh",
        "colab_type": "code",
        "colab": {
          "base_uri": "https://localhost:8080/",
          "height": 34
        },
        "outputId": "10519cc7-f846-4226-9f7d-1c6c98dd6008"
      },
      "source": [
        "meuInteiro =11\n",
        "num1 = 12 if meuInteiro==10 else 13\n",
        "print(num1)"
      ],
      "execution_count": 65,
      "outputs": [
        {
          "output_type": "stream",
          "text": [
            "13\n"
          ],
          "name": "stdout"
        }
      ]
    },
    {
      "cell_type": "markdown",
      "metadata": {
        "id": "UwsUgLQiSnoj",
        "colab_type": "text"
      },
      "source": [
        "Esta instrução atribui 12 ao num1 (Tarefa A) se meuInteiro for igual a 10. Caso contrário, atribui 13 ao num1\n",
        "(Tarefa B)."
      ]
    },
    {
      "cell_type": "code",
      "metadata": {
        "id": "n8ryjVYQSnok",
        "colab_type": "code",
        "colab": {
          "base_uri": "https://localhost:8080/",
          "height": 34
        },
        "outputId": "3bc50a46-cc38-41d3-8f07-ff17fabda33a"
      },
      "source": [
        "print('Esta é a tarefa A' if meuInteiro == 10 else 'Essa é a tarefa B')"
      ],
      "execution_count": 66,
      "outputs": [
        {
          "output_type": "stream",
          "text": [
            "Essa é a tarefa B\n"
          ],
          "name": "stdout"
        }
      ]
    },
    {
      "cell_type": "code",
      "metadata": {
        "id": "YWUlC0SWSnon",
        "colab_type": "code",
        "colab": {}
      },
      "source": [
        "meuInteiro =10"
      ],
      "execution_count": 0,
      "outputs": []
    },
    {
      "cell_type": "code",
      "metadata": {
        "id": "rUNcIwG-Snoq",
        "colab_type": "code",
        "colab": {
          "base_uri": "https://localhost:8080/",
          "height": 34
        },
        "outputId": "4703bb23-9f24-44a0-b95c-f6ea986097a9"
      },
      "source": [
        "print('Esta é a tarefa A' if meuInteiro == 10 else 'Essa é a tarefa B')"
      ],
      "execution_count": 68,
      "outputs": [
        {
          "output_type": "stream",
          "text": [
            "Esta é a tarefa A\n"
          ],
          "name": "stdout"
        }
      ]
    },
    {
      "cell_type": "markdown",
      "metadata": {
        "id": "B0LVjpEdSnou",
        "colab_type": "text"
      },
      "source": [
        "## O Loop For\n",
        "Vejamos o loop for.   \n",
        "O loop for executa um bloco de código repetidamente até que a condição na instrução for não seja mais válida.  \n",
        "Loop através de um iterável No Python, um iterável se refere a qualquer coisa que possa ser repetida, como uma string, lista ou tupla.  \n",
        "A sintaxe para fazer um loop através de uma iterável é a seguinte:\n",
        "\n",
        "for a in iterable:  \n",
        "   . print (a)  \n",
        "Examplo:"
      ]
    },
    {
      "cell_type": "code",
      "metadata": {
        "id": "_rUi-mi7Snov",
        "colab_type": "code",
        "colab": {}
      },
      "source": [
        "pets = ['gatos','cães', 'coelhos','hamsters']\n"
      ],
      "execution_count": 0,
      "outputs": []
    },
    {
      "cell_type": "code",
      "metadata": {
        "id": "XUyTzekSSnox",
        "colab_type": "code",
        "colab": {
          "base_uri": "https://localhost:8080/",
          "height": 87
        },
        "outputId": "7846bf62-a1d5-4d5b-9f34-a7abb735b70e"
      },
      "source": [
        "for myPet in pets:\n",
        "    print(myPet)"
      ],
      "execution_count": 70,
      "outputs": [
        {
          "output_type": "stream",
          "text": [
            "gatos\n",
            "cães\n",
            "coelhos\n",
            "hamsters\n"
          ],
          "name": "stdout"
        }
      ]
    },
    {
      "cell_type": "markdown",
      "metadata": {
        "id": "K-2swjn6Sno1",
        "colab_type": "text"
      },
      "source": [
        "No programa acima, declaramos primeiro a lista de animais de estimação e damos aos membros 'gatos', 'cães', 'coelhos' e 'hamsters'. A seguir, a declaração para myPets em animais de estimação: percorre a lista de animais de estimação e atribui cada membro da lista à variável myPets.\n",
        "Na primeira vez em que o programa executa o loop for, ele atribui \"gatos\" à variável myPets. A declaração print (myPets) imprime o valor \"gatos\". A segunda vez que o\n",
        "programa percorre a instrução for, atribui o valor 'cães' a myPets e imprime o valor 'cães'. O programa continua percorrendo a lista até o final da lista."
      ]
    },
    {
      "cell_type": "code",
      "metadata": {
        "id": "kWakcQ8dSno1",
        "colab_type": "code",
        "colab": {
          "base_uri": "https://localhost:8080/",
          "height": 158
        },
        "outputId": "d44e4a24-7c92-4724-cafe-0b8e9db3377a"
      },
      "source": [
        "myOwnPet = 'lagarto'\n",
        "pets = ['gato','cachorro','coelho','hamster', 'peixe', 'tartaruga', 'cobra', 'lagarto']\n",
        "for myPet in pets:\n",
        "    print('Meu pet é um '+myPet if  myOwnPet == myPet else 'Meu pet não é um '+myPet)"
      ],
      "execution_count": 71,
      "outputs": [
        {
          "output_type": "stream",
          "text": [
            "Meu pet não é um gato\n",
            "Meu pet não é um cachorro\n",
            "Meu pet não é um coelho\n",
            "Meu pet não é um hamster\n",
            "Meu pet não é um peixe\n",
            "Meu pet não é um tartaruga\n",
            "Meu pet não é um cobra\n",
            "Meu pet é um lagarto\n"
          ],
          "name": "stdout"
        }
      ]
    },
    {
      "cell_type": "markdown",
      "metadata": {
        "id": "ZDrRQ_tFSno5",
        "colab_type": "text"
      },
      "source": [
        "### Função enumerate()\n",
        "\n",
        "Também podemos exibir o índice dos membros na lista. Para fazer isso, usamos a função enumerate ()."
      ]
    },
    {
      "cell_type": "code",
      "metadata": {
        "id": "WJwLhcZfSno6",
        "colab_type": "code",
        "colab": {
          "base_uri": "https://localhost:8080/",
          "height": 158
        },
        "outputId": "6ddecb93-a991-47c4-d1bb-e28a271e1f54"
      },
      "source": [
        "for index, myPets in enumerate(pets):\n",
        "    print (index, myPets)"
      ],
      "execution_count": 72,
      "outputs": [
        {
          "output_type": "stream",
          "text": [
            "0 gato\n",
            "1 cachorro\n",
            "2 coelho\n",
            "3 hamster\n",
            "4 peixe\n",
            "5 tartaruga\n",
            "6 cobra\n",
            "7 lagarto\n"
          ],
          "name": "stdout"
        }
      ]
    },
    {
      "cell_type": "code",
      "metadata": {
        "id": "kJTpfODJSno-",
        "colab_type": "code",
        "colab": {
          "base_uri": "https://localhost:8080/",
          "height": 34
        },
        "outputId": "44e039f1-03ed-451b-d6a7-b8e81738b2e0"
      },
      "source": [
        "index"
      ],
      "execution_count": 73,
      "outputs": [
        {
          "output_type": "execute_result",
          "data": {
            "text/plain": [
              "7"
            ]
          },
          "metadata": {
            "tags": []
          },
          "execution_count": 73
        }
      ]
    },
    {
      "cell_type": "code",
      "metadata": {
        "id": "As66mq6NSnpC",
        "colab_type": "code",
        "colab": {
          "base_uri": "https://localhost:8080/",
          "height": 158
        },
        "outputId": "d34b6fa5-5e7d-43ea-8865-fd84eadb88f1"
      },
      "source": [
        "for index, myPets in enumerate(pets):\n",
        "    print (index)"
      ],
      "execution_count": 74,
      "outputs": [
        {
          "output_type": "stream",
          "text": [
            "0\n",
            "1\n",
            "2\n",
            "3\n",
            "4\n",
            "5\n",
            "6\n",
            "7\n"
          ],
          "name": "stdout"
        }
      ]
    },
    {
      "cell_type": "code",
      "metadata": {
        "id": "rvvejdODSnpG",
        "colab_type": "code",
        "colab": {
          "base_uri": "https://localhost:8080/",
          "height": 158
        },
        "outputId": "1d6c2682-4a64-44f8-9fab-02aaedd938db"
      },
      "source": [
        "ind = []\n",
        "for index, myPets in enumerate(pets):\n",
        "    print (index, myPets)\n",
        "    ind.append(index)"
      ],
      "execution_count": 75,
      "outputs": [
        {
          "output_type": "stream",
          "text": [
            "0 gato\n",
            "1 cachorro\n",
            "2 coelho\n",
            "3 hamster\n",
            "4 peixe\n",
            "5 tartaruga\n",
            "6 cobra\n",
            "7 lagarto\n"
          ],
          "name": "stdout"
        }
      ]
    },
    {
      "cell_type": "code",
      "metadata": {
        "id": "AZPmg2yCSnpL",
        "colab_type": "code",
        "colab": {
          "base_uri": "https://localhost:8080/",
          "height": 34
        },
        "outputId": "6042dec7-9d55-4ba3-e2bd-411ddfad6b5e"
      },
      "source": [
        "ind"
      ],
      "execution_count": 76,
      "outputs": [
        {
          "output_type": "execute_result",
          "data": {
            "text/plain": [
              "[0, 1, 2, 3, 4, 5, 6, 7]"
            ]
          },
          "metadata": {
            "tags": []
          },
          "execution_count": 76
        }
      ]
    },
    {
      "cell_type": "markdown",
      "metadata": {
        "id": "l-BbY2CwSnpO",
        "colab_type": "text"
      },
      "source": [
        "### Loop For em Strings"
      ]
    },
    {
      "cell_type": "code",
      "metadata": {
        "id": "VwM3e4EoSnpP",
        "colab_type": "code",
        "colab": {
          "base_uri": "https://localhost:8080/",
          "height": 210
        },
        "outputId": "8b9b3d1a-f6cf-4270-cef2-5db5a7264480"
      },
      "source": [
        "mensagem = 'Hello World'\n",
        "for i in mensagem:\n",
        "    print(i+'-')"
      ],
      "execution_count": 77,
      "outputs": [
        {
          "output_type": "stream",
          "text": [
            "H-\n",
            "e-\n",
            "l-\n",
            "l-\n",
            "o-\n",
            " -\n",
            "W-\n",
            "o-\n",
            "r-\n",
            "l-\n",
            "d-\n"
          ],
          "name": "stdout"
        }
      ]
    },
    {
      "cell_type": "markdown",
      "metadata": {
        "id": "6M2v-QSISnpS",
        "colab_type": "text"
      },
      "source": [
        "### Loop através de uma sequência de números\n",
        "Para percorrer uma sequência de números, a função **range()** é bastante útil.\n",
        "A função **range()** gera uma lista de números e possui o intervalo de sintaxe (início, fim, passo). O incio é o primeiro número, fim é o ultimo número e passo é a quntidade de números em cada iteração do loop for.   \n",
        "Se o início não for dado, os números gerados começarão do zero."
      ]
    },
    {
      "cell_type": "code",
      "metadata": {
        "id": "E5GM4ZNbSnpT",
        "colab_type": "code",
        "colab": {
          "base_uri": "https://localhost:8080/",
          "height": 105
        },
        "outputId": "6ca57d9e-9ae7-42f4-c76d-a985982462b8"
      },
      "source": [
        "for i in range(5):\n",
        "    print(i)"
      ],
      "execution_count": 78,
      "outputs": [
        {
          "output_type": "stream",
          "text": [
            "0\n",
            "1\n",
            "2\n",
            "3\n",
            "4\n"
          ],
          "name": "stdout"
        }
      ]
    },
    {
      "cell_type": "code",
      "metadata": {
        "id": "dqABGmrsSnpY",
        "colab_type": "code",
        "colab": {
          "base_uri": "https://localhost:8080/",
          "height": 87
        },
        "outputId": "1e6ec2a5-8379-4381-fe22-9f39c8256bd5"
      },
      "source": [
        "for i in range(1,5):\n",
        "    print(i)"
      ],
      "execution_count": 79,
      "outputs": [
        {
          "output_type": "stream",
          "text": [
            "1\n",
            "2\n",
            "3\n",
            "4\n"
          ],
          "name": "stdout"
        }
      ]
    },
    {
      "cell_type": "code",
      "metadata": {
        "id": "O_szh-TtSnpa",
        "colab_type": "code",
        "colab": {
          "base_uri": "https://localhost:8080/",
          "height": 105
        },
        "outputId": "30ae772f-498d-4520-9d51-36dc8ce8ed2e"
      },
      "source": [
        "for i in range(1,6):\n",
        "    print(i)"
      ],
      "execution_count": 80,
      "outputs": [
        {
          "output_type": "stream",
          "text": [
            "1\n",
            "2\n",
            "3\n",
            "4\n",
            "5\n"
          ],
          "name": "stdout"
        }
      ]
    },
    {
      "cell_type": "markdown",
      "metadata": {
        "id": "kzhqCKWJSnpe",
        "colab_type": "text"
      },
      "source": [
        "### Importante\n",
        "Observe que o range considera o 0 portanto o range 5 vai de 0 até 4, o range 1,5 vai de 1 até 4 e range(1,6) vai de 1 até 5."
      ]
    },
    {
      "cell_type": "markdown",
      "metadata": {
        "id": "k2UU1OAeSnpf",
        "colab_type": "text"
      },
      "source": [
        "###### Nota:  \n",
        "    Uma dica útil a ser lembrada aqui é que, em Python (e na maioria das linguagens de programação), a menos que seja indicado o contrário, sempre começamos do zero.   \n",
        "    Por exemplo, o índice de uma lista e uma tupla começa do zero.\n",
        "\n",
        "Ao usar a função **range()**, se o início não for fornecido, os números gerados começarão do zero.  \n",
        "Se o passo não for dado, será gerada uma lista de números consecutivos (ou seja, passo = 1).  \n",
        "O valor final deve ser fornecido. No entanto, uma coisa estranha sobre a função range () é que o valor final fornecido nunca faz parte da lista gerada.  \n",
        "Por exemplo:   \n",
        "    O range(5) gerará a lista [0, 1, 2, 3, 4]   \n",
        "    O range(3, 10) gerará [3, 4, 5, 6, 7, 8, 9]   \n",
        "    O range(4, 10, 2) gerará [4, 6, 8]"
      ]
    },
    {
      "cell_type": "code",
      "metadata": {
        "id": "a3ly5RikSnpf",
        "colab_type": "code",
        "colab": {
          "base_uri": "https://localhost:8080/",
          "height": 122
        },
        "outputId": "1937aecd-ba82-477d-97f0-e41a57ef43a2"
      },
      "source": [
        "for i in range(0,60,10):\n",
        "    print (i)"
      ],
      "execution_count": 81,
      "outputs": [
        {
          "output_type": "stream",
          "text": [
            "0\n",
            "10\n",
            "20\n",
            "30\n",
            "40\n",
            "50\n"
          ],
          "name": "stdout"
        }
      ]
    },
    {
      "cell_type": "code",
      "metadata": {
        "id": "q2eWDzRTSnpi",
        "colab_type": "code",
        "colab": {
          "base_uri": "https://localhost:8080/",
          "height": 87
        },
        "outputId": "edc72c0a-3d03-4b90-9c5c-58bdec2e40a2"
      },
      "source": [
        "for i in range(100,60,-10):\n",
        "    print (i)"
      ],
      "execution_count": 82,
      "outputs": [
        {
          "output_type": "stream",
          "text": [
            "100\n",
            "90\n",
            "80\n",
            "70\n"
          ],
          "name": "stdout"
        }
      ]
    },
    {
      "cell_type": "markdown",
      "metadata": {
        "id": "6Wsp_joXSnpl",
        "colab_type": "text"
      },
      "source": [
        "## Loop While\n",
        "A próxima declaração de fluxo de controle que examinaremos é o loop while. Como o nome sugere, um loop while executa repetidamente instruções dentro do loop **enquanto uma determinada condição permanece válida**.   \n",
        "A estrutura de uma instrução while é a seguinte:\n",
        "### enquanto a condição for verdadeira:   \n",
        "###        faça A\n",
        "Na maioria das vezes, ao usar um loop while, precisamos primeiro declarar uma variável para funcionar como um contador de loop.  \n",
        "Vamos ver um exemplo"
      ]
    },
    {
      "cell_type": "code",
      "metadata": {
        "id": "M_RBQGmDSnpl",
        "colab_type": "code",
        "colab": {
          "base_uri": "https://localhost:8080/",
          "height": 105
        },
        "outputId": "13b75de8-595d-4ae6-ba34-636e81c6fd2e"
      },
      "source": [
        "\n",
        "contador = 5 # Vamos estabelecer um valor incial para contador\n",
        "while contador > 0: # Vamos estabelecer uma condição enaunqto o valor de contador for maior que 0 faça o seguintye\n",
        "    print('Contador = ', contador) # Execute a impressão\n",
        "    contador = contador - 1 # Não esqueça essa linha\n",
        "    \n"
      ],
      "execution_count": 83,
      "outputs": [
        {
          "output_type": "stream",
          "text": [
            "Contador =  5\n",
            "Contador =  4\n",
            "Contador =  3\n",
            "Contador =  2\n",
            "Contador =  1\n"
          ],
          "name": "stdout"
        }
      ]
    },
    {
      "cell_type": "markdown",
      "metadata": {
        "id": "OQzkBETXSnpo",
        "colab_type": "text"
      },
      "source": [
        "## Porque não podemos esquecer a linha 5 ?"
      ]
    },
    {
      "cell_type": "markdown",
      "metadata": {
        "id": "RcLoX-7kSnpp",
        "colab_type": "text"
      },
      "source": [
        "Por que do caso contrário o loop não teria fim, o valor de contador contnuaria a ser igaul 5 para sempre e consquentemente seria maior que 0 eternamente."
      ]
    },
    {
      "cell_type": "markdown",
      "metadata": {
        "id": "H6Pk-wXHSnpp",
        "colab_type": "text"
      },
      "source": [
        "## Break\n",
        "Ao trabalhar com loops, às vezes você pode sair do loop inteiro quando uma determinada condição for atendida.  \n",
        "Para fazer isso, usamos a palavra-chave break. Execute o programa a seguir para ver como ele funciona."
      ]
    },
    {
      "cell_type": "code",
      "metadata": {
        "id": "31nC6Ej1Snpr",
        "colab_type": "code",
        "colab": {
          "base_uri": "https://localhost:8080/",
          "height": 105
        },
        "outputId": "efd51fca-bbc5-4a84-a8d4-66650d55583f"
      },
      "source": [
        "j = 0\n",
        "for i in range(5):\n",
        "    j = j + 2\n",
        "    print ('i =', i,' j =', j)\n",
        "    if j == 12:\n",
        "        break"
      ],
      "execution_count": 84,
      "outputs": [
        {
          "output_type": "stream",
          "text": [
            "i = 0  j = 2\n",
            "i = 1  j = 4\n",
            "i = 2  j = 6\n",
            "i = 3  j = 8\n",
            "i = 4  j = 10\n"
          ],
          "name": "stdout"
        }
      ]
    },
    {
      "cell_type": "code",
      "metadata": {
        "id": "8EM79p_6Snpu",
        "colab_type": "code",
        "colab": {
          "base_uri": "https://localhost:8080/",
          "height": 122
        },
        "outputId": "28a4d740-acc6-467f-fdfe-e3bb87d50db7"
      },
      "source": [
        "j = 0\n",
        "for i in range(20):\n",
        "    j = j + 2\n",
        "    print ('i =', i,' j =', j)\n",
        "    if j == 12:\n",
        "        break"
      ],
      "execution_count": 85,
      "outputs": [
        {
          "output_type": "stream",
          "text": [
            "i = 0  j = 2\n",
            "i = 1  j = 4\n",
            "i = 2  j = 6\n",
            "i = 3  j = 8\n",
            "i = 4  j = 10\n",
            "i = 5  j = 12\n"
          ],
          "name": "stdout"
        }
      ]
    },
    {
      "cell_type": "markdown",
      "metadata": {
        "id": "eDFHn4XKSnpw",
        "colab_type": "text"
      },
      "source": [
        "## continue\n",
        "Outra palavra-chave útil para loops é a palavra-chave continue. Quando usamos continue, o restante do loop após a palavra-chave é ignorada para essa iteração. Um exemplo tornará mais claro"
      ]
    },
    {
      "cell_type": "code",
      "metadata": {
        "id": "UcArWfJlSnpw",
        "colab_type": "code",
        "colab": {
          "base_uri": "https://localhost:8080/",
          "height": 844
        },
        "outputId": "20c25c33-01af-43e1-901e-d6959ca774e5"
      },
      "source": [
        "j = 0\n",
        "for i in range(16):\n",
        "    j = j + 2\n",
        "    print ('\\ni = ', i,' j = ', j)\n",
        "    if j == 6:\n",
        "        continue\n",
        "    print ('Eu serei ignorado se j = 6')"
      ],
      "execution_count": 86,
      "outputs": [
        {
          "output_type": "stream",
          "text": [
            "\n",
            "i =  0  j =  2\n",
            "Eu serei ignorado se j = 6\n",
            "\n",
            "i =  1  j =  4\n",
            "Eu serei ignorado se j = 6\n",
            "\n",
            "i =  2  j =  6\n",
            "\n",
            "i =  3  j =  8\n",
            "Eu serei ignorado se j = 6\n",
            "\n",
            "i =  4  j =  10\n",
            "Eu serei ignorado se j = 6\n",
            "\n",
            "i =  5  j =  12\n",
            "Eu serei ignorado se j = 6\n",
            "\n",
            "i =  6  j =  14\n",
            "Eu serei ignorado se j = 6\n",
            "\n",
            "i =  7  j =  16\n",
            "Eu serei ignorado se j = 6\n",
            "\n",
            "i =  8  j =  18\n",
            "Eu serei ignorado se j = 6\n",
            "\n",
            "i =  9  j =  20\n",
            "Eu serei ignorado se j = 6\n",
            "\n",
            "i =  10  j =  22\n",
            "Eu serei ignorado se j = 6\n",
            "\n",
            "i =  11  j =  24\n",
            "Eu serei ignorado se j = 6\n",
            "\n",
            "i =  12  j =  26\n",
            "Eu serei ignorado se j = 6\n",
            "\n",
            "i =  13  j =  28\n",
            "Eu serei ignorado se j = 6\n",
            "\n",
            "i =  14  j =  30\n",
            "Eu serei ignorado se j = 6\n",
            "\n",
            "i =  15  j =  32\n",
            "Eu serei ignorado se j = 6\n"
          ],
          "name": "stdout"
        }
      ]
    },
    {
      "cell_type": "markdown",
      "metadata": {
        "id": "J1zVPFGoSnpy",
        "colab_type": "text"
      },
      "source": [
        "## Try, Except\n",
        "A declaração de controle final que examinaremos é a declaração. Esta de **Try, Except**, essa declaração controla como o programa prossegue quando ocorre um erro. A sintaxe é a seguinte:\n",
        "\n",
        "try:   \n",
        " . faça algo  \n",
        "except:  \n",
        " . faça algo quando um erro ocorrer"
      ]
    },
    {
      "cell_type": "code",
      "metadata": {
        "id": "Y9sFtL_9Snpz",
        "colab_type": "code",
        "colab": {
          "base_uri": "https://localhost:8080/",
          "height": 167
        },
        "outputId": "d14036db-6139-4b66-fe5d-c44cf0eb784e"
      },
      "source": [
        "12/0"
      ],
      "execution_count": 87,
      "outputs": [
        {
          "output_type": "error",
          "ename": "ZeroDivisionError",
          "evalue": "ignored",
          "traceback": [
            "\u001b[0;31m---------------------------------------------------------------------------\u001b[0m",
            "\u001b[0;31mZeroDivisionError\u001b[0m                         Traceback (most recent call last)",
            "\u001b[0;32m<ipython-input-87-898e9759c56e>\u001b[0m in \u001b[0;36m<module>\u001b[0;34m()\u001b[0m\n\u001b[0;32m----> 1\u001b[0;31m \u001b[0;36m12\u001b[0m\u001b[0;34m/\u001b[0m\u001b[0;36m0\u001b[0m\u001b[0;34m\u001b[0m\u001b[0;34m\u001b[0m\u001b[0m\n\u001b[0m",
            "\u001b[0;31mZeroDivisionError\u001b[0m: division by zero"
          ]
        }
      ]
    },
    {
      "cell_type": "code",
      "metadata": {
        "id": "UaZUi_z4Snp6",
        "colab_type": "code",
        "colab": {
          "base_uri": "https://localhost:8080/",
          "height": 34
        },
        "outputId": "f56e2339-74d5-432d-b24e-ffad399a377b"
      },
      "source": [
        "try:\n",
        "    resposta =12/0\n",
        "    print(resposta)\n",
        "except:\n",
        "    print ('Houve algo de errado')"
      ],
      "execution_count": 88,
      "outputs": [
        {
          "output_type": "stream",
          "text": [
            "Houve algo de errado\n"
          ],
          "name": "stdout"
        }
      ]
    },
    {
      "cell_type": "code",
      "metadata": {
        "id": "csPd-_n7Snp8",
        "colab_type": "code",
        "colab": {
          "base_uri": "https://localhost:8080/",
          "height": 378
        },
        "outputId": "fc300609-675b-4322-a547-2162e7d329d5"
      },
      "source": [
        "for i in range(10,-10,-1):\n",
        "    resposta =120/i\n",
        "    print(resposta)"
      ],
      "execution_count": 89,
      "outputs": [
        {
          "output_type": "stream",
          "text": [
            "12.0\n",
            "13.333333333333334\n",
            "15.0\n",
            "17.142857142857142\n",
            "20.0\n",
            "24.0\n",
            "30.0\n",
            "40.0\n",
            "60.0\n",
            "120.0\n"
          ],
          "name": "stdout"
        },
        {
          "output_type": "error",
          "ename": "ZeroDivisionError",
          "evalue": "ignored",
          "traceback": [
            "\u001b[0;31m---------------------------------------------------------------------------\u001b[0m",
            "\u001b[0;31mZeroDivisionError\u001b[0m                         Traceback (most recent call last)",
            "\u001b[0;32m<ipython-input-89-d6fe2f39ad16>\u001b[0m in \u001b[0;36m<module>\u001b[0;34m()\u001b[0m\n\u001b[1;32m      1\u001b[0m \u001b[0;32mfor\u001b[0m \u001b[0mi\u001b[0m \u001b[0;32min\u001b[0m \u001b[0mrange\u001b[0m\u001b[0;34m(\u001b[0m\u001b[0;36m10\u001b[0m\u001b[0;34m,\u001b[0m\u001b[0;34m-\u001b[0m\u001b[0;36m10\u001b[0m\u001b[0;34m,\u001b[0m\u001b[0;34m-\u001b[0m\u001b[0;36m1\u001b[0m\u001b[0;34m)\u001b[0m\u001b[0;34m:\u001b[0m\u001b[0;34m\u001b[0m\u001b[0;34m\u001b[0m\u001b[0m\n\u001b[0;32m----> 2\u001b[0;31m     \u001b[0mresposta\u001b[0m \u001b[0;34m=\u001b[0m\u001b[0;36m120\u001b[0m\u001b[0;34m/\u001b[0m\u001b[0mi\u001b[0m\u001b[0;34m\u001b[0m\u001b[0;34m\u001b[0m\u001b[0m\n\u001b[0m\u001b[1;32m      3\u001b[0m     \u001b[0mprint\u001b[0m\u001b[0;34m(\u001b[0m\u001b[0mresposta\u001b[0m\u001b[0;34m)\u001b[0m\u001b[0;34m\u001b[0m\u001b[0;34m\u001b[0m\u001b[0m\n",
            "\u001b[0;31mZeroDivisionError\u001b[0m: division by zero"
          ]
        }
      ]
    },
    {
      "cell_type": "code",
      "metadata": {
        "id": "OfWyvOLfSnp_",
        "colab_type": "code",
        "colab": {
          "base_uri": "https://localhost:8080/",
          "height": 308
        },
        "outputId": "5b75d587-0a9d-444b-ee34-29314f8b6ce6"
      },
      "source": [
        "lista = [10,8,6,4,2,0,-2,-4,-6,-8,-10]\n",
        "for i in lista:\n",
        "    resposta =120/i\n",
        "    print(i,' - ',resposta)"
      ],
      "execution_count": 90,
      "outputs": [
        {
          "output_type": "stream",
          "text": [
            "10  -  12.0\n",
            "8  -  15.0\n",
            "6  -  20.0\n",
            "4  -  30.0\n",
            "2  -  60.0\n"
          ],
          "name": "stdout"
        },
        {
          "output_type": "error",
          "ename": "ZeroDivisionError",
          "evalue": "ignored",
          "traceback": [
            "\u001b[0;31m---------------------------------------------------------------------------\u001b[0m",
            "\u001b[0;31mZeroDivisionError\u001b[0m                         Traceback (most recent call last)",
            "\u001b[0;32m<ipython-input-90-0d3ba58dec93>\u001b[0m in \u001b[0;36m<module>\u001b[0;34m()\u001b[0m\n\u001b[1;32m      1\u001b[0m \u001b[0mlista\u001b[0m \u001b[0;34m=\u001b[0m \u001b[0;34m[\u001b[0m\u001b[0;36m10\u001b[0m\u001b[0;34m,\u001b[0m\u001b[0;36m8\u001b[0m\u001b[0;34m,\u001b[0m\u001b[0;36m6\u001b[0m\u001b[0;34m,\u001b[0m\u001b[0;36m4\u001b[0m\u001b[0;34m,\u001b[0m\u001b[0;36m2\u001b[0m\u001b[0;34m,\u001b[0m\u001b[0;36m0\u001b[0m\u001b[0;34m,\u001b[0m\u001b[0;34m-\u001b[0m\u001b[0;36m2\u001b[0m\u001b[0;34m,\u001b[0m\u001b[0;34m-\u001b[0m\u001b[0;36m4\u001b[0m\u001b[0;34m,\u001b[0m\u001b[0;34m-\u001b[0m\u001b[0;36m6\u001b[0m\u001b[0;34m,\u001b[0m\u001b[0;34m-\u001b[0m\u001b[0;36m8\u001b[0m\u001b[0;34m,\u001b[0m\u001b[0;34m-\u001b[0m\u001b[0;36m10\u001b[0m\u001b[0;34m]\u001b[0m\u001b[0;34m\u001b[0m\u001b[0;34m\u001b[0m\u001b[0m\n\u001b[1;32m      2\u001b[0m \u001b[0;32mfor\u001b[0m \u001b[0mi\u001b[0m \u001b[0;32min\u001b[0m \u001b[0mlista\u001b[0m\u001b[0;34m:\u001b[0m\u001b[0;34m\u001b[0m\u001b[0;34m\u001b[0m\u001b[0m\n\u001b[0;32m----> 3\u001b[0;31m     \u001b[0mresposta\u001b[0m \u001b[0;34m=\u001b[0m\u001b[0;36m120\u001b[0m\u001b[0;34m/\u001b[0m\u001b[0mi\u001b[0m\u001b[0;34m\u001b[0m\u001b[0;34m\u001b[0m\u001b[0m\n\u001b[0m\u001b[1;32m      4\u001b[0m     \u001b[0mprint\u001b[0m\u001b[0;34m(\u001b[0m\u001b[0mi\u001b[0m\u001b[0;34m,\u001b[0m\u001b[0;34m' - '\u001b[0m\u001b[0;34m,\u001b[0m\u001b[0mresposta\u001b[0m\u001b[0;34m)\u001b[0m\u001b[0;34m\u001b[0m\u001b[0;34m\u001b[0m\u001b[0m\n",
            "\u001b[0;31mZeroDivisionError\u001b[0m: division by zero"
          ]
        }
      ]
    },
    {
      "cell_type": "code",
      "metadata": {
        "id": "uu7Jwbk0SnqB",
        "colab_type": "code",
        "colab": {
          "base_uri": "https://localhost:8080/",
          "height": 210
        },
        "outputId": "79142da5-4685-4359-913a-552c094ca7d3"
      },
      "source": [
        "lista = [10,8,6,4,2,0,-2,-4,-6,-8,-10]\n",
        "for i in lista:\n",
        "    try:\n",
        "        resposta =120/i\n",
        "        print(i,' - ',resposta)\n",
        "    except:\n",
        "        print(i, ' - Houver algo de errado aqui!')"
      ],
      "execution_count": 92,
      "outputs": [
        {
          "output_type": "stream",
          "text": [
            "10  -  12.0\n",
            "8  -  15.0\n",
            "6  -  20.0\n",
            "4  -  30.0\n",
            "2  -  60.0\n",
            "0  - Houver algo de errado aqui!\n",
            "-2  -  -60.0\n",
            "-4  -  -30.0\n",
            "-6  -  -20.0\n",
            "-8  -  -15.0\n",
            "-10  -  -12.0\n"
          ],
          "name": "stdout"
        }
      ]
    },
    {
      "cell_type": "code",
      "metadata": {
        "id": "ScRkeL7bSnqE",
        "colab_type": "code",
        "colab": {}
      },
      "source": [
        ""
      ],
      "execution_count": 0,
      "outputs": []
    }
  ]
}