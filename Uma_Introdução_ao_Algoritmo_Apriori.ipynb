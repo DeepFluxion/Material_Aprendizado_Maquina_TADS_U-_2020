{
  "nbformat": 4,
  "nbformat_minor": 0,
  "metadata": {
    "kernelspec": {
      "display_name": "Python 3",
      "language": "python",
      "name": "python3"
    },
    "language_info": {
      "codemirror_mode": {
        "name": "ipython",
        "version": 3
      },
      "file_extension": ".py",
      "mimetype": "text/x-python",
      "name": "python",
      "nbconvert_exporter": "python",
      "pygments_lexer": "ipython3",
      "version": "3.6.8"
    },
    "colab": {
      "name": "Uma Introdução ao Algoritmo Apriori.ipynb",
      "provenance": [],
      "include_colab_link": true
    }
  },
  "cells": [
    {
      "cell_type": "markdown",
      "metadata": {
        "id": "view-in-github",
        "colab_type": "text"
      },
      "source": [
        "<a href=\"https://colab.research.google.com/github/DomingosN/Material_Aprendizado_Maquina_TADS_U-_2020/blob/master/Uma_Introdu%C3%A7%C3%A3o_ao_Algoritmo_Apriori.ipynb\" target=\"_parent\"><img src=\"https://colab.research.google.com/assets/colab-badge.svg\" alt=\"Open In Colab\"/></a>"
      ]
    },
    {
      "cell_type": "markdown",
      "metadata": {
        "id": "bFp2r3OqQc69",
        "colab_type": "text"
      },
      "source": [
        "# Uma Introdução as Regras de Associação com o  Algoritmo Apriori"
      ]
    },
    {
      "cell_type": "markdown",
      "metadata": {
        "id": "afuC73oyQc6-",
        "colab_type": "text"
      },
      "source": [
        "## A tarefa de descoberta de regras de associação\n",
        "Na resolução da tarefa de descoberta de regras de associação , algumas definições e estratégias são classicamente estabelecidas pela literatura especializada na área. Essa aula se destina primeiramente a apresentá-las\n",
        "com a formalização necessária, e, na sequência, o algoritmos Apriori é  introduzido e sua implentação empregando a biblioteca [mlxtend]('http://rasbt.github.io/mlxtend/user_guide/frequent_patterns/apriori/#frequent-itemsets-via-apriori-algorithm')."
      ]
    },
    {
      "cell_type": "markdown",
      "metadata": {
        "id": "5ax94Ve0Qc6_",
        "colab_type": "text"
      },
      "source": [
        "## Conceitos básicos\n",
        "\n",
        "- Um conjunto de dados transacionais, é composto por vários exemplares de dados.  \n",
        "- Contudo, para o caso da **tarefa de descoberta de regras de associação**, um conjunto de dados deve ser, na realidade, um conjunto de dados _**transacionais**_, no sentido de que cada exemplar diz respeito a uma transação realizada (ou evento ocorrido) no domínio de aplicação.  \n",
        "- Por exemplo **TODOS** os items de um nota fical formam um exemplar de dados transcionais\n",
        "- Além disso, cada uma das transações é composta por uma série de itens (ou elementos).  \n",
        "- Os itens que fazem parte da transação são, necessariamente, pertencentes a um conjunto de itens relacionado com o domínio de aplicação."
      ]
    },
    {
      "cell_type": "markdown",
      "metadata": {
        "id": "p99nO9izQc6_",
        "colab_type": "text"
      },
      "source": [
        "- Formalmente, em um domínio de aplicação, existe um conjunto de itens\n",
        "do domínio $I = ${$i_1,..., i_m$}.\n",
        "- Imagine como exemplo TODAS as transações de uma loja de supermercado num determinado perído\n",
        "- Uma transação $T$ é composta pela ocorrência de um subconjunto desses itens, ou seja, $T = ${$i_1,..., i_l$}, tal que $i\n",
        "l ⊂ I e l <= m$.\n",
        "- Também é possível dizer que $T ⊆ I$. \n",
        "- Um conjunto de transações, representado por T<sub>ID</sub> , é então a base de dados transacional. Cada transação nesse conjunto é representada por T<sub>ID</sub>."
      ]
    },
    {
      "cell_type": "markdown",
      "metadata": {
        "id": "AkLp5g6PQc7A",
        "colab_type": "text"
      },
      "source": [
        "Um conjunto de itens, ou um subconjunto de itens do domínio, é frequentemente denominado **itemset** . Um itemset composto por k itens é chamado de **k-itemset**. \n",
        "\n",
        "Assim, um itemset do tipo {$i_1, i_3$} é chamado de *2-itemset*; um itemset do tipo {$i_1, i_3, i_4$} é chamado de *3-itemset*; e assim por diante."
      ]
    },
    {
      "cell_type": "markdown",
      "metadata": {
        "id": "b0v9Sp11Qc7B",
        "colab_type": "text"
      },
      "source": [
        "Uma regra de associação é do tipo $A$ Ú $B$, sendo que A e B são, ambos, itemsets compostos de itens pertencentes a I, e A ∩ B = ∅.  \n",
        "Um exemplo de regra genérica a partir da base transacional é: {$i_2$} $ Ú $ {$i_1$ , $i_3$}, em\n",
        "que $A = ${$i_2$} e $B = ${$i_1, i_3$}."
      ]
    },
    {
      "cell_type": "markdown",
      "metadata": {
        "id": "0O234oPsQc7B",
        "colab_type": "text"
      },
      "source": [
        "Dois conceitos importantes para a resolução da tarefa de regras de associação são as medidas **suporte** e **confiança** . \n",
        "\n",
        "A medida **suporte**, quando aplicada a um itemset, diz respeito à frequência desse itemset na base transacional sob análise.  \n",
        "\n",
        "Ou seja, o suporte de um itemset é a frequência com que os itens que o compõem aparecem juntos em transações individuais da\n",
        "base de dados transacional. \n",
        "\n",
        "Essa frequência é geralmente expressa em termos percentuais. Por exemplo, o 2-itemset {$i_1, i_3$} tem suporte igual a 57%, uma vez que os itens $i_1$ e $i_3$ aparecem juntos em quatro (T1, T2, T4 e T7) das sete\n",
        "transações existentes na base. \n",
        "\n",
        "Quando a medida suporte é aplicada a uma regra, ela diz respeito à frequência com que todos os itens dos dois itemsets\n",
        "envolvidos na regra aparecem juntos em transações individuais da base de dados transacional. \n",
        "\n",
        "Ou seja, o suporte de uma regra do tipo A Ú B é o suporte do itemset formado por A ∪ B, em que A e B são também itemsets\n",
        "\n",
        "A medida **confiança** se aplica apenas às regras e tem o objetivo de expressar uma noção da importância e da confiabilidade de uma regra, dada a possibilidade de sua ocorrência. \n",
        "\n",
        "A medida também é geralmente expressa por meio de percentual e dada pela razão entre o suporte da regra e o suporte da\n",
        "antecedente da regra. Para a regra {$i_2$} Ú {$i_1, i_3$}, a confiança é 65% (28/43).  \n",
        "\n",
        "O significado por trás dessa porcentagem é que **“em 65% da vezes em que o antecedente da regra ocorre, a conclusão também ocorre”**. "
      ]
    },
    {
      "cell_type": "markdown",
      "metadata": {
        "id": "ouYbsOskQc7C",
        "colab_type": "text"
      },
      "source": [
        "## Algoritmo Apriori\n",
        "O Apriori é um algoritmo clássico usado em mineração de dados para resolução da tarefa de descoberta de regras de associação. Esse algoritmo é composto por duas fases. \n",
        "\n",
        "- Na primeira, é verificada a quantidade de vezes que cada item (ou 1-itemset) ocorre na base de dados transacional ($T_{ID}$), ou seja, o suporte de cada item é calculado. \n",
        "- Os itens com suporte maior que o mínimo estabelecido pelo usuário são selecionados e combinados, de forma a compor 2-itemsets, e o suporte desses novos itemsets é calculado. \n",
        "- Aqueles de suporte maior ou igual ao suporte mínimo são então selecionados. Na sequência, os itemsets selecionados (2-itemsets) são novamente combinados, formando os 3-itemsets, e todo o processo é repetido até que, em uma iteração, não seja produzido nenhum itemset frequente.\n",
        "- A cada iteração $k$ desse processo, uma lista de itemsets frequentes ($L_k$) é produzida. Ao final, as listas $L_{k<>1}$ são concatenadas na lista $L$ de itemsetsfrequentes.\n",
        "\n",
        "- A geração das regras de associação, feita por meio da execução da segunda fase do algoritmo, que recebe a lista de itemsets frequentes $L$ e, a partir de cada itemset na lista, gera combinações de itens para formar antecedentes e consequentes de regras. \n",
        "- Regras com confiança maior que a confiança mínima estabelecida pelo usuário são inseridas no conjunto de regras de associação a ser fornecido pelo algoritmo. \n"
      ]
    },
    {
      "cell_type": "markdown",
      "metadata": {
        "id": "Bwn5IiUnQc7C",
        "colab_type": "text"
      },
      "source": [
        "## Leitura Complementar"
      ]
    },
    {
      "cell_type": "markdown",
      "metadata": {
        "id": "M91EbfwnQc7D",
        "colab_type": "text"
      },
      "source": [
        "O material utiliza partes do pos de Bernardo Costa no site Medium [Link](\"https://medium.com/@bernardo.costa/uma-introdu%C3%A7%C3%A3o-ao-algoritmo-apriori-60b11293aa5a\")  \n",
        "Também da documentação da biblioteca [mlxtend]('http://rasbt.github.io/mlxtend/user_guide/frequent_patterns/apriori/#frequent-itemsets-via-apriori-algorithm')"
      ]
    },
    {
      "cell_type": "markdown",
      "metadata": {
        "id": "lrjmAkz3Qc7D",
        "colab_type": "text"
      },
      "source": [
        "## 1. Introdução\n",
        "Entre quase todas as listas dos **\"Algoritmos que todo Data Scientist deve conhecer\"**, o Apriori é um dos algoritmos que menos ouço falar, tanto em cursos quanto em canais de propagação de Data Science, motivo deste ser o primeiro algoritmo que apresento aqui no Medium.  \n",
        "Antes de começar, preciso contar um pouco mais sobre a abordagem de apresentação que farei aqui nesse texto. \n",
        "Primeiro eu vou apresentar a visão mais intuitiva do algoritmo, ou seja, qual o tipo de problema ele se dispõe a resolver e a lógica usada para tal.  \n",
        "Depois apresentarei uma visão mais matemática, mostrando as \"contas\" por trás da coisa, e por fim, mostrarei um um exemplo aplicado em um dataset de amostra, utilizando Python."
      ]
    },
    {
      "cell_type": "markdown",
      "metadata": {
        "id": "QWgekME-Qc7E",
        "colab_type": "text"
      },
      "source": [
        "## 2. Visão Intuitiva do Apriori\n",
        "## 2.1 Intuição de Regras de Associação"
      ]
    },
    {
      "cell_type": "markdown",
      "metadata": {
        "id": "fdHJZdJvQc7E",
        "colab_type": "text"
      },
      "source": [
        "![image](https://miro.medium.com/max/1400/1*Mfmf9aDE_SvWBvrTRhQdrQ.jpeg)"
      ]
    },
    {
      "cell_type": "markdown",
      "metadata": {
        "id": "kJ8UYL8AQc7F",
        "colab_type": "text"
      },
      "source": [
        "Para entender melhor o que o Apriori tenta resolver. Imagine que você está trabalhando como vendedor de um supermercado e deseja descobrir algum método para aumentar suas vendas, aumentando assim os lucros. Para isso você resolve tentar \"induzir\" seu cliente a comprar produtos que ele vá consumir ao mesmo tempo, colocando-os próximos nos mercados. \n",
        "\n",
        "Com essa ideia em mente, você decide testar sua hipótese com os produtos do dia-a-dia dos brasileiros, o pão e a manteiga. Para fazer isso você move as prateleiras onde os pães ficam para próximo de onde a manteiga fica. Passado um tempo, você percebe que os clientes estão comprando mais pão e manteiga juntos.  \n",
        "\n",
        "Com o sucesso das vendas do pão e da manteiga, você decide explorar mais essa ideia de produtos que podem ser comprados juntos. No meio das suas pesquisas, descobre que [fraldas e cervejas](\"https://www.forbes.com/forbes/1998/0406/6107128a.html#24b642016260) são produtos que saem bastante juntos. Sem entender muito bem o motivo disso, você rapidamente coloca a prateleira das fraldas perto da prateleira d cerveja, fazendo a ilação de que pais estressados com seus bebês tendem a comprar cerveja para relaxar, o que faz suas vendas dispararem.  \n",
        "\n",
        "Dizem que essa história aconteceu no Walmart e faz parte das lendas de Data Mining. Lenda ou não, ela é uma boa história pra contar para os parentes no final do ano e entender melhor o conceito de [Regras de Associação - Association Rules](https://en.wikipedia.org/wiki/Association_rule_learning)."
      ]
    },
    {
      "cell_type": "markdown",
      "metadata": {
        "id": "2RMR0rAbQc7F",
        "colab_type": "text"
      },
      "source": [
        "## 2.2 Intuição do Algoritmo Apriori  \n",
        "Para dar uma visão intuitiva do que o Apriori faz, iremos trabalhar com a amostra de um conjunto de dados referente a transações em uma loja de conveniência fictícia. Cada linha da amostra contém uma transação identificada por um ID, onde se a coluna referente ao produto (Cerveja, Fralda, Chiclete, Refrigerante e Salgadinho) estiver marcada com 1 significa que esse produto foi comprado nessa transação, 0 caso o contrário:\n",
        "![Amostra do Conjunto de Dados](https://miro.medium.com/max/638/1*CMbFdBkQPbkaF_D_w1Y1rw.png)"
      ]
    },
    {
      "cell_type": "markdown",
      "metadata": {
        "id": "xLPZMwn1Qc7G",
        "colab_type": "text"
      },
      "source": [
        "## Regras de Associação\n",
        "Com isso entendido, podemos definir então o que seria uma Regra de Associação, que nada mais é que um método de explorar relações entre Itens em conjuntos de dados. Vamos definir os seguintes termos para Regra de Associação:\n",
        "- 1. I (Itens): conjunto dos seus n atributos {i_1, i_2, …, i_n};\n",
        "- 2. D (Database): conjunto das m transações {t_1, t_2, …, t_m};\n",
        "- 3. Toda transação t_i, é única em D e consiste em um subconjunto dos Itens I;\n",
        "- 4. Vamos Definir uma Regra de Associação como a relação (X => Y) , onde X e Y são subconjuntos de I. Eles não podem ter nenhum elemento em comum.\n",
        "- 5. X é chamado de antecedente e Y da consequência da Regra.  \n",
        "\n",
        "Com isso definido, considere a transação de ID igual a 2, podemos ter a seguinte Regra de Associação: {Beer} => {Diaper}. Essa é a Regra de Associação que define que nessa transação, quem comprou Cerveja também comprou Fralda.  \n",
        "Nesse ponto, se você começar a montar as Regras de Associação na sua cabeça, perceberá que mesmo para um conjunto de dados pequeno, existem muitas Regras.  \n",
        "O desafio agora é encontrar um modo de selecionar as regras relevantes. \n",
        "O modo utilizado para encontrar tais regras envolve o cálculo de medidas como **Support, Confidence, Lift e Conviction**.\n",
        "Embora o Apriori use apenas o Support, falarei um pouco dessas quatro para maior entendimento do problema que estamos tentando resolver."
      ]
    },
    {
      "cell_type": "markdown",
      "metadata": {
        "id": "ADb3TSxaQc7G",
        "colab_type": "text"
      },
      "source": [
        "### Support (Suporte)\n",
        "A medida que indica a proporção de X em D.\n",
        "$$\n",
        "supp(X) = (qtd.X em D)/(qtd. D)\n",
        "$$\n",
        "no exemplo $supp(BEER) = 4/9$"
      ]
    },
    {
      "cell_type": "markdown",
      "metadata": {
        "id": "QNlOpb35Qc7H",
        "colab_type": "text"
      },
      "source": [
        "### Confidence (Confiança)\n",
        "A medida de Confidence é calculada em cima de uma Regra (X => Y). Ela expressa a proporção de \"Se X for comprado, qual a chance de Y ser comprado?\"  \n",
        "$$Conf(X=>Y)=Supp(X U Y)/supp(X)$$\n",
        "Ou seja, $Conf({Beer}=>{Gum}) = (2/9)/(4/9) = 1/2$."
      ]
    },
    {
      "cell_type": "markdown",
      "metadata": {
        "id": "GzqLnAP2Qc7H",
        "colab_type": "text"
      },
      "source": [
        "### Lift (Levantamento, Alavancagem , ou algo assim)\n",
        "A medida de Lift indica qual a chance de Y ser comprado, se X for comprado, e considerando toda a popularidade de Y. Em outras palavras, veja qual informação nos trás mais conhecimento sobre a possibilidade de Itens serem comprados juntos: 1) Conf(X) é muito alta se ele aparece em todas as transações ou 2) Conf(X) é alta e ele aparece em poucas transações? Essa diferenciação é calculada pelo Lift.\n",
        "$$Lift(X=>Y)=Supp(X U Y)/(supp(X)*supp(X))$$  \n",
        "No caso da Regra $({Beer}=>{Gum}), Lift({Beer}=>{Gum}) = (2/9)/((4/9)*(2/9)) = 2/3$."
      ]
    },
    {
      "cell_type": "markdown",
      "metadata": {
        "id": "OI0yQnqmQc7I",
        "colab_type": "text"
      },
      "source": [
        "Com base nesse valor conferirmos:  \n",
        "Se $Lift(X=>Y) > 1$, então o conjunto Y é provável de ser comprado quando X for comprado.  \n",
        "Se $Lift(X=>Y) ≤1$, então NÃO é provável que Y seja comprado, caso X seja comprado."
      ]
    },
    {
      "cell_type": "markdown",
      "metadata": {
        "id": "HY3a0Ba_Qc7I",
        "colab_type": "text"
      },
      "source": [
        "### Conviction (Convicção)\n",
        "A medida de Conviction está interessada em calcular a frequência que X ocorre e Y não ocorre, ou seja, ela está interessada em quando a Regra falha.\n",
        "$$\n",
        "Conv(X=>Y) = (1 — Supp(Y)) / (1 — Conf(X=>Y))\n",
        "$$\n",
        "\n",
        "Essa medida varia entre [0, inf]. Se Conf(X=>Y) for igual a 1, então o denominador da fórmula é zerado e o resultado do Convinction é definido como infinito. Já se o Supp(Y) for igual a 1, ou seja, Y é presente em todas as transações, então Conv é igual a 0 — Você não erra nunca.  \n",
        "\n",
        "Vamos para o Exemplo:  \n",
        "Para facilitar a escrita aqui no texto, considere $X = {Soda, Snack} e Y = {Beer}$.\n",
        "Precisamos primeiro calcular $Supp(Y) = 4/9$.  \n",
        "Depois calculamos a $Conf(X=>Y) = 3/9$.  \n",
        "Repare que transformei 1 em 9/9 para facilitar as contas.  \n",
        "$Conv(X=>Y) = ((9/9) — (4/9)) / ((9/9) — (3/9))$  \n",
        "$Conv(X=>Y) = (5/9) / (6/9)$  \n",
        "$Conv(X=>Y) = (5/9) / (6/9)$  \n",
        "$Conv(X=>Y) = 5/6$"
      ]
    },
    {
      "cell_type": "markdown",
      "metadata": {
        "id": "KgwvXEGSQc7K",
        "colab_type": "text"
      },
      "source": [
        "### Apriori\n",
        "Com entendimento das Regras de Associação, e de como interpretá-las, chegou a hora de entender o Apriori e como ele nos ajuda nesse processo de Data Mining.  \n",
        "O Apriori trabalha com o conceito de Itens frequentes, que são os Itens do seu conjunto I que têm a pontuação do Support mais que um threshold (hiper-parâmetro). \n",
        "Ou Seja, precisamos calcular o Support de todas as combinações de Itens e extrair um subconjunto de Itens frequentes. Sabendo disso, os passos do Apriori são:  \n",
        "- 1.Dentro dos Itens I, extraia um subconjunto (I_freq) dos Itens que tem o seu Support maior que o threshold.\n",
        "- 2.Dentro de I_freq, itere para formar as combinações dos I_freq com I, aplique o threshold e acumule em I_freq.\n",
        "- 3.Pare quando ao aplicar o threshold nenhum item sobrar.  \n",
        "Por exemplo, considere o nosso conjunto de dados de amostra e threshold=0.4:  \n",
        "#### 1. Vamos calcular o Support para grupos de 1 Item:\n",
        "![Amostra do Conjunto de Dados](https://miro.medium.com/max/311/1*nnZoQ_waUZMXAoPD9K9INQ.png \"Cálculo do support para 1 Item\")  \n",
        "#### 2. Agora removemos os Items com Support menor que o threshold, ou seja, sai o Chiclete (note que esse é o primeiro I_freq)  \n",
        "![Amostra do Conjunto de Dados](https://miro.medium.com/max/315/1*Ja3Dp3Uz8ytO1cGXvoXsqQ.png \"Cálculo do support para 1 Item\") \n",
        "#### 3. Depois disso, realizamos o mesmo cálculo pra os pares de Itens, como por exemplo (Diaper, Beer)\n",
        "![Amostra do Conjunto de Dados](https://miro.medium.com/max/345/1*Bzt1gNhIKGYCKqBgoFVRyg.png \"Cálculo do support para 1 Item\") \n",
        "#### 4. Aplicando o threshold, sobra apenas (Diaper, Beer), que devemos acumular em I_freq:\n",
        "![Amostra do Conjunto de Dados](https://miro.medium.com/max/335/1*Hx2OUR7eUzOjNxqinkqJcA.png)  \n",
        "Veja o I_freq do momento:\n",
        "![Amostra do Conjunto de Dados](https://miro.medium.com/max/341/1*-hpTttkLNqO7UFQMWF_nXw.png)  \n",
        "#### 5. Calculamos agora para 3 items:\n",
        "![Amostra do Conjunto de Dados](https://miro.medium.com/max/632/1*gTRecfAqqRuRtoAk7R14nQ.png)\n",
        "#### 6. Após aplicar o threshold, percebemos que nenhum Item sobrou, logo o algoritmo para, visto que esse é o critério de parada.  \n",
        "![Amostra do Conjunto de Dados](https://miro.medium.com/max/341/1*-hpTttkLNqO7UFQMWF_nXw.png)\n",
        "\n",
        "Pronto, encontramos as Regras de Associação mais frequentes. Olhando o resultado acima, você colocaria as Fraldas perto das Cerveja?"
      ]
    },
    {
      "cell_type": "markdown",
      "metadata": {
        "id": "OZBLVaQSQc7L",
        "colab_type": "text"
      },
      "source": [
        "# A biblioteca mlextend"
      ]
    },
    {
      "cell_type": "markdown",
      "metadata": {
        "id": "TeD188BpQc7L",
        "colab_type": "text"
      },
      "source": [
        "### Conjuntos de itens frequentes por meio do algoritmo Apriori\n",
        "#### Função Apriori para extrair conjuntos de itens frequentes para mineração de regras de associação\n",
        "\n",
        "from mlxtend.frequent_patterns import apriori\n",
        "\n",
        "#### Visão geral\n",
        "Apriori é um algoritmo popular [Ref 1 Neste Link](\"https://www.it.uu.se/edu/course/homepage/infoutv/ht08/vldb94_rj.pdf\") para extrair conjuntos de itens frequentes com aplicativos no aprendizado de regras de associação. O algoritmo apriori foi projetado para operar em bancos de dados contendo transações, como compras de clientes de uma loja. Um conjunto de itens é considerado \"frequente\" se atingir um limite de suporte especificado pelo usuário. Por exemplo, se o limite de suporte for definido como 0,5 (50%), um conjunto de itens frequentes será definido como um conjunto de itens que ocorrem juntos em pelo menos 50% de todas as transações no banco de dados.\n",
        "\n",
        "#### Referências\n",
        "[Ref 1 Neste Link](\"https://www.it.uu.se/edu/course/homepage/infoutv/ht08/vldb94_rj.pdf\") Agrawal, Rakesh, and Ramakrishnan Srikant. \"Fast algorithms for mining association rules.\" Proc. 20th int. conf. very large data bases, VLDB. Vol. 1215. 1994."
      ]
    },
    {
      "cell_type": "markdown",
      "metadata": {
        "id": "WKvvqrEgQc7M",
        "colab_type": "text"
      },
      "source": [
        "### Instalando o mlxtend"
      ]
    },
    {
      "cell_type": "code",
      "metadata": {
        "id": "GLexFMUwQc7N",
        "colab_type": "code",
        "colab": {
          "base_uri": "https://localhost:8080/",
          "height": 263
        },
        "outputId": "bf0c4743-c4b9-4d71-a43e-a3bb45580280"
      },
      "source": [
        "import sys\n",
        "!{sys.executable} -m pip install mlxtend"
      ],
      "execution_count": 1,
      "outputs": [
        {
          "output_type": "stream",
          "text": [
            "Requirement already satisfied: mlxtend in /usr/local/lib/python3.6/dist-packages (0.14.0)\n",
            "Requirement already satisfied: scikit-learn>=0.18 in /usr/local/lib/python3.6/dist-packages (from mlxtend) (0.22.2.post1)\n",
            "Requirement already satisfied: scipy>=0.17 in /usr/local/lib/python3.6/dist-packages (from mlxtend) (1.4.1)\n",
            "Requirement already satisfied: pandas>=0.17.1 in /usr/local/lib/python3.6/dist-packages (from mlxtend) (1.0.4)\n",
            "Requirement already satisfied: numpy>=1.10.4 in /usr/local/lib/python3.6/dist-packages (from mlxtend) (1.18.5)\n",
            "Requirement already satisfied: matplotlib>=1.5.1 in /usr/local/lib/python3.6/dist-packages (from mlxtend) (3.2.1)\n",
            "Requirement already satisfied: setuptools in /usr/local/lib/python3.6/dist-packages (from mlxtend) (47.1.1)\n",
            "Requirement already satisfied: joblib>=0.11 in /usr/local/lib/python3.6/dist-packages (from scikit-learn>=0.18->mlxtend) (0.15.1)\n",
            "Requirement already satisfied: python-dateutil>=2.6.1 in /usr/local/lib/python3.6/dist-packages (from pandas>=0.17.1->mlxtend) (2.8.1)\n",
            "Requirement already satisfied: pytz>=2017.2 in /usr/local/lib/python3.6/dist-packages (from pandas>=0.17.1->mlxtend) (2018.9)\n",
            "Requirement already satisfied: kiwisolver>=1.0.1 in /usr/local/lib/python3.6/dist-packages (from matplotlib>=1.5.1->mlxtend) (1.2.0)\n",
            "Requirement already satisfied: cycler>=0.10 in /usr/local/lib/python3.6/dist-packages (from matplotlib>=1.5.1->mlxtend) (0.10.0)\n",
            "Requirement already satisfied: pyparsing!=2.0.4,!=2.1.2,!=2.1.6,>=2.0.1 in /usr/local/lib/python3.6/dist-packages (from matplotlib>=1.5.1->mlxtend) (2.4.7)\n",
            "Requirement already satisfied: six>=1.5 in /usr/local/lib/python3.6/dist-packages (from python-dateutil>=2.6.1->pandas>=0.17.1->mlxtend) (1.12.0)\n"
          ],
          "name": "stdout"
        }
      ]
    },
    {
      "cell_type": "markdown",
      "metadata": {
        "id": "IDxwvJBOQc7S",
        "colab_type": "text"
      },
      "source": [
        "## Exemplo 1 - Gerando conjuntos de itens frequentes\n",
        "A função apriori espera dados em um DataFrame de pandas codificado com um hot hot. Suponha que tenhamos os seguintes dados de transação:"
      ]
    },
    {
      "cell_type": "code",
      "metadata": {
        "id": "3WaQheU6Qc7S",
        "colab_type": "code",
        "colab": {}
      },
      "source": [
        "dataset = [['Milk', 'Onion', 'Nutmeg', 'Kidney Beans', 'Eggs', 'Yogurt'],\n",
        "           ['Dill', 'Onion', 'Nutmeg', 'Kidney Beans', 'Eggs', 'Yogurt'],\n",
        "           ['Milk', 'Apple', 'Kidney Beans', 'Eggs'],\n",
        "           ['Milk', 'Unicorn', 'Corn', 'Kidney Beans', 'Yogurt'],\n",
        "           ['Corn', 'Onion', 'Onion', 'Kidney Beans', 'Ice cream', 'Eggs']]"
      ],
      "execution_count": 0,
      "outputs": []
    },
    {
      "cell_type": "markdown",
      "metadata": {
        "id": "HflRTHNFQc7X",
        "colab_type": "text"
      },
      "source": [
        "Podemos transformá-lo no formato correto através do `TransactionEncoder` da seguinte maneira:"
      ]
    },
    {
      "cell_type": "code",
      "metadata": {
        "id": "6p61bIaGQc7X",
        "colab_type": "code",
        "colab": {
          "base_uri": "https://localhost:8080/",
          "height": 195
        },
        "outputId": "86b2f605-53ef-481b-b0c5-f008d0ad2e6c"
      },
      "source": [
        "import pandas as pd\n",
        "from mlxtend.preprocessing import TransactionEncoder\n",
        "\n",
        "te = TransactionEncoder()\n",
        "te_ary = te.fit(dataset).transform(dataset)\n",
        "df = pd.DataFrame(te_ary, columns=te.columns_)\n",
        "df"
      ],
      "execution_count": 3,
      "outputs": [
        {
          "output_type": "execute_result",
          "data": {
            "text/html": [
              "<div>\n",
              "<style scoped>\n",
              "    .dataframe tbody tr th:only-of-type {\n",
              "        vertical-align: middle;\n",
              "    }\n",
              "\n",
              "    .dataframe tbody tr th {\n",
              "        vertical-align: top;\n",
              "    }\n",
              "\n",
              "    .dataframe thead th {\n",
              "        text-align: right;\n",
              "    }\n",
              "</style>\n",
              "<table border=\"1\" class=\"dataframe\">\n",
              "  <thead>\n",
              "    <tr style=\"text-align: right;\">\n",
              "      <th></th>\n",
              "      <th>Apple</th>\n",
              "      <th>Corn</th>\n",
              "      <th>Dill</th>\n",
              "      <th>Eggs</th>\n",
              "      <th>Ice cream</th>\n",
              "      <th>Kidney Beans</th>\n",
              "      <th>Milk</th>\n",
              "      <th>Nutmeg</th>\n",
              "      <th>Onion</th>\n",
              "      <th>Unicorn</th>\n",
              "      <th>Yogurt</th>\n",
              "    </tr>\n",
              "  </thead>\n",
              "  <tbody>\n",
              "    <tr>\n",
              "      <th>0</th>\n",
              "      <td>False</td>\n",
              "      <td>False</td>\n",
              "      <td>False</td>\n",
              "      <td>True</td>\n",
              "      <td>False</td>\n",
              "      <td>True</td>\n",
              "      <td>True</td>\n",
              "      <td>True</td>\n",
              "      <td>True</td>\n",
              "      <td>False</td>\n",
              "      <td>True</td>\n",
              "    </tr>\n",
              "    <tr>\n",
              "      <th>1</th>\n",
              "      <td>False</td>\n",
              "      <td>False</td>\n",
              "      <td>True</td>\n",
              "      <td>True</td>\n",
              "      <td>False</td>\n",
              "      <td>True</td>\n",
              "      <td>False</td>\n",
              "      <td>True</td>\n",
              "      <td>True</td>\n",
              "      <td>False</td>\n",
              "      <td>True</td>\n",
              "    </tr>\n",
              "    <tr>\n",
              "      <th>2</th>\n",
              "      <td>True</td>\n",
              "      <td>False</td>\n",
              "      <td>False</td>\n",
              "      <td>True</td>\n",
              "      <td>False</td>\n",
              "      <td>True</td>\n",
              "      <td>True</td>\n",
              "      <td>False</td>\n",
              "      <td>False</td>\n",
              "      <td>False</td>\n",
              "      <td>False</td>\n",
              "    </tr>\n",
              "    <tr>\n",
              "      <th>3</th>\n",
              "      <td>False</td>\n",
              "      <td>True</td>\n",
              "      <td>False</td>\n",
              "      <td>False</td>\n",
              "      <td>False</td>\n",
              "      <td>True</td>\n",
              "      <td>True</td>\n",
              "      <td>False</td>\n",
              "      <td>False</td>\n",
              "      <td>True</td>\n",
              "      <td>True</td>\n",
              "    </tr>\n",
              "    <tr>\n",
              "      <th>4</th>\n",
              "      <td>False</td>\n",
              "      <td>True</td>\n",
              "      <td>False</td>\n",
              "      <td>True</td>\n",
              "      <td>True</td>\n",
              "      <td>True</td>\n",
              "      <td>False</td>\n",
              "      <td>False</td>\n",
              "      <td>True</td>\n",
              "      <td>False</td>\n",
              "      <td>False</td>\n",
              "    </tr>\n",
              "  </tbody>\n",
              "</table>\n",
              "</div>"
            ],
            "text/plain": [
              "   Apple   Corn   Dill   Eggs  Ice cream  ...   Milk  Nutmeg  Onion  Unicorn  Yogurt\n",
              "0  False  False  False   True      False  ...   True    True   True    False    True\n",
              "1  False  False   True   True      False  ...  False    True   True    False    True\n",
              "2   True  False  False   True      False  ...   True   False  False    False   False\n",
              "3  False   True  False  False      False  ...   True   False  False     True    True\n",
              "4  False   True  False   True       True  ...  False   False   True    False   False\n",
              "\n",
              "[5 rows x 11 columns]"
            ]
          },
          "metadata": {
            "tags": []
          },
          "execution_count": 3
        }
      ]
    },
    {
      "cell_type": "markdown",
      "metadata": {
        "id": "WvXp8cFBQc7a",
        "colab_type": "text"
      },
      "source": [
        "Agora, vamos devolver os itens e conjuntos de itens com pelo menos 60% de suporte:"
      ]
    },
    {
      "cell_type": "code",
      "metadata": {
        "id": "AGTJtsMIQc7b",
        "colab_type": "code",
        "colab": {
          "base_uri": "https://localhost:8080/",
          "height": 373
        },
        "outputId": "fab5ac3f-7af4-4697-c535-d6bcae4ac988"
      },
      "source": [
        "from mlxtend.frequent_patterns import apriori\n",
        "\n",
        "apriori(df, min_support=0.6)"
      ],
      "execution_count": 4,
      "outputs": [
        {
          "output_type": "execute_result",
          "data": {
            "text/html": [
              "<div>\n",
              "<style scoped>\n",
              "    .dataframe tbody tr th:only-of-type {\n",
              "        vertical-align: middle;\n",
              "    }\n",
              "\n",
              "    .dataframe tbody tr th {\n",
              "        vertical-align: top;\n",
              "    }\n",
              "\n",
              "    .dataframe thead th {\n",
              "        text-align: right;\n",
              "    }\n",
              "</style>\n",
              "<table border=\"1\" class=\"dataframe\">\n",
              "  <thead>\n",
              "    <tr style=\"text-align: right;\">\n",
              "      <th></th>\n",
              "      <th>support</th>\n",
              "      <th>itemsets</th>\n",
              "    </tr>\n",
              "  </thead>\n",
              "  <tbody>\n",
              "    <tr>\n",
              "      <th>0</th>\n",
              "      <td>0.8</td>\n",
              "      <td>(3)</td>\n",
              "    </tr>\n",
              "    <tr>\n",
              "      <th>1</th>\n",
              "      <td>1.0</td>\n",
              "      <td>(5)</td>\n",
              "    </tr>\n",
              "    <tr>\n",
              "      <th>2</th>\n",
              "      <td>0.6</td>\n",
              "      <td>(6)</td>\n",
              "    </tr>\n",
              "    <tr>\n",
              "      <th>3</th>\n",
              "      <td>0.6</td>\n",
              "      <td>(8)</td>\n",
              "    </tr>\n",
              "    <tr>\n",
              "      <th>4</th>\n",
              "      <td>0.6</td>\n",
              "      <td>(10)</td>\n",
              "    </tr>\n",
              "    <tr>\n",
              "      <th>5</th>\n",
              "      <td>0.8</td>\n",
              "      <td>(3, 5)</td>\n",
              "    </tr>\n",
              "    <tr>\n",
              "      <th>6</th>\n",
              "      <td>0.6</td>\n",
              "      <td>(8, 3)</td>\n",
              "    </tr>\n",
              "    <tr>\n",
              "      <th>7</th>\n",
              "      <td>0.6</td>\n",
              "      <td>(5, 6)</td>\n",
              "    </tr>\n",
              "    <tr>\n",
              "      <th>8</th>\n",
              "      <td>0.6</td>\n",
              "      <td>(8, 5)</td>\n",
              "    </tr>\n",
              "    <tr>\n",
              "      <th>9</th>\n",
              "      <td>0.6</td>\n",
              "      <td>(10, 5)</td>\n",
              "    </tr>\n",
              "    <tr>\n",
              "      <th>10</th>\n",
              "      <td>0.6</td>\n",
              "      <td>(8, 3, 5)</td>\n",
              "    </tr>\n",
              "  </tbody>\n",
              "</table>\n",
              "</div>"
            ],
            "text/plain": [
              "    support   itemsets\n",
              "0       0.8        (3)\n",
              "1       1.0        (5)\n",
              "2       0.6        (6)\n",
              "3       0.6        (8)\n",
              "4       0.6       (10)\n",
              "5       0.8     (3, 5)\n",
              "6       0.6     (8, 3)\n",
              "7       0.6     (5, 6)\n",
              "8       0.6     (8, 5)\n",
              "9       0.6    (10, 5)\n",
              "10      0.6  (8, 3, 5)"
            ]
          },
          "metadata": {
            "tags": []
          },
          "execution_count": 4
        }
      ]
    },
    {
      "cell_type": "markdown",
      "metadata": {
        "id": "ZXCy5fQLQc7e",
        "colab_type": "text"
      },
      "source": [
        "Por padrão, `apriori` retorna os índices da coluna dos itens, que podem ser úteis em operações posteriores, como a mineração de regras de associação. Para melhor legibilidade, podemos definir use_colnames = True para converter esses valores inteiros nos respectivos nomes de itens:"
      ]
    },
    {
      "cell_type": "code",
      "metadata": {
        "id": "vvKLaQQYQc7f",
        "colab_type": "code",
        "colab": {
          "base_uri": "https://localhost:8080/",
          "height": 373
        },
        "outputId": "a62bad54-c439-4491-a664-fcd5268c89a4"
      },
      "source": [
        "apriori(df, min_support=0.6, use_colnames=True)"
      ],
      "execution_count": 5,
      "outputs": [
        {
          "output_type": "execute_result",
          "data": {
            "text/html": [
              "<div>\n",
              "<style scoped>\n",
              "    .dataframe tbody tr th:only-of-type {\n",
              "        vertical-align: middle;\n",
              "    }\n",
              "\n",
              "    .dataframe tbody tr th {\n",
              "        vertical-align: top;\n",
              "    }\n",
              "\n",
              "    .dataframe thead th {\n",
              "        text-align: right;\n",
              "    }\n",
              "</style>\n",
              "<table border=\"1\" class=\"dataframe\">\n",
              "  <thead>\n",
              "    <tr style=\"text-align: right;\">\n",
              "      <th></th>\n",
              "      <th>support</th>\n",
              "      <th>itemsets</th>\n",
              "    </tr>\n",
              "  </thead>\n",
              "  <tbody>\n",
              "    <tr>\n",
              "      <th>0</th>\n",
              "      <td>0.8</td>\n",
              "      <td>(Eggs)</td>\n",
              "    </tr>\n",
              "    <tr>\n",
              "      <th>1</th>\n",
              "      <td>1.0</td>\n",
              "      <td>(Kidney Beans)</td>\n",
              "    </tr>\n",
              "    <tr>\n",
              "      <th>2</th>\n",
              "      <td>0.6</td>\n",
              "      <td>(Milk)</td>\n",
              "    </tr>\n",
              "    <tr>\n",
              "      <th>3</th>\n",
              "      <td>0.6</td>\n",
              "      <td>(Onion)</td>\n",
              "    </tr>\n",
              "    <tr>\n",
              "      <th>4</th>\n",
              "      <td>0.6</td>\n",
              "      <td>(Yogurt)</td>\n",
              "    </tr>\n",
              "    <tr>\n",
              "      <th>5</th>\n",
              "      <td>0.8</td>\n",
              "      <td>(Eggs, Kidney Beans)</td>\n",
              "    </tr>\n",
              "    <tr>\n",
              "      <th>6</th>\n",
              "      <td>0.6</td>\n",
              "      <td>(Eggs, Onion)</td>\n",
              "    </tr>\n",
              "    <tr>\n",
              "      <th>7</th>\n",
              "      <td>0.6</td>\n",
              "      <td>(Milk, Kidney Beans)</td>\n",
              "    </tr>\n",
              "    <tr>\n",
              "      <th>8</th>\n",
              "      <td>0.6</td>\n",
              "      <td>(Onion, Kidney Beans)</td>\n",
              "    </tr>\n",
              "    <tr>\n",
              "      <th>9</th>\n",
              "      <td>0.6</td>\n",
              "      <td>(Yogurt, Kidney Beans)</td>\n",
              "    </tr>\n",
              "    <tr>\n",
              "      <th>10</th>\n",
              "      <td>0.6</td>\n",
              "      <td>(Eggs, Onion, Kidney Beans)</td>\n",
              "    </tr>\n",
              "  </tbody>\n",
              "</table>\n",
              "</div>"
            ],
            "text/plain": [
              "    support                     itemsets\n",
              "0       0.8                       (Eggs)\n",
              "1       1.0               (Kidney Beans)\n",
              "2       0.6                       (Milk)\n",
              "3       0.6                      (Onion)\n",
              "4       0.6                     (Yogurt)\n",
              "5       0.8         (Eggs, Kidney Beans)\n",
              "6       0.6                (Eggs, Onion)\n",
              "7       0.6         (Milk, Kidney Beans)\n",
              "8       0.6        (Onion, Kidney Beans)\n",
              "9       0.6       (Yogurt, Kidney Beans)\n",
              "10      0.6  (Eggs, Onion, Kidney Beans)"
            ]
          },
          "metadata": {
            "tags": []
          },
          "execution_count": 5
        }
      ]
    },
    {
      "cell_type": "markdown",
      "metadata": {
        "id": "zIMD-2DaQc7h",
        "colab_type": "text"
      },
      "source": [
        "## Exemplo 2 - Selecionando e filtrando resultados  \n",
        "A vantagem de trabalhar com os DataFrames do pandas é que podemos usar seus recursos convenientes para filtrar os resultados. Por exemplo, suponha que estamos interessados apenas em conjuntos de itens de comprimento 2 que tenham suporte de pelo menos 80%. Primeiro, criamos os conjuntos de itens frequentes via apriori e adicionamos uma nova coluna que armazena o comprimento de cada conjunto de itens:"
      ]
    },
    {
      "cell_type": "code",
      "metadata": {
        "id": "ua0I3m15Qc7i",
        "colab_type": "code",
        "colab": {
          "base_uri": "https://localhost:8080/",
          "height": 373
        },
        "outputId": "5fb09043-304a-4bcc-a832-c3a8508bc53b"
      },
      "source": [
        "frequent_itemsets = apriori(df, min_support=0.6, use_colnames=True)\n",
        "frequent_itemsets['length'] = frequent_itemsets['itemsets'].apply(lambda x: len(x))\n",
        "frequent_itemsets"
      ],
      "execution_count": 6,
      "outputs": [
        {
          "output_type": "execute_result",
          "data": {
            "text/html": [
              "<div>\n",
              "<style scoped>\n",
              "    .dataframe tbody tr th:only-of-type {\n",
              "        vertical-align: middle;\n",
              "    }\n",
              "\n",
              "    .dataframe tbody tr th {\n",
              "        vertical-align: top;\n",
              "    }\n",
              "\n",
              "    .dataframe thead th {\n",
              "        text-align: right;\n",
              "    }\n",
              "</style>\n",
              "<table border=\"1\" class=\"dataframe\">\n",
              "  <thead>\n",
              "    <tr style=\"text-align: right;\">\n",
              "      <th></th>\n",
              "      <th>support</th>\n",
              "      <th>itemsets</th>\n",
              "      <th>length</th>\n",
              "    </tr>\n",
              "  </thead>\n",
              "  <tbody>\n",
              "    <tr>\n",
              "      <th>0</th>\n",
              "      <td>0.8</td>\n",
              "      <td>(Eggs)</td>\n",
              "      <td>1</td>\n",
              "    </tr>\n",
              "    <tr>\n",
              "      <th>1</th>\n",
              "      <td>1.0</td>\n",
              "      <td>(Kidney Beans)</td>\n",
              "      <td>1</td>\n",
              "    </tr>\n",
              "    <tr>\n",
              "      <th>2</th>\n",
              "      <td>0.6</td>\n",
              "      <td>(Milk)</td>\n",
              "      <td>1</td>\n",
              "    </tr>\n",
              "    <tr>\n",
              "      <th>3</th>\n",
              "      <td>0.6</td>\n",
              "      <td>(Onion)</td>\n",
              "      <td>1</td>\n",
              "    </tr>\n",
              "    <tr>\n",
              "      <th>4</th>\n",
              "      <td>0.6</td>\n",
              "      <td>(Yogurt)</td>\n",
              "      <td>1</td>\n",
              "    </tr>\n",
              "    <tr>\n",
              "      <th>5</th>\n",
              "      <td>0.8</td>\n",
              "      <td>(Eggs, Kidney Beans)</td>\n",
              "      <td>2</td>\n",
              "    </tr>\n",
              "    <tr>\n",
              "      <th>6</th>\n",
              "      <td>0.6</td>\n",
              "      <td>(Eggs, Onion)</td>\n",
              "      <td>2</td>\n",
              "    </tr>\n",
              "    <tr>\n",
              "      <th>7</th>\n",
              "      <td>0.6</td>\n",
              "      <td>(Milk, Kidney Beans)</td>\n",
              "      <td>2</td>\n",
              "    </tr>\n",
              "    <tr>\n",
              "      <th>8</th>\n",
              "      <td>0.6</td>\n",
              "      <td>(Onion, Kidney Beans)</td>\n",
              "      <td>2</td>\n",
              "    </tr>\n",
              "    <tr>\n",
              "      <th>9</th>\n",
              "      <td>0.6</td>\n",
              "      <td>(Yogurt, Kidney Beans)</td>\n",
              "      <td>2</td>\n",
              "    </tr>\n",
              "    <tr>\n",
              "      <th>10</th>\n",
              "      <td>0.6</td>\n",
              "      <td>(Eggs, Onion, Kidney Beans)</td>\n",
              "      <td>3</td>\n",
              "    </tr>\n",
              "  </tbody>\n",
              "</table>\n",
              "</div>"
            ],
            "text/plain": [
              "    support                     itemsets  length\n",
              "0       0.8                       (Eggs)       1\n",
              "1       1.0               (Kidney Beans)       1\n",
              "2       0.6                       (Milk)       1\n",
              "3       0.6                      (Onion)       1\n",
              "4       0.6                     (Yogurt)       1\n",
              "5       0.8         (Eggs, Kidney Beans)       2\n",
              "6       0.6                (Eggs, Onion)       2\n",
              "7       0.6         (Milk, Kidney Beans)       2\n",
              "8       0.6        (Onion, Kidney Beans)       2\n",
              "9       0.6       (Yogurt, Kidney Beans)       2\n",
              "10      0.6  (Eggs, Onion, Kidney Beans)       3"
            ]
          },
          "metadata": {
            "tags": []
          },
          "execution_count": 6
        }
      ]
    },
    {
      "cell_type": "markdown",
      "metadata": {
        "id": "D2RuZSzfQc7k",
        "colab_type": "text"
      },
      "source": [
        "Em seguida, podemos selecionar os resultados que atendem aos critérios desejados da seguinte maneira:"
      ]
    },
    {
      "cell_type": "code",
      "metadata": {
        "id": "sxBX6U2iQc7l",
        "colab_type": "code",
        "colab": {
          "base_uri": "https://localhost:8080/",
          "height": 77
        },
        "outputId": "e193ae28-62bc-4475-b5e5-541eb7c3f8d6"
      },
      "source": [
        "frequent_itemsets[ (frequent_itemsets['length'] == 2) &\n",
        "                   (frequent_itemsets['support'] >= 0.8) ]"
      ],
      "execution_count": 7,
      "outputs": [
        {
          "output_type": "execute_result",
          "data": {
            "text/html": [
              "<div>\n",
              "<style scoped>\n",
              "    .dataframe tbody tr th:only-of-type {\n",
              "        vertical-align: middle;\n",
              "    }\n",
              "\n",
              "    .dataframe tbody tr th {\n",
              "        vertical-align: top;\n",
              "    }\n",
              "\n",
              "    .dataframe thead th {\n",
              "        text-align: right;\n",
              "    }\n",
              "</style>\n",
              "<table border=\"1\" class=\"dataframe\">\n",
              "  <thead>\n",
              "    <tr style=\"text-align: right;\">\n",
              "      <th></th>\n",
              "      <th>support</th>\n",
              "      <th>itemsets</th>\n",
              "      <th>length</th>\n",
              "    </tr>\n",
              "  </thead>\n",
              "  <tbody>\n",
              "    <tr>\n",
              "      <th>5</th>\n",
              "      <td>0.8</td>\n",
              "      <td>(Eggs, Kidney Beans)</td>\n",
              "      <td>2</td>\n",
              "    </tr>\n",
              "  </tbody>\n",
              "</table>\n",
              "</div>"
            ],
            "text/plain": [
              "   support              itemsets  length\n",
              "5      0.8  (Eggs, Kidney Beans)       2"
            ]
          },
          "metadata": {
            "tags": []
          },
          "execution_count": 7
        }
      ]
    },
    {
      "cell_type": "markdown",
      "metadata": {
        "id": "ysORMtVmQc7n",
        "colab_type": "text"
      },
      "source": [
        ": Da mesma forma, usando a API do Pandas, podemos selecionar entradas com base na coluna \"itemsets\":"
      ]
    },
    {
      "cell_type": "code",
      "metadata": {
        "id": "48O9h7F9Qc7n",
        "colab_type": "code",
        "colab": {
          "base_uri": "https://localhost:8080/",
          "height": 77
        },
        "outputId": "7ee44aa4-2f4d-4d25-a1e4-dcdf13180415"
      },
      "source": [
        "frequent_itemsets[ frequent_itemsets['itemsets'] == {'Onion', 'Eggs'} ]"
      ],
      "execution_count": 8,
      "outputs": [
        {
          "output_type": "execute_result",
          "data": {
            "text/html": [
              "<div>\n",
              "<style scoped>\n",
              "    .dataframe tbody tr th:only-of-type {\n",
              "        vertical-align: middle;\n",
              "    }\n",
              "\n",
              "    .dataframe tbody tr th {\n",
              "        vertical-align: top;\n",
              "    }\n",
              "\n",
              "    .dataframe thead th {\n",
              "        text-align: right;\n",
              "    }\n",
              "</style>\n",
              "<table border=\"1\" class=\"dataframe\">\n",
              "  <thead>\n",
              "    <tr style=\"text-align: right;\">\n",
              "      <th></th>\n",
              "      <th>support</th>\n",
              "      <th>itemsets</th>\n",
              "      <th>length</th>\n",
              "    </tr>\n",
              "  </thead>\n",
              "  <tbody>\n",
              "    <tr>\n",
              "      <th>6</th>\n",
              "      <td>0.6</td>\n",
              "      <td>(Eggs, Onion)</td>\n",
              "      <td>2</td>\n",
              "    </tr>\n",
              "  </tbody>\n",
              "</table>\n",
              "</div>"
            ],
            "text/plain": [
              "   support       itemsets  length\n",
              "6      0.6  (Eggs, Onion)       2"
            ]
          },
          "metadata": {
            "tags": []
          },
          "execution_count": 8
        }
      ]
    },
    {
      "cell_type": "markdown",
      "metadata": {
        "id": "zv3ID30nQc7q",
        "colab_type": "text"
      },
      "source": [
        "## Frozensets\n",
        "\n",
        "Observe que as entradas na coluna \"itemsets\" são do tipo frozenset, que é do tipo Python interno semelhante a um conjunto de Python, mas imutável, o que o torna mais eficiente para determinadas operações de consulta ou [comparação](https://docs.python.org/3.6/library/stdtypes.html#frozenset). Como frozensets são conjuntos, a ordem dos itens não importa. Ou seja, a consulta\n",
        "\n",
        "frequent_itemsets [frequent_itemsets ['itemsets'] == {'Cebola', 'Ovos'}]\n",
        "\n",
        "é equivalente a qualquer um dos três seguintes\n",
        "\n",
        "frequent_itemsets [frequent_itemsets ['itemsets'] == {'Ovos', 'Cebola'}]\n",
        "frequent_itemsets [frequent_itemsets ['itemsets'] == frozenset (('Ovos', 'Cebola'))]\n",
        "frequent_itemsets [frequent_itemsets ['itemsets'] == frozenset (('Cebola', 'Ovos'))]"
      ]
    },
    {
      "cell_type": "markdown",
      "metadata": {
        "id": "rU10VPw4Qc7r",
        "colab_type": "text"
      },
      "source": [
        "# Nosso Exemplo"
      ]
    },
    {
      "cell_type": "code",
      "metadata": {
        "id": "1aM03T8gQc7r",
        "colab_type": "code",
        "colab": {}
      },
      "source": [
        "conjunto_de_dados = [['Leite', 'Cebola', 'Noz-moscada', 'Feijão', 'Ovos', 'Iogurte'],\n",
        "                     ['Endro', 'Cebola', 'Noz-moscada', 'Feijão', 'Ovos', 'Iogurte'],\n",
        "                     ['Leite', 'Maçã', 'Feijão', 'Ovos'],\n",
        "                     ['Leite', 'Refrigerante', 'Milho', 'Feijão', 'Iogurte'],\n",
        "                     ['Milho', 'Cebola', 'Cebola', 'Feijão', 'Sorvete', 'Ovos']]"
      ],
      "execution_count": 0,
      "outputs": []
    },
    {
      "cell_type": "code",
      "metadata": {
        "id": "mYaQxSEHQc7v",
        "colab_type": "code",
        "colab": {
          "base_uri": "https://localhost:8080/",
          "height": 195
        },
        "outputId": "108bcb1f-dd99-46d6-d326-600964115535"
      },
      "source": [
        "te = TransactionEncoder()\n",
        "te_tr = te.fit(conjunto_de_dados).transform(conjunto_de_dados)\n",
        "df = pd.DataFrame(te_tr, columns=te.columns_)\n",
        "df"
      ],
      "execution_count": 10,
      "outputs": [
        {
          "output_type": "execute_result",
          "data": {
            "text/html": [
              "<div>\n",
              "<style scoped>\n",
              "    .dataframe tbody tr th:only-of-type {\n",
              "        vertical-align: middle;\n",
              "    }\n",
              "\n",
              "    .dataframe tbody tr th {\n",
              "        vertical-align: top;\n",
              "    }\n",
              "\n",
              "    .dataframe thead th {\n",
              "        text-align: right;\n",
              "    }\n",
              "</style>\n",
              "<table border=\"1\" class=\"dataframe\">\n",
              "  <thead>\n",
              "    <tr style=\"text-align: right;\">\n",
              "      <th></th>\n",
              "      <th>Cebola</th>\n",
              "      <th>Endro</th>\n",
              "      <th>Feijão</th>\n",
              "      <th>Iogurte</th>\n",
              "      <th>Leite</th>\n",
              "      <th>Maçã</th>\n",
              "      <th>Milho</th>\n",
              "      <th>Noz-moscada</th>\n",
              "      <th>Ovos</th>\n",
              "      <th>Refrigerante</th>\n",
              "      <th>Sorvete</th>\n",
              "    </tr>\n",
              "  </thead>\n",
              "  <tbody>\n",
              "    <tr>\n",
              "      <th>0</th>\n",
              "      <td>True</td>\n",
              "      <td>False</td>\n",
              "      <td>True</td>\n",
              "      <td>True</td>\n",
              "      <td>True</td>\n",
              "      <td>False</td>\n",
              "      <td>False</td>\n",
              "      <td>True</td>\n",
              "      <td>True</td>\n",
              "      <td>False</td>\n",
              "      <td>False</td>\n",
              "    </tr>\n",
              "    <tr>\n",
              "      <th>1</th>\n",
              "      <td>True</td>\n",
              "      <td>True</td>\n",
              "      <td>True</td>\n",
              "      <td>True</td>\n",
              "      <td>False</td>\n",
              "      <td>False</td>\n",
              "      <td>False</td>\n",
              "      <td>True</td>\n",
              "      <td>True</td>\n",
              "      <td>False</td>\n",
              "      <td>False</td>\n",
              "    </tr>\n",
              "    <tr>\n",
              "      <th>2</th>\n",
              "      <td>False</td>\n",
              "      <td>False</td>\n",
              "      <td>True</td>\n",
              "      <td>False</td>\n",
              "      <td>True</td>\n",
              "      <td>True</td>\n",
              "      <td>False</td>\n",
              "      <td>False</td>\n",
              "      <td>True</td>\n",
              "      <td>False</td>\n",
              "      <td>False</td>\n",
              "    </tr>\n",
              "    <tr>\n",
              "      <th>3</th>\n",
              "      <td>False</td>\n",
              "      <td>False</td>\n",
              "      <td>True</td>\n",
              "      <td>True</td>\n",
              "      <td>True</td>\n",
              "      <td>False</td>\n",
              "      <td>True</td>\n",
              "      <td>False</td>\n",
              "      <td>False</td>\n",
              "      <td>True</td>\n",
              "      <td>False</td>\n",
              "    </tr>\n",
              "    <tr>\n",
              "      <th>4</th>\n",
              "      <td>True</td>\n",
              "      <td>False</td>\n",
              "      <td>True</td>\n",
              "      <td>False</td>\n",
              "      <td>False</td>\n",
              "      <td>False</td>\n",
              "      <td>True</td>\n",
              "      <td>False</td>\n",
              "      <td>True</td>\n",
              "      <td>False</td>\n",
              "      <td>True</td>\n",
              "    </tr>\n",
              "  </tbody>\n",
              "</table>\n",
              "</div>"
            ],
            "text/plain": [
              "   Cebola  Endro  Feijão  Iogurte  ...  Noz-moscada   Ovos  Refrigerante  Sorvete\n",
              "0    True  False    True     True  ...         True   True         False    False\n",
              "1    True   True    True     True  ...         True   True         False    False\n",
              "2   False  False    True    False  ...        False   True         False    False\n",
              "3   False  False    True     True  ...        False  False          True    False\n",
              "4    True  False    True    False  ...        False   True         False     True\n",
              "\n",
              "[5 rows x 11 columns]"
            ]
          },
          "metadata": {
            "tags": []
          },
          "execution_count": 10
        }
      ]
    },
    {
      "cell_type": "code",
      "metadata": {
        "id": "Tij7tO0aQc7x",
        "colab_type": "code",
        "colab": {
          "base_uri": "https://localhost:8080/",
          "height": 373
        },
        "outputId": "15f97b3d-28a4-4c3e-bcd9-89027ff6d881"
      },
      "source": [
        "apriori(df, min_support=0.6, use_colnames=True)"
      ],
      "execution_count": 11,
      "outputs": [
        {
          "output_type": "execute_result",
          "data": {
            "text/html": [
              "<div>\n",
              "<style scoped>\n",
              "    .dataframe tbody tr th:only-of-type {\n",
              "        vertical-align: middle;\n",
              "    }\n",
              "\n",
              "    .dataframe tbody tr th {\n",
              "        vertical-align: top;\n",
              "    }\n",
              "\n",
              "    .dataframe thead th {\n",
              "        text-align: right;\n",
              "    }\n",
              "</style>\n",
              "<table border=\"1\" class=\"dataframe\">\n",
              "  <thead>\n",
              "    <tr style=\"text-align: right;\">\n",
              "      <th></th>\n",
              "      <th>support</th>\n",
              "      <th>itemsets</th>\n",
              "    </tr>\n",
              "  </thead>\n",
              "  <tbody>\n",
              "    <tr>\n",
              "      <th>0</th>\n",
              "      <td>0.6</td>\n",
              "      <td>(Cebola)</td>\n",
              "    </tr>\n",
              "    <tr>\n",
              "      <th>1</th>\n",
              "      <td>1.0</td>\n",
              "      <td>(Feijão)</td>\n",
              "    </tr>\n",
              "    <tr>\n",
              "      <th>2</th>\n",
              "      <td>0.6</td>\n",
              "      <td>(Iogurte)</td>\n",
              "    </tr>\n",
              "    <tr>\n",
              "      <th>3</th>\n",
              "      <td>0.6</td>\n",
              "      <td>(Leite)</td>\n",
              "    </tr>\n",
              "    <tr>\n",
              "      <th>4</th>\n",
              "      <td>0.8</td>\n",
              "      <td>(Ovos)</td>\n",
              "    </tr>\n",
              "    <tr>\n",
              "      <th>5</th>\n",
              "      <td>0.6</td>\n",
              "      <td>(Cebola, Feijão)</td>\n",
              "    </tr>\n",
              "    <tr>\n",
              "      <th>6</th>\n",
              "      <td>0.6</td>\n",
              "      <td>(Ovos, Cebola)</td>\n",
              "    </tr>\n",
              "    <tr>\n",
              "      <th>7</th>\n",
              "      <td>0.6</td>\n",
              "      <td>(Iogurte, Feijão)</td>\n",
              "    </tr>\n",
              "    <tr>\n",
              "      <th>8</th>\n",
              "      <td>0.6</td>\n",
              "      <td>(Feijão, Leite)</td>\n",
              "    </tr>\n",
              "    <tr>\n",
              "      <th>9</th>\n",
              "      <td>0.8</td>\n",
              "      <td>(Ovos, Feijão)</td>\n",
              "    </tr>\n",
              "    <tr>\n",
              "      <th>10</th>\n",
              "      <td>0.6</td>\n",
              "      <td>(Ovos, Cebola, Feijão)</td>\n",
              "    </tr>\n",
              "  </tbody>\n",
              "</table>\n",
              "</div>"
            ],
            "text/plain": [
              "    support                itemsets\n",
              "0       0.6                (Cebola)\n",
              "1       1.0                (Feijão)\n",
              "2       0.6               (Iogurte)\n",
              "3       0.6                 (Leite)\n",
              "4       0.8                  (Ovos)\n",
              "5       0.6        (Cebola, Feijão)\n",
              "6       0.6          (Ovos, Cebola)\n",
              "7       0.6       (Iogurte, Feijão)\n",
              "8       0.6         (Feijão, Leite)\n",
              "9       0.8          (Ovos, Feijão)\n",
              "10      0.6  (Ovos, Cebola, Feijão)"
            ]
          },
          "metadata": {
            "tags": []
          },
          "execution_count": 11
        }
      ]
    },
    {
      "cell_type": "code",
      "metadata": {
        "id": "g0BjQllgQc71",
        "colab_type": "code",
        "colab": {
          "base_uri": "https://localhost:8080/",
          "height": 373
        },
        "outputId": "37f044f4-8d2d-4758-c572-9ec400fb2fe3"
      },
      "source": [
        "items_frequentes = apriori(df, min_support=0.6, use_colnames=True)\n",
        "items_frequentes['tamanho'] = items_frequentes['itemsets'].apply(lambda x: len(x))\n",
        "items_frequentes"
      ],
      "execution_count": 12,
      "outputs": [
        {
          "output_type": "execute_result",
          "data": {
            "text/html": [
              "<div>\n",
              "<style scoped>\n",
              "    .dataframe tbody tr th:only-of-type {\n",
              "        vertical-align: middle;\n",
              "    }\n",
              "\n",
              "    .dataframe tbody tr th {\n",
              "        vertical-align: top;\n",
              "    }\n",
              "\n",
              "    .dataframe thead th {\n",
              "        text-align: right;\n",
              "    }\n",
              "</style>\n",
              "<table border=\"1\" class=\"dataframe\">\n",
              "  <thead>\n",
              "    <tr style=\"text-align: right;\">\n",
              "      <th></th>\n",
              "      <th>support</th>\n",
              "      <th>itemsets</th>\n",
              "      <th>tamanho</th>\n",
              "    </tr>\n",
              "  </thead>\n",
              "  <tbody>\n",
              "    <tr>\n",
              "      <th>0</th>\n",
              "      <td>0.6</td>\n",
              "      <td>(Cebola)</td>\n",
              "      <td>1</td>\n",
              "    </tr>\n",
              "    <tr>\n",
              "      <th>1</th>\n",
              "      <td>1.0</td>\n",
              "      <td>(Feijão)</td>\n",
              "      <td>1</td>\n",
              "    </tr>\n",
              "    <tr>\n",
              "      <th>2</th>\n",
              "      <td>0.6</td>\n",
              "      <td>(Iogurte)</td>\n",
              "      <td>1</td>\n",
              "    </tr>\n",
              "    <tr>\n",
              "      <th>3</th>\n",
              "      <td>0.6</td>\n",
              "      <td>(Leite)</td>\n",
              "      <td>1</td>\n",
              "    </tr>\n",
              "    <tr>\n",
              "      <th>4</th>\n",
              "      <td>0.8</td>\n",
              "      <td>(Ovos)</td>\n",
              "      <td>1</td>\n",
              "    </tr>\n",
              "    <tr>\n",
              "      <th>5</th>\n",
              "      <td>0.6</td>\n",
              "      <td>(Cebola, Feijão)</td>\n",
              "      <td>2</td>\n",
              "    </tr>\n",
              "    <tr>\n",
              "      <th>6</th>\n",
              "      <td>0.6</td>\n",
              "      <td>(Ovos, Cebola)</td>\n",
              "      <td>2</td>\n",
              "    </tr>\n",
              "    <tr>\n",
              "      <th>7</th>\n",
              "      <td>0.6</td>\n",
              "      <td>(Iogurte, Feijão)</td>\n",
              "      <td>2</td>\n",
              "    </tr>\n",
              "    <tr>\n",
              "      <th>8</th>\n",
              "      <td>0.6</td>\n",
              "      <td>(Feijão, Leite)</td>\n",
              "      <td>2</td>\n",
              "    </tr>\n",
              "    <tr>\n",
              "      <th>9</th>\n",
              "      <td>0.8</td>\n",
              "      <td>(Ovos, Feijão)</td>\n",
              "      <td>2</td>\n",
              "    </tr>\n",
              "    <tr>\n",
              "      <th>10</th>\n",
              "      <td>0.6</td>\n",
              "      <td>(Ovos, Cebola, Feijão)</td>\n",
              "      <td>3</td>\n",
              "    </tr>\n",
              "  </tbody>\n",
              "</table>\n",
              "</div>"
            ],
            "text/plain": [
              "    support                itemsets  tamanho\n",
              "0       0.6                (Cebola)        1\n",
              "1       1.0                (Feijão)        1\n",
              "2       0.6               (Iogurte)        1\n",
              "3       0.6                 (Leite)        1\n",
              "4       0.8                  (Ovos)        1\n",
              "5       0.6        (Cebola, Feijão)        2\n",
              "6       0.6          (Ovos, Cebola)        2\n",
              "7       0.6       (Iogurte, Feijão)        2\n",
              "8       0.6         (Feijão, Leite)        2\n",
              "9       0.8          (Ovos, Feijão)        2\n",
              "10      0.6  (Ovos, Cebola, Feijão)        3"
            ]
          },
          "metadata": {
            "tags": []
          },
          "execution_count": 12
        }
      ]
    },
    {
      "cell_type": "code",
      "metadata": {
        "id": "D2KkSRJeQc73",
        "colab_type": "code",
        "colab": {}
      },
      "source": [
        "items_frequentes[items_frequentes['tamanho']>=2].to_excel('if.xls')"
      ],
      "execution_count": 0,
      "outputs": []
    },
    {
      "cell_type": "markdown",
      "metadata": {
        "id": "P0j0pGnAQc76",
        "colab_type": "text"
      },
      "source": [
        "![Base de Regras](\"https://github.com/DomingosN/Material_Aprendizado_Maquina_TADS_U-_2020/blob/master/Figuras/Base_De_Regras_1.png\")"
      ]
    },
    {
      "cell_type": "code",
      "metadata": {
        "id": "ITWIHSRyQc77",
        "colab_type": "code",
        "colab": {}
      },
      "source": [
        ""
      ],
      "execution_count": 0,
      "outputs": []
    }
  ]
}