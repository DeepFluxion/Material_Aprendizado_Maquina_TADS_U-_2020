{
  "nbformat": 4,
  "nbformat_minor": 0,
  "metadata": {
    "kernelspec": {
      "display_name": "Python 3",
      "language": "python",
      "name": "python3"
    },
    "language_info": {
      "codemirror_mode": {
        "name": "ipython",
        "version": 3
      },
      "file_extension": ".py",
      "mimetype": "text/x-python",
      "name": "python",
      "nbconvert_exporter": "python",
      "pygments_lexer": "ipython3",
      "version": "3.6.8"
    },
    "colab": {
      "name": "Aula 6 Revisão de Python.ipynb",
      "provenance": [],
      "include_colab_link": true
    }
  },
  "cells": [
    {
      "cell_type": "markdown",
      "metadata": {
        "id": "view-in-github",
        "colab_type": "text"
      },
      "source": [
        "<a href=\"https://colab.research.google.com/github/DomingosN/Material_Aprendizado_Maquina_TADS_U-_2020/blob/master/Aula_6_Revis%C3%A3o_de_Python.ipynb\" target=\"_parent\"><img src=\"https://colab.research.google.com/assets/colab-badge.svg\" alt=\"Open In Colab\"/></a>"
      ]
    },
    {
      "cell_type": "markdown",
      "metadata": {
        "id": "JxrAh_Sr51vl",
        "colab_type": "text"
      },
      "source": [
        "# Vamos agora fazer uma revisão que irá abordar os tópicos tratados nas ultimas aulas."
      ]
    },
    {
      "cell_type": "markdown",
      "metadata": {
        "id": "jTcH4Cda51vm",
        "colab_type": "text"
      },
      "source": [
        "# Revisão Atribuição de Variáveis"
      ]
    },
    {
      "cell_type": "code",
      "metadata": {
        "id": "RckcbVcG51vn",
        "colab_type": "code",
        "colab": {}
      },
      "source": [
        "var = 'Antonio'"
      ],
      "execution_count": 0,
      "outputs": []
    },
    {
      "cell_type": "markdown",
      "metadata": {
        "id": "ORf_uW5651vu",
        "colab_type": "text"
      },
      "source": [
        "# Revisão Impressão de Variáveis"
      ]
    },
    {
      "cell_type": "code",
      "metadata": {
        "id": "ligXIKtH51vu",
        "colab_type": "code",
        "colab": {},
        "outputId": "9221b7b9-a826-4428-b70a-d6c5f5587302"
      },
      "source": [
        "print(var)"
      ],
      "execution_count": 0,
      "outputs": [
        {
          "output_type": "stream",
          "text": [
            "Antonio\n"
          ],
          "name": "stdout"
        }
      ]
    },
    {
      "cell_type": "markdown",
      "metadata": {
        "id": "HH9IxQUm51vz",
        "colab_type": "text"
      },
      "source": [
        "# Revisão Entrada de Varáiveis pelo Usuário"
      ]
    },
    {
      "cell_type": "code",
      "metadata": {
        "id": "TKzdCFNx51v0",
        "colab_type": "code",
        "colab": {},
        "outputId": "59ee4789-bc77-4986-bf4e-ff4341fcf951"
      },
      "source": [
        "var = input('Entre com um nome:')"
      ],
      "execution_count": 0,
      "outputs": [
        {
          "output_type": "stream",
          "text": [
            "Entre com um nome:dagoberto\n"
          ],
          "name": "stdout"
        }
      ]
    },
    {
      "cell_type": "code",
      "metadata": {
        "id": "WKkyV86I51v8",
        "colab_type": "code",
        "colab": {},
        "outputId": "1b53866e-ce59-4e5e-fdc5-33e7aa90e7ea"
      },
      "source": [
        "print(var)"
      ],
      "execution_count": 0,
      "outputs": [
        {
          "output_type": "stream",
          "text": [
            "dagoberto\n"
          ],
          "name": "stdout"
        }
      ]
    },
    {
      "cell_type": "markdown",
      "metadata": {
        "id": "LXDT3sXd51wC",
        "colab_type": "text"
      },
      "source": [
        "# Revisão Comparação de Variáveis"
      ]
    },
    {
      "cell_type": "code",
      "metadata": {
        "id": "YjpHOQfe51wD",
        "colab_type": "code",
        "colab": {}
      },
      "source": [
        "num1 = 10\n",
        "num2 = 15"
      ],
      "execution_count": 0,
      "outputs": []
    },
    {
      "cell_type": "code",
      "metadata": {
        "id": "8Abm0eC451wG",
        "colab_type": "code",
        "colab": {},
        "outputId": "fc3a1a85-07d6-4a59-d311-6fc36bf65a98"
      },
      "source": [
        "print(num1>0)"
      ],
      "execution_count": 0,
      "outputs": [
        {
          "output_type": "stream",
          "text": [
            "True\n"
          ],
          "name": "stdout"
        }
      ]
    },
    {
      "cell_type": "code",
      "metadata": {
        "id": "b68V4dvB51wM",
        "colab_type": "code",
        "colab": {},
        "outputId": "95e778e0-d347-43d5-cad4-995351400872"
      },
      "source": [
        "print(num2<0)"
      ],
      "execution_count": 0,
      "outputs": [
        {
          "output_type": "stream",
          "text": [
            "False\n"
          ],
          "name": "stdout"
        }
      ]
    },
    {
      "cell_type": "code",
      "metadata": {
        "id": "xwFtfo3851wS",
        "colab_type": "code",
        "colab": {},
        "outputId": "45e89ee6-4f17-4f1b-a3e9-ab87a59a6bfc"
      },
      "source": [
        "print(num1>num2)"
      ],
      "execution_count": 0,
      "outputs": [
        {
          "output_type": "stream",
          "text": [
            "False\n"
          ],
          "name": "stdout"
        }
      ]
    },
    {
      "cell_type": "code",
      "metadata": {
        "id": "IDyaXhuJ51wW",
        "colab_type": "code",
        "colab": {},
        "outputId": "c24bf4ed-761c-4252-8741-f3f0c10504a4"
      },
      "source": [
        "print(num1<num2)"
      ],
      "execution_count": 0,
      "outputs": [
        {
          "output_type": "stream",
          "text": [
            "True\n"
          ],
          "name": "stdout"
        }
      ]
    },
    {
      "cell_type": "markdown",
      "metadata": {
        "id": "VXkyaWTD51wa",
        "colab_type": "text"
      },
      "source": [
        "# RevisãoOperações Aritiméticas com Variáveis"
      ]
    },
    {
      "cell_type": "code",
      "metadata": {
        "id": "Dig_JcLH51wa",
        "colab_type": "code",
        "colab": {},
        "outputId": "a445a5c5-2c29-4a91-a7a7-134b8ec6d878"
      },
      "source": [
        "num1+num2"
      ],
      "execution_count": 0,
      "outputs": [
        {
          "output_type": "execute_result",
          "data": {
            "text/plain": [
              "25"
            ]
          },
          "metadata": {
            "tags": []
          },
          "execution_count": 31
        }
      ]
    },
    {
      "cell_type": "code",
      "metadata": {
        "id": "O74NXyuD51wh",
        "colab_type": "code",
        "colab": {},
        "outputId": "d9245aa5-e0f1-475d-f68b-5dbadf324583"
      },
      "source": [
        "num1-num2"
      ],
      "execution_count": 0,
      "outputs": [
        {
          "output_type": "execute_result",
          "data": {
            "text/plain": [
              "-5"
            ]
          },
          "metadata": {
            "tags": []
          },
          "execution_count": 32
        }
      ]
    },
    {
      "cell_type": "code",
      "metadata": {
        "id": "bK8-1Vep51wl",
        "colab_type": "code",
        "colab": {},
        "outputId": "3ff70267-bddf-499a-a243-707b07d20acf"
      },
      "source": [
        "num1*num2"
      ],
      "execution_count": 0,
      "outputs": [
        {
          "output_type": "execute_result",
          "data": {
            "text/plain": [
              "150"
            ]
          },
          "metadata": {
            "tags": []
          },
          "execution_count": 33
        }
      ]
    },
    {
      "cell_type": "code",
      "metadata": {
        "id": "yWfeVMyi51wn",
        "colab_type": "code",
        "colab": {},
        "outputId": "0181cee5-9145-410a-88b7-728b8a2d8b66"
      },
      "source": [
        "num3 = float(num1**num2)\n",
        "print(num3)"
      ],
      "execution_count": 0,
      "outputs": [
        {
          "output_type": "stream",
          "text": [
            "1000000000000000.0\n"
          ],
          "name": "stdout"
        }
      ]
    },
    {
      "cell_type": "code",
      "metadata": {
        "id": "CtCSFlQv51wq",
        "colab_type": "code",
        "colab": {},
        "outputId": "e5ea1e24-8536-44f7-bdf9-95536da9ce83"
      },
      "source": [
        "print(type(var));\n",
        "print(type(num1))\n",
        "print(type(num3))"
      ],
      "execution_count": 0,
      "outputs": [
        {
          "output_type": "stream",
          "text": [
            "<class 'str'>\n",
            "<class 'int'>\n",
            "<class 'float'>\n"
          ],
          "name": "stdout"
        }
      ]
    },
    {
      "cell_type": "markdown",
      "metadata": {
        "id": "YGPt27kk51ws",
        "colab_type": "text"
      },
      "source": [
        "# Listas, Loops e Range"
      ]
    },
    {
      "cell_type": "code",
      "metadata": {
        "id": "qnHzGg1R51wt",
        "colab_type": "code",
        "colab": {}
      },
      "source": [
        "lista = []"
      ],
      "execution_count": 0,
      "outputs": []
    },
    {
      "cell_type": "code",
      "metadata": {
        "id": "2Dl9BubC51ww",
        "colab_type": "code",
        "colab": {}
      },
      "source": [
        "for i in range(100):\n",
        "    lista.append(i)"
      ],
      "execution_count": 0,
      "outputs": []
    },
    {
      "cell_type": "code",
      "metadata": {
        "id": "QoRzGsrG51wz",
        "colab_type": "code",
        "colab": {},
        "outputId": "9dfd7d69-908c-4fcf-8820-43982fedbf7d"
      },
      "source": [
        "print(lista)"
      ],
      "execution_count": 0,
      "outputs": [
        {
          "output_type": "stream",
          "text": [
            "[0, 1, 2, 3, 4, 5, 6, 7, 8, 9, 10, 11, 12, 13, 14, 15, 16, 17, 18, 19, 20, 21, 22, 23, 24, 25, 26, 27, 28, 29, 30, 31, 32, 33, 34, 35, 36, 37, 38, 39, 40, 41, 42, 43, 44, 45, 46, 47, 48, 49, 50, 51, 52, 53, 54, 55, 56, 57, 58, 59, 60, 61, 62, 63, 64, 65, 66, 67, 68, 69, 70, 71, 72, 73, 74, 75, 76, 77, 78, 79, 80, 81, 82, 83, 84, 85, 86, 87, 88, 89, 90, 91, 92, 93, 94, 95, 96, 97, 98, 99]\n"
          ],
          "name": "stdout"
        }
      ]
    },
    {
      "cell_type": "code",
      "metadata": {
        "id": "wsQw5vei51w3",
        "colab_type": "code",
        "colab": {},
        "outputId": "ef5a05c0-1cd1-4ef8-96c2-0073f762631a"
      },
      "source": [
        "print(lista[0:10])"
      ],
      "execution_count": 0,
      "outputs": [
        {
          "output_type": "stream",
          "text": [
            "[0, 1, 2, 3, 4, 5, 6, 7, 8, 9]\n"
          ],
          "name": "stdout"
        }
      ]
    },
    {
      "cell_type": "code",
      "metadata": {
        "id": "awMpx7wW51w6",
        "colab_type": "code",
        "colab": {},
        "outputId": "b480a20d-fb43-4bc0-bf91-074d67e8184a"
      },
      "source": [
        "print(lista[-1])"
      ],
      "execution_count": 0,
      "outputs": [
        {
          "output_type": "stream",
          "text": [
            "99\n"
          ],
          "name": "stdout"
        }
      ]
    },
    {
      "cell_type": "code",
      "metadata": {
        "id": "pKQU3X_Z51w8",
        "colab_type": "code",
        "colab": {},
        "outputId": "78233693-a242-4c4d-d5f6-9dfe14ba64a0"
      },
      "source": [
        "print(lista[-10:])"
      ],
      "execution_count": 0,
      "outputs": [
        {
          "output_type": "stream",
          "text": [
            "[90, 91, 92, 93, 94, 95, 96, 97, 98, 99]\n"
          ],
          "name": "stdout"
        }
      ]
    },
    {
      "cell_type": "markdown",
      "metadata": {
        "id": "nzGo_KHO51xA",
        "colab_type": "text"
      },
      "source": [
        "## Desvios condicionais if else"
      ]
    },
    {
      "cell_type": "code",
      "metadata": {
        "id": "Z_bY0i3w51xA",
        "colab_type": "code",
        "colab": {},
        "outputId": "6b83f43a-6ddd-42ee-e496-2cfdcd40b24b"
      },
      "source": [
        "for numero in lista:\n",
        "    if numero%2 == 0:\n",
        "        print('O número '+str(numero)+ ' é par.');\n",
        "    else:\n",
        "        print('O número '+str(numero)+ ' é impar.');"
      ],
      "execution_count": 0,
      "outputs": [
        {
          "output_type": "stream",
          "text": [
            "O número 0 é par.\n",
            "O número 1 é impar.\n",
            "O número 2 é par.\n",
            "O número 3 é impar.\n",
            "O número 4 é par.\n",
            "O número 5 é impar.\n",
            "O número 6 é par.\n",
            "O número 7 é impar.\n",
            "O número 8 é par.\n",
            "O número 9 é impar.\n",
            "O número 10 é par.\n",
            "O número 11 é impar.\n",
            "O número 12 é par.\n",
            "O número 13 é impar.\n",
            "O número 14 é par.\n",
            "O número 15 é impar.\n",
            "O número 16 é par.\n",
            "O número 17 é impar.\n",
            "O número 18 é par.\n",
            "O número 19 é impar.\n",
            "O número 20 é par.\n",
            "O número 21 é impar.\n",
            "O número 22 é par.\n",
            "O número 23 é impar.\n",
            "O número 24 é par.\n",
            "O número 25 é impar.\n",
            "O número 26 é par.\n",
            "O número 27 é impar.\n",
            "O número 28 é par.\n",
            "O número 29 é impar.\n",
            "O número 30 é par.\n",
            "O número 31 é impar.\n",
            "O número 32 é par.\n",
            "O número 33 é impar.\n",
            "O número 34 é par.\n",
            "O número 35 é impar.\n",
            "O número 36 é par.\n",
            "O número 37 é impar.\n",
            "O número 38 é par.\n",
            "O número 39 é impar.\n",
            "O número 40 é par.\n",
            "O número 41 é impar.\n",
            "O número 42 é par.\n",
            "O número 43 é impar.\n",
            "O número 44 é par.\n",
            "O número 45 é impar.\n",
            "O número 46 é par.\n",
            "O número 47 é impar.\n",
            "O número 48 é par.\n",
            "O número 49 é impar.\n",
            "O número 50 é par.\n",
            "O número 51 é impar.\n",
            "O número 52 é par.\n",
            "O número 53 é impar.\n",
            "O número 54 é par.\n",
            "O número 55 é impar.\n",
            "O número 56 é par.\n",
            "O número 57 é impar.\n",
            "O número 58 é par.\n",
            "O número 59 é impar.\n",
            "O número 60 é par.\n",
            "O número 61 é impar.\n",
            "O número 62 é par.\n",
            "O número 63 é impar.\n",
            "O número 64 é par.\n",
            "O número 65 é impar.\n",
            "O número 66 é par.\n",
            "O número 67 é impar.\n",
            "O número 68 é par.\n",
            "O número 69 é impar.\n",
            "O número 70 é par.\n",
            "O número 71 é impar.\n",
            "O número 72 é par.\n",
            "O número 73 é impar.\n",
            "O número 74 é par.\n",
            "O número 75 é impar.\n",
            "O número 76 é par.\n",
            "O número 77 é impar.\n",
            "O número 78 é par.\n",
            "O número 79 é impar.\n",
            "O número 80 é par.\n",
            "O número 81 é impar.\n",
            "O número 82 é par.\n",
            "O número 83 é impar.\n",
            "O número 84 é par.\n",
            "O número 85 é impar.\n",
            "O número 86 é par.\n",
            "O número 87 é impar.\n",
            "O número 88 é par.\n",
            "O número 89 é impar.\n",
            "O número 90 é par.\n",
            "O número 91 é impar.\n",
            "O número 92 é par.\n",
            "O número 93 é impar.\n",
            "O número 94 é par.\n",
            "O número 95 é impar.\n",
            "O número 96 é par.\n",
            "O número 97 é impar.\n",
            "O número 98 é par.\n",
            "O número 99 é impar.\n"
          ],
          "name": "stdout"
        }
      ]
    },
    {
      "cell_type": "markdown",
      "metadata": {
        "id": "gCp2CEqr51xC",
        "colab_type": "text"
      },
      "source": [
        "# Dicionários"
      ]
    },
    {
      "cell_type": "code",
      "metadata": {
        "id": "k4ovD5-O51xD",
        "colab_type": "code",
        "colab": {}
      },
      "source": [
        "aniversarios = dict( Alberto = '20/04',\n",
        "                   Luis = '12/12',\n",
        "                   Waldemar = '20/07',\n",
        "                   Ivana = '24/05')"
      ],
      "execution_count": 0,
      "outputs": []
    },
    {
      "cell_type": "code",
      "metadata": {
        "id": "XO4AZilP51xF",
        "colab_type": "code",
        "colab": {},
        "outputId": "d00f1b2e-78c7-4e79-97ec-3e7af0b015ab"
      },
      "source": [
        "aniversarios['Ivana']"
      ],
      "execution_count": 0,
      "outputs": [
        {
          "output_type": "execute_result",
          "data": {
            "text/plain": [
              "'24/05'"
            ]
          },
          "metadata": {
            "tags": []
          },
          "execution_count": 59
        }
      ]
    },
    {
      "cell_type": "code",
      "metadata": {
        "id": "hEehtHbI51xH",
        "colab_type": "code",
        "colab": {},
        "outputId": "da6c48d6-fa56-4dda-dc9c-2f74b3b20bb1"
      },
      "source": [
        "aniversarios"
      ],
      "execution_count": 0,
      "outputs": [
        {
          "output_type": "execute_result",
          "data": {
            "text/plain": [
              "{'Alberto': '20/04', 'Luis': '12/12', 'Waldemar': '20/07', 'Ivana': '24/05'}"
            ]
          },
          "metadata": {
            "tags": []
          },
          "execution_count": 60
        }
      ]
    },
    {
      "cell_type": "code",
      "metadata": {
        "id": "tDq6Cv3K51xK",
        "colab_type": "code",
        "colab": {},
        "outputId": "7e6a957e-47c8-433d-8012-90b6822935aa"
      },
      "source": [
        "aniversarios.keys()"
      ],
      "execution_count": 0,
      "outputs": [
        {
          "output_type": "execute_result",
          "data": {
            "text/plain": [
              "dict_keys(['Alberto', 'Luis', 'Waldemar', 'Ivana'])"
            ]
          },
          "metadata": {
            "tags": []
          },
          "execution_count": 62
        }
      ]
    },
    {
      "cell_type": "code",
      "metadata": {
        "id": "hz_uIQ7351xN",
        "colab_type": "code",
        "colab": {},
        "outputId": "6e1abb05-0332-4d72-e1f5-a8136d14ca7c"
      },
      "source": [
        "aniversarios.values()"
      ],
      "execution_count": 0,
      "outputs": [
        {
          "output_type": "execute_result",
          "data": {
            "text/plain": [
              "dict_values(['20/04', '12/12', '20/07', '24/05', '20/01', '20/11', '03/11'])"
            ]
          },
          "metadata": {
            "tags": []
          },
          "execution_count": 64
        }
      ]
    },
    {
      "cell_type": "code",
      "metadata": {
        "id": "EtYtnN2Y51xQ",
        "colab_type": "code",
        "colab": {},
        "outputId": "364a2cb8-5ab9-4ace-e70b-6d9e42fcd2df"
      },
      "source": [
        "aniversarios.items()"
      ],
      "execution_count": 0,
      "outputs": [
        {
          "output_type": "execute_result",
          "data": {
            "text/plain": [
              "dict_items([('Alberto', '20/04'), ('Luis', '12/12'), ('Waldemar', '20/07'), ('Ivana', '24/05'), ('Souza', '20/01'), ('Silvio', '20/11'), ('helena', '03/11')])"
            ]
          },
          "metadata": {
            "tags": []
          },
          "execution_count": 65
        }
      ]
    },
    {
      "cell_type": "code",
      "metadata": {
        "id": "k9wgeQjm51xS",
        "colab_type": "code",
        "colab": {}
      },
      "source": [
        "aniversarios['Souza']= '20/01';\n",
        "aniversarios['Silvio']= '20/11';\n",
        "aniversarios['Helena']= '03/11'"
      ],
      "execution_count": 0,
      "outputs": []
    },
    {
      "cell_type": "code",
      "metadata": {
        "id": "5q7XtI8d51xV",
        "colab_type": "code",
        "colab": {},
        "outputId": "e11f2b5e-cd8a-4061-af85-b6f43755dc20"
      },
      "source": [
        "for key in aniversarios.keys():\n",
        "    print(key)"
      ],
      "execution_count": 0,
      "outputs": [
        {
          "output_type": "stream",
          "text": [
            "Alberto\n",
            "Luis\n",
            "Waldemar\n",
            "Ivana\n",
            "Souza\n",
            "Silvio\n",
            "helena\n",
            "Helena\n"
          ],
          "name": "stdout"
        }
      ]
    },
    {
      "cell_type": "code",
      "metadata": {
        "id": "ZYpVD8_d51xX",
        "colab_type": "code",
        "colab": {},
        "outputId": "dfb75fcd-a03a-4f92-986b-ad62980d317e"
      },
      "source": [
        "for key in aniversarios.keys():\n",
        "    print('O aniversário de '+key+' é em '+aniversarios[key])"
      ],
      "execution_count": 0,
      "outputs": [
        {
          "output_type": "stream",
          "text": [
            "O aniversário de Alberto é em 20/04\n",
            "O aniversário de Luis é em 12/12\n",
            "O aniversário de Waldemar é em 20/07\n",
            "O aniversário de Ivana é em 24/05\n",
            "O aniversário de Souza é em 20/01\n",
            "O aniversário de Silvio é em 20/11\n",
            "O aniversário de helena é em 03/11\n",
            "O aniversário de Helena é em 03/11\n"
          ],
          "name": "stdout"
        }
      ]
    },
    {
      "cell_type": "markdown",
      "metadata": {
        "id": "MR4il_UG51xZ",
        "colab_type": "text"
      },
      "source": [
        "## Exemplo 1 Veja o exemplo a seguir"
      ]
    },
    {
      "cell_type": "code",
      "metadata": {
        "id": "I13aDnN551xa",
        "colab_type": "code",
        "colab": {},
        "outputId": "cc10317d-f14b-4b37-8b29-fe284a5b5749"
      },
      "source": [
        "A0 = input(\"Entre com um nome: \")"
      ],
      "execution_count": 0,
      "outputs": [
        {
          "output_type": "stream",
          "text": [
            "Entre com um nome: Daniel\n"
          ],
          "name": "stdout"
        }
      ]
    },
    {
      "cell_type": "code",
      "metadata": {
        "id": "Eew08LJ-51xc",
        "colab_type": "code",
        "colab": {},
        "outputId": "6f4414a1-fc4a-4b70-caa5-6763fe76323f"
      },
      "source": [
        "print(A0)"
      ],
      "execution_count": 0,
      "outputs": [
        {
          "output_type": "stream",
          "text": [
            "Daniel\n"
          ],
          "name": "stdout"
        }
      ]
    },
    {
      "cell_type": "markdown",
      "metadata": {
        "id": "AgyUxdGC51xg",
        "colab_type": "text"
      },
      "source": [
        "Neste exemplo nós inserimos um nome que é armazenado na varáivel A0, a seguir com o comando print() nos imprimimos o conteúdo de A0"
      ]
    },
    {
      "cell_type": "markdown",
      "metadata": {
        "id": "UQwGlAZZ51xg",
        "colab_type": "text"
      },
      "source": [
        "## Exercicio 2- Repita inserindo um novo nome para ser armazenado na varíavel A1\n",
        "## Digite na linha a seguir o código para inserir A1"
      ]
    },
    {
      "cell_type": "code",
      "metadata": {
        "id": "6RDoMX9w51xh",
        "colab_type": "code",
        "colab": {}
      },
      "source": [
        ""
      ],
      "execution_count": 0,
      "outputs": []
    },
    {
      "cell_type": "markdown",
      "metadata": {
        "id": "UKzt6X2o51xl",
        "colab_type": "text"
      },
      "source": [
        "## Digite na linha s seguir o código para imprimir A1"
      ]
    },
    {
      "cell_type": "code",
      "metadata": {
        "id": "ELFNah7U51xl",
        "colab_type": "code",
        "colab": {}
      },
      "source": [
        ""
      ],
      "execution_count": 0,
      "outputs": []
    },
    {
      "cell_type": "markdown",
      "metadata": {
        "id": "7pKWFch851xo",
        "colab_type": "text"
      },
      "source": [
        "## Exercicio 3- Repita inserindo um novo nome para ser armazenado na variável A2\n",
        "## Digite na linha a seguir o código para inserir A2"
      ]
    },
    {
      "cell_type": "code",
      "metadata": {
        "id": "leXkPv3q51xp",
        "colab_type": "code",
        "colab": {}
      },
      "source": [
        ""
      ],
      "execution_count": 0,
      "outputs": []
    },
    {
      "cell_type": "markdown",
      "metadata": {
        "id": "hLJFSJ8r51xr",
        "colab_type": "text"
      },
      "source": [
        "## Digite na linha a seguir o código para imprimir A2"
      ]
    },
    {
      "cell_type": "code",
      "metadata": {
        "id": "7m6m0UMv51xs",
        "colab_type": "code",
        "colab": {}
      },
      "source": [
        ""
      ],
      "execution_count": 0,
      "outputs": []
    },
    {
      "cell_type": "markdown",
      "metadata": {
        "id": "BD7ZU_rP51xv",
        "colab_type": "text"
      },
      "source": [
        "## Exercicio 4- Repita inserindo um novo nome para ser armazenado na variável A3\n",
        "## Digite na linha a seguir o código para inserir A3"
      ]
    },
    {
      "cell_type": "code",
      "metadata": {
        "id": "TUNK7rzU51xw",
        "colab_type": "code",
        "colab": {}
      },
      "source": [
        ""
      ],
      "execution_count": 0,
      "outputs": []
    },
    {
      "cell_type": "markdown",
      "metadata": {
        "id": "6wVWHJBt51x0",
        "colab_type": "text"
      },
      "source": [
        "## Digite na linha a seguir o código para imprimir A3"
      ]
    },
    {
      "cell_type": "code",
      "metadata": {
        "id": "JakLFlcP51x1",
        "colab_type": "code",
        "colab": {}
      },
      "source": [
        ""
      ],
      "execution_count": 0,
      "outputs": []
    },
    {
      "cell_type": "markdown",
      "metadata": {
        "id": "grfxdZyJ51x4",
        "colab_type": "text"
      },
      "source": [
        "## Exercicio 5- Repita inserindo um novo nome para ser armazenado na variável A4\n",
        "## Digite na linha a seguir o código para inserir A4"
      ]
    },
    {
      "cell_type": "code",
      "metadata": {
        "id": "oyAQveYF51x4",
        "colab_type": "code",
        "colab": {}
      },
      "source": [
        ""
      ],
      "execution_count": 0,
      "outputs": []
    },
    {
      "cell_type": "markdown",
      "metadata": {
        "id": "zPFVyR9c51x8",
        "colab_type": "text"
      },
      "source": [
        "## Digite na linha a seguir o código para imprimir A4"
      ]
    },
    {
      "cell_type": "code",
      "metadata": {
        "id": "axHFiQyK51x9",
        "colab_type": "code",
        "colab": {}
      },
      "source": [
        ""
      ],
      "execution_count": 0,
      "outputs": []
    },
    {
      "cell_type": "markdown",
      "metadata": {
        "id": "Jkzw4H2851yB",
        "colab_type": "text"
      },
      "source": [
        "## Exercicio 6- Repita inserindo um novo nome para ser armazenado na varíavel A5\n",
        "## Digite na linha a seguir o código para inserir A5"
      ]
    },
    {
      "cell_type": "code",
      "metadata": {
        "id": "s-G-dyUR51yC",
        "colab_type": "code",
        "colab": {}
      },
      "source": [
        ""
      ],
      "execution_count": 0,
      "outputs": []
    },
    {
      "cell_type": "markdown",
      "metadata": {
        "id": "KqQGQJoh51yF",
        "colab_type": "text"
      },
      "source": [
        "## Digite na linha a seguir o código para imprimir A5"
      ]
    },
    {
      "cell_type": "code",
      "metadata": {
        "id": "R2rF5M7M51yG",
        "colab_type": "code",
        "colab": {}
      },
      "source": [
        ""
      ],
      "execution_count": 0,
      "outputs": []
    },
    {
      "cell_type": "markdown",
      "metadata": {
        "id": "zRtktzJE51yJ",
        "colab_type": "text"
      },
      "source": [
        "## Exemplo 2 Agora vamos armazenar na variável B0 a idade de Daniel"
      ]
    },
    {
      "cell_type": "code",
      "metadata": {
        "id": "H3vgEy-_51yJ",
        "colab_type": "code",
        "colab": {}
      },
      "source": [
        "B0 = 16"
      ],
      "execution_count": 0,
      "outputs": []
    },
    {
      "cell_type": "markdown",
      "metadata": {
        "id": "oPEPeFiF51yM",
        "colab_type": "text"
      },
      "source": [
        "## Exercício 7 - Repita o Processo agora armazenando as idades das pessoas A1, A2, A3, A4 e A5 nas varíaveis B1, B2, B3, B4, B5, de formas similar ao que foi feito na lina de código anterior."
      ]
    },
    {
      "cell_type": "code",
      "metadata": {
        "id": "rqC8BKPM51yM",
        "colab_type": "code",
        "colab": {}
      },
      "source": [
        "B1 = ; # DIGITE APÓS O SINAL DE IGUAL A IDADE DA PESSOA A1\n",
        "B2 = ; # DIGITE APÓS O SINAL DE IGUAL A IDADE DA PESSOA A2\n",
        "B3 = ; # DIGITE APÓS O SINAL DE IGUAL A IDADE DA PESSOA A3\n",
        "B4 = ; # DIGITE APÓS O SINAL DE IGUAL A IDADE DA PESSOA A4\n",
        "B5 = ; # DIGITE APÓS O SINAL DE IGUAL A IDADE DA PESSOA A5"
      ],
      "execution_count": 0,
      "outputs": []
    },
    {
      "cell_type": "markdown",
      "metadata": {
        "id": "nSXXhXdC51yO",
        "colab_type": "text"
      },
      "source": [
        "## Exercicio 8 Agora vamos verificar qual é o tipo de cada uma das varáiveis que inserimos até agora usando o comando type()"
      ]
    },
    {
      "cell_type": "code",
      "metadata": {
        "id": "XgbZzcbw51yO",
        "colab_type": "code",
        "colab": {},
        "outputId": "59f013f4-bb6f-4eca-a1e9-6d2a9a2681f3"
      },
      "source": [
        "# Exemplo para A0 e B0\n",
        "print(type(A0));\n",
        "print(type(B0))"
      ],
      "execution_count": 0,
      "outputs": [
        {
          "output_type": "stream",
          "text": [
            "<class 'str'>\n",
            "<class 'int'>\n"
          ],
          "name": "stdout"
        }
      ]
    },
    {
      "cell_type": "markdown",
      "metadata": {
        "id": "M2oH5buB51yQ",
        "colab_type": "text"
      },
      "source": [
        "### Repita o Processo agora para a varíáveis A1, A2, A3, A4 e A5 e para as variáveis B1, B2, B3, B4, B5, de formas similar ao que foi feito na lina de código anterior.¶"
      ]
    },
    {
      "cell_type": "code",
      "metadata": {
        "id": "2lhjntrh51yR",
        "colab_type": "code",
        "colab": {}
      },
      "source": [
        ""
      ],
      "execution_count": 0,
      "outputs": []
    },
    {
      "cell_type": "markdown",
      "metadata": {
        "id": "MbvA0siK51yT",
        "colab_type": "text"
      },
      "source": [
        "## Exercicio 9 Agora vamos modificar o tipo de cada uma das varáiveis referente a idades que inserimos até agora usando o comando str() e armazenar nas variáveis sB0, sB1, sB2, sB3, sB4, sB5."
      ]
    },
    {
      "cell_type": "code",
      "metadata": {
        "id": "6n7ASBVY51yU",
        "colab_type": "code",
        "colab": {},
        "outputId": "8e63b071-0f90-4ed3-f02c-3c9b9bc1be37"
      },
      "source": [
        "sB0 = str(B0)\n",
        "print(sB0)"
      ],
      "execution_count": 0,
      "outputs": [
        {
          "output_type": "stream",
          "text": [
            "16\n"
          ],
          "name": "stdout"
        }
      ]
    },
    {
      "cell_type": "markdown",
      "metadata": {
        "id": "MhSYYtQj51yX",
        "colab_type": "text"
      },
      "source": [
        "### Repita o Processo agora para a para as variáveis B1, B2, B3, B4, B5, de forma similar ao que foi feito na lina de código anterior e criando as variáveis sB1, sB2, sB3, sB4, sB5.¶"
      ]
    },
    {
      "cell_type": "code",
      "metadata": {
        "id": "0YsGRGaQ51yY",
        "colab_type": "code",
        "colab": {}
      },
      "source": [
        ""
      ],
      "execution_count": 0,
      "outputs": []
    },
    {
      "cell_type": "code",
      "metadata": {
        "id": "AFyEXJdO51yd",
        "colab_type": "code",
        "colab": {}
      },
      "source": [
        ""
      ],
      "execution_count": 0,
      "outputs": []
    },
    {
      "cell_type": "markdown",
      "metadata": {
        "id": "fkq05k6x51yj",
        "colab_type": "text"
      },
      "source": [
        "## Exercicio 10 Agora criar um código para imprimir uma mensagem usando as varíaveis. veja o exemplo a seguir."
      ]
    },
    {
      "cell_type": "code",
      "metadata": {
        "id": "HJf2tbjM51yk",
        "colab_type": "code",
        "colab": {},
        "outputId": "2a16e6f6-1d15-41bd-eef7-29d9cbe4ba76"
      },
      "source": [
        "print('A idade de '+ A0 + ' é '+ sB0 + ' anos')"
      ],
      "execution_count": 0,
      "outputs": [
        {
          "output_type": "stream",
          "text": [
            "A idade de Daniel é 16 anos\n"
          ],
          "name": "stdout"
        }
      ]
    },
    {
      "cell_type": "markdown",
      "metadata": {
        "id": "ckA_xo9T51yp",
        "colab_type": "text"
      },
      "source": [
        "## Agora modifique o código da linha anterior para imprimir as mensagens com o conteúdo das varíaveis A1, A2, A3, A4, A5 e sB1, sB2, sB3, sB4, sB5"
      ]
    },
    {
      "cell_type": "code",
      "metadata": {
        "id": "uj4eUSIt51yq",
        "colab_type": "code",
        "colab": {}
      },
      "source": [
        "print(); # construa a primeira mensagem entre os parenteses\n",
        "print(); # construa a primeira mensagem entre os parenteses\n",
        "print(); # construa a primeira mensagem entre os parenteses\n",
        "print(); # construa a primeira mensagem entre os parenteses\n",
        "print(); # construa a primeira mensagem entre os parenteses"
      ],
      "execution_count": 0,
      "outputs": []
    },
    {
      "cell_type": "markdown",
      "metadata": {
        "id": "YsrEkqNy51ys",
        "colab_type": "text"
      },
      "source": [
        "## Exercicio 11 Agora criar um código que Calcule a IDADE MÉDIA das pessoas A0, A1, A2, A3, A4, A5. Armazene esse resultado na variável IdadeMedia.¶"
      ]
    },
    {
      "cell_type": "code",
      "metadata": {
        "id": "LKhhgjz151yt",
        "colab_type": "code",
        "colab": {}
      },
      "source": [
        ""
      ],
      "execution_count": 0,
      "outputs": []
    },
    {
      "cell_type": "markdown",
      "metadata": {
        "id": "3afMlD6551yw",
        "colab_type": "text"
      },
      "source": [
        "## Exercicio 12 Agora crie um código para imprimir uma mensagem com o seguinte conteúdo:   \n",
        "## A idade média de A0, A1, A2, A3, A4, A5 é X anos.¶"
      ]
    },
    {
      "cell_type": "code",
      "metadata": {
        "id": "cVl6LANP51yw",
        "colab_type": "code",
        "colab": {}
      },
      "source": [
        ""
      ],
      "execution_count": 0,
      "outputs": []
    },
    {
      "cell_type": "markdown",
      "metadata": {
        "id": "4DnH-Sr851yz",
        "colab_type": "text"
      },
      "source": [
        "## Exercicio 13 Agora crie um código para imprimir uma mensagem com o seguinte conteúdo:\n",
        "A idade de Daniel é maior que a idade média do grupo, caso a idade da Daniel seja maior ou igua a idade média ou A idade de Daniel é mneor que a idade média do grupo, caso a idade da Daniel seja menor que a idade média do grupo"
      ]
    },
    {
      "cell_type": "code",
      "metadata": {
        "id": "eK-3nrV151y0",
        "colab_type": "code",
        "colab": {},
        "outputId": "869c8854-8c2a-4585-bec1-4e7f1fcfda87"
      },
      "source": [
        "# Veja o exempol para A0 e B0\n",
        "IdadeMedia = 15 # Vamos definir esta variavel apenas para testar este código\n",
        "if B0 >= IdadeMedia :\n",
        "    print('A idade de '+ A0 + ' é '+ sB0 + ' anos e maior que a Idade Médai do grupo que é '+ str(IdadeMedia)+ ' anos.')\n",
        "else:\n",
        "    print('A idade de '+ A0 + ' é '+ sB0 + ' anos e menor que a Idade Médai do grupo que é '+ str(IdadeMedia)+ ' anos.')"
      ],
      "execution_count": 0,
      "outputs": [
        {
          "output_type": "stream",
          "text": [
            "A idade de Daniel é 16 anos e maior que a Idade Médai do grupo que é 15 anos.\n"
          ],
          "name": "stdout"
        }
      ]
    },
    {
      "cell_type": "markdown",
      "metadata": {
        "id": "5vKS_qKw51y2",
        "colab_type": "text"
      },
      "source": [
        "## Repita o código para as pessoas A0, A1, A2, A3, A4, A5"
      ]
    },
    {
      "cell_type": "code",
      "metadata": {
        "id": "Ml_elDqZ51y2",
        "colab_type": "code",
        "colab": {}
      },
      "source": [
        ""
      ],
      "execution_count": 0,
      "outputs": []
    },
    {
      "cell_type": "markdown",
      "metadata": {
        "id": "_iddqsOo51y4",
        "colab_type": "text"
      },
      "source": [
        "## Exercicio 14 Agora crie um código para montar uma lista de nomes com as pessoas A0, A1, A2, A3, A4 e A5 denominada nomes e imprimir a mensagem:  \n",
        "## O nome da pessoa X é tal, onde X é substituido pelas strings  A0, A1, A2, A3, A4 e A5 e tal pelo respectivo conteúdo de cada variável :\n",
        "## DICA USE O COMANDO FOR E RANGE PARA FACILITAR O CÓDIGO"
      ]
    },
    {
      "cell_type": "code",
      "metadata": {
        "id": "sLO0mmAY51y5",
        "colab_type": "code",
        "colab": {}
      },
      "source": [
        ""
      ],
      "execution_count": 0,
      "outputs": []
    },
    {
      "cell_type": "markdown",
      "metadata": {
        "id": "q-M_5xQE51y7",
        "colab_type": "text"
      },
      "source": [
        "## Exercicio 15 Agora crie um código para usara lista de nomes com as pessoas A0, A1, A2, A3, A4 e A5 denominada NOMES e  montar a lista IDADES com B0, B1, B2, B3, B4 e B5 e imprimir a mensagem:  \n",
        "## O nome da pessoa X é tal, onde X é substituido pelas strings  A0, A1, A2, A3, A4 e A5 e tal pelo respectivo conteúdo de cada variável :\n",
        "## DICA USE O COMANDO FOR E RANGE PARA FACILITAR O CÓDIGO"
      ]
    },
    {
      "cell_type": "code",
      "metadata": {
        "id": "8qpDcW3T51y7",
        "colab_type": "code",
        "colab": {}
      },
      "source": [
        ""
      ],
      "execution_count": 0,
      "outputs": []
    },
    {
      "cell_type": "markdown",
      "metadata": {
        "id": "J47IW6eO51y8",
        "colab_type": "text"
      },
      "source": [
        "## Desafio\n",
        "\n",
        "Veja o exemplo a seguir:  \n",
        "\n",
        "1. Criaremos um dicionario tendo como __key__ nomes de bandas que temso músicas em nossa coleção\n",
        "2. Vamos criar uma função (Veja aula 6) que busca o artista com o menor numero de múscas em nossa coleção\n",
        "3. Vamos criar uma nova função que oredena nosso dicionário\n",
        "4. Vamos fazer um relatório que imprime a relação ordenada de artista e pela quantidade de músicas em nossa coleção"
      ]
    },
    {
      "cell_type": "markdown",
      "metadata": {
        "id": "nyG1DKGN51y9",
        "colab_type": "text"
      },
      "source": [
        "## 1. Vamos criar um dicionario tendo como __key__ nomes de bandas que temso músicas em nossa coleção"
      ]
    },
    {
      "cell_type": "code",
      "metadata": {
        "id": "Gp0JSvYV51y9",
        "colab_type": "code",
        "colab": {}
      },
      "source": [
        "myMusic= {'Radiohead': 52,\n",
        "         'Gorillaz':101,\n",
        "         'Blur':22,\n",
        "         'Motorhëad': 93,\n",
        "         'Ramones': 125,\n",
        "         'Black Keys':41}"
      ],
      "execution_count": 0,
      "outputs": []
    },
    {
      "cell_type": "markdown",
      "metadata": {
        "id": "DrtjrMmy51y_",
        "colab_type": "text"
      },
      "source": [
        "### Vamos adcionar novos dados ao nosso dicionário myMusic"
      ]
    },
    {
      "cell_type": "code",
      "metadata": {
        "id": "WgMxx1kC51zA",
        "colab_type": "code",
        "colab": {}
      },
      "source": [
        "myMusic['Greta Van Fleet']=21\n",
        "myMusic['Deep Purple']= 92\n",
        "myMusic['Robert Johnson']=23\n",
        "myMusic['Blues Brothers'] = 23\n",
        "myMusic['Muddy Waters']=5\n",
        "myMusic['Rush']=193\n",
        "myMusic['Primus']=56"
      ],
      "execution_count": 0,
      "outputs": []
    },
    {
      "cell_type": "markdown",
      "metadata": {
        "id": "GIyMzaYl51zB",
        "colab_type": "text"
      },
      "source": [
        "### Vamos ver como ficou nosso dicionário"
      ]
    },
    {
      "cell_type": "code",
      "metadata": {
        "id": "S5RAFlGm51zB",
        "colab_type": "code",
        "colab": {},
        "outputId": "8e3db7af-bd5a-4d9c-a1b0-0f76b0458158"
      },
      "source": [
        "myMusic"
      ],
      "execution_count": 0,
      "outputs": [
        {
          "output_type": "execute_result",
          "data": {
            "text/plain": [
              "{'Radiohead': 52,\n",
              " 'Gorillaz': 101,\n",
              " 'Blur': 22,\n",
              " 'Motorhëad': 93,\n",
              " 'Ramones': 125,\n",
              " 'Black Keys': 41,\n",
              " 'Greta Van Fleet': 21,\n",
              " 'Deep Purple': 92,\n",
              " 'Robert Johnson': 23,\n",
              " 'Blues Brothers': 23,\n",
              " 'Muddy Waters': 5,\n",
              " 'Rush': 193,\n",
              " 'Primus': 56}"
            ]
          },
          "metadata": {
            "tags": []
          },
          "execution_count": 3
        }
      ]
    },
    {
      "cell_type": "markdown",
      "metadata": {
        "id": "_Myd76Bg51zE",
        "colab_type": "text"
      },
      "source": [
        "### Vamos criar uma lista com os nomes dos artistas presnetes em nosso dicionário, sem a quantidade de músicas"
      ]
    },
    {
      "cell_type": "code",
      "metadata": {
        "id": "VcXGnMIZ51zF",
        "colab_type": "code",
        "colab": {},
        "outputId": "cdfc3066-5d47-4b91-beae-afca6b8ab9ab"
      },
      "source": [
        "artistas= list(myMusic.keys());\n",
        "artistas"
      ],
      "execution_count": 0,
      "outputs": [
        {
          "output_type": "execute_result",
          "data": {
            "text/plain": [
              "['Radiohead',\n",
              " 'Gorillaz',\n",
              " 'Blur',\n",
              " 'Motorhëad',\n",
              " 'Ramones',\n",
              " 'Black Keys',\n",
              " 'Greta Van Fleet',\n",
              " 'Deep Purple',\n",
              " 'Robert Johnson',\n",
              " 'Blues Brothers',\n",
              " 'Muddy Waters',\n",
              " 'Rush',\n",
              " 'Primus']"
            ]
          },
          "metadata": {
            "tags": []
          },
          "execution_count": 4
        }
      ]
    },
    {
      "cell_type": "markdown",
      "metadata": {
        "id": "T7ye97mk51zH",
        "colab_type": "text"
      },
      "source": [
        "## 2. Vamos criar uma função (Veja aula 6) que busca o artista com o menor numero de múscas em nossa coleção"
      ]
    },
    {
      "cell_type": "code",
      "metadata": {
        "id": "tBn_I3nx51zI",
        "colab_type": "code",
        "colab": {}
      },
      "source": [
        "def BuscaMenor(artistas):\n",
        "    menor = myMusic[artistas[0]] ## esta linha define como menor o primeiro item da lista artistas\n",
        "    menor_indice = 0 ## este é o indice do menor em relação a nossa lista artistas\n",
        "    for i in range(0, len(artistas)): ## este loop irá percorrer todos os elementos da lista artitsas\n",
        "        #print(myMusic[artistas[i]])\n",
        "        if myMusic[artistas[i]]<menor: ## linha verifica se o item i da lista artistas é menor\n",
        "            menor = myMusic[artistas[i]]; ## se a linha anterior for verdade define-se o novo menor artistas\n",
        "            menor_indice=i ## este é o indice do novo menor em relação a nossa lista artistas\n",
        "    return menor_indice # retorna o menor item da lista artistas"
      ],
      "execution_count": 0,
      "outputs": []
    },
    {
      "cell_type": "markdown",
      "metadata": {
        "id": "Ql9imu_451zJ",
        "colab_type": "text"
      },
      "source": [
        "## Vamos testar a função BuscaMenor"
      ]
    },
    {
      "cell_type": "code",
      "metadata": {
        "id": "WgQMZKku51zL",
        "colab_type": "code",
        "colab": {},
        "outputId": "99eed29e-0321-4b3f-d501-3171df059cee"
      },
      "source": [
        "menor_indice = BuscaMenor(artistas); # armazena o indice do menor item d alista artistas\n",
        "print(artistas[menor_indice])# imprime o artista com o menor indice da lista artistas\n",
        "print(menor_indice)# imprime  quantidade de músicas do artista com o menor indice da lista artistas"
      ],
      "execution_count": 0,
      "outputs": [
        {
          "output_type": "stream",
          "text": [
            "Muddy Waters\n",
            "10\n"
          ],
          "name": "stdout"
        }
      ]
    },
    {
      "cell_type": "markdown",
      "metadata": {
        "id": "G0Szd9H551zP",
        "colab_type": "text"
      },
      "source": [
        "## 3. Vamos criar uma nova função que oredena nosso dicionário"
      ]
    },
    {
      "cell_type": "code",
      "metadata": {
        "id": "LAk06q5B51zP",
        "colab_type": "code",
        "colab": {}
      },
      "source": [
        "def Ordenacao(artistas):\n",
        "    novosArtistas = []\n",
        "    for i in range(len(artistas)):\n",
        "        menor_indice = BuscaMenor(artistas)\n",
        "        novosArtistas.append(artistas.pop(menor_indice))\n",
        "    return novosArtistas"
      ],
      "execution_count": 0,
      "outputs": []
    },
    {
      "cell_type": "markdown",
      "metadata": {
        "id": "Q4dUAxtz51zS",
        "colab_type": "text"
      },
      "source": [
        "## 4. Vamos fazer um relatório que imprime a relação ordenada de artista e pela quantidade de músicas em nossa coleção"
      ]
    },
    {
      "cell_type": "code",
      "metadata": {
        "id": "Ghgl5qlf51zS",
        "colab_type": "code",
        "colab": {}
      },
      "source": [
        "novosArtistas = Ordenacao(artistas)"
      ],
      "execution_count": 0,
      "outputs": []
    },
    {
      "cell_type": "code",
      "metadata": {
        "id": "s_Xk4JX751zV",
        "colab_type": "code",
        "colab": {},
        "outputId": "56892fcd-5eb3-4985-b738-cc4d8e9e6934"
      },
      "source": [
        "for artista in novosArtistas:\n",
        "    print('Tenho ' + str(myMusic[artista])+' músicas de '+artista)"
      ],
      "execution_count": 0,
      "outputs": [
        {
          "output_type": "stream",
          "text": [
            "Tenho 5 músicas de Muddy Waters\n",
            "Tenho 21 músicas de Greta Van Fleet\n",
            "Tenho 22 músicas de Blur\n",
            "Tenho 23 músicas de Robert Johnson\n",
            "Tenho 23 músicas de Blues Brothers\n",
            "Tenho 41 músicas de Black Keys\n",
            "Tenho 52 músicas de Radiohead\n",
            "Tenho 56 músicas de Primus\n",
            "Tenho 92 músicas de Deep Purple\n",
            "Tenho 93 músicas de Motorhëad\n",
            "Tenho 101 músicas de Gorillaz\n",
            "Tenho 125 músicas de Ramones\n",
            "Tenho 193 músicas de Rush\n"
          ],
          "name": "stdout"
        }
      ]
    },
    {
      "cell_type": "markdown",
      "metadata": {
        "id": "Fp6tfvl351zY",
        "colab_type": "text"
      },
      "source": [
        "# Desafio"
      ]
    },
    {
      "cell_type": "markdown",
      "metadata": {
        "id": "tzo13BSX51zZ",
        "colab_type": "text"
      },
      "source": [
        "1. Crie um novo dicionário com pessoas e suas respectivas idades\n",
        "2. Adapte o código BuscaMenor para buscar a pessoa mais jovem da lista\n",
        "3. Adapte o código Ordenacao para ordenar esta lista\n",
        "4. Imprima uma mensagem com o nome e a idade de cada pessoa na lista na ordem crescente por idade"
      ]
    },
    {
      "cell_type": "code",
      "metadata": {
        "id": "9_nTF-zS51za",
        "colab_type": "code",
        "colab": {}
      },
      "source": [
        ""
      ],
      "execution_count": 0,
      "outputs": []
    }
  ]
}