{
  "nbformat": 4,
  "nbformat_minor": 0,
  "metadata": {
    "kernelspec": {
      "display_name": "Python 3",
      "language": "python",
      "name": "python3"
    },
    "language_info": {
      "codemirror_mode": {
        "name": "ipython",
        "version": 3
      },
      "file_extension": ".py",
      "mimetype": "text/x-python",
      "name": "python",
      "nbconvert_exporter": "python",
      "pygments_lexer": "ipython3",
      "version": "3.6.8"
    },
    "colab": {
      "name": "Aula 6 Revisão de Python-Gabarito.ipynb",
      "provenance": [],
      "include_colab_link": true
    }
  },
  "cells": [
    {
      "cell_type": "markdown",
      "metadata": {
        "id": "view-in-github",
        "colab_type": "text"
      },
      "source": [
        "<a href=\"https://colab.research.google.com/github/DomingosN/Material_Aprendizado_Maquina_TADS_U-_2020/blob/master/Aula_6_Revis%C3%A3o_de_Python_Gabarito.ipynb\" target=\"_parent\"><img src=\"https://colab.research.google.com/assets/colab-badge.svg\" alt=\"Open In Colab\"/></a>"
      ]
    },
    {
      "cell_type": "markdown",
      "metadata": {
        "id": "nD9AzWi1vT-X",
        "colab_type": "text"
      },
      "source": [
        "# Vamos agora fazer uma revisão que irá abordar os tópicos tratados nas ultimas aulas."
      ]
    },
    {
      "cell_type": "markdown",
      "metadata": {
        "id": "eoCFAa5FvT-Z",
        "colab_type": "text"
      },
      "source": [
        "# Revisão Atribuição de Variáveis"
      ]
    },
    {
      "cell_type": "code",
      "metadata": {
        "id": "cwyJB_X2vT-a",
        "colab_type": "code",
        "colab": {}
      },
      "source": [
        "var = 'Antonio'"
      ],
      "execution_count": 0,
      "outputs": []
    },
    {
      "cell_type": "markdown",
      "metadata": {
        "id": "_xhXeT7CvT-g",
        "colab_type": "text"
      },
      "source": [
        "# Revisão Impressão de Variáveis"
      ]
    },
    {
      "cell_type": "code",
      "metadata": {
        "id": "dnJrzn28vT-h",
        "colab_type": "code",
        "colab": {},
        "outputId": "c1701cf3-5de7-4859-ca53-b94d76631d5a"
      },
      "source": [
        "print(var)"
      ],
      "execution_count": 0,
      "outputs": [
        {
          "output_type": "stream",
          "text": [
            "Antonio\n"
          ],
          "name": "stdout"
        }
      ]
    },
    {
      "cell_type": "markdown",
      "metadata": {
        "id": "yafDgKcLvT-o",
        "colab_type": "text"
      },
      "source": [
        "# Revisão Entrada de Varáiveis pelo Usuário"
      ]
    },
    {
      "cell_type": "code",
      "metadata": {
        "id": "JaziYtw0vT-p",
        "colab_type": "code",
        "colab": {},
        "outputId": "cceacadc-e0ad-454f-ee3f-8d6e3c4bd866"
      },
      "source": [
        "var = input('Entre com um nome:')"
      ],
      "execution_count": 0,
      "outputs": [
        {
          "output_type": "stream",
          "text": [
            "Entre com um nome:\n"
          ],
          "name": "stdout"
        }
      ]
    },
    {
      "cell_type": "code",
      "metadata": {
        "id": "Tn8TAJG5vT-u",
        "colab_type": "code",
        "colab": {},
        "outputId": "28a84e83-4792-4a17-a21e-941ebc4eafee"
      },
      "source": [
        "print(var)"
      ],
      "execution_count": 0,
      "outputs": [
        {
          "output_type": "stream",
          "text": [
            "\n"
          ],
          "name": "stdout"
        }
      ]
    },
    {
      "cell_type": "markdown",
      "metadata": {
        "id": "xTgvc0CzvT-x",
        "colab_type": "text"
      },
      "source": [
        "# Revisão Comparação de Variáveis"
      ]
    },
    {
      "cell_type": "code",
      "metadata": {
        "id": "_Z9FxBhJvT-y",
        "colab_type": "code",
        "colab": {}
      },
      "source": [
        "num1 = 10\n",
        "num2 = 15"
      ],
      "execution_count": 0,
      "outputs": []
    },
    {
      "cell_type": "code",
      "metadata": {
        "id": "AS19AEqMvT-1",
        "colab_type": "code",
        "colab": {},
        "outputId": "b6543c76-f8b4-4770-9091-3238f04aa116"
      },
      "source": [
        "print(num1>0)"
      ],
      "execution_count": 0,
      "outputs": [
        {
          "output_type": "stream",
          "text": [
            "True\n"
          ],
          "name": "stdout"
        }
      ]
    },
    {
      "cell_type": "code",
      "metadata": {
        "id": "owDXlHChvT-6",
        "colab_type": "code",
        "colab": {},
        "outputId": "299d7fc8-5e89-4643-f23c-83e6449fea5a"
      },
      "source": [
        "print(num2<0)"
      ],
      "execution_count": 0,
      "outputs": [
        {
          "output_type": "stream",
          "text": [
            "False\n"
          ],
          "name": "stdout"
        }
      ]
    },
    {
      "cell_type": "code",
      "metadata": {
        "id": "aPpMaBmmvT-9",
        "colab_type": "code",
        "colab": {},
        "outputId": "49082fef-8e52-4232-9d3f-9c33b9a715e1"
      },
      "source": [
        "print(num1>num2)"
      ],
      "execution_count": 0,
      "outputs": [
        {
          "output_type": "stream",
          "text": [
            "False\n"
          ],
          "name": "stdout"
        }
      ]
    },
    {
      "cell_type": "code",
      "metadata": {
        "id": "Ibf13-brvT_A",
        "colab_type": "code",
        "colab": {},
        "outputId": "103f2649-afa0-47e9-c51e-c631e610803b"
      },
      "source": [
        "print(num1<num2)"
      ],
      "execution_count": 0,
      "outputs": [
        {
          "output_type": "stream",
          "text": [
            "True\n"
          ],
          "name": "stdout"
        }
      ]
    },
    {
      "cell_type": "markdown",
      "metadata": {
        "id": "X4F-MgazvT_D",
        "colab_type": "text"
      },
      "source": [
        "# RevisãoOperações Aritiméticas com Variáveis"
      ]
    },
    {
      "cell_type": "code",
      "metadata": {
        "id": "fYGL8k6fvT_E",
        "colab_type": "code",
        "colab": {},
        "outputId": "2b9f0ff3-5d01-431a-bd8a-ce4b9fb1322a"
      },
      "source": [
        "num1+num2"
      ],
      "execution_count": 0,
      "outputs": [
        {
          "output_type": "execute_result",
          "data": {
            "text/plain": [
              "25"
            ]
          },
          "metadata": {
            "tags": []
          },
          "execution_count": 12
        }
      ]
    },
    {
      "cell_type": "code",
      "metadata": {
        "id": "gE45EqM_vT_I",
        "colab_type": "code",
        "colab": {},
        "outputId": "6710c9ac-2db8-4e3c-e372-0545b5d53efc"
      },
      "source": [
        "num1-num2"
      ],
      "execution_count": 0,
      "outputs": [
        {
          "output_type": "execute_result",
          "data": {
            "text/plain": [
              "-5"
            ]
          },
          "metadata": {
            "tags": []
          },
          "execution_count": 13
        }
      ]
    },
    {
      "cell_type": "code",
      "metadata": {
        "id": "eS_XI-IyvT_L",
        "colab_type": "code",
        "colab": {},
        "outputId": "a564281d-0e6e-4206-f1ce-109f9f5ba739"
      },
      "source": [
        "num1*num2"
      ],
      "execution_count": 0,
      "outputs": [
        {
          "output_type": "execute_result",
          "data": {
            "text/plain": [
              "150"
            ]
          },
          "metadata": {
            "tags": []
          },
          "execution_count": 14
        }
      ]
    },
    {
      "cell_type": "code",
      "metadata": {
        "id": "LgIMsQKCvT_N",
        "colab_type": "code",
        "colab": {},
        "outputId": "345ef094-44da-4baa-b406-f0f56fe9fad9"
      },
      "source": [
        "num3 = float(num1**num2)\n",
        "print(num3)"
      ],
      "execution_count": 0,
      "outputs": [
        {
          "output_type": "stream",
          "text": [
            "1000000000000000.0\n"
          ],
          "name": "stdout"
        }
      ]
    },
    {
      "cell_type": "code",
      "metadata": {
        "id": "c42mUjNuvT_P",
        "colab_type": "code",
        "colab": {},
        "outputId": "d735bf24-1da7-446c-dfa4-a9dcdbefdad0"
      },
      "source": [
        "print(type(var));\n",
        "print(type(num1))\n",
        "print(type(num3))"
      ],
      "execution_count": 0,
      "outputs": [
        {
          "output_type": "stream",
          "text": [
            "<class 'str'>\n",
            "<class 'int'>\n",
            "<class 'float'>\n"
          ],
          "name": "stdout"
        }
      ]
    },
    {
      "cell_type": "markdown",
      "metadata": {
        "id": "pJsMPtqCvT_S",
        "colab_type": "text"
      },
      "source": [
        "# Listas, Loops e Range"
      ]
    },
    {
      "cell_type": "code",
      "metadata": {
        "id": "pCAzsbfZvT_S",
        "colab_type": "code",
        "colab": {}
      },
      "source": [
        "lista = []"
      ],
      "execution_count": 0,
      "outputs": []
    },
    {
      "cell_type": "code",
      "metadata": {
        "id": "w7XlQjYKvT_V",
        "colab_type": "code",
        "colab": {}
      },
      "source": [
        "for i in range(100):\n",
        "    lista.append(i)"
      ],
      "execution_count": 0,
      "outputs": []
    },
    {
      "cell_type": "code",
      "metadata": {
        "id": "49bvx0jUvT_Y",
        "colab_type": "code",
        "colab": {},
        "outputId": "987f1454-62dd-4a04-c471-d9f374504121"
      },
      "source": [
        "print(lista)"
      ],
      "execution_count": 0,
      "outputs": [
        {
          "output_type": "stream",
          "text": [
            "[0, 1, 2, 3, 4, 5, 6, 7, 8, 9, 10, 11, 12, 13, 14, 15, 16, 17, 18, 19, 20, 21, 22, 23, 24, 25, 26, 27, 28, 29, 30, 31, 32, 33, 34, 35, 36, 37, 38, 39, 40, 41, 42, 43, 44, 45, 46, 47, 48, 49, 50, 51, 52, 53, 54, 55, 56, 57, 58, 59, 60, 61, 62, 63, 64, 65, 66, 67, 68, 69, 70, 71, 72, 73, 74, 75, 76, 77, 78, 79, 80, 81, 82, 83, 84, 85, 86, 87, 88, 89, 90, 91, 92, 93, 94, 95, 96, 97, 98, 99]\n"
          ],
          "name": "stdout"
        }
      ]
    },
    {
      "cell_type": "code",
      "metadata": {
        "id": "4_jkYCM9vT_a",
        "colab_type": "code",
        "colab": {},
        "outputId": "88d36702-53c0-4ae5-a8b2-49d1ae71fb73"
      },
      "source": [
        "print(lista[0:10])"
      ],
      "execution_count": 0,
      "outputs": [
        {
          "output_type": "stream",
          "text": [
            "[0, 1, 2, 3, 4, 5, 6, 7, 8, 9]\n"
          ],
          "name": "stdout"
        }
      ]
    },
    {
      "cell_type": "code",
      "metadata": {
        "id": "mOFFQDAHvT_c",
        "colab_type": "code",
        "colab": {},
        "outputId": "047d03bc-8dba-42d0-85ec-6bacd09f31be"
      },
      "source": [
        "print(lista[-1])"
      ],
      "execution_count": 0,
      "outputs": [
        {
          "output_type": "stream",
          "text": [
            "99\n"
          ],
          "name": "stdout"
        }
      ]
    },
    {
      "cell_type": "code",
      "metadata": {
        "id": "Q9hvAZcEvT_f",
        "colab_type": "code",
        "colab": {},
        "outputId": "5cfb480e-9ead-4eed-b574-cda3baaeb680"
      },
      "source": [
        "print(lista[-10:])"
      ],
      "execution_count": 0,
      "outputs": [
        {
          "output_type": "stream",
          "text": [
            "[90, 91, 92, 93, 94, 95, 96, 97, 98, 99]\n"
          ],
          "name": "stdout"
        }
      ]
    },
    {
      "cell_type": "markdown",
      "metadata": {
        "id": "VxeHcyMSvT_h",
        "colab_type": "text"
      },
      "source": [
        "## Desvios condicionais if else"
      ]
    },
    {
      "cell_type": "code",
      "metadata": {
        "id": "PfYk5P-KvT_h",
        "colab_type": "code",
        "colab": {},
        "outputId": "1801c6b0-67a9-47d6-fa6e-3cb5f1f8c41c"
      },
      "source": [
        "for numero in lista:\n",
        "    if numero%2 == 0:\n",
        "        print('O número '+str(numero)+ ' é par.');\n",
        "    else:\n",
        "        print('O número '+str(numero)+ ' é impar.');"
      ],
      "execution_count": 0,
      "outputs": [
        {
          "output_type": "stream",
          "text": [
            "O número 0 é par.\n",
            "O número 1 é impar.\n",
            "O número 2 é par.\n",
            "O número 3 é impar.\n",
            "O número 4 é par.\n",
            "O número 5 é impar.\n",
            "O número 6 é par.\n",
            "O número 7 é impar.\n",
            "O número 8 é par.\n",
            "O número 9 é impar.\n",
            "O número 10 é par.\n",
            "O número 11 é impar.\n",
            "O número 12 é par.\n",
            "O número 13 é impar.\n",
            "O número 14 é par.\n",
            "O número 15 é impar.\n",
            "O número 16 é par.\n",
            "O número 17 é impar.\n",
            "O número 18 é par.\n",
            "O número 19 é impar.\n",
            "O número 20 é par.\n",
            "O número 21 é impar.\n",
            "O número 22 é par.\n",
            "O número 23 é impar.\n",
            "O número 24 é par.\n",
            "O número 25 é impar.\n",
            "O número 26 é par.\n",
            "O número 27 é impar.\n",
            "O número 28 é par.\n",
            "O número 29 é impar.\n",
            "O número 30 é par.\n",
            "O número 31 é impar.\n",
            "O número 32 é par.\n",
            "O número 33 é impar.\n",
            "O número 34 é par.\n",
            "O número 35 é impar.\n",
            "O número 36 é par.\n",
            "O número 37 é impar.\n",
            "O número 38 é par.\n",
            "O número 39 é impar.\n",
            "O número 40 é par.\n",
            "O número 41 é impar.\n",
            "O número 42 é par.\n",
            "O número 43 é impar.\n",
            "O número 44 é par.\n",
            "O número 45 é impar.\n",
            "O número 46 é par.\n",
            "O número 47 é impar.\n",
            "O número 48 é par.\n",
            "O número 49 é impar.\n",
            "O número 50 é par.\n",
            "O número 51 é impar.\n",
            "O número 52 é par.\n",
            "O número 53 é impar.\n",
            "O número 54 é par.\n",
            "O número 55 é impar.\n",
            "O número 56 é par.\n",
            "O número 57 é impar.\n",
            "O número 58 é par.\n",
            "O número 59 é impar.\n",
            "O número 60 é par.\n",
            "O número 61 é impar.\n",
            "O número 62 é par.\n",
            "O número 63 é impar.\n",
            "O número 64 é par.\n",
            "O número 65 é impar.\n",
            "O número 66 é par.\n",
            "O número 67 é impar.\n",
            "O número 68 é par.\n",
            "O número 69 é impar.\n",
            "O número 70 é par.\n",
            "O número 71 é impar.\n",
            "O número 72 é par.\n",
            "O número 73 é impar.\n",
            "O número 74 é par.\n",
            "O número 75 é impar.\n",
            "O número 76 é par.\n",
            "O número 77 é impar.\n",
            "O número 78 é par.\n",
            "O número 79 é impar.\n",
            "O número 80 é par.\n",
            "O número 81 é impar.\n",
            "O número 82 é par.\n",
            "O número 83 é impar.\n",
            "O número 84 é par.\n",
            "O número 85 é impar.\n",
            "O número 86 é par.\n",
            "O número 87 é impar.\n",
            "O número 88 é par.\n",
            "O número 89 é impar.\n",
            "O número 90 é par.\n",
            "O número 91 é impar.\n",
            "O número 92 é par.\n",
            "O número 93 é impar.\n",
            "O número 94 é par.\n",
            "O número 95 é impar.\n",
            "O número 96 é par.\n",
            "O número 97 é impar.\n",
            "O número 98 é par.\n",
            "O número 99 é impar.\n"
          ],
          "name": "stdout"
        }
      ]
    },
    {
      "cell_type": "markdown",
      "metadata": {
        "id": "Mj0Mko7NvT_j",
        "colab_type": "text"
      },
      "source": [
        "# Dicionários"
      ]
    },
    {
      "cell_type": "code",
      "metadata": {
        "id": "FQ9WxvddvT_k",
        "colab_type": "code",
        "colab": {}
      },
      "source": [
        "aniversarios = dict( Alberto = '20/04',\n",
        "                   Luis = '12/12',\n",
        "                   Waldemar = '20/07',\n",
        "                   Ivana = '24/05')"
      ],
      "execution_count": 0,
      "outputs": []
    },
    {
      "cell_type": "code",
      "metadata": {
        "id": "z1Ros8qDvT_m",
        "colab_type": "code",
        "colab": {},
        "outputId": "9f4c965d-7cc3-4d2a-ab44-a0e06c3dbf8f"
      },
      "source": [
        "aniversarios['Ivana']"
      ],
      "execution_count": 0,
      "outputs": [
        {
          "output_type": "execute_result",
          "data": {
            "text/plain": [
              "'24/05'"
            ]
          },
          "metadata": {
            "tags": []
          },
          "execution_count": 25
        }
      ]
    },
    {
      "cell_type": "code",
      "metadata": {
        "id": "fLA_7MXuvT_q",
        "colab_type": "code",
        "colab": {},
        "outputId": "b017b037-27b8-486d-91b8-84ecc0d70910"
      },
      "source": [
        "aniversarios"
      ],
      "execution_count": 0,
      "outputs": [
        {
          "output_type": "execute_result",
          "data": {
            "text/plain": [
              "{'Alberto': '20/04', 'Luis': '12/12', 'Waldemar': '20/07', 'Ivana': '24/05'}"
            ]
          },
          "metadata": {
            "tags": []
          },
          "execution_count": 26
        }
      ]
    },
    {
      "cell_type": "code",
      "metadata": {
        "id": "V9WH0I85vT_t",
        "colab_type": "code",
        "colab": {},
        "outputId": "ed7456b5-d2db-4431-945f-11c3ea24d146"
      },
      "source": [
        "aniversarios.keys()"
      ],
      "execution_count": 0,
      "outputs": [
        {
          "output_type": "execute_result",
          "data": {
            "text/plain": [
              "dict_keys(['Alberto', 'Luis', 'Waldemar', 'Ivana'])"
            ]
          },
          "metadata": {
            "tags": []
          },
          "execution_count": 27
        }
      ]
    },
    {
      "cell_type": "code",
      "metadata": {
        "id": "L1CRRWXCvT_x",
        "colab_type": "code",
        "colab": {},
        "outputId": "e76c41c5-52a4-4ffa-8d2d-857c8f0f2990"
      },
      "source": [
        "aniversarios.values()"
      ],
      "execution_count": 0,
      "outputs": [
        {
          "output_type": "execute_result",
          "data": {
            "text/plain": [
              "dict_values(['20/04', '12/12', '20/07', '24/05'])"
            ]
          },
          "metadata": {
            "tags": []
          },
          "execution_count": 28
        }
      ]
    },
    {
      "cell_type": "code",
      "metadata": {
        "id": "gQ1bVSigvT_z",
        "colab_type": "code",
        "colab": {},
        "outputId": "68171a9e-6b19-4d9c-8812-0ff9d8f87a4a"
      },
      "source": [
        "aniversarios.items()"
      ],
      "execution_count": 0,
      "outputs": [
        {
          "output_type": "execute_result",
          "data": {
            "text/plain": [
              "dict_items([('Alberto', '20/04'), ('Luis', '12/12'), ('Waldemar', '20/07'), ('Ivana', '24/05')])"
            ]
          },
          "metadata": {
            "tags": []
          },
          "execution_count": 29
        }
      ]
    },
    {
      "cell_type": "code",
      "metadata": {
        "id": "QRPliE6yvT_2",
        "colab_type": "code",
        "colab": {}
      },
      "source": [
        "aniversarios['Souza']= '20/01';\n",
        "aniversarios['Silvio']= '20/11';\n",
        "aniversarios['Helena']= '03/11'"
      ],
      "execution_count": 0,
      "outputs": []
    },
    {
      "cell_type": "code",
      "metadata": {
        "id": "OY9nifpmvT_6",
        "colab_type": "code",
        "colab": {},
        "outputId": "ea814dbf-b359-4a33-e580-3789091a4d5a"
      },
      "source": [
        "for key in aniversarios.keys():\n",
        "    print(key)"
      ],
      "execution_count": 0,
      "outputs": [
        {
          "output_type": "stream",
          "text": [
            "Alberto\n",
            "Luis\n",
            "Waldemar\n",
            "Ivana\n",
            "Souza\n",
            "Silvio\n",
            "Helena\n"
          ],
          "name": "stdout"
        }
      ]
    },
    {
      "cell_type": "code",
      "metadata": {
        "id": "8RrGn-e3vT_-",
        "colab_type": "code",
        "colab": {},
        "outputId": "287d832c-9778-4804-c4f4-93f29026d569"
      },
      "source": [
        "for key in aniversarios.keys():\n",
        "    print('O aniversário de '+key+' é em '+aniversarios[key])"
      ],
      "execution_count": 0,
      "outputs": [
        {
          "output_type": "stream",
          "text": [
            "O aniversário de Alberto é em 20/04\n",
            "O aniversário de Luis é em 12/12\n",
            "O aniversário de Waldemar é em 20/07\n",
            "O aniversário de Ivana é em 24/05\n",
            "O aniversário de Souza é em 20/01\n",
            "O aniversário de Silvio é em 20/11\n",
            "O aniversário de Helena é em 03/11\n"
          ],
          "name": "stdout"
        }
      ]
    },
    {
      "cell_type": "markdown",
      "metadata": {
        "id": "NXWBxO0SvUAB",
        "colab_type": "text"
      },
      "source": [
        "## Exemplo 1 Veja o exemplo a seguir"
      ]
    },
    {
      "cell_type": "code",
      "metadata": {
        "id": "7cJvyIvqvUAC",
        "colab_type": "code",
        "colab": {},
        "outputId": "bbdfa87d-88e0-46e5-bd20-4e2afe1ba7c6"
      },
      "source": [
        "A0 = input(\"Entre com um nome: \")"
      ],
      "execution_count": 0,
      "outputs": [
        {
          "output_type": "stream",
          "text": [
            "Entre com um nome: Daniel\n"
          ],
          "name": "stdout"
        }
      ]
    },
    {
      "cell_type": "code",
      "metadata": {
        "id": "luueuvrdvUAF",
        "colab_type": "code",
        "colab": {},
        "outputId": "380e67cd-e337-4273-c2c1-d24537a24644"
      },
      "source": [
        "print(A0)"
      ],
      "execution_count": 0,
      "outputs": [
        {
          "output_type": "stream",
          "text": [
            "Daniel\n"
          ],
          "name": "stdout"
        }
      ]
    },
    {
      "cell_type": "markdown",
      "metadata": {
        "id": "xYgTF6dxvUAH",
        "colab_type": "text"
      },
      "source": [
        "Neste exemplo nós inserimos um nome que é armazenado na varáivel A0, a seguir com o comando print() nos imprimimos o conteúdo de A0"
      ]
    },
    {
      "cell_type": "markdown",
      "metadata": {
        "id": "E-VLbqK3vUAI",
        "colab_type": "text"
      },
      "source": [
        "## Exercicio 2- Repita inserindo um novo nome para ser armazenado na varíavel A1\n",
        "## Digite na linha a seguir o código para inserir A1"
      ]
    },
    {
      "cell_type": "code",
      "metadata": {
        "id": "zObYdTMJvUAI",
        "colab_type": "code",
        "colab": {},
        "outputId": "aef266d2-b14d-49c6-e161-d01afe5beedd"
      },
      "source": [
        "A1 = input(\"Entre com um nome: \")"
      ],
      "execution_count": 0,
      "outputs": [
        {
          "output_type": "stream",
          "text": [
            "Entre com um nome: Ivanilton\n"
          ],
          "name": "stdout"
        }
      ]
    },
    {
      "cell_type": "markdown",
      "metadata": {
        "id": "HflLYrd2vUAL",
        "colab_type": "text"
      },
      "source": [
        "## Digite na linha s seguir o código para imprimir A1"
      ]
    },
    {
      "cell_type": "code",
      "metadata": {
        "id": "wwxff4WGvUAL",
        "colab_type": "code",
        "colab": {},
        "outputId": "d5373350-618e-4a80-bf6a-613d14a695f9"
      },
      "source": [
        "print(A1)"
      ],
      "execution_count": 0,
      "outputs": [
        {
          "output_type": "stream",
          "text": [
            "Ivanilton\n"
          ],
          "name": "stdout"
        }
      ]
    },
    {
      "cell_type": "markdown",
      "metadata": {
        "id": "_ltfUdHOvUAN",
        "colab_type": "text"
      },
      "source": [
        "## Exercicio 3- Repita inserindo um novo nome para ser armazenado na variável A2\n",
        "## Digite na linha a seguir o código para inserir A2"
      ]
    },
    {
      "cell_type": "code",
      "metadata": {
        "id": "2RXoY2bVvUAO",
        "colab_type": "code",
        "colab": {},
        "outputId": "2e58eec4-cf67-4f17-b771-d0bf633a147a"
      },
      "source": [
        "A2 = input(\"Entre com um nome: \")"
      ],
      "execution_count": 0,
      "outputs": [
        {
          "output_type": "stream",
          "text": [
            "Entre com um nome: Jair\n"
          ],
          "name": "stdout"
        }
      ]
    },
    {
      "cell_type": "markdown",
      "metadata": {
        "id": "BBuG3QOrvUAS",
        "colab_type": "text"
      },
      "source": [
        "## Digite na linha a seguir o código para imprimir A2"
      ]
    },
    {
      "cell_type": "code",
      "metadata": {
        "id": "NBZZBxFfvUAT",
        "colab_type": "code",
        "colab": {},
        "outputId": "2048dbc0-4263-4397-815c-e21380da8cf3"
      },
      "source": [
        "print(A2)"
      ],
      "execution_count": 0,
      "outputs": [
        {
          "output_type": "stream",
          "text": [
            "Jair\n"
          ],
          "name": "stdout"
        }
      ]
    },
    {
      "cell_type": "markdown",
      "metadata": {
        "id": "qD0RqMa3vUAZ",
        "colab_type": "text"
      },
      "source": [
        "## Exercicio 4- Repita inserindo um novo nome para ser armazenado na variável A3\n",
        "## Digite na linha a seguir o código para inserir A3"
      ]
    },
    {
      "cell_type": "code",
      "metadata": {
        "id": "n86zeqtPvUAa",
        "colab_type": "code",
        "colab": {},
        "outputId": "0b147dcc-2a07-44cc-d9b8-5eda4a61f8ab"
      },
      "source": [
        "A3 = input(\"Entre com um nome: \")"
      ],
      "execution_count": 0,
      "outputs": [
        {
          "output_type": "stream",
          "text": [
            "Entre com um nome: Cleber\n"
          ],
          "name": "stdout"
        }
      ]
    },
    {
      "cell_type": "markdown",
      "metadata": {
        "id": "YZ9r0h3KvUAd",
        "colab_type": "text"
      },
      "source": [
        "## Digite na linha a seguir o código para imprimir A3"
      ]
    },
    {
      "cell_type": "code",
      "metadata": {
        "id": "GoIeCW7gvUAd",
        "colab_type": "code",
        "colab": {},
        "outputId": "2196a50c-6f22-4eaf-d3ee-4de3eba2f7ee"
      },
      "source": [
        "print(A3)"
      ],
      "execution_count": 0,
      "outputs": [
        {
          "output_type": "stream",
          "text": [
            "Cleber\n"
          ],
          "name": "stdout"
        }
      ]
    },
    {
      "cell_type": "markdown",
      "metadata": {
        "id": "ctb4Y4SFvUAf",
        "colab_type": "text"
      },
      "source": [
        "## Exercicio 5- Repita inserindo um novo nome para ser armazenado na variável A4\n",
        "## Digite na linha a seguir o código para inserir A4"
      ]
    },
    {
      "cell_type": "code",
      "metadata": {
        "id": "O5WamE2YvUAg",
        "colab_type": "code",
        "colab": {},
        "outputId": "affb464e-679c-420e-8fef-f4d3ce574ba5"
      },
      "source": [
        "A4 = input(\"Entre com um nome: \")"
      ],
      "execution_count": 0,
      "outputs": [
        {
          "output_type": "stream",
          "text": [
            "Entre com um nome: Ernesto\n"
          ],
          "name": "stdout"
        }
      ]
    },
    {
      "cell_type": "markdown",
      "metadata": {
        "id": "C3VYYKnZvUAi",
        "colab_type": "text"
      },
      "source": [
        "## Digite na linha a seguir o código para imprimir A4"
      ]
    },
    {
      "cell_type": "code",
      "metadata": {
        "id": "If8bzygCvUAk",
        "colab_type": "code",
        "colab": {},
        "outputId": "7f329c80-b4f3-470b-96fa-bacb2d6b3bb9"
      },
      "source": [
        "print(A4)"
      ],
      "execution_count": 0,
      "outputs": [
        {
          "output_type": "stream",
          "text": [
            "Ernesto\n"
          ],
          "name": "stdout"
        }
      ]
    },
    {
      "cell_type": "markdown",
      "metadata": {
        "id": "rJvjxXvYvUAn",
        "colab_type": "text"
      },
      "source": [
        "## Exercicio 6- Repita inserindo um novo nome para ser armazenado na varíavel A5\n",
        "## Digite na linha a seguir o código para inserir A5"
      ]
    },
    {
      "cell_type": "code",
      "metadata": {
        "id": "SKZXPcoovUAn",
        "colab_type": "code",
        "colab": {},
        "outputId": "2e002e7b-f3a4-4c2f-af59-65a20ebd502a"
      },
      "source": [
        "A5 = input(\"Entre com um nome: \")"
      ],
      "execution_count": 0,
      "outputs": [
        {
          "output_type": "stream",
          "text": [
            "Entre com um nome: Armando\n"
          ],
          "name": "stdout"
        }
      ]
    },
    {
      "cell_type": "markdown",
      "metadata": {
        "id": "6DlT3DpIvUAr",
        "colab_type": "text"
      },
      "source": [
        "## Digite na linha a seguir o código para imprimir A5"
      ]
    },
    {
      "cell_type": "code",
      "metadata": {
        "id": "QVOdG2-OvUAr",
        "colab_type": "code",
        "colab": {},
        "outputId": "82511b64-1737-482e-bae5-d70f70dc091a"
      },
      "source": [
        "print(A5)"
      ],
      "execution_count": 0,
      "outputs": [
        {
          "output_type": "stream",
          "text": [
            "Armando\n"
          ],
          "name": "stdout"
        }
      ]
    },
    {
      "cell_type": "markdown",
      "metadata": {
        "id": "-fAupvRKvUAu",
        "colab_type": "text"
      },
      "source": [
        "## Exemplo 2 Agora vamos armazenar na variável B0 a idade de Daniel"
      ]
    },
    {
      "cell_type": "code",
      "metadata": {
        "id": "YV2VyNVvvUAu",
        "colab_type": "code",
        "colab": {}
      },
      "source": [
        "B0 = 16"
      ],
      "execution_count": 0,
      "outputs": []
    },
    {
      "cell_type": "markdown",
      "metadata": {
        "id": "BK0DFAbDvUAx",
        "colab_type": "text"
      },
      "source": [
        "## Exercício 7 - Repita o Processo agora armazenando as idades das pessoas A1, A2, A3, A4 e A5 nas varíaveis B1, B2, B3, B4, B5, de formas similar ao que foi feito na lina de código anterior."
      ]
    },
    {
      "cell_type": "code",
      "metadata": {
        "id": "W8aQIHl_vUAx",
        "colab_type": "code",
        "colab": {}
      },
      "source": [
        "B1 = 21; # DIGITE APÓS O SINAL DE IGUAL A IDADE DA PESSOA A1\n",
        "B2 = 32; # DIGITE APÓS O SINAL DE IGUAL A IDADE DA PESSOA A2\n",
        "B3 = 36; # DIGITE APÓS O SINAL DE IGUAL A IDADE DA PESSOA A3\n",
        "B4 = 20; # DIGITE APÓS O SINAL DE IGUAL A IDADE DA PESSOA A4\n",
        "B5 = 14; # DIGITE APÓS O SINAL DE IGUAL A IDADE DA PESSOA A5"
      ],
      "execution_count": 0,
      "outputs": []
    },
    {
      "cell_type": "markdown",
      "metadata": {
        "id": "CbBR7ijkvUAz",
        "colab_type": "text"
      },
      "source": [
        "## Exercicio 8 Agora vamos verificar qual é o tipo de cada uma das varáiveis que inserimos até agora usando o comando type()"
      ]
    },
    {
      "cell_type": "code",
      "metadata": {
        "id": "MUQpkNkIvUA0",
        "colab_type": "code",
        "colab": {},
        "outputId": "9cf49f23-635f-431d-e097-30871d26cb7f"
      },
      "source": [
        "# Exemplo para A0 e B0\n",
        "print(type(A0));\n",
        "print(type(B0))"
      ],
      "execution_count": 0,
      "outputs": [
        {
          "output_type": "stream",
          "text": [
            "<class 'str'>\n",
            "<class 'int'>\n"
          ],
          "name": "stdout"
        }
      ]
    },
    {
      "cell_type": "markdown",
      "metadata": {
        "id": "KD7qxL-0vUA2",
        "colab_type": "text"
      },
      "source": [
        "### Repita o Processo agora para a varíáveis A1, A2, A3, A4 e A5 e para as variáveis B1, B2, B3, B4, B5, de formas similar ao que foi feito na lina de código anterior.¶"
      ]
    },
    {
      "cell_type": "code",
      "metadata": {
        "id": "sBYyekg0vUA2",
        "colab_type": "code",
        "colab": {},
        "outputId": "53437609-186e-4bdd-d290-008177e20cef"
      },
      "source": [
        "print(type(A1));\n",
        "print(type(B1));\n",
        "print(type(A2));\n",
        "print(type(B2));\n",
        "print(type(A3));\n",
        "print(type(B3));\n",
        "print(type(A4));\n",
        "print(type(B4));\n",
        "print(type(A5));\n",
        "print(type(B5))"
      ],
      "execution_count": 0,
      "outputs": [
        {
          "output_type": "stream",
          "text": [
            "<class 'str'>\n",
            "<class 'int'>\n",
            "<class 'str'>\n",
            "<class 'int'>\n",
            "<class 'str'>\n",
            "<class 'int'>\n",
            "<class 'str'>\n",
            "<class 'int'>\n",
            "<class 'str'>\n",
            "<class 'int'>\n"
          ],
          "name": "stdout"
        }
      ]
    },
    {
      "cell_type": "markdown",
      "metadata": {
        "id": "1NET22FvvUA5",
        "colab_type": "text"
      },
      "source": [
        "## Exercicio 9 Agora vamos modificar o tipo de cada uma das varáiveis referente a idades que inserimos até agora usando o comando str() e armazenar nas variáveis sB0, sB1, sB2, sB3, sB4, sB5."
      ]
    },
    {
      "cell_type": "code",
      "metadata": {
        "id": "RrgTByHivUA6",
        "colab_type": "code",
        "colab": {},
        "outputId": "ac2d05d1-82b0-46e5-da9d-0fc65da86159"
      },
      "source": [
        "sB0 = str(B0)\n",
        "print(sB0)"
      ],
      "execution_count": 0,
      "outputs": [
        {
          "output_type": "stream",
          "text": [
            "16\n"
          ],
          "name": "stdout"
        }
      ]
    },
    {
      "cell_type": "markdown",
      "metadata": {
        "id": "GIU6oGJzvUA9",
        "colab_type": "text"
      },
      "source": [
        "### Repita o Processo agora para a para as variáveis B1, B2, B3, B4, B5, de forma similar ao que foi feito na lina de código anterior e criando as variáveis sB1, sB2, sB3, sB4, sB5.¶"
      ]
    },
    {
      "cell_type": "code",
      "metadata": {
        "id": "2_gOHpUZvUA-",
        "colab_type": "code",
        "colab": {},
        "outputId": "cc624824-e522-4788-d934-d18ec4d49b1b"
      },
      "source": [
        "sB1 = str(B1); print(sB1)\n",
        "sB2 = str(B2); print(sB2);\n",
        "sB3 = str(B3); print(sB3);\n",
        "sB4 = str(B4); print(sB4);\n",
        "sB5 = str(B5); print(sB5)"
      ],
      "execution_count": 0,
      "outputs": [
        {
          "output_type": "stream",
          "text": [
            "21\n",
            "32\n",
            "36\n",
            "20\n",
            "14\n"
          ],
          "name": "stdout"
        }
      ]
    },
    {
      "cell_type": "markdown",
      "metadata": {
        "id": "b2X3M-vHvUBC",
        "colab_type": "text"
      },
      "source": [
        "## Exercicio 10 Agora criar um código para imprimir uma mensagem usando as varíaveis. veja o exemplo a seguir."
      ]
    },
    {
      "cell_type": "code",
      "metadata": {
        "id": "h7iejc8DvUBD",
        "colab_type": "code",
        "colab": {},
        "outputId": "1a425718-e51c-4172-941b-fff251ccf34a"
      },
      "source": [
        "print('A idade de '+ A0 + ' é '+ sB0 + ' anos')"
      ],
      "execution_count": 0,
      "outputs": [
        {
          "output_type": "stream",
          "text": [
            "A idade de Daniel é 16 anos\n"
          ],
          "name": "stdout"
        }
      ]
    },
    {
      "cell_type": "markdown",
      "metadata": {
        "id": "2ZZcxGmKvUBI",
        "colab_type": "text"
      },
      "source": [
        "## Agora modifique o código da linha anterior para imprimir as mensagens com o conteúdo das varíaveis A1, A2, A3, A4, A5 e sB1, sB2, sB3, sB4, sB5"
      ]
    },
    {
      "cell_type": "code",
      "metadata": {
        "id": "xg2yHVOkvUBI",
        "colab_type": "code",
        "colab": {},
        "outputId": "04051fea-176f-416c-a8c1-2b9f8e65509c"
      },
      "source": [
        "print('A idade de '+ A1 + ' é '+ sB1 + ' anos');\n",
        "print('A idade de '+ A2 + ' é '+ sB2 + ' anos');\n",
        "print('A idade de '+ A3 + ' é '+ sB3 + ' anos');\n",
        "print('A idade de '+ A4 + ' é '+ sB4 + ' anos');\n",
        "print('A idade de '+ A5 + ' é '+ sB5 + ' anos');"
      ],
      "execution_count": 0,
      "outputs": [
        {
          "output_type": "stream",
          "text": [
            "A idade de Ivanilton é 21 anos\n",
            "A idade de Jair é 32 anos\n",
            "A idade de Cleber é 36 anos\n",
            "A idade de Ernesto é 20 anos\n",
            "A idade de Armando é 14 anos\n"
          ],
          "name": "stdout"
        }
      ]
    },
    {
      "cell_type": "markdown",
      "metadata": {
        "id": "yxK9au52vUBM",
        "colab_type": "text"
      },
      "source": [
        "## Exercicio 11 Agora criar um código que Calcule a IDADE MÉDIA das pessoas A0, A1, A2, A3, A4, A5. Armazene esse resultado na variável IdadeMedia.¶"
      ]
    },
    {
      "cell_type": "code",
      "metadata": {
        "id": "VjcVYlSvvUBM",
        "colab_type": "code",
        "colab": {},
        "outputId": "8ffbc6a7-5baf-4e90-c89b-08b636d956fd"
      },
      "source": [
        "IdadeMedia = (B0+B1+B2+B3+B4+B5)/6\n",
        "print(IdadeMedia)"
      ],
      "execution_count": 0,
      "outputs": [
        {
          "output_type": "stream",
          "text": [
            "23.166666666666668\n"
          ],
          "name": "stdout"
        }
      ]
    },
    {
      "cell_type": "markdown",
      "metadata": {
        "id": "no7T6ipvvUBN",
        "colab_type": "text"
      },
      "source": [
        "## Exercicio 12 Agora crie um código para imprimir uma mensagem com o seguinte conteúdo:   \n",
        "## A idade média de A0, A1, A2, A3, A4, A5 é X anos.¶"
      ]
    },
    {
      "cell_type": "code",
      "metadata": {
        "id": "cSz-27jdvUBO",
        "colab_type": "code",
        "colab": {},
        "outputId": "5d0ec047-37a5-494a-d9cd-ffa258faf0bc"
      },
      "source": [
        "print('A idade média de '+A0+','+A1+','+A2+','+A3+','+A4+'e'+A5+' é '+str(IdadeMedia)+ ' anos.')"
      ],
      "execution_count": 0,
      "outputs": [
        {
          "output_type": "stream",
          "text": [
            "A idade média de Daniel,Ivanilton,Jair,Cleber,ErnestoeArmando é 23.166666666666668 anos.\n"
          ],
          "name": "stdout"
        }
      ]
    },
    {
      "cell_type": "markdown",
      "metadata": {
        "id": "bBp_jynuvUBP",
        "colab_type": "text"
      },
      "source": [
        "## Exercicio 13 Agora crie um código para imprimir uma mensagem com o seguinte conteúdo:\n",
        "A idade de Daniel é maior que a idade média do grupo, caso a idade da Daniel seja maior ou igua a idade média ou A idade de Daniel é mneor que a idade média do grupo, caso a idade da Daniel seja menor que a idade média do grupo"
      ]
    },
    {
      "cell_type": "code",
      "metadata": {
        "id": "ISGA7guYvUBQ",
        "colab_type": "code",
        "colab": {},
        "outputId": "1009ea42-d84e-416c-ce34-7165c5c8fae5"
      },
      "source": [
        "# Veja o exempol para A0 e B0\n",
        "IdadeMedia = 15 # Vamos definir esta variavel apenas para testar este código\n",
        "if B0 >= IdadeMedia :\n",
        "    print('A idade de '+ A0 + ' é '+ sB0 + ' anos e maior que a Idade Médai do grupo que é '+ str(IdadeMedia)+ ' anos.')\n",
        "else:\n",
        "    print('A idade de '+ A0 + ' é '+ sB0 + ' anos e menor que a Idade Médai do grupo que é '+ str(IdadeMedia)+ ' anos.')"
      ],
      "execution_count": 0,
      "outputs": [
        {
          "output_type": "stream",
          "text": [
            "A idade de Daniel é 16 anos e maior que a Idade Médai do grupo que é 15 anos.\n"
          ],
          "name": "stdout"
        }
      ]
    },
    {
      "cell_type": "markdown",
      "metadata": {
        "id": "ML-aHPBpvUBT",
        "colab_type": "text"
      },
      "source": [
        "## Exercicio 13 Agora crie um código para imprimir uma mensagem com o seguinte conteúdo:\n",
        "A idade de Daniel é maior que a idade média do grupo, caso a idade da Daniel seja maior ou igua a idade média ou A idade de Daniel é mneor que a idade média do grupo, caso a idade da Daniel seja menor que a idade média do grupo"
      ]
    },
    {
      "cell_type": "code",
      "metadata": {
        "id": "yuNnEkeKvUBU",
        "colab_type": "code",
        "colab": {},
        "outputId": "d60178c2-2bef-4008-edad-a744c37a942f"
      },
      "source": [
        "# Veja o exempol para A0 e B0\n",
        "IdadeMedia = 15 # Vamos definir esta variavel apenas para testar este código\n",
        "if B0 >= IdadeMedia :\n",
        "    print('A idade de '+ A1 + ' é '+ sB1 + ' anos e maior que a Idade Médai do grupo que é '+ str(IdadeMedia)+ ' anos.')\n",
        "else:\n",
        "    print('A idade de '+ A1 + ' é '+ sB1 + ' anos e menor que a Idade Médai do grupo que é '+ str(IdadeMedia)+ ' anos.')"
      ],
      "execution_count": 0,
      "outputs": [
        {
          "output_type": "stream",
          "text": [
            "A idade de Ivanilton é 21 anos e maior que a Idade Médai do grupo que é 15 anos.\n"
          ],
          "name": "stdout"
        }
      ]
    },
    {
      "cell_type": "code",
      "metadata": {
        "id": "VDDAI3yhvUBX",
        "colab_type": "code",
        "colab": {},
        "outputId": "b0da6134-ef37-4c04-9cb6-fa7d5e7b1754"
      },
      "source": [
        "# Veja o exempol para A0 e B0\n",
        "IdadeMedia = 15 # Vamos definir esta variavel apenas para testar este código\n",
        "if B0 >= IdadeMedia :\n",
        "    print('A idade de '+ A2 + ' é '+ sB2 + ' anos e maior que a Idade Médai do grupo que é '+ str(IdadeMedia)+ ' anos.')\n",
        "else:\n",
        "    print('A idade de '+ A2 + ' é '+ sB2 + ' anos e menor que a Idade Médai do grupo que é '+ str(IdadeMedia)+ ' anos.')"
      ],
      "execution_count": 0,
      "outputs": [
        {
          "output_type": "stream",
          "text": [
            "A idade de Jair é 32 anos e maior que a Idade Médai do grupo que é 15 anos.\n"
          ],
          "name": "stdout"
        }
      ]
    },
    {
      "cell_type": "code",
      "metadata": {
        "id": "EJq6L5SqvUBa",
        "colab_type": "code",
        "colab": {},
        "outputId": "420615c5-f6c2-4625-8577-836f70d2f90c"
      },
      "source": [
        "# Veja o exempol para A0 e B0\n",
        "IdadeMedia = 15 # Vamos definir esta variavel apenas para testar este código\n",
        "if B0 >= IdadeMedia :\n",
        "    print('A idade de '+ A3 + ' é '+ sB3 + ' anos e maior que a Idade Médai do grupo que é '+ str(IdadeMedia)+ ' anos.')\n",
        "else:\n",
        "    print('A idade de '+ A3 + ' é '+ sB3 + ' anos e menor que a Idade Médai do grupo que é '+ str(IdadeMedia)+ ' anos.')"
      ],
      "execution_count": 0,
      "outputs": [
        {
          "output_type": "stream",
          "text": [
            "A idade de Cleber é 36 anos e maior que a Idade Médai do grupo que é 15 anos.\n"
          ],
          "name": "stdout"
        }
      ]
    },
    {
      "cell_type": "code",
      "metadata": {
        "id": "ZipzYGRsvUBd",
        "colab_type": "code",
        "colab": {},
        "outputId": "2e4d2223-a532-40ba-c97d-5d0ae619c76e"
      },
      "source": [
        "# Veja o exempol para A0 e B0\n",
        "IdadeMedia = 15 # Vamos definir esta variavel apenas para testar este código\n",
        "if B0 >= IdadeMedia :\n",
        "    print('A idade de '+ A4 + ' é '+ sB4 + ' anos e maior que a Idade Médai do grupo que é '+ str(IdadeMedia)+ ' anos.')\n",
        "else:\n",
        "    print('A idade de '+ A4 + ' é '+ sB4 + ' anos e menor que a Idade Médai do grupo que é '+ str(IdadeMedia)+ ' anos.')"
      ],
      "execution_count": 0,
      "outputs": [
        {
          "output_type": "stream",
          "text": [
            "A idade de Ernesto é 20 anos e maior que a Idade Médai do grupo que é 15 anos.\n"
          ],
          "name": "stdout"
        }
      ]
    },
    {
      "cell_type": "code",
      "metadata": {
        "id": "ftOKX7mVvUBg",
        "colab_type": "code",
        "colab": {},
        "outputId": "39f47be5-8f5c-41ed-c673-44a5529cd5fc"
      },
      "source": [
        "# Veja o exempol para A0 e B0\n",
        "IdadeMedia = 15 # Vamos definir esta variavel apenas para testar este código\n",
        "if B0 >= IdadeMedia :\n",
        "    print('A idade de '+ A5 + ' é '+ sB5 + ' anos e maior que a Idade Médai do grupo que é '+ str(IdadeMedia)+ ' anos.')\n",
        "else:\n",
        "    print('A idade de '+ A5 + ' é '+ sB5 + ' anos e menor que a Idade Médai do grupo que é '+ str(IdadeMedia)+ ' anos.')"
      ],
      "execution_count": 0,
      "outputs": [
        {
          "output_type": "stream",
          "text": [
            "A idade de Armando é 14 anos e maior que a Idade Médai do grupo que é 15 anos.\n"
          ],
          "name": "stdout"
        }
      ]
    },
    {
      "cell_type": "markdown",
      "metadata": {
        "id": "5D3B3HZBvUBi",
        "colab_type": "text"
      },
      "source": [
        "## Exercicio 14 Agora crie um código para montar uma lista de nomes com as pessoas A0, A1, A2, A3, A4 e A5 denominada nomes e imprimir a mensagem:  \n",
        "## O nome da pessoa X é tal, onde X é substituido pelas strings  A0, A1, A2, A3, A4 e A5 e tal pelo respectivo conteúdo de cada variável :\n",
        "## DICA USE O COMANDO FOR E RANGE PARA FACILITAR O CÓDIGO"
      ]
    },
    {
      "cell_type": "code",
      "metadata": {
        "id": "pwh87v9MvUBj",
        "colab_type": "code",
        "colab": {},
        "outputId": "9067ee1d-2206-4fa7-cf14-d68ac6dda5df"
      },
      "source": [
        "nomes =[A0, A1,A2,A3,A4,A5]\n",
        "strings = ['A0', 'A1','A2','A3','A4','A5']\n",
        "for i in range((len(nomes))):\n",
        "    print('O nome de '+ strings[i]+ ' é '+ nomes[i] +' .')"
      ],
      "execution_count": 0,
      "outputs": [
        {
          "output_type": "stream",
          "text": [
            "O nome de A0 é Daniel .\n",
            "O nome de A1 é Ivanilton .\n",
            "O nome de A2 é Jair .\n",
            "O nome de A3 é Cleber .\n",
            "O nome de A4 é Ernesto .\n",
            "O nome de A5 é Armando .\n"
          ],
          "name": "stdout"
        }
      ]
    },
    {
      "cell_type": "code",
      "metadata": {
        "id": "DRLM_b2TvUBl",
        "colab_type": "code",
        "colab": {},
        "outputId": "5f31ce17-95da-449a-e722-d746a1e78abf"
      },
      "source": [
        "nomes =[A0, A1,A2,A3,A4,A5]\n",
        "strings = ['A0', 'A1','A2','A3','A4','A5']\n",
        "for i,nome in  enumerate(nomes):\n",
        "    print('O nome de '+ strings[i]+ ' é '+ nome +' .')"
      ],
      "execution_count": 0,
      "outputs": [
        {
          "output_type": "stream",
          "text": [
            "O nome de A0 é Daniel .\n",
            "O nome de A1 é Ivanilton .\n",
            "O nome de A2 é Jair .\n",
            "O nome de A3 é Cleber .\n",
            "O nome de A4 é Ernesto .\n",
            "O nome de A5 é Armando .\n"
          ],
          "name": "stdout"
        }
      ]
    },
    {
      "cell_type": "markdown",
      "metadata": {
        "id": "KOJ-wx-evUBm",
        "colab_type": "text"
      },
      "source": [
        "## Exercicio 15 Agora crie um código para usara lista de nomes com as pessoas A0, A1, A2, A3, A4 e A5 denominada NOMES e  montar a lista IDADES com B0, B1, B2, B3, B4 e B5 e imprimir a mensagem:  \n",
        "## O nome da pessoa X é tal, onde X é substituido pelas strings  A0, A1, A2, A3, A4 e A5 e tal pelo respectivo conteúdo de cada variável :\n",
        "## DICA USE O COMANDO FOR E RANGE PARA FACILITAR O CÓDIGO"
      ]
    },
    {
      "cell_type": "code",
      "metadata": {
        "id": "1pS0XtMBvUBn",
        "colab_type": "code",
        "colab": {},
        "outputId": "4e4e98d6-4f40-4b9e-8a16-f181e91f6638"
      },
      "source": [
        "nomes =[A0, A1,A2,A3,A4,A5]\n",
        "idades = [B0, B1,B2,B3,B4,B5]\n",
        "for i in  range(len(nomes)):\n",
        "    print('O nome de '+ nome+ ' é '+ nome + ' sua idade é '+ str(idades[i]) +' anos.')"
      ],
      "execution_count": 0,
      "outputs": [
        {
          "output_type": "stream",
          "text": [
            "O nome de Armando é Armando sua idade é 16 anos.\n",
            "O nome de Armando é Armando sua idade é 21 anos.\n",
            "O nome de Armando é Armando sua idade é 32 anos.\n",
            "O nome de Armando é Armando sua idade é 36 anos.\n",
            "O nome de Armando é Armando sua idade é 20 anos.\n",
            "O nome de Armando é Armando sua idade é 14 anos.\n"
          ],
          "name": "stdout"
        }
      ]
    },
    {
      "cell_type": "code",
      "metadata": {
        "id": "bgySgRPBvUBp",
        "colab_type": "code",
        "colab": {},
        "outputId": "5828cfc8-a72d-4cad-9c39-dbac331cff29"
      },
      "source": [
        "nomes =[A0, A1,A2,A3,A4,A5]\n",
        "idades = [B0, B1,B2,B3,B4,B5]\n",
        "for i,nome in  enumerate(nomes):\n",
        "    print('O nome de '+ nome+ ' é '+ nome + ' sua idade é '+ str(idades[i]) +' anos.')"
      ],
      "execution_count": 0,
      "outputs": [
        {
          "output_type": "stream",
          "text": [
            "O nome de Daniel é Daniel sua idade é 16 anos.\n",
            "O nome de Ivanilton é Ivanilton sua idade é 21 anos.\n",
            "O nome de Jair é Jair sua idade é 32 anos.\n",
            "O nome de Cleber é Cleber sua idade é 36 anos.\n",
            "O nome de Ernesto é Ernesto sua idade é 20 anos.\n",
            "O nome de Armando é Armando sua idade é 14 anos.\n"
          ],
          "name": "stdout"
        }
      ]
    },
    {
      "cell_type": "code",
      "metadata": {
        "id": "FZ05oW-gvUBq",
        "colab_type": "code",
        "colab": {}
      },
      "source": [
        ""
      ],
      "execution_count": 0,
      "outputs": []
    }
  ]
}