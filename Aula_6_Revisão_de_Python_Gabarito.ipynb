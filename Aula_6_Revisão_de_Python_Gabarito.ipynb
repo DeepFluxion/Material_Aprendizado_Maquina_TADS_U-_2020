{
  "nbformat": 4,
  "nbformat_minor": 0,
  "metadata": {
    "kernelspec": {
      "display_name": "Python 3",
      "language": "python",
      "name": "python3"
    },
    "language_info": {
      "codemirror_mode": {
        "name": "ipython",
        "version": 3
      },
      "file_extension": ".py",
      "mimetype": "text/x-python",
      "name": "python",
      "nbconvert_exporter": "python",
      "pygments_lexer": "ipython3",
      "version": "3.6.8"
    },
    "colab": {
      "name": "Aula 6 Revisão de Python-Gabarito.ipynb",
      "provenance": [],
      "include_colab_link": true
    }
  },
  "cells": [
    {
      "cell_type": "markdown",
      "metadata": {
        "id": "view-in-github",
        "colab_type": "text"
      },
      "source": [
        "<a href=\"https://colab.research.google.com/github/DomingosN/Material_Aprendizado_Maquina_TADS_U-_2020/blob/master/Aula_6_Revis%C3%A3o_de_Python_Gabarito.ipynb\" target=\"_parent\"><img src=\"https://colab.research.google.com/assets/colab-badge.svg\" alt=\"Open In Colab\"/></a>"
      ]
    },
    {
      "cell_type": "markdown",
      "metadata": {
        "id": "PKrAgYJk6T4o",
        "colab_type": "text"
      },
      "source": [
        "# Vamos agora fazer uma revisão que irá abordar os tópicos tratados nas ultimas aulas."
      ]
    },
    {
      "cell_type": "markdown",
      "metadata": {
        "id": "6HjfXKP56T4p",
        "colab_type": "text"
      },
      "source": [
        "# Revisão Atribuição de Variáveis"
      ]
    },
    {
      "cell_type": "code",
      "metadata": {
        "id": "vreQUDZg6T4q",
        "colab_type": "code",
        "colab": {}
      },
      "source": [
        "var = 'Antonio'"
      ],
      "execution_count": 0,
      "outputs": []
    },
    {
      "cell_type": "markdown",
      "metadata": {
        "id": "O9pxwNbA6T4u",
        "colab_type": "text"
      },
      "source": [
        "# Revisão Impressão de Variáveis"
      ]
    },
    {
      "cell_type": "code",
      "metadata": {
        "id": "XhcqaTrQ6T4u",
        "colab_type": "code",
        "colab": {
          "base_uri": "https://localhost:8080/",
          "height": 34
        },
        "outputId": "fc3bd905-503e-42cd-e817-abcaf9a05bcb"
      },
      "source": [
        "print(var)"
      ],
      "execution_count": 2,
      "outputs": [
        {
          "output_type": "stream",
          "text": [
            "Antonio\n"
          ],
          "name": "stdout"
        }
      ]
    },
    {
      "cell_type": "markdown",
      "metadata": {
        "id": "8oKEk8Hq6T41",
        "colab_type": "text"
      },
      "source": [
        "# Revisão Entrada de Varáiveis pelo Usuário"
      ]
    },
    {
      "cell_type": "code",
      "metadata": {
        "id": "TU0n5AxC6T42",
        "colab_type": "code",
        "colab": {
          "base_uri": "https://localhost:8080/",
          "height": 34
        },
        "outputId": "33dfe215-df70-487e-a1b1-5cd00aea333e"
      },
      "source": [
        "var = input('Entre com um nome:')"
      ],
      "execution_count": 3,
      "outputs": [
        {
          "output_type": "stream",
          "text": [
            "Entre com um nome:Dado\n"
          ],
          "name": "stdout"
        }
      ]
    },
    {
      "cell_type": "code",
      "metadata": {
        "id": "pf-LS5P_6T47",
        "colab_type": "code",
        "colab": {
          "base_uri": "https://localhost:8080/",
          "height": 34
        },
        "outputId": "d24c64fd-c650-4b34-b071-33a4eb01af84"
      },
      "source": [
        "print(var)"
      ],
      "execution_count": 4,
      "outputs": [
        {
          "output_type": "stream",
          "text": [
            "Dado\n"
          ],
          "name": "stdout"
        }
      ]
    },
    {
      "cell_type": "markdown",
      "metadata": {
        "id": "KvWq4nS46T5B",
        "colab_type": "text"
      },
      "source": [
        "# Revisão Comparação de Variáveis"
      ]
    },
    {
      "cell_type": "code",
      "metadata": {
        "id": "-0_to1Tk6T5C",
        "colab_type": "code",
        "colab": {}
      },
      "source": [
        "num1 = 10\n",
        "num2 = 15"
      ],
      "execution_count": 0,
      "outputs": []
    },
    {
      "cell_type": "code",
      "metadata": {
        "id": "duA9zCYF6T5H",
        "colab_type": "code",
        "colab": {
          "base_uri": "https://localhost:8080/",
          "height": 34
        },
        "outputId": "b98511ab-ac4f-419a-fe50-b0d354a3d372"
      },
      "source": [
        "print(num1>0)"
      ],
      "execution_count": 6,
      "outputs": [
        {
          "output_type": "stream",
          "text": [
            "True\n"
          ],
          "name": "stdout"
        }
      ]
    },
    {
      "cell_type": "code",
      "metadata": {
        "id": "MlTn-tAT6T5L",
        "colab_type": "code",
        "colab": {
          "base_uri": "https://localhost:8080/",
          "height": 34
        },
        "outputId": "ae9afeec-5936-4445-efba-b149a88a3c90"
      },
      "source": [
        "print(num2<0)"
      ],
      "execution_count": 7,
      "outputs": [
        {
          "output_type": "stream",
          "text": [
            "False\n"
          ],
          "name": "stdout"
        }
      ]
    },
    {
      "cell_type": "code",
      "metadata": {
        "id": "dWsVt9V06T5P",
        "colab_type": "code",
        "colab": {
          "base_uri": "https://localhost:8080/",
          "height": 34
        },
        "outputId": "4cbc4a60-1f00-4a59-9d0d-142e361f641f"
      },
      "source": [
        "print(num1>num2)"
      ],
      "execution_count": 8,
      "outputs": [
        {
          "output_type": "stream",
          "text": [
            "False\n"
          ],
          "name": "stdout"
        }
      ]
    },
    {
      "cell_type": "code",
      "metadata": {
        "id": "_V-dojsX6T5S",
        "colab_type": "code",
        "colab": {
          "base_uri": "https://localhost:8080/",
          "height": 34
        },
        "outputId": "f4959a4a-1c6c-4d69-d143-ed8e4d829a65"
      },
      "source": [
        "print(num1<num2)"
      ],
      "execution_count": 9,
      "outputs": [
        {
          "output_type": "stream",
          "text": [
            "True\n"
          ],
          "name": "stdout"
        }
      ]
    },
    {
      "cell_type": "markdown",
      "metadata": {
        "id": "187d3Kxu6T5V",
        "colab_type": "text"
      },
      "source": [
        "# RevisãoOperações Aritiméticas com Variáveis"
      ]
    },
    {
      "cell_type": "code",
      "metadata": {
        "id": "35O8SaTV6T5V",
        "colab_type": "code",
        "colab": {
          "base_uri": "https://localhost:8080/",
          "height": 34
        },
        "outputId": "fd4e89f3-efc0-46b8-d334-c6774fff74c7"
      },
      "source": [
        "num1+num2"
      ],
      "execution_count": 10,
      "outputs": [
        {
          "output_type": "execute_result",
          "data": {
            "text/plain": [
              "25"
            ]
          },
          "metadata": {
            "tags": []
          },
          "execution_count": 10
        }
      ]
    },
    {
      "cell_type": "code",
      "metadata": {
        "id": "mDqlAzzx6T5Z",
        "colab_type": "code",
        "colab": {
          "base_uri": "https://localhost:8080/",
          "height": 34
        },
        "outputId": "eed3e12e-97cc-4a40-ca50-fb4a97b8a7e3"
      },
      "source": [
        "num1-num2"
      ],
      "execution_count": 11,
      "outputs": [
        {
          "output_type": "execute_result",
          "data": {
            "text/plain": [
              "-5"
            ]
          },
          "metadata": {
            "tags": []
          },
          "execution_count": 11
        }
      ]
    },
    {
      "cell_type": "code",
      "metadata": {
        "id": "n0koMwSP6T5d",
        "colab_type": "code",
        "colab": {
          "base_uri": "https://localhost:8080/",
          "height": 34
        },
        "outputId": "0f0012f8-e519-4710-f944-0ece8469558f"
      },
      "source": [
        "num1*num2"
      ],
      "execution_count": 12,
      "outputs": [
        {
          "output_type": "execute_result",
          "data": {
            "text/plain": [
              "150"
            ]
          },
          "metadata": {
            "tags": []
          },
          "execution_count": 12
        }
      ]
    },
    {
      "cell_type": "code",
      "metadata": {
        "id": "OldQEoZg6T5j",
        "colab_type": "code",
        "colab": {
          "base_uri": "https://localhost:8080/",
          "height": 34
        },
        "outputId": "acf20cdc-62ac-4efd-df3d-7b66e174cad2"
      },
      "source": [
        "num3 = float(num1**num2)\n",
        "print(num3)"
      ],
      "execution_count": 13,
      "outputs": [
        {
          "output_type": "stream",
          "text": [
            "1000000000000000.0\n"
          ],
          "name": "stdout"
        }
      ]
    },
    {
      "cell_type": "code",
      "metadata": {
        "id": "q9LEKIQE6T5n",
        "colab_type": "code",
        "colab": {
          "base_uri": "https://localhost:8080/",
          "height": 70
        },
        "outputId": "e1d31e3f-f149-4ebd-eec6-24f4b8f840c1"
      },
      "source": [
        "print(type(var));\n",
        "print(type(num1))\n",
        "print(type(num3))"
      ],
      "execution_count": 14,
      "outputs": [
        {
          "output_type": "stream",
          "text": [
            "<class 'str'>\n",
            "<class 'int'>\n",
            "<class 'float'>\n"
          ],
          "name": "stdout"
        }
      ]
    },
    {
      "cell_type": "markdown",
      "metadata": {
        "id": "8JtiesYD6T5p",
        "colab_type": "text"
      },
      "source": [
        "# Listas, Loops e Range"
      ]
    },
    {
      "cell_type": "code",
      "metadata": {
        "id": "7jqCLIbW6T5q",
        "colab_type": "code",
        "colab": {}
      },
      "source": [
        "lista = []"
      ],
      "execution_count": 0,
      "outputs": []
    },
    {
      "cell_type": "code",
      "metadata": {
        "id": "NztaB8Zm6T5s",
        "colab_type": "code",
        "colab": {}
      },
      "source": [
        "for i in range(100):\n",
        "    lista.append(i)"
      ],
      "execution_count": 0,
      "outputs": []
    },
    {
      "cell_type": "code",
      "metadata": {
        "id": "GO7UcMpv6T5v",
        "colab_type": "code",
        "colab": {
          "base_uri": "https://localhost:8080/",
          "height": 54
        },
        "outputId": "3bdbb695-20b5-4c82-87cf-7f4a788e62fc"
      },
      "source": [
        "print(lista)"
      ],
      "execution_count": 17,
      "outputs": [
        {
          "output_type": "stream",
          "text": [
            "[0, 1, 2, 3, 4, 5, 6, 7, 8, 9, 10, 11, 12, 13, 14, 15, 16, 17, 18, 19, 20, 21, 22, 23, 24, 25, 26, 27, 28, 29, 30, 31, 32, 33, 34, 35, 36, 37, 38, 39, 40, 41, 42, 43, 44, 45, 46, 47, 48, 49, 50, 51, 52, 53, 54, 55, 56, 57, 58, 59, 60, 61, 62, 63, 64, 65, 66, 67, 68, 69, 70, 71, 72, 73, 74, 75, 76, 77, 78, 79, 80, 81, 82, 83, 84, 85, 86, 87, 88, 89, 90, 91, 92, 93, 94, 95, 96, 97, 98, 99]\n"
          ],
          "name": "stdout"
        }
      ]
    },
    {
      "cell_type": "code",
      "metadata": {
        "id": "heyXs4C46T5y",
        "colab_type": "code",
        "colab": {
          "base_uri": "https://localhost:8080/",
          "height": 34
        },
        "outputId": "b670df5a-0b72-4280-e6dc-893ecfb23dd5"
      },
      "source": [
        "print(lista[0:10])"
      ],
      "execution_count": 18,
      "outputs": [
        {
          "output_type": "stream",
          "text": [
            "[0, 1, 2, 3, 4, 5, 6, 7, 8, 9]\n"
          ],
          "name": "stdout"
        }
      ]
    },
    {
      "cell_type": "code",
      "metadata": {
        "id": "7WbudtFu6T50",
        "colab_type": "code",
        "colab": {
          "base_uri": "https://localhost:8080/",
          "height": 34
        },
        "outputId": "c943d0bc-2821-4d0c-ee35-6ee29c472ef0"
      },
      "source": [
        "print(lista[-1])"
      ],
      "execution_count": 19,
      "outputs": [
        {
          "output_type": "stream",
          "text": [
            "99\n"
          ],
          "name": "stdout"
        }
      ]
    },
    {
      "cell_type": "code",
      "metadata": {
        "id": "AzfBYvHu6T53",
        "colab_type": "code",
        "colab": {
          "base_uri": "https://localhost:8080/",
          "height": 34
        },
        "outputId": "4883d9db-4148-45c5-f1e5-3ca550389688"
      },
      "source": [
        "print(lista[-10:])"
      ],
      "execution_count": 20,
      "outputs": [
        {
          "output_type": "stream",
          "text": [
            "[90, 91, 92, 93, 94, 95, 96, 97, 98, 99]\n"
          ],
          "name": "stdout"
        }
      ]
    },
    {
      "cell_type": "markdown",
      "metadata": {
        "id": "4PC5l0D86T55",
        "colab_type": "text"
      },
      "source": [
        "## Desvios condicionais if else"
      ]
    },
    {
      "cell_type": "code",
      "metadata": {
        "id": "L_6cfvPA6T55",
        "colab_type": "code",
        "colab": {
          "base_uri": "https://localhost:8080/",
          "height": 1000
        },
        "outputId": "176a6dcd-0cef-4363-ffc8-1a6d18ae60be"
      },
      "source": [
        "for numero in lista:\n",
        "    if numero%2 == 0:\n",
        "        print('O número '+str(numero)+ ' é par.');\n",
        "    else:\n",
        "        print('O número '+str(numero)+ ' é impar.');"
      ],
      "execution_count": 21,
      "outputs": [
        {
          "output_type": "stream",
          "text": [
            "O número 0 é par.\n",
            "O número 1 é impar.\n",
            "O número 2 é par.\n",
            "O número 3 é impar.\n",
            "O número 4 é par.\n",
            "O número 5 é impar.\n",
            "O número 6 é par.\n",
            "O número 7 é impar.\n",
            "O número 8 é par.\n",
            "O número 9 é impar.\n",
            "O número 10 é par.\n",
            "O número 11 é impar.\n",
            "O número 12 é par.\n",
            "O número 13 é impar.\n",
            "O número 14 é par.\n",
            "O número 15 é impar.\n",
            "O número 16 é par.\n",
            "O número 17 é impar.\n",
            "O número 18 é par.\n",
            "O número 19 é impar.\n",
            "O número 20 é par.\n",
            "O número 21 é impar.\n",
            "O número 22 é par.\n",
            "O número 23 é impar.\n",
            "O número 24 é par.\n",
            "O número 25 é impar.\n",
            "O número 26 é par.\n",
            "O número 27 é impar.\n",
            "O número 28 é par.\n",
            "O número 29 é impar.\n",
            "O número 30 é par.\n",
            "O número 31 é impar.\n",
            "O número 32 é par.\n",
            "O número 33 é impar.\n",
            "O número 34 é par.\n",
            "O número 35 é impar.\n",
            "O número 36 é par.\n",
            "O número 37 é impar.\n",
            "O número 38 é par.\n",
            "O número 39 é impar.\n",
            "O número 40 é par.\n",
            "O número 41 é impar.\n",
            "O número 42 é par.\n",
            "O número 43 é impar.\n",
            "O número 44 é par.\n",
            "O número 45 é impar.\n",
            "O número 46 é par.\n",
            "O número 47 é impar.\n",
            "O número 48 é par.\n",
            "O número 49 é impar.\n",
            "O número 50 é par.\n",
            "O número 51 é impar.\n",
            "O número 52 é par.\n",
            "O número 53 é impar.\n",
            "O número 54 é par.\n",
            "O número 55 é impar.\n",
            "O número 56 é par.\n",
            "O número 57 é impar.\n",
            "O número 58 é par.\n",
            "O número 59 é impar.\n",
            "O número 60 é par.\n",
            "O número 61 é impar.\n",
            "O número 62 é par.\n",
            "O número 63 é impar.\n",
            "O número 64 é par.\n",
            "O número 65 é impar.\n",
            "O número 66 é par.\n",
            "O número 67 é impar.\n",
            "O número 68 é par.\n",
            "O número 69 é impar.\n",
            "O número 70 é par.\n",
            "O número 71 é impar.\n",
            "O número 72 é par.\n",
            "O número 73 é impar.\n",
            "O número 74 é par.\n",
            "O número 75 é impar.\n",
            "O número 76 é par.\n",
            "O número 77 é impar.\n",
            "O número 78 é par.\n",
            "O número 79 é impar.\n",
            "O número 80 é par.\n",
            "O número 81 é impar.\n",
            "O número 82 é par.\n",
            "O número 83 é impar.\n",
            "O número 84 é par.\n",
            "O número 85 é impar.\n",
            "O número 86 é par.\n",
            "O número 87 é impar.\n",
            "O número 88 é par.\n",
            "O número 89 é impar.\n",
            "O número 90 é par.\n",
            "O número 91 é impar.\n",
            "O número 92 é par.\n",
            "O número 93 é impar.\n",
            "O número 94 é par.\n",
            "O número 95 é impar.\n",
            "O número 96 é par.\n",
            "O número 97 é impar.\n",
            "O número 98 é par.\n",
            "O número 99 é impar.\n"
          ],
          "name": "stdout"
        }
      ]
    },
    {
      "cell_type": "markdown",
      "metadata": {
        "id": "TvNPg-4m6T5-",
        "colab_type": "text"
      },
      "source": [
        "# Dicionários"
      ]
    },
    {
      "cell_type": "code",
      "metadata": {
        "id": "ASHttFWn6T5_",
        "colab_type": "code",
        "colab": {}
      },
      "source": [
        "aniversarios = dict( Alberto = '20/04',\n",
        "                   Luis = '12/12',\n",
        "                   Waldemar = '20/07',\n",
        "                   Ivana = '24/05')"
      ],
      "execution_count": 0,
      "outputs": []
    },
    {
      "cell_type": "code",
      "metadata": {
        "id": "JyQhDnPk6T6D",
        "colab_type": "code",
        "colab": {
          "base_uri": "https://localhost:8080/",
          "height": 34
        },
        "outputId": "1dafdeb4-dddc-429c-8241-5bcdba9a7ac3"
      },
      "source": [
        "aniversarios['Ivana']"
      ],
      "execution_count": 23,
      "outputs": [
        {
          "output_type": "execute_result",
          "data": {
            "text/plain": [
              "'24/05'"
            ]
          },
          "metadata": {
            "tags": []
          },
          "execution_count": 23
        }
      ]
    },
    {
      "cell_type": "code",
      "metadata": {
        "id": "iakUJIwl6T6I",
        "colab_type": "code",
        "colab": {
          "base_uri": "https://localhost:8080/",
          "height": 34
        },
        "outputId": "39c6ad41-5ae1-4ae1-d1dd-af7c27b60132"
      },
      "source": [
        "aniversarios"
      ],
      "execution_count": 24,
      "outputs": [
        {
          "output_type": "execute_result",
          "data": {
            "text/plain": [
              "{'Alberto': '20/04', 'Ivana': '24/05', 'Luis': '12/12', 'Waldemar': '20/07'}"
            ]
          },
          "metadata": {
            "tags": []
          },
          "execution_count": 24
        }
      ]
    },
    {
      "cell_type": "code",
      "metadata": {
        "id": "ImRHBgIh6T6L",
        "colab_type": "code",
        "colab": {
          "base_uri": "https://localhost:8080/",
          "height": 34
        },
        "outputId": "7b9e6c97-1f19-4d91-cab8-672da11e76ce"
      },
      "source": [
        "aniversarios.keys()"
      ],
      "execution_count": 25,
      "outputs": [
        {
          "output_type": "execute_result",
          "data": {
            "text/plain": [
              "dict_keys(['Alberto', 'Luis', 'Waldemar', 'Ivana'])"
            ]
          },
          "metadata": {
            "tags": []
          },
          "execution_count": 25
        }
      ]
    },
    {
      "cell_type": "code",
      "metadata": {
        "id": "rgF_68Gu6T6O",
        "colab_type": "code",
        "colab": {
          "base_uri": "https://localhost:8080/",
          "height": 34
        },
        "outputId": "1aa8c0e1-2271-48f1-e915-d3cd67a60ca7"
      },
      "source": [
        "aniversarios.values()"
      ],
      "execution_count": 26,
      "outputs": [
        {
          "output_type": "execute_result",
          "data": {
            "text/plain": [
              "dict_values(['20/04', '12/12', '20/07', '24/05'])"
            ]
          },
          "metadata": {
            "tags": []
          },
          "execution_count": 26
        }
      ]
    },
    {
      "cell_type": "code",
      "metadata": {
        "id": "iteFprti6T6Q",
        "colab_type": "code",
        "colab": {
          "base_uri": "https://localhost:8080/",
          "height": 34
        },
        "outputId": "9e19693c-e31c-4792-ec42-ffe86fb45f59"
      },
      "source": [
        "aniversarios.items()"
      ],
      "execution_count": 27,
      "outputs": [
        {
          "output_type": "execute_result",
          "data": {
            "text/plain": [
              "dict_items([('Alberto', '20/04'), ('Luis', '12/12'), ('Waldemar', '20/07'), ('Ivana', '24/05')])"
            ]
          },
          "metadata": {
            "tags": []
          },
          "execution_count": 27
        }
      ]
    },
    {
      "cell_type": "code",
      "metadata": {
        "id": "0ezWwqna6T6T",
        "colab_type": "code",
        "colab": {}
      },
      "source": [
        "aniversarios['Souza']= '20/01';\n",
        "aniversarios['Silvio']= '20/11';\n",
        "aniversarios['Helena']= '03/11'"
      ],
      "execution_count": 0,
      "outputs": []
    },
    {
      "cell_type": "code",
      "metadata": {
        "id": "mwwJHAXX6T6X",
        "colab_type": "code",
        "colab": {
          "base_uri": "https://localhost:8080/",
          "height": 140
        },
        "outputId": "5fb56e04-8766-43a8-e8e1-85d9569b72ed"
      },
      "source": [
        "for key in aniversarios.keys():\n",
        "    print(key)"
      ],
      "execution_count": 29,
      "outputs": [
        {
          "output_type": "stream",
          "text": [
            "Alberto\n",
            "Luis\n",
            "Waldemar\n",
            "Ivana\n",
            "Souza\n",
            "Silvio\n",
            "Helena\n"
          ],
          "name": "stdout"
        }
      ]
    },
    {
      "cell_type": "code",
      "metadata": {
        "id": "DIktDrPf6T6b",
        "colab_type": "code",
        "colab": {
          "base_uri": "https://localhost:8080/",
          "height": 140
        },
        "outputId": "a2760661-2c55-4e7b-e57e-f36221e88647"
      },
      "source": [
        "for key in aniversarios.keys():\n",
        "    print('O aniversário de '+key+' é em '+aniversarios[key])"
      ],
      "execution_count": 30,
      "outputs": [
        {
          "output_type": "stream",
          "text": [
            "O aniversário de Alberto é em 20/04\n",
            "O aniversário de Luis é em 12/12\n",
            "O aniversário de Waldemar é em 20/07\n",
            "O aniversário de Ivana é em 24/05\n",
            "O aniversário de Souza é em 20/01\n",
            "O aniversário de Silvio é em 20/11\n",
            "O aniversário de Helena é em 03/11\n"
          ],
          "name": "stdout"
        }
      ]
    },
    {
      "cell_type": "markdown",
      "metadata": {
        "id": "3GCDr-zR6T6f",
        "colab_type": "text"
      },
      "source": [
        "## Exemplo 1 Veja o exemplo a seguir"
      ]
    },
    {
      "cell_type": "code",
      "metadata": {
        "id": "H8eLWtzS6T6g",
        "colab_type": "code",
        "colab": {
          "base_uri": "https://localhost:8080/",
          "height": 34
        },
        "outputId": "b772ddfc-a617-4bb4-eadc-b80064b1d705"
      },
      "source": [
        "A0 = input(\"Entre com um nome: \")"
      ],
      "execution_count": 31,
      "outputs": [
        {
          "output_type": "stream",
          "text": [
            "Entre com um nome: q\n"
          ],
          "name": "stdout"
        }
      ]
    },
    {
      "cell_type": "code",
      "metadata": {
        "id": "3JGT8c6V6T6k",
        "colab_type": "code",
        "colab": {
          "base_uri": "https://localhost:8080/",
          "height": 34
        },
        "outputId": "c3d05fb1-9fae-4d04-d462-e6d7d4cb609d"
      },
      "source": [
        "print(A0)"
      ],
      "execution_count": 32,
      "outputs": [
        {
          "output_type": "stream",
          "text": [
            "q\n"
          ],
          "name": "stdout"
        }
      ]
    },
    {
      "cell_type": "markdown",
      "metadata": {
        "id": "r4dSkvQq6T6o",
        "colab_type": "text"
      },
      "source": [
        "Neste exemplo nós inserimos um nome que é armazenado na varáivel A0, a seguir com o comando print() nos imprimimos o conteúdo de A0"
      ]
    },
    {
      "cell_type": "markdown",
      "metadata": {
        "id": "GFfJ0y4f6T6p",
        "colab_type": "text"
      },
      "source": [
        "## Exercicio 2- Repita inserindo um novo nome para ser armazenado na varíavel A1\n",
        "## Digite na linha a seguir o código para inserir A1"
      ]
    },
    {
      "cell_type": "code",
      "metadata": {
        "id": "ddNyo2bc6T6q",
        "colab_type": "code",
        "colab": {
          "base_uri": "https://localhost:8080/",
          "height": 34
        },
        "outputId": "acbeddef-4d66-48ca-aa89-38e073f7ed27"
      },
      "source": [
        "A1 = input(\"Entre com um nome: \")"
      ],
      "execution_count": 33,
      "outputs": [
        {
          "output_type": "stream",
          "text": [
            "Entre com um nome: a\n"
          ],
          "name": "stdout"
        }
      ]
    },
    {
      "cell_type": "markdown",
      "metadata": {
        "id": "Nh_cwDUF6T6t",
        "colab_type": "text"
      },
      "source": [
        "## Digite na linha s seguir o código para imprimir A1"
      ]
    },
    {
      "cell_type": "code",
      "metadata": {
        "id": "TiWwWQqZ6T6t",
        "colab_type": "code",
        "colab": {
          "base_uri": "https://localhost:8080/",
          "height": 34
        },
        "outputId": "08851782-5f94-41ad-d679-aea119e90fdf"
      },
      "source": [
        "print(A1)"
      ],
      "execution_count": 34,
      "outputs": [
        {
          "output_type": "stream",
          "text": [
            "a\n"
          ],
          "name": "stdout"
        }
      ]
    },
    {
      "cell_type": "markdown",
      "metadata": {
        "id": "FurXkAFx6T6v",
        "colab_type": "text"
      },
      "source": [
        "## Exercicio 3- Repita inserindo um novo nome para ser armazenado na variável A2\n",
        "## Digite na linha a seguir o código para inserir A2"
      ]
    },
    {
      "cell_type": "code",
      "metadata": {
        "id": "DCkgNur96T6w",
        "colab_type": "code",
        "colab": {
          "base_uri": "https://localhost:8080/",
          "height": 34
        },
        "outputId": "c07a45e7-8469-4cb9-91ed-e946a21c188e"
      },
      "source": [
        "A2 = input(\"Entre com um nome: \")"
      ],
      "execution_count": 35,
      "outputs": [
        {
          "output_type": "stream",
          "text": [
            "Entre com um nome: b\n"
          ],
          "name": "stdout"
        }
      ]
    },
    {
      "cell_type": "markdown",
      "metadata": {
        "id": "TDMpLCv46T60",
        "colab_type": "text"
      },
      "source": [
        "## Digite na linha a seguir o código para imprimir A2"
      ]
    },
    {
      "cell_type": "code",
      "metadata": {
        "id": "mPr8mxfz6T61",
        "colab_type": "code",
        "colab": {
          "base_uri": "https://localhost:8080/",
          "height": 34
        },
        "outputId": "66da3ea4-b7b5-4cad-d214-f0983cd28d32"
      },
      "source": [
        "print(A2)"
      ],
      "execution_count": 36,
      "outputs": [
        {
          "output_type": "stream",
          "text": [
            "b\n"
          ],
          "name": "stdout"
        }
      ]
    },
    {
      "cell_type": "markdown",
      "metadata": {
        "id": "r6rFMDPQ6T66",
        "colab_type": "text"
      },
      "source": [
        "## Exercicio 4- Repita inserindo um novo nome para ser armazenado na variável A3\n",
        "## Digite na linha a seguir o código para inserir A3"
      ]
    },
    {
      "cell_type": "code",
      "metadata": {
        "id": "tVBa1yj46T67",
        "colab_type": "code",
        "colab": {}
      },
      "source": [
        "A3 = input(\"Entre com um nome: \")"
      ],
      "execution_count": 0,
      "outputs": []
    },
    {
      "cell_type": "markdown",
      "metadata": {
        "id": "lNdxnJgz6T6_",
        "colab_type": "text"
      },
      "source": [
        "## Digite na linha a seguir o código para imprimir A3"
      ]
    },
    {
      "cell_type": "code",
      "metadata": {
        "id": "VPjCFk276T6_",
        "colab_type": "code",
        "colab": {}
      },
      "source": [
        "print(A3)"
      ],
      "execution_count": 0,
      "outputs": []
    },
    {
      "cell_type": "markdown",
      "metadata": {
        "id": "my3A2YXC6T7D",
        "colab_type": "text"
      },
      "source": [
        "## Exercicio 5- Repita inserindo um novo nome para ser armazenado na variável A4\n",
        "## Digite na linha a seguir o código para inserir A4"
      ]
    },
    {
      "cell_type": "code",
      "metadata": {
        "id": "ZvXPCJMQ6T7E",
        "colab_type": "code",
        "colab": {},
        "outputId": "627bb548-1f17-4ffb-e8bb-efd5c1a33619"
      },
      "source": [
        "A4 = input(\"Entre com um nome: \")"
      ],
      "execution_count": 0,
      "outputs": [
        {
          "output_type": "stream",
          "text": [
            "Entre com um nome: Ernesto\n"
          ],
          "name": "stdout"
        }
      ]
    },
    {
      "cell_type": "markdown",
      "metadata": {
        "id": "1bfocibu6T7H",
        "colab_type": "text"
      },
      "source": [
        "## Digite na linha a seguir o código para imprimir A4"
      ]
    },
    {
      "cell_type": "code",
      "metadata": {
        "id": "R1b_S5ko6T7J",
        "colab_type": "code",
        "colab": {},
        "outputId": "f91c86e1-416c-4043-f7c3-ad54a3c68a9b"
      },
      "source": [
        "print(A4)"
      ],
      "execution_count": 0,
      "outputs": [
        {
          "output_type": "stream",
          "text": [
            "Ernesto\n"
          ],
          "name": "stdout"
        }
      ]
    },
    {
      "cell_type": "markdown",
      "metadata": {
        "id": "Mb7QbLwJ6T7M",
        "colab_type": "text"
      },
      "source": [
        "## Exercicio 6- Repita inserindo um novo nome para ser armazenado na varíavel A5\n",
        "## Digite na linha a seguir o código para inserir A5"
      ]
    },
    {
      "cell_type": "code",
      "metadata": {
        "id": "2EZxRN_T6T7N",
        "colab_type": "code",
        "colab": {},
        "outputId": "b3cfbaae-0478-4826-f988-ed2488cf13ba"
      },
      "source": [
        "A5 = input(\"Entre com um nome: \")"
      ],
      "execution_count": 0,
      "outputs": [
        {
          "output_type": "stream",
          "text": [
            "Entre com um nome: Armando\n"
          ],
          "name": "stdout"
        }
      ]
    },
    {
      "cell_type": "markdown",
      "metadata": {
        "id": "rBWVvP5l6T7R",
        "colab_type": "text"
      },
      "source": [
        "## Digite na linha a seguir o código para imprimir A5"
      ]
    },
    {
      "cell_type": "code",
      "metadata": {
        "id": "d80Aop3Q6T7R",
        "colab_type": "code",
        "colab": {},
        "outputId": "b07c7613-7568-4336-d1c0-aa60057289a0"
      },
      "source": [
        "print(A5)"
      ],
      "execution_count": 0,
      "outputs": [
        {
          "output_type": "stream",
          "text": [
            "Armando\n"
          ],
          "name": "stdout"
        }
      ]
    },
    {
      "cell_type": "markdown",
      "metadata": {
        "id": "Gzz03zYl6T7V",
        "colab_type": "text"
      },
      "source": [
        "## Exemplo 2 Agora vamos armazenar na variável B0 a idade de Daniel"
      ]
    },
    {
      "cell_type": "code",
      "metadata": {
        "id": "hhfx4Dq46T7W",
        "colab_type": "code",
        "colab": {}
      },
      "source": [
        "B0 = 16"
      ],
      "execution_count": 0,
      "outputs": []
    },
    {
      "cell_type": "markdown",
      "metadata": {
        "id": "Ez_Dh2pf6T7Z",
        "colab_type": "text"
      },
      "source": [
        "## Exercício 7 - Repita o Processo agora armazenando as idades das pessoas A1, A2, A3, A4 e A5 nas varíaveis B1, B2, B3, B4, B5, de formas similar ao que foi feito na lina de código anterior."
      ]
    },
    {
      "cell_type": "code",
      "metadata": {
        "id": "MmLel1mR6T7a",
        "colab_type": "code",
        "colab": {}
      },
      "source": [
        "B1 = 21; # DIGITE APÓS O SINAL DE IGUAL A IDADE DA PESSOA A1\n",
        "B2 = 32; # DIGITE APÓS O SINAL DE IGUAL A IDADE DA PESSOA A2\n",
        "B3 = 36; # DIGITE APÓS O SINAL DE IGUAL A IDADE DA PESSOA A3\n",
        "B4 = 20; # DIGITE APÓS O SINAL DE IGUAL A IDADE DA PESSOA A4\n",
        "B5 = 14; # DIGITE APÓS O SINAL DE IGUAL A IDADE DA PESSOA A5"
      ],
      "execution_count": 0,
      "outputs": []
    },
    {
      "cell_type": "markdown",
      "metadata": {
        "id": "RXf8sBI96T7b",
        "colab_type": "text"
      },
      "source": [
        "## Exercicio 8 Agora vamos verificar qual é o tipo de cada uma das varáiveis que inserimos até agora usando o comando type()"
      ]
    },
    {
      "cell_type": "code",
      "metadata": {
        "id": "3NSIKe9H6T7c",
        "colab_type": "code",
        "colab": {},
        "outputId": "500746fd-c8ab-470c-fa1b-e4b56b60049c"
      },
      "source": [
        "# Exemplo para A0 e B0\n",
        "print(type(A0));\n",
        "print(type(B0))"
      ],
      "execution_count": 0,
      "outputs": [
        {
          "output_type": "stream",
          "text": [
            "<class 'str'>\n",
            "<class 'int'>\n"
          ],
          "name": "stdout"
        }
      ]
    },
    {
      "cell_type": "markdown",
      "metadata": {
        "id": "9hq72vn36T7e",
        "colab_type": "text"
      },
      "source": [
        "### Repita o Processo agora para a varíáveis A1, A2, A3, A4 e A5 e para as variáveis B1, B2, B3, B4, B5, de formas similar ao que foi feito na lina de código anterior.¶"
      ]
    },
    {
      "cell_type": "code",
      "metadata": {
        "id": "S93x4e-F6T7e",
        "colab_type": "code",
        "colab": {},
        "outputId": "6becb021-4aa1-4dc8-d9f4-75a896838737"
      },
      "source": [
        "print(type(A1));\n",
        "print(type(B1));\n",
        "print(type(A2));\n",
        "print(type(B2));\n",
        "print(type(A3));\n",
        "print(type(B3));\n",
        "print(type(A4));\n",
        "print(type(B4));\n",
        "print(type(A5));\n",
        "print(type(B5))"
      ],
      "execution_count": 0,
      "outputs": [
        {
          "output_type": "stream",
          "text": [
            "<class 'str'>\n",
            "<class 'int'>\n",
            "<class 'str'>\n",
            "<class 'int'>\n",
            "<class 'str'>\n",
            "<class 'int'>\n",
            "<class 'str'>\n",
            "<class 'int'>\n",
            "<class 'str'>\n",
            "<class 'int'>\n"
          ],
          "name": "stdout"
        }
      ]
    },
    {
      "cell_type": "markdown",
      "metadata": {
        "id": "GLwVqbac6T7h",
        "colab_type": "text"
      },
      "source": [
        "## Exercicio 9 Agora vamos modificar o tipo de cada uma das varáiveis referente a idades que inserimos até agora usando o comando str() e armazenar nas variáveis sB0, sB1, sB2, sB3, sB4, sB5."
      ]
    },
    {
      "cell_type": "code",
      "metadata": {
        "id": "BDeGhUmO6T7i",
        "colab_type": "code",
        "colab": {},
        "outputId": "2d6bff52-d7bb-40ce-f281-683a5eceec35"
      },
      "source": [
        "sB0 = str(B0)\n",
        "print(sB0)"
      ],
      "execution_count": 0,
      "outputs": [
        {
          "output_type": "stream",
          "text": [
            "16\n"
          ],
          "name": "stdout"
        }
      ]
    },
    {
      "cell_type": "markdown",
      "metadata": {
        "id": "X3sNIq0X6T7o",
        "colab_type": "text"
      },
      "source": [
        "### Repita o Processo agora para a para as variáveis B1, B2, B3, B4, B5, de forma similar ao que foi feito na lina de código anterior e criando as variáveis sB1, sB2, sB3, sB4, sB5.¶"
      ]
    },
    {
      "cell_type": "code",
      "metadata": {
        "id": "Vs3402Oy6T7p",
        "colab_type": "code",
        "colab": {},
        "outputId": "2e2974d9-314a-4bf3-d6c6-8870df184b66"
      },
      "source": [
        "sB1 = str(B1); print(sB1)\n",
        "sB2 = str(B2); print(sB2);\n",
        "sB3 = str(B3); print(sB3);\n",
        "sB4 = str(B4); print(sB4);\n",
        "sB5 = str(B5); print(sB5)"
      ],
      "execution_count": 0,
      "outputs": [
        {
          "output_type": "stream",
          "text": [
            "21\n",
            "32\n",
            "36\n",
            "20\n",
            "14\n"
          ],
          "name": "stdout"
        }
      ]
    },
    {
      "cell_type": "markdown",
      "metadata": {
        "id": "o8tdbXdL6T7u",
        "colab_type": "text"
      },
      "source": [
        "## Exercicio 10 Agora criar um código para imprimir uma mensagem usando as varíaveis. veja o exemplo a seguir."
      ]
    },
    {
      "cell_type": "code",
      "metadata": {
        "id": "DE9pmHRE6T7u",
        "colab_type": "code",
        "colab": {},
        "outputId": "a6c3c004-3db8-464d-bf5d-3261720c87a8"
      },
      "source": [
        "print('A idade de '+ A0 + ' é '+ sB0 + ' anos')"
      ],
      "execution_count": 0,
      "outputs": [
        {
          "output_type": "stream",
          "text": [
            "A idade de Daniel é 16 anos\n"
          ],
          "name": "stdout"
        }
      ]
    },
    {
      "cell_type": "markdown",
      "metadata": {
        "id": "tvUQQshD6T72",
        "colab_type": "text"
      },
      "source": [
        "## Agora modifique o código da linha anterior para imprimir as mensagens com o conteúdo das varíaveis A1, A2, A3, A4, A5 e sB1, sB2, sB3, sB4, sB5"
      ]
    },
    {
      "cell_type": "code",
      "metadata": {
        "id": "o1F7J7wr6T72",
        "colab_type": "code",
        "colab": {},
        "outputId": "1d85c1be-6853-4213-db61-604edfa1b0cc"
      },
      "source": [
        "print('A idade de '+ A1 + ' é '+ sB1 + ' anos');\n",
        "print('A idade de '+ A2 + ' é '+ sB2 + ' anos');\n",
        "print('A idade de '+ A3 + ' é '+ sB3 + ' anos');\n",
        "print('A idade de '+ A4 + ' é '+ sB4 + ' anos');\n",
        "print('A idade de '+ A5 + ' é '+ sB5 + ' anos');"
      ],
      "execution_count": 0,
      "outputs": [
        {
          "output_type": "stream",
          "text": [
            "A idade de Ivanilton é 21 anos\n",
            "A idade de Jair é 32 anos\n",
            "A idade de Cleber é 36 anos\n",
            "A idade de Ernesto é 20 anos\n",
            "A idade de Armando é 14 anos\n"
          ],
          "name": "stdout"
        }
      ]
    },
    {
      "cell_type": "markdown",
      "metadata": {
        "id": "EBakpKXh6T78",
        "colab_type": "text"
      },
      "source": [
        "## Exercicio 11 Agora criar um código que Calcule a IDADE MÉDIA das pessoas A0, A1, A2, A3, A4, A5. Armazene esse resultado na variável IdadeMedia.¶"
      ]
    },
    {
      "cell_type": "code",
      "metadata": {
        "id": "rP4QyJSI6T79",
        "colab_type": "code",
        "colab": {},
        "outputId": "c1b2134b-b40b-49e5-9d51-30f44633abe1"
      },
      "source": [
        "IdadeMedia = (B0+B1+B2+B3+B4+B5)/6\n",
        "print(IdadeMedia)"
      ],
      "execution_count": 0,
      "outputs": [
        {
          "output_type": "stream",
          "text": [
            "23.166666666666668\n"
          ],
          "name": "stdout"
        }
      ]
    },
    {
      "cell_type": "markdown",
      "metadata": {
        "id": "bTG9rStz6T7_",
        "colab_type": "text"
      },
      "source": [
        "## Exercicio 12 Agora crie um código para imprimir uma mensagem com o seguinte conteúdo:   \n",
        "## A idade média de A0, A1, A2, A3, A4, A5 é X anos.¶"
      ]
    },
    {
      "cell_type": "code",
      "metadata": {
        "id": "CEwk7cas6T8A",
        "colab_type": "code",
        "colab": {},
        "outputId": "7247e150-f94e-49a2-8907-68984a95ae65"
      },
      "source": [
        "print('A idade média de '+A0+','+A1+','+A2+','+A3+','+A4+'e'+A5+' é '+str(IdadeMedia)+ ' anos.')"
      ],
      "execution_count": 0,
      "outputs": [
        {
          "output_type": "stream",
          "text": [
            "A idade média de Daniel,Ivanilton,Jair,Cleber,ErnestoeArmando é 23.166666666666668 anos.\n"
          ],
          "name": "stdout"
        }
      ]
    },
    {
      "cell_type": "markdown",
      "metadata": {
        "id": "zIWwfSAy6T8C",
        "colab_type": "text"
      },
      "source": [
        "## Exercicio 13 Agora crie um código para imprimir uma mensagem com o seguinte conteúdo:\n",
        "A idade de Daniel é maior que a idade média do grupo, caso a idade da Daniel seja maior ou igua a idade média ou A idade de Daniel é mneor que a idade média do grupo, caso a idade da Daniel seja menor que a idade média do grupo"
      ]
    },
    {
      "cell_type": "code",
      "metadata": {
        "id": "7Xjkv30h6T8D",
        "colab_type": "code",
        "colab": {},
        "outputId": "a88e1d37-f625-4aae-8f7b-248d307d89e8"
      },
      "source": [
        "# Veja o exempol para A0 e B0\n",
        "IdadeMedia = 15 # Vamos definir esta variavel apenas para testar este código\n",
        "if B0 >= IdadeMedia :\n",
        "    print('A idade de '+ A0 + ' é '+ sB0 + ' anos e maior que a Idade Médai do grupo que é '+ str(IdadeMedia)+ ' anos.')\n",
        "else:\n",
        "    print('A idade de '+ A0 + ' é '+ sB0 + ' anos e menor que a Idade Médai do grupo que é '+ str(IdadeMedia)+ ' anos.')"
      ],
      "execution_count": 0,
      "outputs": [
        {
          "output_type": "stream",
          "text": [
            "A idade de Daniel é 16 anos e maior que a Idade Médai do grupo que é 15 anos.\n"
          ],
          "name": "stdout"
        }
      ]
    },
    {
      "cell_type": "markdown",
      "metadata": {
        "id": "4Iz4GArT6T8I",
        "colab_type": "text"
      },
      "source": [
        "## Exercicio 13 Agora crie um código para imprimir uma mensagem com o seguinte conteúdo:\n",
        "A idade de Daniel é maior que a idade média do grupo, caso a idade da Daniel seja maior ou igua a idade média ou A idade de Daniel é mneor que a idade média do grupo, caso a idade da Daniel seja menor que a idade média do grupo"
      ]
    },
    {
      "cell_type": "code",
      "metadata": {
        "id": "0oqIWEIf6T8J",
        "colab_type": "code",
        "colab": {},
        "outputId": "27efa7fd-5a3f-47fa-afbb-39993e19f232"
      },
      "source": [
        "# Veja o exempol para A0 e B0\n",
        "IdadeMedia = 15 # Vamos definir esta variavel apenas para testar este código\n",
        "if B0 >= IdadeMedia :\n",
        "    print('A idade de '+ A1 + ' é '+ sB1 + ' anos e maior que a Idade Médai do grupo que é '+ str(IdadeMedia)+ ' anos.')\n",
        "else:\n",
        "    print('A idade de '+ A1 + ' é '+ sB1 + ' anos e menor que a Idade Médai do grupo que é '+ str(IdadeMedia)+ ' anos.')"
      ],
      "execution_count": 0,
      "outputs": [
        {
          "output_type": "stream",
          "text": [
            "A idade de Ivanilton é 21 anos e maior que a Idade Médai do grupo que é 15 anos.\n"
          ],
          "name": "stdout"
        }
      ]
    },
    {
      "cell_type": "code",
      "metadata": {
        "id": "M5XW8R3V6T8M",
        "colab_type": "code",
        "colab": {},
        "outputId": "f307b32d-2416-4885-e141-5947ea5563fd"
      },
      "source": [
        "# Veja o exempol para A0 e B0\n",
        "IdadeMedia = 15 # Vamos definir esta variavel apenas para testar este código\n",
        "if B0 >= IdadeMedia :\n",
        "    print('A idade de '+ A2 + ' é '+ sB2 + ' anos e maior que a Idade Médai do grupo que é '+ str(IdadeMedia)+ ' anos.')\n",
        "else:\n",
        "    print('A idade de '+ A2 + ' é '+ sB2 + ' anos e menor que a Idade Médai do grupo que é '+ str(IdadeMedia)+ ' anos.')"
      ],
      "execution_count": 0,
      "outputs": [
        {
          "output_type": "stream",
          "text": [
            "A idade de Jair é 32 anos e maior que a Idade Médai do grupo que é 15 anos.\n"
          ],
          "name": "stdout"
        }
      ]
    },
    {
      "cell_type": "code",
      "metadata": {
        "id": "XFL9FOa76T8O",
        "colab_type": "code",
        "colab": {},
        "outputId": "4a1556ec-5f26-4470-cf2c-92db16ca1b59"
      },
      "source": [
        "# Veja o exempol para A0 e B0\n",
        "IdadeMedia = 15 # Vamos definir esta variavel apenas para testar este código\n",
        "if B0 >= IdadeMedia :\n",
        "    print('A idade de '+ A3 + ' é '+ sB3 + ' anos e maior que a Idade Médai do grupo que é '+ str(IdadeMedia)+ ' anos.')\n",
        "else:\n",
        "    print('A idade de '+ A3 + ' é '+ sB3 + ' anos e menor que a Idade Médai do grupo que é '+ str(IdadeMedia)+ ' anos.')"
      ],
      "execution_count": 0,
      "outputs": [
        {
          "output_type": "stream",
          "text": [
            "A idade de Cleber é 36 anos e maior que a Idade Médai do grupo que é 15 anos.\n"
          ],
          "name": "stdout"
        }
      ]
    },
    {
      "cell_type": "code",
      "metadata": {
        "id": "CXRKiIn46T8Q",
        "colab_type": "code",
        "colab": {},
        "outputId": "56a07a49-fba4-44fa-99cf-c425d4075a91"
      },
      "source": [
        "# Veja o exempol para A0 e B0\n",
        "IdadeMedia = 15 # Vamos definir esta variavel apenas para testar este código\n",
        "if B0 >= IdadeMedia :\n",
        "    print('A idade de '+ A4 + ' é '+ sB4 + ' anos e maior que a Idade Médai do grupo que é '+ str(IdadeMedia)+ ' anos.')\n",
        "else:\n",
        "    print('A idade de '+ A4 + ' é '+ sB4 + ' anos e menor que a Idade Médai do grupo que é '+ str(IdadeMedia)+ ' anos.')"
      ],
      "execution_count": 0,
      "outputs": [
        {
          "output_type": "stream",
          "text": [
            "A idade de Ernesto é 20 anos e maior que a Idade Médai do grupo que é 15 anos.\n"
          ],
          "name": "stdout"
        }
      ]
    },
    {
      "cell_type": "code",
      "metadata": {
        "id": "OW2ovqic6T8S",
        "colab_type": "code",
        "colab": {},
        "outputId": "583858a5-1107-45c9-a12e-a99851c3b401"
      },
      "source": [
        "# Veja o exempol para A0 e B0\n",
        "IdadeMedia = 15 # Vamos definir esta variavel apenas para testar este código\n",
        "if B0 >= IdadeMedia :\n",
        "    print('A idade de '+ A5 + ' é '+ sB5 + ' anos e maior que a Idade Médai do grupo que é '+ str(IdadeMedia)+ ' anos.')\n",
        "else:\n",
        "    print('A idade de '+ A5 + ' é '+ sB5 + ' anos e menor que a Idade Médai do grupo que é '+ str(IdadeMedia)+ ' anos.')"
      ],
      "execution_count": 0,
      "outputs": [
        {
          "output_type": "stream",
          "text": [
            "A idade de Armando é 14 anos e maior que a Idade Médai do grupo que é 15 anos.\n"
          ],
          "name": "stdout"
        }
      ]
    },
    {
      "cell_type": "markdown",
      "metadata": {
        "id": "ia_svNl96T8T",
        "colab_type": "text"
      },
      "source": [
        "## Exercicio 14 Agora crie um código para montar uma lista de nomes com as pessoas A0, A1, A2, A3, A4 e A5 denominada nomes e imprimir a mensagem:  \n",
        "## O nome da pessoa X é tal, onde X é substituido pelas strings  A0, A1, A2, A3, A4 e A5 e tal pelo respectivo conteúdo de cada variável :\n",
        "## DICA USE O COMANDO FOR E RANGE PARA FACILITAR O CÓDIGO"
      ]
    },
    {
      "cell_type": "code",
      "metadata": {
        "id": "xgRdSGEH6T8U",
        "colab_type": "code",
        "colab": {},
        "outputId": "f699f633-0f8e-4d62-e675-2cd83b034f30"
      },
      "source": [
        "nomes =[A0, A1,A2,A3,A4,A5]\n",
        "strings = ['A0', 'A1','A2','A3','A4','A5']\n",
        "for i in range((len(nomes))):\n",
        "    print('O nome de '+ strings[i]+ ' é '+ nomes[i] +' .')"
      ],
      "execution_count": 0,
      "outputs": [
        {
          "output_type": "stream",
          "text": [
            "O nome de A0 é Daniel .\n",
            "O nome de A1 é Ivanilton .\n",
            "O nome de A2 é Jair .\n",
            "O nome de A3 é Cleber .\n",
            "O nome de A4 é Ernesto .\n",
            "O nome de A5 é Armando .\n"
          ],
          "name": "stdout"
        }
      ]
    },
    {
      "cell_type": "code",
      "metadata": {
        "id": "6e9OG2ey6T8W",
        "colab_type": "code",
        "colab": {},
        "outputId": "cf45e20e-6a39-4313-a120-aab97bbc02b7"
      },
      "source": [
        "nomes =[A0, A1,A2,A3,A4,A5]\n",
        "strings = ['A0', 'A1','A2','A3','A4','A5']\n",
        "for i,nome in  enumerate(nomes):\n",
        "    print('O nome de '+ strings[i]+ ' é '+ nome +' .')"
      ],
      "execution_count": 0,
      "outputs": [
        {
          "output_type": "stream",
          "text": [
            "O nome de A0 é Daniel .\n",
            "O nome de A1 é Ivanilton .\n",
            "O nome de A2 é Jair .\n",
            "O nome de A3 é Cleber .\n",
            "O nome de A4 é Ernesto .\n",
            "O nome de A5 é Armando .\n"
          ],
          "name": "stdout"
        }
      ]
    },
    {
      "cell_type": "markdown",
      "metadata": {
        "id": "hC1NIbDk6T8Y",
        "colab_type": "text"
      },
      "source": [
        "## Exercicio 15 Agora crie um código para usara lista de nomes com as pessoas A0, A1, A2, A3, A4 e A5 denominada NOMES e  montar a lista IDADES com B0, B1, B2, B3, B4 e B5 e imprimir a mensagem:  \n",
        "## O nome da pessoa X é tal, onde X é substituido pelas strings  A0, A1, A2, A3, A4 e A5 e tal pelo respectivo conteúdo de cada variável :\n",
        "## DICA USE O COMANDO FOR E RANGE PARA FACILITAR O CÓDIGO"
      ]
    },
    {
      "cell_type": "code",
      "metadata": {
        "id": "kMIg5dIx6T8Z",
        "colab_type": "code",
        "colab": {},
        "outputId": "4aa28094-1bda-4e45-dc92-077fd0d4d5b4"
      },
      "source": [
        "nomes =[A0, A1,A2,A3,A4,A5]\n",
        "idades = [B0, B1,B2,B3,B4,B5]\n",
        "for i in  range(len(nomes)):\n",
        "    print('O nome de '+ nome+ ' é '+ nome + ' sua idade é '+ str(idades[i]) +' anos.')"
      ],
      "execution_count": 0,
      "outputs": [
        {
          "output_type": "stream",
          "text": [
            "O nome de Armando é Armando sua idade é 16 anos.\n",
            "O nome de Armando é Armando sua idade é 21 anos.\n",
            "O nome de Armando é Armando sua idade é 32 anos.\n",
            "O nome de Armando é Armando sua idade é 36 anos.\n",
            "O nome de Armando é Armando sua idade é 20 anos.\n",
            "O nome de Armando é Armando sua idade é 14 anos.\n"
          ],
          "name": "stdout"
        }
      ]
    },
    {
      "cell_type": "code",
      "metadata": {
        "id": "myzfYr496T8b",
        "colab_type": "code",
        "colab": {},
        "outputId": "8907d249-f73b-4be7-c4fa-3f4252382323"
      },
      "source": [
        "nomes =[A0, A1,A2,A3,A4,A5]\n",
        "idades = [B0, B1,B2,B3,B4,B5]\n",
        "for i,nome in  enumerate(nomes):\n",
        "    print('O nome de '+ nome+ ' é '+ nome + ' sua idade é '+ str(idades[i]) +' anos.')"
      ],
      "execution_count": 0,
      "outputs": [
        {
          "output_type": "stream",
          "text": [
            "O nome de Daniel é Daniel sua idade é 16 anos.\n",
            "O nome de Ivanilton é Ivanilton sua idade é 21 anos.\n",
            "O nome de Jair é Jair sua idade é 32 anos.\n",
            "O nome de Cleber é Cleber sua idade é 36 anos.\n",
            "O nome de Ernesto é Ernesto sua idade é 20 anos.\n",
            "O nome de Armando é Armando sua idade é 14 anos.\n"
          ],
          "name": "stdout"
        }
      ]
    },
    {
      "cell_type": "code",
      "metadata": {
        "id": "KUu9AY1e6T8c",
        "colab_type": "code",
        "colab": {}
      },
      "source": [
        ""
      ],
      "execution_count": 0,
      "outputs": []
    }
  ]
}