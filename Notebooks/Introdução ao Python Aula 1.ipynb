{
 "cells": [
  {
   "cell_type": "markdown",
   "metadata": {},
   "source": [
    "## PARTE I - Introdução ao Python Aula 1"
   ]
  },
  {
   "cell_type": "markdown",
   "metadata": {},
   "source": [
    "Bem vindo ao nosso curso de Python, nestas primeiras aulas não se pretende fazer um curso muito parofundado mas apenas os primeiros recursos para que possamos  avança no conteúdo de Aprendizado de Máquina. neste curso nós usares jupyter Notebooks, que constituem uma interface bastante útil para aprendermos, pois é possível incluir comentários imagens e outros recursos não disponíevis numa IDE normal.\n",
    "\n",
    "Em geral em ambiente de produçãode softwares são usados programas especificos para a construçaõ e edição de códigos, ao instalar o python você encontrará, além do Jupyter, uma IDE bem simples chamada IDLE e o SPYDER que é bem mais completo. Sugiro que você procure informar-se e conhecer outras IDEs caso esteja interessado em avançar no python.\n",
    "\n",
    "Os Jupyter é muito utilizado em Ciencia de dados e Aprendizado de Máquina, você verá que em muitas bibliotecas estão disponíveis exemplos de códigos muito bem comentados e ilustrados em python, que podem ser baisxados na documentaçãod as bibliotecas e do Git Hub.\n",
    "\n",
    "Portante esta será a nossa ferramenta neste curso. Mas você pode usar o Jupyter paenas para testar pequenos códigos vamso ver alguns exemplos. Coloque o cursor na célula e aperte SHIFT + ENTER:"
   ]
  },
  {
   "cell_type": "markdown",
   "metadata": {},
   "source": [
    "No usamos células, que podedm conter textos como este ou códigos, para definri que tipo de célula você deseja, basta selecionar uma célula e escolher no cabeçalho do Jupyter code para células de código e markdown para células de texo."
   ]
  },
  {
   "cell_type": "markdown",
   "metadata": {},
   "source": [
    "Uma célula mrakdown pode conter texto estruturado, figuras, links para sites, etc... vamos o tipo de estrutura de texto\n",
    "\n",
    "# CABEÇALHO 1\n",
    "## CABEÇALHO 2\n",
    "### CABEÇALHO 3\n",
    "#### CABEÇALHO 4\n",
    "\n",
    "## Formatação de Texto\n",
    "\n",
    "texto normal\n",
    "**texto negrito**\n",
    "*texto italico*\n",
    "\n",
    "## Texto em Tópicos Numerados\n",
    "1. texto normal\n",
    "2. **texto negrito**\n",
    "3. *texto italico*\n",
    "\n",
    "## Texto em Tópicos\n",
    "\n",
    "- texto normal\n",
    "- **texto negrito**\n",
    "- *texto italico*\n",
    "\n",
    "## Paragrafos\n",
    "\n",
    "Primeira linha, coloque dois espaços no final.  \n",
    "Segunda linha,  não coloque dois espaços no final.\n",
    "Terceira linha. Veja o que acontece quando apertar SHIFT + ENTER"
   ]
  },
  {
   "cell_type": "markdown",
   "metadata": {},
   "source": [
    "## Algumas células de código"
   ]
  },
  {
   "cell_type": "code",
   "execution_count": 56,
   "metadata": {},
   "outputs": [
    {
     "data": {
      "text/plain": [
       "5"
      ]
     },
     "execution_count": 56,
     "metadata": {},
     "output_type": "execute_result"
    }
   ],
   "source": [
    "2+3"
   ]
  },
  {
   "cell_type": "code",
   "execution_count": 57,
   "metadata": {},
   "outputs": [
    {
     "data": {
      "text/plain": [
       "False"
      ]
     },
     "execution_count": 57,
     "metadata": {},
     "output_type": "execute_result"
    }
   ],
   "source": [
    "3>5"
   ]
  },
  {
   "cell_type": "code",
   "execution_count": 58,
   "metadata": {},
   "outputs": [
    {
     "data": {
      "text/plain": [
       "True"
      ]
     },
     "execution_count": 58,
     "metadata": {},
     "output_type": "execute_result"
    }
   ],
   "source": [
    "5>3"
   ]
  },
  {
   "cell_type": "code",
   "execution_count": 59,
   "metadata": {},
   "outputs": [
    {
     "data": {
      "text/plain": [
       "True"
      ]
     },
     "execution_count": 59,
     "metadata": {},
     "output_type": "execute_result"
    }
   ],
   "source": [
    "(5>3)&(3>2)"
   ]
  },
  {
   "cell_type": "code",
   "execution_count": 60,
   "metadata": {},
   "outputs": [
    {
     "name": "stdout",
     "output_type": "stream",
     "text": [
      "True\n"
     ]
    }
   ],
   "source": [
    "print(5>3)"
   ]
  },
  {
   "cell_type": "code",
   "execution_count": 61,
   "metadata": {},
   "outputs": [
    {
     "name": "stdout",
     "output_type": "stream",
     "text": [
      "True\n"
     ]
    }
   ],
   "source": [
    "print(3>2)"
   ]
  },
  {
   "cell_type": "code",
   "execution_count": 62,
   "metadata": {},
   "outputs": [
    {
     "name": "stdout",
     "output_type": "stream",
     "text": [
      "True\n",
      "True\n"
     ]
    }
   ],
   "source": [
    "print(5>3);\n",
    "print(3>2)"
   ]
  },
  {
   "cell_type": "code",
   "execution_count": 63,
   "metadata": {},
   "outputs": [
    {
     "name": "stdout",
     "output_type": "stream",
     "text": [
      "False\n"
     ]
    }
   ],
   "source": [
    "print((5>3)&(5<3))"
   ]
  },
  {
   "cell_type": "code",
   "execution_count": 64,
   "metadata": {},
   "outputs": [
    {
     "name": "stdout",
     "output_type": "stream",
     "text": [
      "hello World\n"
     ]
    }
   ],
   "source": [
    "print('hello World')"
   ]
  },
  {
   "cell_type": "code",
   "execution_count": 65,
   "metadata": {},
   "outputs": [
    {
     "name": "stdout",
     "output_type": "stream",
     "text": [
      "(5>3)&(5<3)\n"
     ]
    }
   ],
   "source": [
    "print('(5>3)&(5<3)')"
   ]
  },
  {
   "cell_type": "markdown",
   "metadata": {},
   "source": [
    "### Comentários\n",
    "\n",
    "No python qunado queremos fazer comentários sobre partes de um texto temos que começas a linha com #"
   ]
  },
  {
   "cell_type": "code",
   "execution_count": 66,
   "metadata": {},
   "outputs": [
    {
     "name": "stdout",
     "output_type": "stream",
     "text": [
      "False\n"
     ]
    }
   ],
   "source": [
    "# Este é um comentário\n",
    "# Este também é um comentário\n",
    "# Este també é um comentário\n",
    "print((5>3)&(5<3))#Este print((5>3)&(5<3)) não é um comentário"
   ]
  },
  {
   "cell_type": "markdown",
   "metadata": {},
   "source": [
    "### Entendendo Varíaveis e Operadores"
   ]
  },
  {
   "cell_type": "markdown",
   "metadata": {},
   "source": [
    "### O que são variáveis?\n",
    "Variáveis são nomes dados aos dados que precisamos armazenar e manipular em nossos programas.  \n",
    "Por exemplo, suponha que seu programa precise armazenar a idade de um usuário. Para fazer isso, podemos nomear esse dado com userAge e defina a variável userAge usando a seguinte instrução:  \n",
    "- userAge = 0 \n",
    "\n",
    "Depois de definir a variável userAge, seu programa alocará uma determinada área do espaço de armazenamento do seu computador para armazenar esses dados.  \n",
    "Você pode acessar e modificar esses dados consultando-os pelo nome, userAge.  \n",
    "Toda vez que você declara uma nova variável, você precisa fornecer um valor inicial.  \n",
    "Neste exemplo, atribuímos o valor 0. Sempre podemos alterar esse valor em nosso programa posteriormente.  \n",
    "Também podemos definir várias variáveis de uma só vez. Para fazer isso, basta escrever:\n",
    "- userAge, userName = 30, 'Peter' \n",
    "\n",
    "Isso é equivalente a  \n",
    "- userAge = 30\n",
    "- userName = 'Peter'"
   ]
  },
  {
   "cell_type": "code",
   "execution_count": 67,
   "metadata": {},
   "outputs": [],
   "source": [
    "userAge, userName = 30, 'Peter' "
   ]
  },
  {
   "cell_type": "code",
   "execution_count": 68,
   "metadata": {},
   "outputs": [
    {
     "data": {
      "text/plain": [
       "30"
      ]
     },
     "execution_count": 68,
     "metadata": {},
     "output_type": "execute_result"
    }
   ],
   "source": [
    "userAge"
   ]
  },
  {
   "cell_type": "code",
   "execution_count": 69,
   "metadata": {},
   "outputs": [
    {
     "data": {
      "text/plain": [
       "'Peter'"
      ]
     },
     "execution_count": 69,
     "metadata": {},
     "output_type": "execute_result"
    }
   ],
   "source": [
    "userName"
   ]
  },
  {
   "cell_type": "code",
   "execution_count": 70,
   "metadata": {},
   "outputs": [],
   "source": [
    "userAge = 50;\n",
    "userName = 'Pedro'"
   ]
  },
  {
   "cell_type": "code",
   "execution_count": 71,
   "metadata": {},
   "outputs": [
    {
     "data": {
      "text/plain": [
       "50"
      ]
     },
     "execution_count": 71,
     "metadata": {},
     "output_type": "execute_result"
    }
   ],
   "source": [
    "userAge"
   ]
  },
  {
   "cell_type": "code",
   "execution_count": 72,
   "metadata": {},
   "outputs": [
    {
     "data": {
      "text/plain": [
       "'Pedro'"
      ]
     },
     "execution_count": 72,
     "metadata": {},
     "output_type": "execute_result"
    }
   ],
   "source": [
    "userName"
   ]
  },
  {
   "cell_type": "code",
   "execution_count": 73,
   "metadata": {},
   "outputs": [
    {
     "name": "stdout",
     "output_type": "stream",
     "text": [
      "Pedro   50  anos\n"
     ]
    }
   ],
   "source": [
    "print(userName,' ', userAge, ' anos')"
   ]
  },
  {
   "cell_type": "code",
   "execution_count": 74,
   "metadata": {},
   "outputs": [
    {
     "name": "stdout",
     "output_type": "stream",
     "text": [
      "userName   userAge  anos\n"
     ]
    }
   ],
   "source": [
    "print('userName',' ', 'userAge', ' anos')"
   ]
  },
  {
   "cell_type": "markdown",
   "metadata": {},
   "source": [
    "## Nomeando uma variável\n",
    "Um nome de variável no Python pode conter apenas letras (a - z, A - B), números ou sublinhados (_).\n",
    "No entanto, o primeiro caractere não pode ser um número. Portanto, você pode nomear suas variáveis\n",
    "- nome do usuário,\n",
    "- nome do usuário ou\n",
    "- nome_do_usuário2\n",
    "- mas não 2userName. \n",
    "\n",
    "Além disso, existem algumas palavras reservadas que você não pode usar como nome de variável porque\n",
    "eles já têm significados pré-atribuídos em Python. Essas palavras reservadas incluem palavras como\n",
    "imprimir, inserir, se, enquanto etc. Nós aprenderemos sobre cada um deles nos capítulos seguintes.\n",
    "\n",
    "Finalmente, os nomes de variáveis ​​diferenciam maiúsculas de minúsculas. nome de usuário não é o mesmo que userName.\n",
    "Existem duas convenções ao nomear uma variável no Python. Nós podemos usar o camelo\n",
    "notação de caso ou use sublinhados.\n",
    "\n",
    "O Camel case é a prática de escrever palavras compostas com para definir o que será armazenado em uma varáivel (por exemplo, thisIsAVariableName).\n"
   ]
  },
  {
   "cell_type": "markdown",
   "metadata": {},
   "source": [
    "## O sinal de atribuição\n",
    "Observe que o sinal = na instrução userAge = 0 tem um significado diferente do sinal = que nós aprendemos em matemática. Na programação, o sinal = é conhecido como sinal de atribuição.  \n",
    "Significa que nós estão atribuindo o valor no lado direito do sinal = à variável à esquerda.  \n",
    "Uma boa maneira de entender que a instrução userAge = 0 é pensar nela como userAge <- 0.  \n",
    "As instruções x = y = x têm significados muito diferentes na programação.  \n",
    "**Confuso? Um exemplo provavelmente esclarecerá isso.**"
   ]
  },
  {
   "cell_type": "code",
   "execution_count": 75,
   "metadata": {},
   "outputs": [
    {
     "name": "stdout",
     "output_type": "stream",
     "text": [
      "x =  10\n",
      "y =  10\n"
     ]
    }
   ],
   "source": [
    "x = 5\n",
    "y = 10\n",
    "x = y\n",
    "print (\"x = \", x)\n",
    "print (\"y = \", y)\n",
    "\n",
    "# Now run the program. You should get this output:"
   ]
  },
  {
   "cell_type": "markdown",
   "metadata": {},
   "source": [
    "Embora x tenha um valor inicial de 5 (declarado na primeira linha), a terceira linha x = y atribui o valor de y a x (x <- y), alterando o valor de x para 10 enquanto o valor de y permanece inalterado.  \n",
    "Em seguida, modifique o programa alterando apenas uma instrução: Altere a terceira linha de x = y para y = x.  Matematicamente, x = y = y significam a mesma coisa. No entanto, isso não acontece na programação.\n",
    "Execute a célula a seguir e veja o que muda."
   ]
  },
  {
   "cell_type": "code",
   "execution_count": 76,
   "metadata": {},
   "outputs": [
    {
     "name": "stdout",
     "output_type": "stream",
     "text": [
      "x =  5\n",
      "y =  5\n"
     ]
    }
   ],
   "source": [
    "x = 5\n",
    "y = 10\n",
    "y = x\n",
    "print (\"x = \", x)\n",
    "print (\"y = \", y)\n",
    "\n",
    "# Now run the program. You should get this output:"
   ]
  },
  {
   "cell_type": "markdown",
   "metadata": {},
   "source": [
    "Você pode ver que, neste exemplo, o valor de x permanece como 5, mas o valor de y é alterado para 5.\n",
    "Isso ocorre porque a instrução y = x atribui o valor de x a y (y <- x). y se torna 5 enquanto x permanece inalterado como 5."
   ]
  },
  {
   "cell_type": "markdown",
   "metadata": {},
   "source": [
    "## Operadores básicos\n",
    "Além de atribuir uma variável a um valor inicial, também podemos executar as operações matemáticas usuais nas variáveis. Os operadores básicos no Python incluem +, -, *, /, //,% e ** ** , que representam adição, subtração, multiplicação, divisão, divisão de piso, módulo e expoente, respectivamente.\n",
    "Exemplo:\n",
    "Suponha que x = 5, y = 2\n",
    "- Adição: x + y = 7\n",
    "- Subtração: x - y = 3\n",
    "- Multiplicação: x * y = 10\n",
    "- Divisão: x / a\n",
    "- Divisão inteira: x // y = 2 (arredonda a resposta para o número inteiro mais próximo)\n",
    "- Módulo: x% y = 1 (fornece o restante quando 5 é dividido por 2)\n",
    "- Expoente: x ** y = 25 (5 à potência de 2)"
   ]
  },
  {
   "cell_type": "code",
   "execution_count": 77,
   "metadata": {},
   "outputs": [],
   "source": [
    "x = 5;\n",
    "y = 2"
   ]
  },
  {
   "cell_type": "code",
   "execution_count": 78,
   "metadata": {},
   "outputs": [
    {
     "data": {
      "text/plain": [
       "7"
      ]
     },
     "execution_count": 78,
     "metadata": {},
     "output_type": "execute_result"
    }
   ],
   "source": [
    "x+y"
   ]
  },
  {
   "cell_type": "code",
   "execution_count": 79,
   "metadata": {},
   "outputs": [
    {
     "data": {
      "text/plain": [
       "3"
      ]
     },
     "execution_count": 79,
     "metadata": {},
     "output_type": "execute_result"
    }
   ],
   "source": [
    "x-y"
   ]
  },
  {
   "cell_type": "code",
   "execution_count": 80,
   "metadata": {},
   "outputs": [
    {
     "data": {
      "text/plain": [
       "10"
      ]
     },
     "execution_count": 80,
     "metadata": {},
     "output_type": "execute_result"
    }
   ],
   "source": [
    "x*y"
   ]
  },
  {
   "cell_type": "code",
   "execution_count": 81,
   "metadata": {},
   "outputs": [
    {
     "data": {
      "text/plain": [
       "2.5"
      ]
     },
     "execution_count": 81,
     "metadata": {},
     "output_type": "execute_result"
    }
   ],
   "source": [
    "x/y"
   ]
  },
  {
   "cell_type": "code",
   "execution_count": 82,
   "metadata": {},
   "outputs": [
    {
     "data": {
      "text/plain": [
       "2"
      ]
     },
     "execution_count": 82,
     "metadata": {},
     "output_type": "execute_result"
    }
   ],
   "source": [
    "x//y"
   ]
  },
  {
   "cell_type": "code",
   "execution_count": 83,
   "metadata": {},
   "outputs": [
    {
     "data": {
      "text/plain": [
       "1"
      ]
     },
     "execution_count": 83,
     "metadata": {},
     "output_type": "execute_result"
    }
   ],
   "source": [
    "x%y"
   ]
  },
  {
   "cell_type": "code",
   "execution_count": 84,
   "metadata": {},
   "outputs": [
    {
     "data": {
      "text/plain": [
       "25"
      ]
     },
     "execution_count": 84,
     "metadata": {},
     "output_type": "execute_result"
    }
   ],
   "source": [
    "x**y"
   ]
  },
  {
   "cell_type": "markdown",
   "metadata": {},
   "source": [
    "## Mais operadores de atribuição\n",
    "Além do sinal =, existem mais alguns operadores de atribuição no Python (e na maioria das linguagens de programação). Isso inclui operadores como + =, - = e * =. Suponha que tenhamos a variável x, com um valor inicial de 10. Se quisermos aumentar x em 2, podemos escrever:\n",
    "  - x = x + 2\n",
    "O programa primeiro avaliará a expressão à direita (x + 2) e atribuirá a resposta à esquerda. Então, eventualmente, a afirmação acima se torna x <- 12.\n",
    "\n",
    "Em vez de escrever x = x + 2, também podemos escrever x + = 2 para expressar o mesmo significado.\n",
    "\n",
    "O sinal + = é na verdade uma abreviação que combina o sinal de atribuição com o operador de adição.\n",
    "\n",
    "Portanto, x + = 2 significa simplesmente x = x + 2.\n",
    "\n",
    "Da mesma forma, se quisermos fazer uma subtração, podemos escrever x = x - 2 ou x - = 2. O mesmo funciona para todos os 7 operadores mencionados na seção acima."
   ]
  },
  {
   "cell_type": "code",
   "execution_count": 85,
   "metadata": {},
   "outputs": [],
   "source": [
    "x = 5"
   ]
  },
  {
   "cell_type": "code",
   "execution_count": 86,
   "metadata": {},
   "outputs": [
    {
     "data": {
      "text/plain": [
       "7"
      ]
     },
     "execution_count": 86,
     "metadata": {},
     "output_type": "execute_result"
    }
   ],
   "source": [
    "x = x + 2;\n",
    "x"
   ]
  },
  {
   "cell_type": "code",
   "execution_count": 87,
   "metadata": {},
   "outputs": [
    {
     "data": {
      "text/plain": [
       "9"
      ]
     },
     "execution_count": 87,
     "metadata": {},
     "output_type": "execute_result"
    }
   ],
   "source": [
    "x = x + 2;\n",
    "x"
   ]
  },
  {
   "cell_type": "code",
   "execution_count": 88,
   "metadata": {},
   "outputs": [
    {
     "data": {
      "text/plain": [
       "7"
      ]
     },
     "execution_count": 88,
     "metadata": {},
     "output_type": "execute_result"
    }
   ],
   "source": [
    "x = x-2;\n",
    "x"
   ]
  },
  {
   "cell_type": "code",
   "execution_count": 89,
   "metadata": {},
   "outputs": [
    {
     "data": {
      "text/plain": [
       "9"
      ]
     },
     "execution_count": 89,
     "metadata": {},
     "output_type": "execute_result"
    }
   ],
   "source": [
    "x+=2;\n",
    "x"
   ]
  },
  {
   "cell_type": "markdown",
   "metadata": {},
   "source": [
    "## Parte II - Data Types em Python\n",
    "\n",
    "Nesta parte, veremos primeiro alguns tipos de dados básicos em Python, especificamente o número inteiro, float e string. A seguir, exploraremos o conceito de conversão de tipo. Por fim, discutiremos três tipos de dados mais avançados no Python: lista, tupla e dicionário."
   ]
  },
  {
   "cell_type": "markdown",
   "metadata": {},
   "source": [
    "### Inteiros\n",
    "Inteiros são números sem partes decimais, como -5, -4, -3, 0, 5, 7 etc.\n",
    "Para declarar um número inteiro em Python, basta escrever variableName = valor inicial\n",
    "Exemplo:\n",
    "idadeUsauario = 20, numeroCelular = 12398724"
   ]
  },
  {
   "cell_type": "code",
   "execution_count": 90,
   "metadata": {},
   "outputs": [],
   "source": [
    "idadeUsauario = 20"
   ]
  },
  {
   "cell_type": "code",
   "execution_count": 91,
   "metadata": {},
   "outputs": [],
   "source": [
    "numeroCelular = 12398724"
   ]
  },
  {
   "cell_type": "code",
   "execution_count": 92,
   "metadata": {},
   "outputs": [
    {
     "data": {
      "text/plain": [
       "20"
      ]
     },
     "execution_count": 92,
     "metadata": {},
     "output_type": "execute_result"
    }
   ],
   "source": [
    "idadeUsauario"
   ]
  },
  {
   "cell_type": "code",
   "execution_count": 93,
   "metadata": {},
   "outputs": [
    {
     "data": {
      "text/plain": [
       "12398724"
      ]
     },
     "execution_count": 93,
     "metadata": {},
     "output_type": "execute_result"
    }
   ],
   "source": [
    "numeroCelular"
   ]
  },
  {
   "cell_type": "markdown",
   "metadata": {},
   "source": [
    "### Float\n",
    "Flutuante ou Float, refere-se a números que possuem casas decimais, como 1,234, -0,023, 12,01.\n",
    "Para declarar um float em Python, escrevemos variableName = valor inicial  \n",
    "Exemplo:  \n",
    "alturaUsuario = 1,82, pesoUsuario = 67,2"
   ]
  },
  {
   "cell_type": "code",
   "execution_count": 94,
   "metadata": {},
   "outputs": [],
   "source": [
    "alturaUsuario = 1.82"
   ]
  },
  {
   "cell_type": "code",
   "execution_count": 95,
   "metadata": {},
   "outputs": [],
   "source": [
    "pesoUsuario = 67.2"
   ]
  },
  {
   "cell_type": "code",
   "execution_count": 96,
   "metadata": {},
   "outputs": [
    {
     "data": {
      "text/plain": [
       "1.82"
      ]
     },
     "execution_count": 96,
     "metadata": {},
     "output_type": "execute_result"
    }
   ],
   "source": [
    "alturaUsuario"
   ]
  },
  {
   "cell_type": "code",
   "execution_count": 97,
   "metadata": {},
   "outputs": [
    {
     "data": {
      "text/plain": [
       "67.2"
      ]
     },
     "execution_count": 97,
     "metadata": {},
     "output_type": "execute_result"
    }
   ],
   "source": [
    "pesoUsuario"
   ]
  },
  {
   "cell_type": "markdown",
   "metadata": {},
   "source": [
    "Observer que usa-se **ponto** e não **virgula**, se você usa-se virgulas as varáiveis seriam entendidas como dois numeros inteiros"
   ]
  },
  {
   "cell_type": "code",
   "execution_count": 98,
   "metadata": {},
   "outputs": [],
   "source": [
    "alturaUsuario = 1,82\n",
    "pesoUsuario = 67,2"
   ]
  },
  {
   "cell_type": "code",
   "execution_count": 99,
   "metadata": {},
   "outputs": [
    {
     "data": {
      "text/plain": [
       "(1, 82)"
      ]
     },
     "execution_count": 99,
     "metadata": {},
     "output_type": "execute_result"
    }
   ],
   "source": [
    "alturaUsuario"
   ]
  },
  {
   "cell_type": "code",
   "execution_count": 100,
   "metadata": {},
   "outputs": [
    {
     "data": {
      "text/plain": [
       "(67, 2)"
      ]
     },
     "execution_count": 100,
     "metadata": {},
     "output_type": "execute_result"
    }
   ],
   "source": [
    "pesoUsuario"
   ]
  },
  {
   "cell_type": "markdown",
   "metadata": {},
   "source": [
    "## String\n",
    "String refere-se ao texto.\n",
    "Para declarar uma sequência, você pode usar variableName = 'valor inicial' (aspas simples) ou variableName = \"valor inicial\" (aspas duplas)  \n",
    "Exemplo:  \n",
    "userName = \"Peter\",  \n",
    "userSpouseName = \"Janet\",  \n",
    "userAge = '30'  \n",
    "No último exemplo, porque escrevemos userAge = '30', userAge é uma string.  \n",
    "Por outro lado, se você escreveu userAge = 30 (sem aspas), userAge é um número inteiro.  \n",
    "Podemos combinar várias substrings usando o sinal de concatenação (+).  \n",
    "Por exemplo, \"Peter\" + \"Lee\" é equivalente à string \"PeterLee\"."
   ]
  },
  {
   "cell_type": "code",
   "execution_count": 101,
   "metadata": {},
   "outputs": [],
   "source": [
    "userName = \"Peter\";\n",
    "userSpouseName = \"Janet\";\n",
    "userAge = '30'"
   ]
  },
  {
   "cell_type": "code",
   "execution_count": 102,
   "metadata": {},
   "outputs": [
    {
     "data": {
      "text/plain": [
       "'PeterJanet30'"
      ]
     },
     "execution_count": 102,
     "metadata": {},
     "output_type": "execute_result"
    }
   ],
   "source": [
    "userName+userSpouseName+userAge"
   ]
  },
  {
   "cell_type": "code",
   "execution_count": 103,
   "metadata": {},
   "outputs": [
    {
     "data": {
      "text/plain": [
       "'A esposa de Peter se chama Janet e tem Peter anos.'"
      ]
     },
     "execution_count": 103,
     "metadata": {},
     "output_type": "execute_result"
    }
   ],
   "source": [
    "'A esposa de '+userName+' se chama '+userSpouseName+' e tem '+userName+' anos.'"
   ]
  },
  {
   "cell_type": "code",
   "execution_count": 104,
   "metadata": {},
   "outputs": [],
   "source": [
    "userName = \"Paul\";\n",
    "userSpouseName = \"Carla\";\n",
    "userAge = '23'"
   ]
  },
  {
   "cell_type": "code",
   "execution_count": 105,
   "metadata": {},
   "outputs": [
    {
     "data": {
      "text/plain": [
       "'A esposa de Paul se chama Carla e tem Paul anos.'"
      ]
     },
     "execution_count": 105,
     "metadata": {},
     "output_type": "execute_result"
    }
   ],
   "source": [
    "'A esposa de '+userName+' se chama '+userSpouseName+' e tem '+userName+' anos.'"
   ]
  },
  {
   "cell_type": "code",
   "execution_count": 106,
   "metadata": {},
   "outputs": [
    {
     "data": {
      "text/plain": [
       "'A esposa de Paul se chama Carla e tem 23 anos.'"
      ]
     },
     "execution_count": 106,
     "metadata": {},
     "output_type": "execute_result"
    }
   ],
   "source": [
    "'A esposa de '+userName+' se chama '+userSpouseName+' e tem '+userAge+' anos.'"
   ]
  },
  {
   "cell_type": "markdown",
   "metadata": {},
   "source": [
    "## Funções internas para Strings\n",
    "\n",
    "O Python inclui várias funções internas para manipular seqüências de caracteres (*strings*).  \n",
    "Uma função é simplesmente um bloco de código reutilizável que executa uma determinada tarefa.\n",
    "Um exemplo de uma função disponível no Python é o método upper () para strings.  \n",
    "Você o utiliza para colocar todas as letras em maiúsculas em uma sequência. Por exemplo, 'Peter'.upper () nos fornecerá a string \"PEDRO\". "
   ]
  },
  {
   "cell_type": "code",
   "execution_count": 107,
   "metadata": {},
   "outputs": [
    {
     "data": {
      "text/plain": [
       "'PETER'"
      ]
     },
     "execution_count": 107,
     "metadata": {},
     "output_type": "execute_result"
    }
   ],
   "source": [
    "'peter'.upper()"
   ]
  },
  {
   "cell_type": "code",
   "execution_count": 108,
   "metadata": {},
   "outputs": [
    {
     "data": {
      "text/plain": [
       "'peter'"
      ]
     },
     "execution_count": 108,
     "metadata": {},
     "output_type": "execute_result"
    }
   ],
   "source": [
    "'peter'.upper().lower()"
   ]
  },
  {
   "cell_type": "code",
   "execution_count": 109,
   "metadata": {},
   "outputs": [
    {
     "data": {
      "text/plain": [
       "'Peter'"
      ]
     },
     "execution_count": 109,
     "metadata": {},
     "output_type": "execute_result"
    }
   ],
   "source": [
    "'peter'.upper().lower().title()"
   ]
  },
  {
   "cell_type": "code",
   "execution_count": 110,
   "metadata": {},
   "outputs": [
    {
     "data": {
      "text/plain": [
       "'A ESPOSA DE PAUL SE CHAMA CARLA E TEM 23 ANOS.'"
      ]
     },
     "execution_count": 110,
     "metadata": {},
     "output_type": "execute_result"
    }
   ],
   "source": [
    "('A esposa de '+userName+' se chama '+userSpouseName+' e tem '+ userAge+' anos.').upper()"
   ]
  },
  {
   "cell_type": "code",
   "execution_count": 111,
   "metadata": {},
   "outputs": [],
   "source": [
    "my_string = 'Cavalo'"
   ]
  },
  {
   "cell_type": "code",
   "execution_count": 112,
   "metadata": {},
   "outputs": [
    {
     "name": "stdout",
     "output_type": "stream",
     "text": [
      "CavaloCavaloCavaloCavaloCavalo\n"
     ]
    }
   ],
   "source": [
    "print(my_string*5)"
   ]
  },
  {
   "cell_type": "code",
   "execution_count": 113,
   "metadata": {},
   "outputs": [
    {
     "name": "stdout",
     "output_type": "stream",
     "text": [
      "Cavalo Cavalo Cavalo Cavalo Cavalo \n"
     ]
    }
   ],
   "source": [
    "print((my_string+' ')*5)"
   ]
  },
  {
   "cell_type": "markdown",
   "metadata": {},
   "source": [
    "## Conversão de Tipo (Type casting) em Python  \n",
    "Às vezes, em nosso programa, é necessário converter de um tipo de dados para outro, como de um número inteiro para uma string. Isso é conhecido como conversão de tipo.  \n",
    "Existem três funções internas no Python que nos permitem fazer a conversão de tipos. Essas são as funções int (), float () e str ().  \n",
    "A função int () no Python pega um float ou uma string apropriada e o converte em um número inteiro. Para alterar um float para um número inteiro, podemos digitar int (5.712987).  \n",
    "Obteremos 5 como resultado (qualquer coisa após a remoção do ponto decimal). Para alterar uma string para um número inteiro, podemos digitar int (\"4\") e obteremos 4.  \n",
    "No entanto, não podemos digitar int (\"Hello\") ou int (\"4.22321\").  \n",
    "Iremos receber um erro nos dois casos.\n",
    "A função float () recebe um número inteiro ou uma sequência apropriada e a altera para um float.  \n",
    "Por exemplo, se digitarmos float (2) ou float (\"2\"), obteremos 2,0. Se digitarmos float (\"2.09109\"), obteremos 2.09109, que é um float e não uma sequência, pois as aspas são removidas.  \n",
    "A função str (), por outro lado, converte um número inteiro ou um float em uma string. Por exemplo, se digitarmos str (2.1), obteremos \"2.1\".  "
   ]
  },
  {
   "cell_type": "code",
   "execution_count": 114,
   "metadata": {},
   "outputs": [
    {
     "data": {
      "text/plain": [
       "5"
      ]
     },
     "execution_count": 114,
     "metadata": {},
     "output_type": "execute_result"
    }
   ],
   "source": [
    "int(5.712987)"
   ]
  },
  {
   "cell_type": "code",
   "execution_count": 115,
   "metadata": {},
   "outputs": [
    {
     "data": {
      "text/plain": [
       "5.0"
      ]
     },
     "execution_count": 115,
     "metadata": {},
     "output_type": "execute_result"
    }
   ],
   "source": [
    "float(5)"
   ]
  },
  {
   "cell_type": "code",
   "execution_count": 116,
   "metadata": {},
   "outputs": [
    {
     "data": {
      "text/plain": [
       "10.0"
      ]
     },
     "execution_count": 116,
     "metadata": {},
     "output_type": "execute_result"
    }
   ],
   "source": [
    "int(5.712987) + float(5)"
   ]
  },
  {
   "cell_type": "code",
   "execution_count": 117,
   "metadata": {},
   "outputs": [
    {
     "data": {
      "text/plain": [
       "10.712987"
      ]
     },
     "execution_count": 117,
     "metadata": {},
     "output_type": "execute_result"
    }
   ],
   "source": [
    "float(5.712987) + float(5)"
   ]
  },
  {
   "cell_type": "code",
   "execution_count": 118,
   "metadata": {},
   "outputs": [
    {
     "data": {
      "text/plain": [
       "'5.712987'"
      ]
     },
     "execution_count": 118,
     "metadata": {},
     "output_type": "execute_result"
    }
   ],
   "source": [
    "str(5.712987)"
   ]
  },
  {
   "cell_type": "code",
   "execution_count": 119,
   "metadata": {},
   "outputs": [
    {
     "data": {
      "text/plain": [
       "'5'"
      ]
     },
     "execution_count": 119,
     "metadata": {},
     "output_type": "execute_result"
    }
   ],
   "source": [
    "str(5)"
   ]
  },
  {
   "cell_type": "code",
   "execution_count": 120,
   "metadata": {},
   "outputs": [
    {
     "data": {
      "text/plain": [
       "'5.7129875'"
      ]
     },
     "execution_count": 120,
     "metadata": {},
     "output_type": "execute_result"
    }
   ],
   "source": [
    "str(5.712987)+str(5)"
   ]
  },
  {
   "cell_type": "code",
   "execution_count": 121,
   "metadata": {},
   "outputs": [
    {
     "data": {
      "text/plain": [
       "'10.712987'"
      ]
     },
     "execution_count": 121,
     "metadata": {},
     "output_type": "execute_result"
    }
   ],
   "source": [
    "str(float(5.712987) + float(5))"
   ]
  },
  {
   "cell_type": "code",
   "execution_count": 122,
   "metadata": {},
   "outputs": [
    {
     "data": {
      "text/plain": [
       "'5.7129875.0'"
      ]
     },
     "execution_count": 122,
     "metadata": {},
     "output_type": "execute_result"
    }
   ],
   "source": [
    "str(float(5.712987)) + str(float(5))"
   ]
  },
  {
   "cell_type": "code",
   "execution_count": 123,
   "metadata": {},
   "outputs": [
    {
     "data": {
      "text/plain": [
       "'5.712987 5.0'"
      ]
     },
     "execution_count": 123,
     "metadata": {},
     "output_type": "execute_result"
    }
   ],
   "source": [
    "str(float(5.712987)) +' '+ str(float(5))"
   ]
  },
  {
   "cell_type": "markdown",
   "metadata": {},
   "source": [
    "### Lista\n",
    "Lista refere-se a uma coleção de dados que normalmente estão relacionados. Em vez de armazenar esses dados como variáveis separadas, podemos armazená-los como uma lista. Por exemplo, suponha que nosso programa precise armazenar a idade de 5 usuários. Em vez de armazená-los como\n",
    "- user1Age,\n",
    "- user2Age,\n",
    "- user3Age,\n",
    "- user4Age\n",
    "- user5Age \n",
    "\n",
    "Faz mais sentido armazená-los como uma lista.\n",
    "Para declarar uma lista, escreva listName = [valores iniciais]. Observe que usamos colchetes [] ao declarar uma lista. Vários valores são separados por vírgula."
   ]
  },
  {
   "cell_type": "code",
   "execution_count": 124,
   "metadata": {},
   "outputs": [
    {
     "data": {
      "text/plain": [
       "[25, 23, 22, 20, 19, 28, 31]"
      ]
     },
     "execution_count": 124,
     "metadata": {},
     "output_type": "execute_result"
    }
   ],
   "source": [
    "userAge = [25,23,22,20,19,28,31];\n",
    "userAge"
   ]
  },
  {
   "cell_type": "markdown",
   "metadata": {},
   "source": [
    "Também podemos declarar uma lista sem atribuir nenhum valor inicial a ela.  \n",
    "Simplesmente escrevemos listName = [].\n",
    "O que temos agora é uma lista vazia sem itens.  \n",
    "Temos que usar o método append () mencionado abaixo para adicionar itens à lista."
   ]
  },
  {
   "cell_type": "markdown",
   "metadata": {},
   "source": [
    "Valores individuais na lista são acessíveis por seus índices, e os índices sempre começam em ZERO, não em 1.  \n",
    "Essa é uma prática comum em quase todas as linguagens de programação, como C e Java.  \n",
    "Portanto, o primeiro valor tem um índice de 0, o próximo tem um índice de 1 e assim por diante. Por exemplo:"
   ]
  },
  {
   "cell_type": "code",
   "execution_count": 125,
   "metadata": {},
   "outputs": [
    {
     "data": {
      "text/plain": [
       "25"
      ]
     },
     "execution_count": 125,
     "metadata": {},
     "output_type": "execute_result"
    }
   ],
   "source": [
    "userAge[0]"
   ]
  },
  {
   "cell_type": "code",
   "execution_count": 126,
   "metadata": {},
   "outputs": [
    {
     "data": {
      "text/plain": [
       "23"
      ]
     },
     "execution_count": 126,
     "metadata": {},
     "output_type": "execute_result"
    }
   ],
   "source": [
    "userAge[1]"
   ]
  },
  {
   "cell_type": "code",
   "execution_count": 127,
   "metadata": {},
   "outputs": [
    {
     "data": {
      "text/plain": [
       "22"
      ]
     },
     "execution_count": 127,
     "metadata": {},
     "output_type": "execute_result"
    }
   ],
   "source": [
    "userAge[2]"
   ]
  },
  {
   "cell_type": "code",
   "execution_count": 128,
   "metadata": {},
   "outputs": [
    {
     "data": {
      "text/plain": [
       "20"
      ]
     },
     "execution_count": 128,
     "metadata": {},
     "output_type": "execute_result"
    }
   ],
   "source": [
    "userAge[3]"
   ]
  },
  {
   "cell_type": "code",
   "execution_count": 129,
   "metadata": {},
   "outputs": [
    {
     "data": {
      "text/plain": [
       "19"
      ]
     },
     "execution_count": 129,
     "metadata": {},
     "output_type": "execute_result"
    }
   ],
   "source": [
    "userAge[4]"
   ]
  },
  {
   "cell_type": "code",
   "execution_count": 130,
   "metadata": {},
   "outputs": [
    {
     "ename": "IndexError",
     "evalue": "list index out of range",
     "output_type": "error",
     "traceback": [
      "\u001b[1;31m---------------------------------------------------------------------------\u001b[0m",
      "\u001b[1;31mIndexError\u001b[0m                                Traceback (most recent call last)",
      "\u001b[1;32m<ipython-input-130-b57b6d0ec4d9>\u001b[0m in \u001b[0;36m<module>\u001b[1;34m\u001b[0m\n\u001b[1;32m----> 1\u001b[1;33m \u001b[0muserAge\u001b[0m\u001b[1;33m[\u001b[0m\u001b[1;36m7\u001b[0m\u001b[1;33m]\u001b[0m\u001b[1;33m\u001b[0m\u001b[1;33m\u001b[0m\u001b[0m\n\u001b[0m",
      "\u001b[1;31mIndexError\u001b[0m: list index out of range"
     ]
    }
   ],
   "source": [
    "userAge[7]"
   ]
  },
  {
   "cell_type": "code",
   "execution_count": 131,
   "metadata": {},
   "outputs": [
    {
     "data": {
      "text/plain": [
       "31"
      ]
     },
     "execution_count": 131,
     "metadata": {},
     "output_type": "execute_result"
    }
   ],
   "source": [
    "userAge[6]"
   ]
  },
  {
   "cell_type": "markdown",
   "metadata": {},
   "source": [
    "Como alternativa, você pode acessar os valores de uma lista na parte de trás.  \n",
    "O último item da lista tem um índice de -1, o segundo último tem um índice de -2 e assim por diante.  \n",
    "Conseqüentemente,"
   ]
  },
  {
   "cell_type": "code",
   "execution_count": 132,
   "metadata": {},
   "outputs": [
    {
     "data": {
      "text/plain": [
       "31"
      ]
     },
     "execution_count": 132,
     "metadata": {},
     "output_type": "execute_result"
    }
   ],
   "source": [
    "userAge [-1]\n"
   ]
  },
  {
   "cell_type": "code",
   "execution_count": 133,
   "metadata": {},
   "outputs": [
    {
     "data": {
      "text/plain": [
       "28"
      ]
     },
     "execution_count": 133,
     "metadata": {},
     "output_type": "execute_result"
    }
   ],
   "source": [
    "userAge [-2]"
   ]
  },
  {
   "cell_type": "markdown",
   "metadata": {},
   "source": [
    "Você pode atribuir uma lista, ou parte dela, a uma variável.  \n",
    "Se você escrever userAge2 = userAge, a variável userAge2 se tornará [25,23,22,20,19,28,31]."
   ]
  },
  {
   "cell_type": "code",
   "execution_count": 134,
   "metadata": {},
   "outputs": [
    {
     "data": {
      "text/plain": [
       "[25, 23, 22, 20, 19, 28, 31]"
      ]
     },
     "execution_count": 134,
     "metadata": {},
     "output_type": "execute_result"
    }
   ],
   "source": [
    "userAge2 = userAge;\n",
    "userAge2"
   ]
  },
  {
   "cell_type": "markdown",
   "metadata": {},
   "source": [
    "Se você escrever userAge3 = userAge [2: 4], estará atribuindo itens com o índice 2 ao índice 4-1 da lista userAge à lista userAge3.\n",
    "Em outras palavras, userAge3 é:"
   ]
  },
  {
   "cell_type": "code",
   "execution_count": 135,
   "metadata": {},
   "outputs": [],
   "source": [
    "userAge3 = userAge [2: 4]"
   ]
  },
  {
   "cell_type": "code",
   "execution_count": 136,
   "metadata": {},
   "outputs": [
    {
     "data": {
      "text/plain": [
       "[22, 20]"
      ]
     },
     "execution_count": 136,
     "metadata": {},
     "output_type": "execute_result"
    }
   ],
   "source": [
    "userAge3"
   ]
  },
  {
   "cell_type": "code",
   "execution_count": 137,
   "metadata": {},
   "outputs": [],
   "source": [
    "userAge4 = userAge [0: 3]"
   ]
  },
  {
   "cell_type": "code",
   "execution_count": 138,
   "metadata": {},
   "outputs": [
    {
     "data": {
      "text/plain": [
       "[25, 23, 22]"
      ]
     },
     "execution_count": 138,
     "metadata": {},
     "output_type": "execute_result"
    }
   ],
   "source": [
    "userAge4"
   ]
  },
  {
   "cell_type": "markdown",
   "metadata": {},
   "source": [
    "Para criar uma lista vazia você apenas precisa fazer isto:"
   ]
  },
  {
   "cell_type": "code",
   "execution_count": 139,
   "metadata": {},
   "outputs": [
    {
     "data": {
      "text/plain": [
       "[]"
      ]
     },
     "execution_count": 139,
     "metadata": {},
     "output_type": "execute_result"
    }
   ],
   "source": [
    "emptyList = [];\n",
    "emptyList"
   ]
  },
  {
   "cell_type": "markdown",
   "metadata": {},
   "source": [
    "Para adcionar um elemento a uma lista você pode usar o método append, veja como usa-lo:"
   ]
  },
  {
   "cell_type": "code",
   "execution_count": 140,
   "metadata": {},
   "outputs": [
    {
     "data": {
      "text/plain": [
       "[1]"
      ]
     },
     "execution_count": 140,
     "metadata": {},
     "output_type": "execute_result"
    }
   ],
   "source": [
    "emptyList.append(1);\n",
    "emptyList"
   ]
  },
  {
   "cell_type": "code",
   "execution_count": 141,
   "metadata": {},
   "outputs": [
    {
     "data": {
      "text/plain": [
       "[1, 2]"
      ]
     },
     "execution_count": 141,
     "metadata": {},
     "output_type": "execute_result"
    }
   ],
   "source": [
    "emptyList.append(2);\n",
    "emptyList"
   ]
  },
  {
   "cell_type": "code",
   "execution_count": 142,
   "metadata": {},
   "outputs": [
    {
     "data": {
      "text/plain": [
       "[1, 2, 3]"
      ]
     },
     "execution_count": 142,
     "metadata": {},
     "output_type": "execute_result"
    }
   ],
   "source": [
    "emptyList.append(3);\n",
    "emptyList"
   ]
  },
  {
   "cell_type": "code",
   "execution_count": 143,
   "metadata": {},
   "outputs": [
    {
     "data": {
      "text/plain": [
       "[1, 2, 3, 4]"
      ]
     },
     "execution_count": 143,
     "metadata": {},
     "output_type": "execute_result"
    }
   ],
   "source": [
    "emptyList.append(4);\n",
    "emptyList"
   ]
  },
  {
   "cell_type": "code",
   "execution_count": 144,
   "metadata": {},
   "outputs": [
    {
     "data": {
      "text/plain": [
       "[1, 2, 3, 4, 5]"
      ]
     },
     "execution_count": 144,
     "metadata": {},
     "output_type": "execute_result"
    }
   ],
   "source": [
    "emptyList.append(5);\n",
    "emptyList"
   ]
  },
  {
   "cell_type": "code",
   "execution_count": 145,
   "metadata": {},
   "outputs": [
    {
     "data": {
      "text/plain": [
       "[1, 2, 3, 4, 5, 6]"
      ]
     },
     "execution_count": 145,
     "metadata": {},
     "output_type": "execute_result"
    }
   ],
   "source": [
    "emptyList.append(6);\n",
    "emptyList"
   ]
  },
  {
   "cell_type": "code",
   "execution_count": 146,
   "metadata": {},
   "outputs": [
    {
     "data": {
      "text/plain": [
       "[1, 2, 3, 4, 5, 6, 7]"
      ]
     },
     "execution_count": 146,
     "metadata": {},
     "output_type": "execute_result"
    }
   ],
   "source": [
    "emptyList.append(7);\n",
    "emptyList"
   ]
  },
  {
   "cell_type": "code",
   "execution_count": 147,
   "metadata": {},
   "outputs": [
    {
     "data": {
      "text/plain": [
       "[1, 2, 3, 4, 5, 6, 7, 8]"
      ]
     },
     "execution_count": 147,
     "metadata": {},
     "output_type": "execute_result"
    }
   ],
   "source": [
    "emptyList.append(8);\n",
    "emptyList"
   ]
  },
  {
   "cell_type": "code",
   "execution_count": 148,
   "metadata": {},
   "outputs": [
    {
     "data": {
      "text/plain": [
       "[1, 2, 3, 4, 5, 6, 7, 8, 9]"
      ]
     },
     "execution_count": 148,
     "metadata": {},
     "output_type": "execute_result"
    }
   ],
   "source": [
    "emptyList.append(9);\n",
    "emptyList"
   ]
  },
  {
   "cell_type": "code",
   "execution_count": 149,
   "metadata": {},
   "outputs": [
    {
     "data": {
      "text/plain": [
       "[1, 2, 3, 4, 5, 6, 7, 8, 9, 10]"
      ]
     },
     "execution_count": 149,
     "metadata": {},
     "output_type": "execute_result"
    }
   ],
   "source": [
    "emptyList.append(10);\n",
    "emptyList"
   ]
  },
  {
   "cell_type": "markdown",
   "metadata": {},
   "source": [
    "Para saber o tamanho de uma lista use a função len()"
   ]
  },
  {
   "cell_type": "code",
   "execution_count": 150,
   "metadata": {},
   "outputs": [
    {
     "data": {
      "text/plain": [
       "10"
      ]
     },
     "execution_count": 150,
     "metadata": {},
     "output_type": "execute_result"
    }
   ],
   "source": [
    "len(emptyList)"
   ]
  },
  {
   "cell_type": "markdown",
   "metadata": {},
   "source": [
    "Para deletar um item d euma lista digite o seguinte:  \n",
    "**del listName[index of item to be deleted]**"
   ]
  },
  {
   "cell_type": "code",
   "execution_count": 151,
   "metadata": {},
   "outputs": [
    {
     "data": {
      "text/plain": [
       "[1, 2, 3, 4, 5, 6, 7, 8, 9]"
      ]
     },
     "execution_count": 151,
     "metadata": {},
     "output_type": "execute_result"
    }
   ],
   "source": [
    "del emptyList[9];emptyList"
   ]
  },
  {
   "cell_type": "code",
   "execution_count": 152,
   "metadata": {},
   "outputs": [
    {
     "data": {
      "text/plain": [
       "[2, 3, 4, 5, 6, 7, 8, 9]"
      ]
     },
     "execution_count": 152,
     "metadata": {},
     "output_type": "execute_result"
    }
   ],
   "source": [
    "del emptyList[0];emptyList"
   ]
  },
  {
   "cell_type": "code",
   "execution_count": null,
   "metadata": {},
   "outputs": [],
   "source": []
  }
 ],
 "metadata": {
  "kernelspec": {
   "display_name": "Python 3",
   "language": "python",
   "name": "python3"
  },
  "language_info": {
   "codemirror_mode": {
    "name": "ipython",
    "version": 3
   },
   "file_extension": ".py",
   "mimetype": "text/x-python",
   "name": "python",
   "nbconvert_exporter": "python",
   "pygments_lexer": "ipython3",
   "version": "3.6.8"
  }
 },
 "nbformat": 4,
 "nbformat_minor": 2
}
