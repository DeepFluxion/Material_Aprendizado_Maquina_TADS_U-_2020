{
 "cells": [
  {
   "cell_type": "markdown",
   "metadata": {},
   "source": [
    "# Variaveis and valores\n",
    "\n",
    "Tradução do Notebook Elements of Data Science\n",
    "\n",
    "by [Allen Downey](https://allendowney.com)\n",
    "\n",
    "[MIT License](https://opensource.org/licenses/MIT)\n",
    "\n",
    "### Metas\n",
    "\n",
    "O objetivo desses notebooks é fornecer as ferramentas necessárias para executar um projeto de ciência de dados do começo ao fim. Começaremos com alguns conceitos básicos de programação e trabalharemos em direção às ferramentas de ciência de dados.\n",
    "\n",
    "Se você já tem alguma experiência em programação, os primeiros notebooks podem ficar um pouco lentos. Mas pode haver algum material específico da ciência de dados que você nunca viu antes.\n",
    "\n",
    "Se você não programou antes, deve esperar enfrentar alguns desafios. Esforcei-me ao máximo para explicar tudo à medida que avançamos; Eu tento não assumir nada. E existem exercícios ao longo dos cadernos que devem ajudá-lo a aprender e lembrar o que aprendeu.\n",
    "\n",
    "A programação é um super poder. À medida que você aprende a programar, espero que você se sinta capacitado para enfrentar desafios maiores. Mas a programação também pode ser frustrante. Pode levar alguma persistência para superar alguns pontos difíceis.\n",
    "\n",
    "Os tópicos deste caderno incluem:\n",
    "\n",
    "* Usando o Jupyter para escrever e executar o código Python.\n",
    "\n",
    "* Recursos básicos de programação em Python: variáveis ​​e valores.\n",
    "\n",
    "* Traduzindo fórmulas de notação matemática para Python.\n",
    "\n",
    "Ao longo do caminho, revisaremos alguns tópicos de matemática que suponho que você já viu antes, logaritmos e álgebra."
   ]
  },
  {
   "cell_type": "markdown",
   "metadata": {},
   "source": [
    "## Jupyter\n",
    "\n",
    "Este é um notebook Jupyter. O Jupyter é um ambiente de desenvolvimento de software, o que significa que você pode usá-lo para escrever e executar programas em Python e outras linguagens de programação.\n",
    "\n",
    "Um bloco de anotações Jupyter é composto de células, onde cada célula contém texto ou código que você pode executar.\n",
    "\n",
    "Se você estiver executando este notebook na Colab, deverá ver os botões no canto superior esquerdo que dizem \"+ Código\" e \"+ Texto\". O primeiro adiciona célula de código e o segundo adiciona uma célula de texto.\n",
    "\n",
    "Se você quiser experimentá-los, selecione esta célula clicando nela e pressione o botão \"+ Texto\". Uma nova célula deve aparecer abaixo desta.\n",
    "\n",
    "Digite algo na célula. Você pode usar os botões para formatá-lo ou marcar o texto usando [Markdown] (https://www.markdownguide.org/basic-syntax/). Quando terminar, mantenha pressionada a tecla Shift e pressione Enter, que formatará o texto que você acabou de digitar e depois passará para a próxima célula.\n",
    "\n",
    "Se você selecionar uma célula de código, deverá ver um botão à esquerda com um triângulo dentro de um círculo, que é o ícone de \"Reproduzir\". Se você pressionar esse botão, o Jupyter executará o código na célula e exibirá os resultados.\n",
    "\n",
    "Ao executar o código em um notebook pela primeira vez, você pode receber uma mensagem avisando sobre as coisas que um notebook pode fazer. Se você estiver executando um notebook a partir de uma fonte em que confia, o que espero que me inclua, pressione \"Run Anyway\".\n",
    "\n",
    "Em vez de clicar no botão \"Reproduzir\", você também pode executar o código em uma célula mantendo pressionada a tecla Shift e pressionando Enter."
   ]
  },
  {
   "cell_type": "markdown",
   "metadata": {},
   "source": [
    "## Números\n",
    "\n",
    "Este notebook apresenta as ferramentas mais fundamentais para trabalhar com dados: representar números e outros valores e executar operações aritméticas.\n",
    "\n",
    "O Python fornece ferramentas para trabalhar com números, palavras, datas, horas e locais (latitude e longitude).\n",
    "\n",
    "Vamos começar com números. Python pode lidar com vários tipos de números, mas os dois mais comuns são:\n",
    "\n",
    "* `int`, que representa valores inteiros como` 3`, e\n",
    "* `float`, que representa números que possuem uma parte de fração, como` 3.14159`.\n",
    "\n",
    "Na maioria das vezes, usamos `int` para representar contagens e` float` para representar medições.\n",
    "Aqui está um exemplo de um `int` e um` float`:"
   ]
  },
  {
   "cell_type": "code",
   "execution_count": 1,
   "metadata": {},
   "outputs": [
    {
     "data": {
      "text/plain": [
       "3"
      ]
     },
     "execution_count": 1,
     "metadata": {},
     "output_type": "execute_result"
    }
   ],
   "source": [
    "3"
   ]
  },
  {
   "cell_type": "code",
   "execution_count": 2,
   "metadata": {},
   "outputs": [
    {
     "data": {
      "text/plain": [
       "3.14159"
      ]
     },
     "execution_count": 2,
     "metadata": {},
     "output_type": "execute_result"
    }
   ],
   "source": [
    "3.14159"
   ]
  },
  {
   "cell_type": "markdown",
   "metadata": {},
   "source": [
    " `float` is short for \"floating-point\", which is the name for the way these numbers are stored."
   ]
  },
  {
   "cell_type": "markdown",
   "metadata": {},
   "source": [
    "**Exercício:** Crie uma célula de código abaixo desta e digite o seguinte número: `1.2345e3`\n",
    "\n",
    "Em seguida, execute a célula. A saída deve ser `1234,5`\n",
    "\n",
    "O `e` em` 1.2345e3` significa \"expoente\". Essa maneira de escrever números é uma versão da notação científica que significa $ 1,2345 \\ times 10 ^ {3} $. Se você não estiver familiarizado com a notação científica, [você pode ler isso] (https://en.wikipedia.org/wiki/Scientific_notation)."
   ]
  },
  {
   "cell_type": "markdown",
   "metadata": {},
   "source": [
    "## Aritmética\n",
    "\n",
    "O Python fornece operadores que executam aritmética. Os operadores que executam adição e subtração são `+` e `-`:"
   ]
  },
  {
   "cell_type": "code",
   "execution_count": 3,
   "metadata": {},
   "outputs": [
    {
     "data": {
      "text/plain": [
       "3"
      ]
     },
     "execution_count": 3,
     "metadata": {},
     "output_type": "execute_result"
    }
   ],
   "source": [
    "2 + 1"
   ]
  },
  {
   "cell_type": "code",
   "execution_count": 4,
   "metadata": {},
   "outputs": [
    {
     "data": {
      "text/plain": [
       "1"
      ]
     },
     "execution_count": 4,
     "metadata": {},
     "output_type": "execute_result"
    }
   ],
   "source": [
    "2 - 1"
   ]
  },
  {
   "cell_type": "markdown",
   "metadata": {},
   "source": [
    "Os operadores que executam multiplicação e divisão são `*` e `/`:"
   ]
  },
  {
   "cell_type": "code",
   "execution_count": 5,
   "metadata": {},
   "outputs": [
    {
     "data": {
      "text/plain": [
       "6"
      ]
     },
     "execution_count": 5,
     "metadata": {},
     "output_type": "execute_result"
    }
   ],
   "source": [
    "2 * 3"
   ]
  },
  {
   "cell_type": "code",
   "execution_count": 6,
   "metadata": {},
   "outputs": [
    {
     "data": {
      "text/plain": [
       "0.6666666666666666"
      ]
     },
     "execution_count": 6,
     "metadata": {},
     "output_type": "execute_result"
    }
   ],
   "source": [
    "2 / 3"
   ]
  },
  {
   "cell_type": "markdown",
   "metadata": {},
   "source": [
    "E o operador para exponenciação é `**`:"
   ]
  },
  {
   "cell_type": "code",
   "execution_count": 7,
   "metadata": {},
   "outputs": [
    {
     "data": {
      "text/plain": [
       "8"
      ]
     },
     "execution_count": 7,
     "metadata": {},
     "output_type": "execute_result"
    }
   ],
   "source": [
    "2**3"
   ]
  },
  {
   "cell_type": "markdown",
   "metadata": {},
   "source": [
    "Diferentemente da notação matemática, o Python não permite \"multiplicação implícita\". Por exemplo, na notação matemática, se você escrever $ 3 (2 + 1) $, será entendido o mesmo que $3\\times(2+ 1)$.\n",
    "\n",
    "Python não permite essa notação:"
   ]
  },
  {
   "cell_type": "code",
   "execution_count": 8,
   "metadata": {},
   "outputs": [
    {
     "ename": "TypeError",
     "evalue": "'int' object is not callable",
     "output_type": "error",
     "traceback": [
      "\u001b[1;31m---------------------------------------------------------------------------\u001b[0m",
      "\u001b[1;31mTypeError\u001b[0m                                 Traceback (most recent call last)",
      "\u001b[1;32m<ipython-input-8-ceee55b82fb3>\u001b[0m in \u001b[0;36m<module>\u001b[1;34m\u001b[0m\n\u001b[1;32m----> 1\u001b[1;33m \u001b[1;36m3\u001b[0m \u001b[1;33m(\u001b[0m\u001b[1;36m2\u001b[0m \u001b[1;33m+\u001b[0m \u001b[1;36m1\u001b[0m\u001b[1;33m)\u001b[0m\u001b[1;33m\u001b[0m\u001b[1;33m\u001b[0m\u001b[0m\n\u001b[0m",
      "\u001b[1;31mTypeError\u001b[0m: 'int' object is not callable"
     ]
    }
   ],
   "source": [
    "3 (2 + 1)"
   ]
  },
  {
   "cell_type": "markdown",
   "metadata": {},
   "source": [
    "Neste exemplo, a mensagem de erro não é muito útil, e é por isso que estou avisando agora. Se você deseja multiplicar, use o operador `*`:"
   ]
  },
  {
   "cell_type": "code",
   "execution_count": 9,
   "metadata": {},
   "outputs": [
    {
     "data": {
      "text/plain": [
       "9"
      ]
     },
     "execution_count": 9,
     "metadata": {},
     "output_type": "execute_result"
    }
   ],
   "source": [
    "3 * (2 + 1)"
   ]
  },
  {
   "cell_type": "markdown",
   "metadata": {},
   "source": [
    "Os operadores aritméticos seguem as regras de precedência que você pode ter aprendido como \"PEMDAS\":\n",
    "\n",
    "* Parênteses antes\n",
    "* Exponenciação antes\n",
    "* Multiplicação e divisão antes\n",
    "* Adição e subtração\n",
    "\n",
    "Então, nesta expressão:"
   ]
  },
  {
   "cell_type": "code",
   "execution_count": 10,
   "metadata": {},
   "outputs": [
    {
     "data": {
      "text/plain": [
       "7"
      ]
     },
     "execution_count": 10,
     "metadata": {},
     "output_type": "execute_result"
    }
   ],
   "source": [
    "1 + 2 * 3"
   ]
  },
  {
   "cell_type": "markdown",
   "metadata": {},
   "source": [
    "A multiplicação acontece primeiro. Se não é isso que você deseja, use parênteses para tornar explícita a ordem das operações:"
   ]
  },
  {
   "cell_type": "code",
   "execution_count": 11,
   "metadata": {},
   "outputs": [
    {
     "data": {
      "text/plain": [
       "9"
      ]
     },
     "execution_count": 11,
     "metadata": {},
     "output_type": "execute_result"
    }
   ],
   "source": [
    "(1 + 2) * 3"
   ]
  },
  {
   "cell_type": "markdown",
   "metadata": {},
   "source": [
    "** Exercício: ** Escreva uma expressão Python que eleve `1 + 2` a potência` 3 * 4`. A resposta deve ser `531441`.\n",
    "\n",
    "Nota: na célula abaixo, deve-se dizer\n",
    "\n",
    "`` ``# A solução vai aqui\n",
    "`` ``\n",
    "\n",
    "Linhas como esta que começam com `#` são \"comentários\"; eles fornecem informações, mas não têm efeito quando o programa é executado.\n",
    "\n",
    "Ao fazer este exercício, você deve excluir o comentário e substituí-lo por sua solução."
   ]
  },
  {
   "cell_type": "code",
   "execution_count": 12,
   "metadata": {},
   "outputs": [],
   "source": [
    "# A solução vai aqui"
   ]
  },
  {
   "cell_type": "markdown",
   "metadata": {},
   "source": [
    "## Funções matemáticas\n",
    "\n",
    "O Python fornece funções que calculam todas as funções matemáticas usuais, como `sin` e` cos`, `exp` e` log`.\n",
    "\n",
    "No entanto, eles não fazem parte do próprio Python; eles estão em uma \"biblioteca\", que é uma coleção de funções que complementam a linguagem Python.\n",
    "\n",
    "Na verdade, existem várias bibliotecas que fornecem funções matemáticas; o que usaremos é chamado NumPy, que significa \"Python Numérico\" e é pronunciado \"num 'pie\".\n",
    "\n",
    "Antes de poder usar uma biblioteca, você deve \"importá-la\". Veja como importamos o NumPy:\n"
   ]
  },
  {
   "cell_type": "code",
   "execution_count": 13,
   "metadata": {},
   "outputs": [],
   "source": [
    "import numpy as np"
   ]
  },
  {
   "cell_type": "markdown",
   "metadata": {},
   "source": [
    "É convencional importar `numpy` como` np`, o que significa que podemos nos referir a ele pelo nome abreviado `np`, em vez do nome mais longo` numpy`.\n",
    "\n",
    "Note que praticamente tudo diferencia maiúsculas de minúsculas, o que significa que `numpy` não é o mesmo que` NumPy`. Portanto, mesmo que o nome da biblioteca seja NumPy, quando a importamos, precisamos chamá-la de `numpy '. Se você executar a seguinte célula, você receberá um erro:\n"
   ]
  },
  {
   "cell_type": "code",
   "execution_count": 14,
   "metadata": {},
   "outputs": [
    {
     "ename": "ModuleNotFoundError",
     "evalue": "No module named 'NumPy'",
     "output_type": "error",
     "traceback": [
      "\u001b[1;31m---------------------------------------------------------------------------\u001b[0m",
      "\u001b[1;31mModuleNotFoundError\u001b[0m                       Traceback (most recent call last)",
      "\u001b[1;32m<ipython-input-14-ec0b775bee05>\u001b[0m in \u001b[0;36m<module>\u001b[1;34m\u001b[0m\n\u001b[1;32m----> 1\u001b[1;33m \u001b[1;32mimport\u001b[0m \u001b[0mNumPy\u001b[0m \u001b[1;32mas\u001b[0m \u001b[0mnp\u001b[0m\u001b[1;33m\u001b[0m\u001b[1;33m\u001b[0m\u001b[0m\n\u001b[0m",
      "\u001b[1;31mModuleNotFoundError\u001b[0m: No module named 'NumPy'"
     ]
    }
   ],
   "source": [
    "import NumPy as np"
   ]
  },
  {
   "cell_type": "markdown",
   "metadata": {},
   "source": [
    "Mas se importarmos `np` corretamente, podemos usá-lo para ler o valor` pi`, que é uma aproximação da constante matemática $ \\ pi $."
   ]
  },
  {
   "cell_type": "code",
   "execution_count": 15,
   "metadata": {},
   "outputs": [
    {
     "data": {
      "text/plain": [
       "3.141592653589793"
      ]
     },
     "execution_count": 15,
     "metadata": {},
     "output_type": "execute_result"
    }
   ],
   "source": [
    "np.pi"
   ]
  },
  {
   "cell_type": "markdown",
   "metadata": {},
   "source": [
    "O resultado é um `float' com 16 dígitos. Como você provavelmente sabe, não podemos representar $ \\ pi $ com um número finito de dígitos, portanto esse resultado é apenas aproximado."
   ]
  },
  {
   "cell_type": "markdown",
   "metadata": {},
   "source": [
    "`numpy` fornece` log`, que calcula o logaritmo natural, e `exp`, que eleva a constante` e` a uma potência."
   ]
  },
  {
   "cell_type": "code",
   "execution_count": 16,
   "metadata": {},
   "outputs": [
    {
     "data": {
      "text/plain": [
       "4.605170185988092"
      ]
     },
     "execution_count": 16,
     "metadata": {},
     "output_type": "execute_result"
    }
   ],
   "source": [
    "np.log(100)"
   ]
  },
  {
   "cell_type": "code",
   "execution_count": 17,
   "metadata": {},
   "outputs": [
    {
     "data": {
      "text/plain": [
       "2.718281828459045"
      ]
     },
     "execution_count": 17,
     "metadata": {},
     "output_type": "execute_result"
    }
   ],
   "source": [
    "np.exp(1)"
   ]
  },
  {
   "cell_type": "markdown",
   "metadata": {},
   "source": [
    "** Exercício: ** Use essas funções para confirmar a identidade matemática $ \\ log (e ^ x) = x $, que deve ser verdadeira para qualquer valor de $ x $.\n",
    "\n",
    "Com valores de ponto flutuante, essa identidade deve funcionar para valores de $ x $ entre -700 e 700. O que acontece quando você tenta com valores maiores e menores?"
   ]
  },
  {
   "cell_type": "code",
   "execution_count": 18,
   "metadata": {},
   "outputs": [],
   "source": [
    "# Solution goes here"
   ]
  },
  {
   "cell_type": "markdown",
   "metadata": {},
   "source": [
    "Como mostra este exemplo, os números de ponto flutuante são aproximações finitas, o que significa que nem sempre se comportam como matemática.\n",
    "\n",
    "Como outro exemplo, veja o que acontece quando você soma 0,1 vezes três vezes:"
   ]
  },
  {
   "cell_type": "code",
   "execution_count": 19,
   "metadata": {},
   "outputs": [
    {
     "data": {
      "text/plain": [
       "0.30000000000000004"
      ]
     },
     "execution_count": 19,
     "metadata": {},
     "output_type": "execute_result"
    }
   ],
   "source": [
    "0.1 + 0.1 + 0.1"
   ]
  },
  {
   "cell_type": "markdown",
   "metadata": {},
   "source": [
    "O resultado é próximo de \"0,3\", mas não exato.\n",
    "\n",
    "Veremos outros exemplos de aproximação de ponto flutuante posteriormente e aprenderemos algumas maneiras de lidar com isso."
   ]
  },
  {
   "cell_type": "markdown",
   "metadata": {},
   "source": [
    "## Variáveis\n",
    "\n",
    "Uma variável é um nome que se refere a um valor.\n",
    "\n",
    "A instrução a seguir atribui o valor `int` 5 a uma variável chamada` x`:"
   ]
  },
  {
   "cell_type": "code",
   "execution_count": 20,
   "metadata": {},
   "outputs": [],
   "source": [
    "x = 5"
   ]
  },
  {
   "cell_type": "markdown",
   "metadata": {},
   "source": [
    "A variável que acabamos de criar tem o nome `x` e o valor 5.\n",
    "\n",
    "Se um nome de variável aparecer no final de uma célula, o Jupyter exibirá seu valor."
   ]
  },
  {
   "cell_type": "code",
   "execution_count": 21,
   "metadata": {},
   "outputs": [
    {
     "data": {
      "text/plain": [
       "5"
      ]
     },
     "execution_count": 21,
     "metadata": {},
     "output_type": "execute_result"
    }
   ],
   "source": [
    "x"
   ]
  },
  {
   "cell_type": "markdown",
   "metadata": {},
   "source": [
    "Se usarmos `x` como parte de uma operação aritmética, ele representará o valor 5:"
   ]
  },
  {
   "cell_type": "code",
   "execution_count": 22,
   "metadata": {},
   "outputs": [
    {
     "data": {
      "text/plain": [
       "6"
      ]
     },
     "execution_count": 22,
     "metadata": {},
     "output_type": "execute_result"
    }
   ],
   "source": [
    "x + 1"
   ]
  },
  {
   "cell_type": "code",
   "execution_count": 23,
   "metadata": {},
   "outputs": [
    {
     "data": {
      "text/plain": [
       "25"
      ]
     },
     "execution_count": 23,
     "metadata": {},
     "output_type": "execute_result"
    }
   ],
   "source": [
    "x**2"
   ]
  },
  {
   "cell_type": "markdown",
   "metadata": {},
   "source": [
    "Também podemos usar `x` com funções` numpy`:"
   ]
  },
  {
   "cell_type": "code",
   "execution_count": 24,
   "metadata": {},
   "outputs": [
    {
     "data": {
      "text/plain": [
       "148.4131591025766"
      ]
     },
     "execution_count": 24,
     "metadata": {},
     "output_type": "execute_result"
    }
   ],
   "source": [
    "np.exp(x)"
   ]
  },
  {
   "cell_type": "markdown",
   "metadata": {},
   "source": [
    "Observe que o resultado de `exp` é um` float`, mesmo que o valor de `x` seja um` int`."
   ]
  },
  {
   "cell_type": "markdown",
   "metadata": {},
   "source": [
    "** Exercício: ** Se você não programou antes, uma das coisas com as quais você deve se acostumar é que as linguagens de programação são exigentes quanto aos detalhes. Idiomas naturais, como inglês, e idiomas semi-formais, como notação matemática, são mais tolerantes.\n",
    "\n",
    "Em quatro casos, em inglês, você pode obter praticamente todas as informações rong-rong-rong e sti11 serem menos estudadas.\n",
    "\n",
    "Como outro exemplo, em notação matemática, parênteses e colchetes significam a mesma coisa, você pode escrever\n",
    "\n",
    "$ \\ sin (\\ omega t) $\n",
    "\n",
    "ou\n",
    "\n",
    "$ \\ sin [\\ omega t] $\n",
    "\n",
    "Qualquer um está bom. E você pode deixar de fora os parênteses, desde que o significado seja claro:\n",
    "\n",
    "$ \\ sin \\ omega t $\n",
    "\n",
    "No Python, todo caractere conta. Por exemplo, todos os seguintes são diferentes:\n"
   ]
  },
  {
   "cell_type": "code",
   "execution_count": 25,
   "metadata": {},
   "outputs": [
    {
     "data": {
      "text/plain": [
       "148.4131591025766"
      ]
     },
     "execution_count": 25,
     "metadata": {},
     "output_type": "execute_result"
    }
   ],
   "source": [
    "np.exp(x)"
   ]
  },
  {
   "cell_type": "markdown",
   "metadata": {},
   "source": [
    "** Exercício: ** Pesquise a documentação do NumPy para encontrar a função que calcula raízes quadradas e use-a para calcular uma aproximação de ponto flutuante da proporção áurea:\n",
    "\n",
    "$ \\ phi = \\ frac {1 + \\ sqrt {5}} {2} $\n",
    "\n",
    "Dica: O resultado deve estar próximo de `1.618`."
   ]
  },
  {
   "cell_type": "code",
   "execution_count": 26,
   "metadata": {},
   "outputs": [],
   "source": [
    "# Solution goes here"
   ]
  },
  {
   "cell_type": "markdown",
   "metadata": {},
   "source": [
    "## Salve seu trabalho\n",
    "\n",
    "Se você está executando o Colab e deseja salvar seu trabalho, agora é uma boa hora para pressionar o botão \"Copiar no Drive\" (próximo ao canto superior esquerdo), que salva uma cópia deste bloco de anotações no Google Drive.\n",
    "\n",
    "Se você quiser alterar o nome do arquivo, clique no nome no canto superior esquerdo.\n",
    "\n",
    "Se você não usa o Google Drive, procure no menu Arquivo para ver outras opções.\n",
    "\n",
    "Depois de fazer uma cópia, quaisquer alterações adicionais que você fizer serão salvas automaticamente, para que você possa continuar sem se preocupar em perder o seu trabalho."
   ]
  },
  {
   "cell_type": "markdown",
   "metadata": {},
   "source": [
    "## Cálculo com variáveis\n",
    "\n",
    "Agora vamos usar variáveis para resolver um problema que envolve cálculo matemático.\n",
    "\n",
    "Suponha que tenhamos a seguinte fórmula para calcular juros compostos [da Wikipedia] (https://en.wikipedia.org/wiki/Compound_interest#Periodic_compounding):\n",
    "\n",
    "\"O valor total acumulado, incluindo a soma principal $ P $ mais juros compostos $ I $, é dado pela fórmula:\n",
    "\n",
    "$ V = P \\ esquerda (1 + {\\ frac {r} {n}} \\ direita) ^ {nt} $\n",
    "\n",
    "Onde:\n",
    "\n",
    "* $ P $ é a soma principal original\n",
    "* $ V $ é o valor acumulado total\n",
    "* $ r $ é a taxa de juros anual nominal\n",
    "* $ n $ é a frequência de composição\n",
    "* $ t $ é o período geral de aplicação dos juros (expresso usando as mesmas unidades de tempo que $ r $, geralmente anos).\n",
    "\n",
    "\"Suponha que um valor principal de \\ $ 1.500 seja depositado em um banco que pague uma taxa de juros anual de 4,3 \\%, composta trimestralmente.\n",
    "Em seguida, o saldo após 6 anos é encontrado usando a fórmula acima, com"
   ]
  },
  {
   "cell_type": "code",
   "execution_count": 27,
   "metadata": {},
   "outputs": [],
   "source": [
    "P = 1500\n",
    "r = 0.043\n",
    "n = 4\n",
    "t = 6"
   ]
  },
  {
   "cell_type": "markdown",
   "metadata": {},
   "source": [
    "Podemos calcular o valor acumulado total traduzindo a fórmula matemática na sintaxe do Python:"
   ]
  },
  {
   "cell_type": "code",
   "execution_count": 28,
   "metadata": {},
   "outputs": [
    {
     "data": {
      "text/plain": [
       "1938.8368221341054"
      ]
     },
     "execution_count": 28,
     "metadata": {},
     "output_type": "execute_result"
    }
   ],
   "source": [
    "P * (1 + r/n)**(n*t)"
   ]
  },
  {
   "cell_type": "markdown",
   "metadata": {},
   "source": [
    "** Exercício: ** Continuando o exemplo da Wikipedia:\n",
    "\n",
    "\"Suponha que a mesma quantidade de \\ $ 1.500 seja composta bienalmente\", então `n = 1 / 2`.\n",
    "\n",
    "Qual seria o valor total após 6 anos? Dica: esperamos que a resposta seja um pouco menor que a resposta anterior."
   ]
  },
  {
   "cell_type": "code",
   "execution_count": 29,
   "metadata": {},
   "outputs": [],
   "source": [
    "# Solution goes here"
   ]
  },
  {
   "cell_type": "markdown",
   "metadata": {},
   "source": [
    "** Exercício: ** Se os juros são compostos continuamente, o valor após o tempo $ t $ é dado pela fórmula:\n",
    "\n",
    "$ V = P ~ e ^ {rt} $\n",
    "\n",
    "Traduza essa função para Python e use-a para calcular o valor do investimento no exemplo anterior com composição contínua. Dica: esperamos que a resposta seja um pouco mais do que as respostas anteriores."
   ]
  },
  {
   "cell_type": "code",
   "execution_count": 30,
   "metadata": {},
   "outputs": [],
   "source": [
    "# Solution goes here"
   ]
  },
  {
   "cell_type": "markdown",
   "metadata": {},
   "source": [
    "** Exercício ** Aplicando suas habilidades de álgebra, resolva a equação anterior por $ r $. Agora use a fórmula que você acabou de derivar para responder a esta pergunta.\n",
    "\n",
    "\"A taxa de matrícula de Harvard em 1970 era de US $ 4.070 (não incluindo alojamento, alimentação e taxas).\n",
    "\n",
    "\"Em 2019, é de US $ 46.340. Qual foi a taxa anual de aumento ao longo desse período, tratando-a como se tivesse aumentado continuamente?\""
   ]
  },
  {
   "cell_type": "code",
   "execution_count": 31,
   "metadata": {},
   "outputs": [],
   "source": [
    "# Solution goes here"
   ]
  },
  {
   "cell_type": "markdown",
   "metadata": {},
   "source": [
    "O objetivo deste exercício é praticar o uso de variáveis. Mas também é um lembrete sobre logaritmos, que usaremos extensivamente."
   ]
  },
  {
   "cell_type": "markdown",
   "metadata": {
    "collapsed": true
   },
   "source": [
    "## Um pouco mais de Jupyter\n",
    "\n",
    "Aqui estão algumas dicas sobre o uso do Jupyter para calcular e exibir valores.\n",
    "\n",
    "Geralmente, se houver uma única expressão em uma célula, o Jupyter calcula o valor da expressão e exibe o resultado.\n",
    "\n",
    "Por exemplo, já vimos como exibir o valor de `np.pi`:"
   ]
  },
  {
   "cell_type": "code",
   "execution_count": 32,
   "metadata": {},
   "outputs": [
    {
     "data": {
      "text/plain": [
       "3.141592653589793"
      ]
     },
     "execution_count": 32,
     "metadata": {},
     "output_type": "execute_result"
    }
   ],
   "source": [
    "np.pi"
   ]
  },
  {
   "cell_type": "markdown",
   "metadata": {},
   "source": [
    "Aqui está um exemplo mais complexo com funções, operadores e números:"
   ]
  },
  {
   "cell_type": "code",
   "execution_count": 33,
   "metadata": {},
   "outputs": [
    {
     "data": {
      "text/plain": [
       "0.0044318484119380075"
      ]
     },
     "execution_count": 33,
     "metadata": {},
     "output_type": "execute_result"
    }
   ],
   "source": [
    "1 / np.sqrt(2 * np.pi) * np.exp(-3**2 / 2)"
   ]
  },
  {
   "cell_type": "markdown",
   "metadata": {},
   "source": [
    "Se você colocar mais de uma expressão em uma célula, o Jupyter calcula todas elas, mas apenas exibe o resultado da última:"
   ]
  },
  {
   "cell_type": "code",
   "execution_count": 34,
   "metadata": {},
   "outputs": [
    {
     "data": {
      "text/plain": [
       "1.618033988749895"
      ]
     },
     "execution_count": 34,
     "metadata": {},
     "output_type": "execute_result"
    }
   ],
   "source": [
    "1\n",
    "2 + 3\n",
    "np.exp(1)\n",
    "(1 + np.sqrt(5)) / 2"
   ]
  },
  {
   "cell_type": "markdown",
   "metadata": {},
   "source": [
    "\n",
    "78/5000\n",
    "Se você deseja exibir mais de um valor, é possível separá-los com vírgulas:"
   ]
  },
  {
   "cell_type": "code",
   "execution_count": 35,
   "metadata": {},
   "outputs": [
    {
     "data": {
      "text/plain": [
       "(1, 5, 2.718281828459045, 1.618033988749895)"
      ]
     },
     "execution_count": 35,
     "metadata": {},
     "output_type": "execute_result"
    }
   ],
   "source": [
    "1, 2 + 3, np.exp(1), (1 + np.sqrt(5)) / 2"
   ]
  },
  {
   "cell_type": "markdown",
   "metadata": {},
   "source": [
    "Esse resultado é na verdade uma tupla, sobre a qual você aprenderá no próximo notebook.\n",
    "\n",
    "Aqui está uma última dica do Jupyter: quando você atribui um valor à variável, o Jupyter não exibe o valor:"
   ]
  },
  {
   "cell_type": "code",
   "execution_count": 36,
   "metadata": {},
   "outputs": [],
   "source": [
    "phi = (1 + np.sqrt(5)) / 2"
   ]
  },
  {
   "cell_type": "markdown",
   "metadata": {},
   "source": [
    "Portanto, é idiomático atribuir um valor a uma variável e exibir imediatamente o resultado:"
   ]
  },
  {
   "cell_type": "code",
   "execution_count": 37,
   "metadata": {},
   "outputs": [
    {
     "data": {
      "text/plain": [
       "1.618033988749895"
      ]
     },
     "execution_count": 37,
     "metadata": {},
     "output_type": "execute_result"
    }
   ],
   "source": [
    "phi = (1 + np.sqrt(5)) / 2\n",
    "phi"
   ]
  },
  {
   "cell_type": "markdown",
   "metadata": {},
   "source": [
    "** Exercício: ** Exiba o valor de $ \\ phi $ e seu inverso, $ 1 / \\ phi $, em uma única linha."
   ]
  },
  {
   "cell_type": "code",
   "execution_count": 38,
   "metadata": {},
   "outputs": [],
   "source": [
    "# Solution goes here"
   ]
  },
  {
   "cell_type": "markdown",
   "metadata": {},
   "source": [
    "## O modelo mental de Colab\n",
    "\n",
    "Parabéns por completar o primeiro caderno!\n",
    "\n",
    "Agora que você trabalhou com a Colab, pode ser útil assistir a este vídeo, onde explico um pouco mais sobre como ele funciona:"
   ]
  },
  {
   "cell_type": "code",
   "execution_count": 39,
   "metadata": {},
   "outputs": [
    {
     "data": {
      "image/jpeg": "[encoded data removed]",
      "text/html": [
       "\n",
       "        <iframe\n",
       "            width=\"400\"\n",
       "            height=\"300\"\n",
       "            src=\"https://www.youtube.com/embed/eIY-PsYBrPs\"\n",
       "            frameborder=\"0\"\n",
       "            allowfullscreen\n",
       "        ></iframe>\n",
       "        "
      ],
      "text/plain": [
       "<IPython.lib.display.YouTubeVideo at 0x168b0fdd390>"
      ]
     },
     "execution_count": 39,
     "metadata": {},
     "output_type": "execute_result"
    }
   ],
   "source": [
    "from IPython.display import YouTubeVideo    \n",
    "\n",
    "YouTubeVideo(\"eIY-PsYBrPs\")"
   ]
  },
  {
   "cell_type": "code",
   "execution_count": null,
   "metadata": {},
   "outputs": [],
   "source": []
  },
  {
   "cell_type": "code",
   "execution_count": null,
   "metadata": {},
   "outputs": [],
   "source": []
  }
 ],
 "metadata": {
  "kernelspec": {
   "display_name": "Python 3",
   "language": "python",
   "name": "python3"
  },
  "language_info": {
   "codemirror_mode": {
    "name": "ipython",
    "version": 3
   },
   "file_extension": ".py",
   "mimetype": "text/x-python",
   "name": "python",
   "nbconvert_exporter": "python",
   "pygments_lexer": "ipython3",
   "version": "3.6.8"
  }
 },
 "nbformat": 4,
 "nbformat_minor": 2
}
