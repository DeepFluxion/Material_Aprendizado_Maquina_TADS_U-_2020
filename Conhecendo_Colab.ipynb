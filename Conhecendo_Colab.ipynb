{
  "nbformat": 4,
  "nbformat_minor": 0,
  "metadata": {
    "colab": {
      "name": "Conhecendo_Colab.ipynb",
      "provenance": [],
      "authorship_tag": "ABX9TyNc0FFUAQxJXNULZ7tkmtio",
      "include_colab_link": true
    },
    "kernelspec": {
      "name": "python3",
      "display_name": "Python 3"
    }
  },
  "cells": [
    {
      "cell_type": "markdown",
      "metadata": {
        "id": "view-in-github",
        "colab_type": "text"
      },
      "source": [
        "<a href=\"https://colab.research.google.com/github/DomingosN/Material_Aprendizado_Maquina_TADS_U-_2020/blob/master/Conhecendo_Colab.ipynb\" target=\"_parent\"><img src=\"https://colab.research.google.com/assets/colab-badge.svg\" alt=\"Open In Colab\"/></a>"
      ]
    },
    {
      "cell_type": "code",
      "metadata": {
        "id": "Ysg23w2PM6aq",
        "colab_type": "code",
        "colab": {}
      },
      "source": [
        "## Está é uma célula de código que por enqunato vamso deixar apenas com este comentário"
      ],
      "execution_count": 0,
      "outputs": []
    },
    {
      "cell_type": "markdown",
      "metadata": {
        "id": "WOu2FiBXPEPg",
        "colab_type": "text"
      },
      "source": [
        "Agora vamos acionar uma célual de texto vcê deve clicar em + Text observe que nuam célual de texto você pode:\n",
        "# Formatar o tamanho do texto\n",
        "Formatar **Negrito**  \n",
        "Formatar *Itálico*  \n",
        "Inserir Figuras  \n",
        "!['Esta é uma imagem de gato que achei no internet'](https://img.webmd.com/dtmcms/live/webmd/consumer_assets/site_images/articles/health_tools/people_foods_cats_can_eat_slideshow/thinkstock_rf_photo_of_cat_sitting_at_table.jpg)\n",
        "# ***Este é o link para imagem***\n",
        "https://img.webmd.com/dtmcms/live/webmd/consumer_assets/site_images/articles/health_tools/people_foods_cats_can_eat_slideshow/thinkstock_rf_photo_of_cat_sitting_at_table.jpg\n",
        "**Você pode inserir uma lsita de items**\n",
        "1.   List item\n",
        "2.   List item\n",
        "\n",
        "Para sair pressione shit+enter\n",
        "\n",
        "\n"
      ]
    },
    {
      "cell_type": "code",
      "metadata": {
        "id": "mus2lwq5TCWs",
        "colab_type": "code",
        "colab": {
          "base_uri": "https://localhost:8080/",
          "height": 50
        },
        "outputId": "4cf526d0-1094-4ad9-a28b-0d9e6d806fbb"
      },
      "source": [
        "# Agora vamos digitar um código:\n",
        "input('Digite seu nome: ')"
      ],
      "execution_count": 5,
      "outputs": [
        {
          "output_type": "stream",
          "text": [
            "Digite seu nome: Domingos\n"
          ],
          "name": "stdout"
        },
        {
          "output_type": "execute_result",
          "data": {
            "text/plain": [
              "'Domingos'"
            ]
          },
          "metadata": {
            "tags": []
          },
          "execution_count": 5
        }
      ]
    },
    {
      "cell_type": "code",
      "metadata": {
        "id": "fGvlYg-hT3fc",
        "colab_type": "code",
        "colab": {
          "base_uri": "https://localhost:8080/",
          "height": 33
        },
        "outputId": "4200a74e-45aa-4604-9552-e11aaac18bc2"
      },
      "source": [
        "# Agora vamso criar uma saída\n",
        "print('Hello '+_)"
      ],
      "execution_count": 6,
      "outputs": [
        {
          "output_type": "stream",
          "text": [
            "Hello Domingos\n"
          ],
          "name": "stdout"
        }
      ]
    }
  ]
}