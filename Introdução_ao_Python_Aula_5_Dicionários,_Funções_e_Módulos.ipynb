{
  "nbformat": 4,
  "nbformat_minor": 0,
  "metadata": {
    "kernelspec": {
      "display_name": "Python 3",
      "language": "python",
      "name": "python3"
    },
    "language_info": {
      "codemirror_mode": {
        "name": "ipython",
        "version": 3
      },
      "file_extension": ".py",
      "mimetype": "text/x-python",
      "name": "python",
      "nbconvert_exporter": "python",
      "pygments_lexer": "ipython3",
      "version": "3.6.8"
    },
    "colab": {
      "name": "Introdução ao Python Aula 5 - Dicionários, Funções e Módulos.ipynb",
      "provenance": [],
      "include_colab_link": true
    }
  },
  "cells": [
    {
      "cell_type": "markdown",
      "metadata": {
        "id": "view-in-github",
        "colab_type": "text"
      },
      "source": [
        "<a href=\"https://colab.research.google.com/github/DomingosN/Material_Aprendizado_Maquina_TADS_U-_2020/blob/master/Introdu%C3%A7%C3%A3o_ao_Python_Aula_5_Dicion%C3%A1rios%2C_Fun%C3%A7%C3%B5es_e_M%C3%B3dulos.ipynb\" target=\"_parent\"><img src=\"https://colab.research.google.com/assets/colab-badge.svg\" alt=\"Open In Colab\"/></a>"
      ]
    },
    {
      "cell_type": "markdown",
      "metadata": {
        "id": "EXaXSp6EuWqJ",
        "colab_type": "text"
      },
      "source": [
        "## Aula 5 Dicionários, Funções e Módulos"
      ]
    },
    {
      "cell_type": "markdown",
      "metadata": {
        "id": "cszaXJcYuWqK",
        "colab_type": "text"
      },
      "source": [
        "Nesta aula, vamos ver as **funções e módulos** em detalhes. Para reiterar, todas as linguagens de programação vêm com códigos internos que podemos usar para facilitar nossa vida como programadores. Esses códigos consistem em classes pré-escritas, variáveis e funções para executar determinadas tarefas comuns e são salvas em arquivos conhecidos como módulos. Vamos primeiro ver as dicionários depois funções e módulos."
      ]
    },
    {
      "cell_type": "markdown",
      "metadata": {
        "id": "lgTkZ4KjuWqL",
        "colab_type": "text"
      },
      "source": [
        "### Dicionários\n",
        "\n",
        "Dicionário é uma coleção de dados relacionados.   \n",
        " Por exemplo, se queremos armazenar o nome de usuário e a idade de 5 usuários, podemos armazená-los em um dicionário.\n",
        "Para declarar um dicionário, você escreve \n",
        "- **dictionaryName = {dictionary key: data}**\n",
        ", com o requisito de que as chaves do dicionário sejam únicas (dentro de um dicionário)."
      ]
    },
    {
      "cell_type": "code",
      "metadata": {
        "id": "yr4RGnhEuWqN",
        "colab_type": "code",
        "colab": {}
      },
      "source": [
        "## Exemplo de dicionário\n",
        "\n",
        "dadosUsuario = {'Peter':38,\n",
        "                'John':51,\n",
        "                'Alex':13,\n",
        "                'Alvin':'Não disponível'}\n"
      ],
      "execution_count": 0,
      "outputs": []
    },
    {
      "cell_type": "markdown",
      "metadata": {
        "id": "rNB8WgtauWqT",
        "colab_type": "text"
      },
      "source": [
        "Você também pode declarar um dicionário usando o método dict ()"
      ]
    },
    {
      "cell_type": "code",
      "metadata": {
        "id": "PT0HHhKtuWqU",
        "colab_type": "code",
        "colab": {}
      },
      "source": [
        "dadosUsuario = dict(Peter =38,\n",
        "                    John =51,\n",
        "                    Alex =13,\n",
        "                    Alvin='Não disponível')\n"
      ],
      "execution_count": 0,
      "outputs": []
    },
    {
      "cell_type": "markdown",
      "metadata": {
        "id": "nQeDgNeKuWqY",
        "colab_type": "text"
      },
      "source": [
        "Quando você usa esse método para declarar um dicionário, usa aprenteses () em vez de colchetes {} e não coloca aspas para as chaves do dicionário."
      ]
    },
    {
      "cell_type": "markdown",
      "metadata": {
        "id": "RQ7Bqg9quWqZ",
        "colab_type": "text"
      },
      "source": [
        "Para acessar itens individuais no dicionário, usamos a chave do dicionário, que é o primeiro valor no par {chave do dicionário: dados}. Por exemplo, para obter a idade de John"
      ]
    },
    {
      "cell_type": "code",
      "metadata": {
        "id": "M5nssBnRuWqa",
        "colab_type": "code",
        "colab": {
          "base_uri": "https://localhost:8080/",
          "height": 34
        },
        "outputId": "05bf4fc4-3dd7-41a9-9b7e-9e913dc0769c"
      },
      "source": [
        "dadosUsuario['John']"
      ],
      "execution_count": 3,
      "outputs": [
        {
          "output_type": "execute_result",
          "data": {
            "text/plain": [
              "51"
            ]
          },
          "metadata": {
            "tags": []
          },
          "execution_count": 3
        }
      ]
    },
    {
      "cell_type": "markdown",
      "metadata": {
        "id": "kvvS8ibsuWqf",
        "colab_type": "text"
      },
      "source": [
        "Para modificar itens em um dicionário, escrevemos dictionaryName [chave do item a ser modificado] = novos dados. Por exemplo vamos mdificar a idade de John"
      ]
    },
    {
      "cell_type": "code",
      "metadata": {
        "id": "UWAT2pnIuWqg",
        "colab_type": "code",
        "colab": {}
      },
      "source": [
        "dadosUsuario['John'] = 21"
      ],
      "execution_count": 0,
      "outputs": []
    },
    {
      "cell_type": "code",
      "metadata": {
        "id": "9E5ooXlPuWqm",
        "colab_type": "code",
        "colab": {
          "base_uri": "https://localhost:8080/",
          "height": 34
        },
        "outputId": "936b06e2-22b8-4aa4-ec3e-bcf16b35fb0e"
      },
      "source": [
        "dadosUsuario"
      ],
      "execution_count": 5,
      "outputs": [
        {
          "output_type": "execute_result",
          "data": {
            "text/plain": [
              "{'Alex': 13, 'Alvin': 'Não disponível', 'John': 21, 'Peter': 38}"
            ]
          },
          "metadata": {
            "tags": []
          },
          "execution_count": 5
        }
      ]
    },
    {
      "cell_type": "markdown",
      "metadata": {
        "id": "LKpm-wJJuWqr",
        "colab_type": "text"
      },
      "source": [
        "Para adicionar itens a um dicionário, escrevemos dictionaryName [chave do dicionário] = dados. Por exemplo, se queremos adicionar \"Joe\": 40 ao nosso dicionário, escrevemos"
      ]
    },
    {
      "cell_type": "code",
      "metadata": {
        "id": "DxJ-GiD7uWqt",
        "colab_type": "code",
        "colab": {}
      },
      "source": [
        "dadosUsuario['Joe']=40"
      ],
      "execution_count": 0,
      "outputs": []
    },
    {
      "cell_type": "markdown",
      "metadata": {
        "id": "txnB2JrluWq3",
        "colab_type": "text"
      },
      "source": [
        "E assim nosso dicionário passa a ser"
      ]
    },
    {
      "cell_type": "code",
      "metadata": {
        "id": "dP0edTY1uWq5",
        "colab_type": "code",
        "colab": {
          "base_uri": "https://localhost:8080/",
          "height": 34
        },
        "outputId": "887f7522-4c85-44ba-852c-44f9ab3c12c2"
      },
      "source": [
        "dadosUsuario"
      ],
      "execution_count": 7,
      "outputs": [
        {
          "output_type": "execute_result",
          "data": {
            "text/plain": [
              "{'Alex': 13, 'Alvin': 'Não disponível', 'Joe': 40, 'John': 21, 'Peter': 38}"
            ]
          },
          "metadata": {
            "tags": []
          },
          "execution_count": 7
        }
      ]
    },
    {
      "cell_type": "code",
      "metadata": {
        "id": "jF5XeEyWuWq8",
        "colab_type": "code",
        "colab": {
          "base_uri": "https://localhost:8080/",
          "height": 34
        },
        "outputId": "64a7abf7-1fa4-4251-941e-b9a79e57778c"
      },
      "source": [
        "print(dadosUsuario)"
      ],
      "execution_count": 8,
      "outputs": [
        {
          "output_type": "stream",
          "text": [
            "{'Peter': 38, 'John': 21, 'Alex': 13, 'Alvin': 'Não disponível', 'Joe': 40}\n"
          ],
          "name": "stdout"
        }
      ]
    },
    {
      "cell_type": "markdown",
      "metadata": {
        "id": "zJs8xFzYuWrB",
        "colab_type": "text"
      },
      "source": [
        "Você pode imprimir apenas as chaves usando o método keys"
      ]
    },
    {
      "cell_type": "code",
      "metadata": {
        "id": "O7L22HZhuWrC",
        "colab_type": "code",
        "colab": {
          "base_uri": "https://localhost:8080/",
          "height": 34
        },
        "outputId": "f08dba62-4b90-43c2-b26e-92abc6b7de74"
      },
      "source": [
        "print(dadosUsuario.keys())"
      ],
      "execution_count": 9,
      "outputs": [
        {
          "output_type": "stream",
          "text": [
            "dict_keys(['Peter', 'John', 'Alex', 'Alvin', 'Joe'])\n"
          ],
          "name": "stdout"
        }
      ]
    },
    {
      "cell_type": "markdown",
      "metadata": {
        "id": "5axznydsuWrG",
        "colab_type": "text"
      },
      "source": [
        "Você pode imprimir apenas os itens usando o método items"
      ]
    },
    {
      "cell_type": "code",
      "metadata": {
        "id": "AeUpfZetuWrI",
        "colab_type": "code",
        "colab": {
          "base_uri": "https://localhost:8080/",
          "height": 34
        },
        "outputId": "8e2c58d0-cf7e-4086-fc22-bb7349b810fb"
      },
      "source": [
        "print(dadosUsuario.items())"
      ],
      "execution_count": 10,
      "outputs": [
        {
          "output_type": "stream",
          "text": [
            "dict_items([('Peter', 38), ('John', 21), ('Alex', 13), ('Alvin', 'Não disponível'), ('Joe', 40)])\n"
          ],
          "name": "stdout"
        }
      ]
    },
    {
      "cell_type": "markdown",
      "metadata": {
        "id": "-PTqOxGsuWrM",
        "colab_type": "text"
      },
      "source": [
        "Você pode imprimir apenas os valores usando o método values"
      ]
    },
    {
      "cell_type": "code",
      "metadata": {
        "id": "GmO3UQwKuWrN",
        "colab_type": "code",
        "colab": {
          "base_uri": "https://localhost:8080/",
          "height": 34
        },
        "outputId": "4e16a7a7-db38-47ce-93c5-7c6792cf9001"
      },
      "source": [
        "print(dadosUsuario.values())"
      ],
      "execution_count": 11,
      "outputs": [
        {
          "output_type": "stream",
          "text": [
            "dict_values([38, 21, 13, 'Não disponível', 40])\n"
          ],
          "name": "stdout"
        }
      ]
    },
    {
      "cell_type": "markdown",
      "metadata": {
        "id": "fKvf8vtUuWrR",
        "colab_type": "text"
      },
      "source": [
        "Você pode percorrer um dicionário por meio de suas chves e verificar valores e utilizar de várias formas"
      ]
    },
    {
      "cell_type": "code",
      "metadata": {
        "id": "c4ovoGe7uWrS",
        "colab_type": "code",
        "colab": {
          "base_uri": "https://localhost:8080/",
          "height": 105
        },
        "outputId": "46076a34-c932-423f-bd01-deb71b954b06"
      },
      "source": [
        "for k in dadosUsuario.keys():\n",
        "    print('a idade de '+k+' é '+str(dadosUsuario[k]))"
      ],
      "execution_count": 12,
      "outputs": [
        {
          "output_type": "stream",
          "text": [
            "a idade de Peter é 38\n",
            "a idade de John é 21\n",
            "a idade de Alex é 13\n",
            "a idade de Alvin é Não disponível\n",
            "a idade de Joe é 40\n"
          ],
          "name": "stdout"
        }
      ]
    },
    {
      "cell_type": "markdown",
      "metadata": {
        "id": "meFJwJDwuWrW",
        "colab_type": "text"
      },
      "source": [
        "Você pode percorrer uma lista para fazer buscas indexadas por meio de suas chves e verificar valores e utilizar de várias formas. Por exemplo:"
      ]
    },
    {
      "cell_type": "code",
      "metadata": {
        "id": "zvlaEObEuWrX",
        "colab_type": "code",
        "colab": {
          "base_uri": "https://localhost:8080/",
          "height": 70
        },
        "outputId": "ffd0f63c-186e-4ca0-f443-c5696d9566f6"
      },
      "source": [
        "for k in ['Peter', 'Alex', 'Joe']:\n",
        "    print('a idade de '+k+' é '+str(dadosUsuario[k]))"
      ],
      "execution_count": 13,
      "outputs": [
        {
          "output_type": "stream",
          "text": [
            "a idade de Peter é 38\n",
            "a idade de Alex é 13\n",
            "a idade de Joe é 40\n"
          ],
          "name": "stdout"
        }
      ]
    },
    {
      "cell_type": "markdown",
      "metadata": {
        "id": "3FFlvvYJuWrb",
        "colab_type": "text"
      },
      "source": [
        "Você pode ainda incrementar com decisões por exemplo buscar apenas os maiores de idade"
      ]
    },
    {
      "cell_type": "code",
      "metadata": {
        "id": "7MUK_NQJuWrb",
        "colab_type": "code",
        "colab": {
          "base_uri": "https://localhost:8080/",
          "height": 34
        },
        "outputId": "874ab98c-48c7-4c37-8ff5-1eea70fc9501"
      },
      "source": [
        "## vamos usar o método type, que é uma função interna do pytho que retorna o tipod e uma varáivel, veja como ela funciona,\n",
        "## Isso vai evitar que ocorra um erron qunado compararmos um dado string com um int\n",
        "type(dadosUsuario['Alvin']) == str"
      ],
      "execution_count": 14,
      "outputs": [
        {
          "output_type": "execute_result",
          "data": {
            "text/plain": [
              "True"
            ]
          },
          "metadata": {
            "tags": []
          },
          "execution_count": 14
        }
      ]
    },
    {
      "cell_type": "code",
      "metadata": {
        "id": "5IKNa7vwuWrg",
        "colab_type": "code",
        "colab": {
          "base_uri": "https://localhost:8080/",
          "height": 70
        },
        "outputId": "a7c01c1d-e014-49da-bdf6-ecccb4f65de0"
      },
      "source": [
        "for k in dadosUsuario.keys():\n",
        "    if type(dadosUsuario[k])!= str:\n",
        "        if dadosUsuario[k]>=18:\n",
        "            print('a idade de '+k+' é '+str(dadosUsuario[k]))"
      ],
      "execution_count": 15,
      "outputs": [
        {
          "output_type": "stream",
          "text": [
            "a idade de Peter é 38\n",
            "a idade de John é 21\n",
            "a idade de Joe é 40\n"
          ],
          "name": "stdout"
        }
      ]
    },
    {
      "cell_type": "markdown",
      "metadata": {
        "id": "qeFj0GjouWrm",
        "colab_type": "text"
      },
      "source": [
        "## Funções e Módulos"
      ]
    },
    {
      "cell_type": "markdown",
      "metadata": {
        "id": "ue2LBjtouWrm",
        "colab_type": "text"
      },
      "source": [
        "### O que são funções?\n",
        "Funções são simplesmente códigos pré-escritos que executam uma determinada tarefa. Para uma analogia, pense nas funções matemáticas disponíveis no MS Excel.   \n",
        "Para adicionar números, podemos usar a função sum () e digitar sum (A1: A5) em vez de digitar A1 + A2 + A3 + A4 + A5.\n",
        "Dependendo de como a função é escrita, se faz parte de uma classe (uma classe é um conceito em programação orientada a objetos que não abordaremos neste momento) e como você a importa, podemos chamar uma função simplesmente digitando o nome da função ou usando a notação de ponto.  \n",
        "Algumas funções exigem que passemos dados para que eles executem suas tarefas.  \n",
        "Esses dados são conhecidos como parâmetros e os passamos para a função colocando seus valores entre parênteses () separados por vírgulas.  \n",
        "Por exemplo, para usar a função print () para exibir texto na tela, chamamos-lhe digitando print (“Hello World”) onde print é o nome da função e “Hello World” é o parâmetro.  \n",
        "Por outro lado, para usar a função replace () para manipular seqüências de texto, precisamos digitar \"Hello World\". Substituir (\"World\", \"Universe\") em que replace é o nome da função e \"World\" e \" Universo ”são os parâmetros.  \n",
        "A sequência antes do ponto (ou seja, \"Hello World\") é a sequência que será afetada. Portanto, \"Hello World\" será alterado para \"Hello Universe\"."
      ]
    },
    {
      "cell_type": "code",
      "metadata": {
        "id": "8FzCItMvuWro",
        "colab_type": "code",
        "colab": {}
      },
      "source": [
        ""
      ],
      "execution_count": 0,
      "outputs": []
    },
    {
      "cell_type": "code",
      "metadata": {
        "id": "EWUe7DFyuWrs",
        "colab_type": "code",
        "colab": {
          "base_uri": "https://localhost:8080/",
          "height": 34
        },
        "outputId": "4ee1886d-29da-4877-9c6a-2c6e38653848"
      },
      "source": [
        "string = 'Hello World !!'\n",
        "print(string)"
      ],
      "execution_count": 16,
      "outputs": [
        {
          "output_type": "stream",
          "text": [
            "Hello World !!\n"
          ],
          "name": "stdout"
        }
      ]
    },
    {
      "cell_type": "markdown",
      "metadata": {
        "id": "hULNopVcuWrv",
        "colab_type": "text"
      },
      "source": [
        "Neste caso **string** é uma varáivel que é um __parâmetro__ para afunção **print( )** "
      ]
    },
    {
      "cell_type": "code",
      "metadata": {
        "id": "5-gj17uTuWrv",
        "colab_type": "code",
        "colab": {
          "base_uri": "https://localhost:8080/",
          "height": 34
        },
        "outputId": "ed4702d6-2afe-40e5-bef8-3a361b41a18f"
      },
      "source": [
        "print(string.replace('World', 'Universe'))"
      ],
      "execution_count": 17,
      "outputs": [
        {
          "output_type": "stream",
          "text": [
            "Hello Universe !!\n"
          ],
          "name": "stdout"
        }
      ]
    },
    {
      "cell_type": "markdown",
      "metadata": {
        "id": "S3jOfp-RuWr0",
        "colab_type": "text"
      },
      "source": [
        "Neste caso o parâmetro de print é uma outra função replace que se conecta a string, o ponto tem o papel de dizer aplique a função replace à varáivel string. A função replace por sua vez tem dois parâmetros  aplavra que queremos substituir e a nova string que ficara no lugar da primeira."
      ]
    },
    {
      "cell_type": "markdown",
      "metadata": {
        "id": "5n7eDiqquWr1",
        "colab_type": "text"
      },
      "source": [
        "## Definindo suas próprias funções\n",
        "Podemos definir nossas próprias funções no Python e reutilizá-las ao longo do programa.\n",
        "A sintaxe para definir uma função é a seguinte:   \n",
        "\n",
        "**def functionName (parâmetros):**   \n",
        "\n",
        "    código detalhando o que a função deve fazer    \n",
        "    \n",
        "    retornar [expressão] \n",
        "    \n",
        "Existem duas palavras-chave aqui, **def** e **return**.\n",
        "**def** diz ao programa que o código recuado da próxima linha em diante faz parte da função.\n",
        "return é a palavra-chave que usamos para retornar uma resposta da função.  \n",
        "\n",
        "Pode haver mais de uma instrução de retorno em uma função. No entanto, depois que a função executa uma instrução de retorno, a função será encerrada.  \n",
        "\n",
        "Se sua função não precisar retornar nenhum valor, você poderá omitir a declaração de retorno.   \n",
        "Como alternativa, você pode escrever retornar ou retornar **None**.\n",
        "Vamos agora definir nossa primeira função.\n",
        "Suponha que desejamos determinar se um determinado número é um número primo.  \n",
        "Veja como podemos definir a função usando o operador de módulo (%) que aprendemos na classe 1 e no loop for e na instrução if aprendemos nas aulas anteriores.\n"
      ]
    },
    {
      "cell_type": "code",
      "metadata": {
        "id": "pShwdeXpuWr1",
        "colab_type": "code",
        "colab": {}
      },
      "source": [
        "def checarPrimo (numeroParaChecar):\n",
        "    for x in range(2, numeroParaChecar):\n",
        "        if (numeroParaChecar%x == 0):\n",
        "            return False\n",
        "    return True"
      ],
      "execution_count": 0,
      "outputs": []
    },
    {
      "cell_type": "code",
      "metadata": {
        "id": "7_lX48LFuWr5",
        "colab_type": "code",
        "colab": {
          "base_uri": "https://localhost:8080/",
          "height": 34
        },
        "outputId": "c6321cfd-521e-4333-c618-9e211f45675c"
      },
      "source": [
        "checarPrimo(10)"
      ],
      "execution_count": 19,
      "outputs": [
        {
          "output_type": "execute_result",
          "data": {
            "text/plain": [
              "False"
            ]
          },
          "metadata": {
            "tags": []
          },
          "execution_count": 19
        }
      ]
    },
    {
      "cell_type": "markdown",
      "metadata": {
        "id": "EKF8FfcVuWr9",
        "colab_type": "text"
      },
      "source": [
        "Na função acima, as linhas 2 e 3 usam um loop for para dividir o parâmetro **numeroParaChecar** fornecido por todos os números de 2 a **numeroParaChecar - 1** para determinar se o restante é zero.   \n",
        "  Se o restante for zero, **numeroParaChecar** não é um número primo.  \n",
        "  A linha 4 retornará False e a função se encerra.   \n",
        "Se, pela última iteração do loop for, nenhuma divisão der um restante de zero, a função alcançará a Linha 5 e retornará True.   \n",
        "A função será encerrada.   \n",
        "Para usar esta função, digitamos **checarPrimo(13)** e a atribuímos a uma variável como esta:"
      ]
    },
    {
      "cell_type": "code",
      "metadata": {
        "id": "XD8MrnPruWr-",
        "colab_type": "code",
        "colab": {}
      },
      "source": [
        "resposta = checarPrimo(13)"
      ],
      "execution_count": 0,
      "outputs": []
    },
    {
      "cell_type": "code",
      "metadata": {
        "id": "xWcbuD0XuWsC",
        "colab_type": "code",
        "colab": {
          "base_uri": "https://localhost:8080/",
          "height": 34
        },
        "outputId": "254c9b99-3163-4797-eff4-376536deaf77"
      },
      "source": [
        "print(resposta)"
      ],
      "execution_count": 21,
      "outputs": [
        {
          "output_type": "stream",
          "text": [
            "True\n"
          ],
          "name": "stdout"
        }
      ]
    },
    {
      "cell_type": "markdown",
      "metadata": {
        "id": "qXDiNJG7uWsG",
        "colab_type": "text"
      },
      "source": [
        "## Quer saber mais sobre núemros primos ?\n",
        "\n",
        "### Números primos são os números naturais que têm apenas dois divisores diferentes: o 1 e ele mesmo.\n",
        "\n",
        "['Clique neste link para acessar uma explicação'](https://www.somatematica.com.br/fundam/primos.php)"
      ]
    },
    {
      "cell_type": "markdown",
      "metadata": {
        "id": "t5o1yhBtuWsH",
        "colab_type": "text"
      },
      "source": [
        "### Analisando o código da Função\n",
        "\n",
        "Vamos inserir um print para entender como este código funciona"
      ]
    },
    {
      "cell_type": "code",
      "metadata": {
        "id": "0GtnGQHuuWsH",
        "colab_type": "code",
        "colab": {}
      },
      "source": [
        "def checarPrimo (numeroParaChecar):\n",
        "    for x in range(2, numeroParaChecar):\n",
        "        print(x)\n",
        "        if (numeroParaChecar%x == 0):\n",
        "            print(numeroParaChecar%x)\n",
        "            return False\n",
        "    return True"
      ],
      "execution_count": 0,
      "outputs": []
    },
    {
      "cell_type": "code",
      "metadata": {
        "id": "fQIfKfSSuWsN",
        "colab_type": "code",
        "colab": {
          "base_uri": "https://localhost:8080/",
          "height": 52
        },
        "outputId": "5b82e73c-26a3-47f1-92c8-3f9d3b65cece"
      },
      "source": [
        "checarPrimo(3)"
      ],
      "execution_count": 23,
      "outputs": [
        {
          "output_type": "stream",
          "text": [
            "2\n"
          ],
          "name": "stdout"
        },
        {
          "output_type": "execute_result",
          "data": {
            "text/plain": [
              "True"
            ]
          },
          "metadata": {
            "tags": []
          },
          "execution_count": 23
        }
      ]
    },
    {
      "cell_type": "markdown",
      "metadata": {
        "id": "AK1Q_Z-2uWsS",
        "colab_type": "text"
      },
      "source": [
        "## Coloque valores diferentes entre os parenteses e veja os resultados"
      ]
    },
    {
      "cell_type": "code",
      "metadata": {
        "id": "rghiuYjJuWsT",
        "colab_type": "code",
        "colab": {
          "base_uri": "https://localhost:8080/",
          "height": 298
        },
        "outputId": "11dbb18a-7b0b-4469-e3f5-5a05012044e8"
      },
      "source": [
        "checarPrimo(17)"
      ],
      "execution_count": 24,
      "outputs": [
        {
          "output_type": "stream",
          "text": [
            "2\n",
            "3\n",
            "4\n",
            "5\n",
            "6\n",
            "7\n",
            "8\n",
            "9\n",
            "10\n",
            "11\n",
            "12\n",
            "13\n",
            "14\n",
            "15\n",
            "16\n"
          ],
          "name": "stdout"
        },
        {
          "output_type": "execute_result",
          "data": {
            "text/plain": [
              "True"
            ]
          },
          "metadata": {
            "tags": []
          },
          "execution_count": 24
        }
      ]
    },
    {
      "cell_type": "code",
      "metadata": {
        "id": "vC78RR-quWsZ",
        "colab_type": "code",
        "colab": {}
      },
      "source": [
        "def checarPrimo (numeroParaChecar):\n",
        "    for x in range(2, numeroParaChecar):\n",
        "        #print(x)\n",
        "        if (numeroParaChecar%x == 0):\n",
        "            #print(numeroParaChecar%x)\n",
        "            return False\n",
        "    return True"
      ],
      "execution_count": 0,
      "outputs": []
    },
    {
      "cell_type": "markdown",
      "metadata": {
        "id": "yRUkHuv2uWse",
        "colab_type": "text"
      },
      "source": [
        "## Vamos incrementar nosso código\n",
        "\n",
        "Agora vamos implementar um código que imprime todos os numeros primos em um intervalo e os slava em uma lista"
      ]
    },
    {
      "cell_type": "code",
      "metadata": {
        "id": "1FgyODIIuWsf",
        "colab_type": "code",
        "colab": {}
      },
      "source": [
        "numerosPrimos = []\n",
        "numeroInicial = 2\n",
        "numeroFinal = 98\n",
        "for i in range(numeroInicial, numeroFinal):\n",
        "    if checarPrimo(i):\n",
        "        numerosPrimos.append(i)"
      ],
      "execution_count": 0,
      "outputs": []
    },
    {
      "cell_type": "code",
      "metadata": {
        "id": "tsiO-EOjuWsi",
        "colab_type": "code",
        "colab": {
          "base_uri": "https://localhost:8080/",
          "height": 34
        },
        "outputId": "e5c576f5-ef79-47a1-a0b7-b632020cb054"
      },
      "source": [
        "print(numerosPrimos)"
      ],
      "execution_count": 27,
      "outputs": [
        {
          "output_type": "stream",
          "text": [
            "[2, 3, 5, 7, 11, 13, 17, 19, 23, 29, 31, 37, 41, 43, 47, 53, 59, 61, 67, 71, 73, 79, 83, 89, 97]\n"
          ],
          "name": "stdout"
        }
      ]
    },
    {
      "cell_type": "markdown",
      "metadata": {
        "id": "QgwyENRpuWsp",
        "colab_type": "text"
      },
      "source": [
        "### Vamos checar com esta tabela\n",
        "\n",
        "![Tabela de Numeros Primos](https://conhecimentocientifico.r7.com/wp-content/uploads/2019/03/saiba-o-que-sao-os-numeros-primos-e-como-sao-aplicados-nos-dias-atuais-4.jpg)"
      ]
    },
    {
      "cell_type": "markdown",
      "metadata": {
        "id": "fTU-UStDuWsq",
        "colab_type": "text"
      },
      "source": [
        "## Escopo de Variável\n",
        "Um conceito importante para entender ao definir uma função é o conceito de escopo de variável.   \n",
        "Variáveis definidas dentro de uma função são tratadas de maneira diferente das variáveis definidas fora. Existem duas diferenças principais.  \n",
        "**Em primeiro lugar, qualquer variável declarada dentro de uma função é acessível apenas dentro da função.**\n",
        "Essas são conhecidas como **variáveis locais**.   \n",
        "Qualquer variável declarada fora de uma função é conhecida como variável global e pode ser acessada em qualquer lugar do programa.  \n",
        "Para entender isso, tente o código abaixo:"
      ]
    },
    {
      "cell_type": "code",
      "metadata": {
        "id": "F5CTRLXEuWsq",
        "colab_type": "code",
        "colab": {}
      },
      "source": [
        "message1 = \"Variável Global\"\n",
        "\n",
        "def myFunction():\n",
        "    print('\\nInterno a Função')\n",
        "    #Variaveis golabais sãoa cessíveis no interior da função\n",
        "    print (message1)\n",
        "    #Declarando uma varáivel loca\n",
        "    message2 = 'Varíavel Local'\n",
        "    print (message2)"
      ],
      "execution_count": 0,
      "outputs": []
    },
    {
      "cell_type": "code",
      "metadata": {
        "id": "QccxiJsQuWsv",
        "colab_type": "code",
        "colab": {
          "base_uri": "https://localhost:8080/",
          "height": 87
        },
        "outputId": "a800c6cd-286d-4a76-c155-1d1e56892b50"
      },
      "source": [
        "myFunction()"
      ],
      "execution_count": 29,
      "outputs": [
        {
          "output_type": "stream",
          "text": [
            "\n",
            "Interno a Função\n",
            "Variável Global\n",
            "Varíavel Local\n"
          ],
          "name": "stdout"
        }
      ]
    },
    {
      "cell_type": "code",
      "metadata": {
        "id": "YBWjpr1xuWsz",
        "colab_type": "code",
        "colab": {
          "base_uri": "https://localhost:8080/",
          "height": 34
        },
        "outputId": "34ac30d6-cf62-4469-ea47-8e7c7bf17de4"
      },
      "source": [
        "print(message1)"
      ],
      "execution_count": 30,
      "outputs": [
        {
          "output_type": "stream",
          "text": [
            "Variável Global\n"
          ],
          "name": "stdout"
        }
      ]
    },
    {
      "cell_type": "code",
      "metadata": {
        "id": "TMtbryUguWs3",
        "colab_type": "code",
        "colab": {
          "base_uri": "https://localhost:8080/",
          "height": 167
        },
        "outputId": "54884a27-53ce-4df6-b1fd-136b6e78b82c"
      },
      "source": [
        "print(message2)"
      ],
      "execution_count": 31,
      "outputs": [
        {
          "output_type": "error",
          "ename": "NameError",
          "evalue": "ignored",
          "traceback": [
            "\u001b[0;31m---------------------------------------------------------------------------\u001b[0m",
            "\u001b[0;31mNameError\u001b[0m                                 Traceback (most recent call last)",
            "\u001b[0;32m<ipython-input-31-67388336f207>\u001b[0m in \u001b[0;36m<module>\u001b[0;34m()\u001b[0m\n\u001b[0;32m----> 1\u001b[0;31m \u001b[0mprint\u001b[0m\u001b[0;34m(\u001b[0m\u001b[0mmessage2\u001b[0m\u001b[0;34m)\u001b[0m\u001b[0;34m\u001b[0m\u001b[0;34m\u001b[0m\u001b[0m\n\u001b[0m",
            "\u001b[0;31mNameError\u001b[0m: name 'message2' is not defined"
          ]
        }
      ]
    },
    {
      "cell_type": "markdown",
      "metadata": {
        "id": "Ikd4Ck_puWs-",
        "colab_type": "text"
      },
      "source": [
        "### Mas e se quisermos usar message2\n",
        "\n",
        "Isso é possível veja o códgo abaixo:"
      ]
    },
    {
      "cell_type": "code",
      "metadata": {
        "id": "4vAAPa12uWs_",
        "colab_type": "code",
        "colab": {}
      },
      "source": [
        "def myFunction():\n",
        "    print('\\nInterno a Função')\n",
        "    #Variaveis golabais sãoa cessíveis no interior da função\n",
        "    print (message1)\n",
        "    #Declarando uma varáivel loca\n",
        "    message2 = 'Varíavel Local'\n",
        "    print (message2)\n",
        "    return message2"
      ],
      "execution_count": 0,
      "outputs": []
    },
    {
      "cell_type": "code",
      "metadata": {
        "id": "ovSJJ5lkuWtC",
        "colab_type": "code",
        "colab": {
          "base_uri": "https://localhost:8080/",
          "height": 87
        },
        "outputId": "ecd93f98-02de-492d-df0f-e66d72442fd0"
      },
      "source": [
        "newmessage = 'Esta não é uma '+myFunction()"
      ],
      "execution_count": 33,
      "outputs": [
        {
          "output_type": "stream",
          "text": [
            "\n",
            "Interno a Função\n",
            "Variável Global\n",
            "Varíavel Local\n"
          ],
          "name": "stdout"
        }
      ]
    },
    {
      "cell_type": "code",
      "metadata": {
        "id": "noSRNxihuWtH",
        "colab_type": "code",
        "colab": {
          "base_uri": "https://localhost:8080/",
          "height": 34
        },
        "outputId": "03adf6b4-5108-425e-c53e-47a75bcc65f5"
      },
      "source": [
        "newmessage"
      ],
      "execution_count": 34,
      "outputs": [
        {
          "output_type": "execute_result",
          "data": {
            "text/plain": [
              "'Esta não é uma Varíavel Local'"
            ]
          },
          "metadata": {
            "tags": []
          },
          "execution_count": 34
        }
      ]
    },
    {
      "cell_type": "code",
      "metadata": {
        "id": "Ca1LlHvLuWtM",
        "colab_type": "code",
        "colab": {
          "base_uri": "https://localhost:8080/",
          "height": 167
        },
        "outputId": "3bc924f5-dabe-4fb2-cbca-2416e09b268a"
      },
      "source": [
        "message2"
      ],
      "execution_count": 35,
      "outputs": [
        {
          "output_type": "error",
          "ename": "NameError",
          "evalue": "ignored",
          "traceback": [
            "\u001b[0;31m---------------------------------------------------------------------------\u001b[0m",
            "\u001b[0;31mNameError\u001b[0m                                 Traceback (most recent call last)",
            "\u001b[0;32m<ipython-input-35-d301b38c07b7>\u001b[0m in \u001b[0;36m<module>\u001b[0;34m()\u001b[0m\n\u001b[0;32m----> 1\u001b[0;31m \u001b[0mmessage2\u001b[0m\u001b[0;34m\u001b[0m\u001b[0;34m\u001b[0m\u001b[0m\n\u001b[0m",
            "\u001b[0;31mNameError\u001b[0m: name 'message2' is not defined"
          ]
        }
      ]
    },
    {
      "cell_type": "markdown",
      "metadata": {
        "id": "nweBRQDluWtO",
        "colab_type": "text"
      },
      "source": [
        "## Importando Módulos\n",
        "O Python vem com um grande número de funções internas.   \n",
        "Essas funções são salvas em arquivos conhecidos como módulos.  \n",
        "Para usar os códigos internos nos módulos Python, precisamos importá-los para nossos programas primeiro.\n",
        "Fazemos isso usando a palavra-chave **import**.     \n",
        "Existem três maneiras de fazer isso.\n",
        "A primeira maneira é importar o módulo inteiro escrevendo   \n",
        "**import nomeModulo**\n",
        "Por exemplo, para importar o módulo de núemros aleatórios, escrevemos import random.   \n",
        "Para usar a função randrange () no módulo aleatório, escrevemos   \n",
        "randrange(1, 10).\n",
        "Se você achar muito problemático escrever aleatoriamente cada vez que usar a função, poderá importar o módulo escrevendo    **import random as r**\n",
        "(onde r é qualquer nome de sua escolha).\n",
        "Agora, para usar a função randrange (), basta escrever r.randrange (1, 10).   \n",
        "A terceira maneira de importar módulos é importar funções específicas do módulo, escrevendo em moduleName import name1 [, name2 [, ... nameN]].   \n",
        "Por exemplo, para importar a função randrange () do módulo aleatório, escrevemos a partir da importação aleatória randrange.   \n",
        "Se queremos importar mais de uma função, as separamos por vírgula.   \n",
        "Para importar as funções randrange () e randint (), escrevemos a partir da importação aleatória randrange, randint. Para usar a função agora, não precisamos mais usar a notação de ponto. Apenas escreva randrange (1, 10).\n"
      ]
    },
    {
      "cell_type": "code",
      "metadata": {
        "id": "nAELEF2CuWtP",
        "colab_type": "code",
        "colab": {}
      },
      "source": [
        "import random"
      ],
      "execution_count": 0,
      "outputs": []
    },
    {
      "cell_type": "code",
      "metadata": {
        "id": "HQaqdPsDuWtS",
        "colab_type": "code",
        "colab": {
          "base_uri": "https://localhost:8080/",
          "height": 34
        },
        "outputId": "12da4f45-7466-4188-c86e-11c521a488ab"
      },
      "source": [
        "random.randrange(0,100)"
      ],
      "execution_count": 37,
      "outputs": [
        {
          "output_type": "execute_result",
          "data": {
            "text/plain": [
              "60"
            ]
          },
          "metadata": {
            "tags": []
          },
          "execution_count": 37
        }
      ]
    },
    {
      "cell_type": "code",
      "metadata": {
        "id": "JedEAXtfuWta",
        "colab_type": "code",
        "colab": {}
      },
      "source": [
        "randomicos = []\n",
        "for i in range(100):\n",
        "    randomicos.append(random.randrange(0,100))"
      ],
      "execution_count": 0,
      "outputs": []
    },
    {
      "cell_type": "code",
      "metadata": {
        "id": "Q1inFUzkuWtd",
        "colab_type": "code",
        "colab": {
          "base_uri": "https://localhost:8080/",
          "height": 54
        },
        "outputId": "c57d8474-bd1f-4cf9-9f47-e7a8fbf86d85"
      },
      "source": [
        "print(randomicos)"
      ],
      "execution_count": 39,
      "outputs": [
        {
          "output_type": "stream",
          "text": [
            "[3, 69, 71, 43, 67, 93, 9, 67, 25, 39, 76, 6, 4, 16, 26, 84, 85, 26, 59, 97, 50, 68, 84, 27, 82, 15, 33, 5, 28, 40, 94, 59, 10, 47, 43, 69, 42, 51, 26, 10, 75, 87, 11, 91, 56, 52, 99, 82, 3, 20, 25, 90, 19, 68, 63, 63, 84, 29, 78, 74, 95, 30, 25, 28, 94, 28, 55, 9, 51, 16, 80, 69, 24, 17, 98, 65, 86, 82, 81, 20, 90, 73, 4, 14, 66, 17, 33, 87, 89, 73, 74, 31, 22, 93, 33, 85, 16, 90, 27, 18]\n"
          ],
          "name": "stdout"
        }
      ]
    },
    {
      "cell_type": "code",
      "metadata": {
        "id": "42BpWM-kuWtf",
        "colab_type": "code",
        "colab": {}
      },
      "source": [
        "import random as r"
      ],
      "execution_count": 0,
      "outputs": []
    },
    {
      "cell_type": "code",
      "metadata": {
        "id": "VyUwEa7nuWtj",
        "colab_type": "code",
        "colab": {}
      },
      "source": [
        "randomicos = []\n",
        "for i in range(100):\n",
        "    randomicos.append(r.randrange(0,100))"
      ],
      "execution_count": 0,
      "outputs": []
    },
    {
      "cell_type": "code",
      "metadata": {
        "id": "gEI30XMDuWto",
        "colab_type": "code",
        "colab": {
          "base_uri": "https://localhost:8080/",
          "height": 54
        },
        "outputId": "5f07bbeb-f05c-49b4-ac15-a05d80bf86f0"
      },
      "source": [
        "print(randomicos)"
      ],
      "execution_count": 42,
      "outputs": [
        {
          "output_type": "stream",
          "text": [
            "[46, 22, 54, 39, 54, 43, 12, 66, 65, 89, 96, 84, 49, 18, 6, 52, 31, 56, 85, 35, 14, 14, 49, 89, 50, 78, 51, 31, 70, 54, 67, 61, 74, 66, 90, 8, 32, 78, 37, 17, 26, 44, 59, 79, 73, 22, 26, 78, 29, 60, 0, 88, 98, 27, 62, 66, 83, 17, 77, 81, 98, 86, 8, 8, 35, 69, 13, 10, 58, 89, 42, 91, 45, 5, 99, 66, 62, 68, 86, 35, 81, 34, 45, 26, 23, 33, 25, 86, 15, 69, 90, 13, 96, 96, 25, 14, 39, 38, 97, 52]\n"
          ],
          "name": "stdout"
        }
      ]
    },
    {
      "cell_type": "code",
      "metadata": {
        "id": "ANv-jHPpuWtp",
        "colab_type": "code",
        "colab": {}
      },
      "source": [
        "from random import randint"
      ],
      "execution_count": 0,
      "outputs": []
    },
    {
      "cell_type": "code",
      "metadata": {
        "id": "wB7KoOeouWtr",
        "colab_type": "code",
        "colab": {
          "base_uri": "https://localhost:8080/",
          "height": 34
        },
        "outputId": "b19953e6-8b4c-4dd8-debb-d81264148c55"
      },
      "source": [
        "randint(0,100)"
      ],
      "execution_count": 44,
      "outputs": [
        {
          "output_type": "execute_result",
          "data": {
            "text/plain": [
              "68"
            ]
          },
          "metadata": {
            "tags": []
          },
          "execution_count": 44
        }
      ]
    },
    {
      "cell_type": "markdown",
      "metadata": {
        "id": "eUIbR2QHuWtt",
        "colab_type": "text"
      },
      "source": [
        "## Conhecendo o módulo random\n",
        "\n",
        "['Clique para visualizar a documentação do módulo random'](https://docs.python.org/3/library/random.html)"
      ]
    },
    {
      "cell_type": "markdown",
      "metadata": {
        "id": "U3qKu_UguWtu",
        "colab_type": "text"
      },
      "source": [
        "##  Vamos ordenar um dicionário"
      ]
    },
    {
      "cell_type": "code",
      "metadata": {
        "id": "vbiBlqexuWtu",
        "colab_type": "code",
        "colab": {}
      },
      "source": [
        "myMusic= {'Radiohead': 52,\n",
        "         'Gorillaz':101,\n",
        "         'Blur':22,\n",
        "         'Motorhëad': 93,\n",
        "         'Ramones': 125,\n",
        "         'Black Keys':41}"
      ],
      "execution_count": 0,
      "outputs": []
    },
    {
      "cell_type": "code",
      "metadata": {
        "id": "bAM9PdN4uWtx",
        "colab_type": "code",
        "colab": {}
      },
      "source": [
        "myMusic['Greta Van Fleet']=21\n",
        "myMusic['Deep Purple']= 92\n",
        "myMusic['Robert Johnson']=23\n",
        "myMusic['Blues Brothers'] = 23\n",
        "myMusic['Muddy Waters']=5\n",
        "myMusic['Rush']=193\n",
        "myMusic['Primus']=56"
      ],
      "execution_count": 0,
      "outputs": []
    },
    {
      "cell_type": "code",
      "metadata": {
        "id": "Su6eOPd2uWt1",
        "colab_type": "code",
        "colab": {
          "base_uri": "https://localhost:8080/",
          "height": 246
        },
        "outputId": "5a61c91f-dc65-4f96-87fd-13d7881b0c3b"
      },
      "source": [
        "myMusic"
      ],
      "execution_count": 47,
      "outputs": [
        {
          "output_type": "execute_result",
          "data": {
            "text/plain": [
              "{'Black Keys': 41,\n",
              " 'Blues Brothers': 23,\n",
              " 'Blur': 22,\n",
              " 'Deep Purple': 92,\n",
              " 'Gorillaz': 101,\n",
              " 'Greta Van Fleet': 21,\n",
              " 'Motorhëad': 93,\n",
              " 'Muddy Waters': 5,\n",
              " 'Primus': 56,\n",
              " 'Radiohead': 52,\n",
              " 'Ramones': 125,\n",
              " 'Robert Johnson': 23,\n",
              " 'Rush': 193}"
            ]
          },
          "metadata": {
            "tags": []
          },
          "execution_count": 47
        }
      ]
    },
    {
      "cell_type": "code",
      "metadata": {
        "id": "L7x912a2uWt6",
        "colab_type": "code",
        "colab": {}
      },
      "source": [
        "artistas= list(myMusic.keys())"
      ],
      "execution_count": 0,
      "outputs": []
    },
    {
      "cell_type": "code",
      "metadata": {
        "id": "YtAhcPnLuWt-",
        "colab_type": "code",
        "colab": {}
      },
      "source": [
        "def BuscaMenor(artistas):\n",
        "    menor = myMusic[artistas[0]]\n",
        "    menor_indice = 0\n",
        "    for i in range(0, len(artistas)):\n",
        "        #print(myMusic[artistas[i]])\n",
        "        if myMusic[artistas[i]]<menor:\n",
        "            menor = myMusic[artistas[i]];\n",
        "            menor_indice=i\n",
        "    return menor_indice\n"
      ],
      "execution_count": 0,
      "outputs": []
    },
    {
      "cell_type": "code",
      "metadata": {
        "id": "7g1Jg8uLuWuB",
        "colab_type": "code",
        "colab": {
          "base_uri": "https://localhost:8080/",
          "height": 52
        },
        "outputId": "04f88c83-8767-4fdc-84a8-768020b4102a"
      },
      "source": [
        "menor_indice = BuscaMenor(artistas);\n",
        "print(artistas[menor_indice])\n",
        "print(menor_indice)"
      ],
      "execution_count": 50,
      "outputs": [
        {
          "output_type": "stream",
          "text": [
            "Muddy Waters\n",
            "10\n"
          ],
          "name": "stdout"
        }
      ]
    },
    {
      "cell_type": "code",
      "metadata": {
        "id": "tR46MyQruWuE",
        "colab_type": "code",
        "colab": {}
      },
      "source": [
        "def Ordenacao(artistas):\n",
        "    novosArtistas = []\n",
        "    for i in range(len(artistas)):\n",
        "        menor_indice = BuscaMenor(artistas)\n",
        "        novosArtistas.append(artistas.pop(menor_indice))\n",
        "    return novosArtistas"
      ],
      "execution_count": 0,
      "outputs": []
    },
    {
      "cell_type": "code",
      "metadata": {
        "id": "vbVyj6uouWuG",
        "colab_type": "code",
        "colab": {}
      },
      "source": [
        "novosArtistas = Ordenacao(artistas)"
      ],
      "execution_count": 0,
      "outputs": []
    },
    {
      "cell_type": "code",
      "metadata": {
        "id": "pGnInA-ruWuJ",
        "colab_type": "code",
        "colab": {
          "base_uri": "https://localhost:8080/",
          "height": 246
        },
        "outputId": "0d00b181-b6a7-40d3-ced0-dda671943676"
      },
      "source": [
        "for artista in novosArtistas:\n",
        "    print('Tenho ' + str(myMusic[artista])+' músicas de '+artista)"
      ],
      "execution_count": 53,
      "outputs": [
        {
          "output_type": "stream",
          "text": [
            "Tenho 5 músicas de Muddy Waters\n",
            "Tenho 21 músicas de Greta Van Fleet\n",
            "Tenho 22 músicas de Blur\n",
            "Tenho 23 músicas de Robert Johnson\n",
            "Tenho 23 músicas de Blues Brothers\n",
            "Tenho 41 músicas de Black Keys\n",
            "Tenho 52 músicas de Radiohead\n",
            "Tenho 56 músicas de Primus\n",
            "Tenho 92 músicas de Deep Purple\n",
            "Tenho 93 músicas de Motorhëad\n",
            "Tenho 101 músicas de Gorillaz\n",
            "Tenho 125 músicas de Ramones\n",
            "Tenho 193 músicas de Rush\n"
          ],
          "name": "stdout"
        }
      ]
    },
    {
      "cell_type": "code",
      "metadata": {
        "id": "P1vdOtTauWuO",
        "colab_type": "code",
        "colab": {}
      },
      "source": [
        ""
      ],
      "execution_count": 0,
      "outputs": []
    }
  ]
}